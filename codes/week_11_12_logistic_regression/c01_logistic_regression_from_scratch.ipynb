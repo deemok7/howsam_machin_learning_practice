{
 "cells": [
  {
   "cell_type": "markdown",
   "id": "1a983bb7",
   "metadata": {},
   "source": [
    "# <font color='#FFE15D'>**Week 11: Logistic Regression 🔴🔵**</font>"
   ]
  },
  {
   "cell_type": "markdown",
   "id": "bf070e48",
   "metadata": {},
   "source": [
    "## **🔸 Imports**"
   ]
  },
  {
   "cell_type": "code",
   "execution_count": 1,
   "id": "7d2ff5d2",
   "metadata": {},
   "outputs": [],
   "source": [
    "import pandas as pd\n",
    "import numpy as np\n",
    "import matplotlib.pyplot as plt"
   ]
  },
  {
   "cell_type": "markdown",
   "id": "9c9fa1da",
   "metadata": {},
   "source": [
    "## **🔸 Load Dataset**"
   ]
  },
  {
   "cell_type": "code",
   "execution_count": 2,
   "id": "c511b93c",
   "metadata": {},
   "outputs": [
    {
     "data": {
      "text/html": [
       "<div>\n",
       "<style scoped>\n",
       "    .dataframe tbody tr th:only-of-type {\n",
       "        vertical-align: middle;\n",
       "    }\n",
       "\n",
       "    .dataframe tbody tr th {\n",
       "        vertical-align: top;\n",
       "    }\n",
       "\n",
       "    .dataframe thead th {\n",
       "        text-align: right;\n",
       "    }\n",
       "</style>\n",
       "<table border=\"1\" class=\"dataframe\">\n",
       "  <thead>\n",
       "    <tr style=\"text-align: right;\">\n",
       "      <th></th>\n",
       "      <th>study_hours</th>\n",
       "      <th>pass_fail</th>\n",
       "    </tr>\n",
       "  </thead>\n",
       "  <tbody>\n",
       "    <tr>\n",
       "      <th>0</th>\n",
       "      <td>0.50</td>\n",
       "      <td>0</td>\n",
       "    </tr>\n",
       "    <tr>\n",
       "      <th>1</th>\n",
       "      <td>0.75</td>\n",
       "      <td>0</td>\n",
       "    </tr>\n",
       "    <tr>\n",
       "      <th>2</th>\n",
       "      <td>1.00</td>\n",
       "      <td>0</td>\n",
       "    </tr>\n",
       "    <tr>\n",
       "      <th>3</th>\n",
       "      <td>1.25</td>\n",
       "      <td>0</td>\n",
       "    </tr>\n",
       "    <tr>\n",
       "      <th>4</th>\n",
       "      <td>1.50</td>\n",
       "      <td>0</td>\n",
       "    </tr>\n",
       "    <tr>\n",
       "      <th>5</th>\n",
       "      <td>1.75</td>\n",
       "      <td>0</td>\n",
       "    </tr>\n",
       "    <tr>\n",
       "      <th>6</th>\n",
       "      <td>1.75</td>\n",
       "      <td>1</td>\n",
       "    </tr>\n",
       "    <tr>\n",
       "      <th>7</th>\n",
       "      <td>2.00</td>\n",
       "      <td>0</td>\n",
       "    </tr>\n",
       "    <tr>\n",
       "      <th>8</th>\n",
       "      <td>2.25</td>\n",
       "      <td>1</td>\n",
       "    </tr>\n",
       "    <tr>\n",
       "      <th>9</th>\n",
       "      <td>2.50</td>\n",
       "      <td>0</td>\n",
       "    </tr>\n",
       "    <tr>\n",
       "      <th>10</th>\n",
       "      <td>2.75</td>\n",
       "      <td>1</td>\n",
       "    </tr>\n",
       "    <tr>\n",
       "      <th>11</th>\n",
       "      <td>3.00</td>\n",
       "      <td>0</td>\n",
       "    </tr>\n",
       "    <tr>\n",
       "      <th>12</th>\n",
       "      <td>3.25</td>\n",
       "      <td>1</td>\n",
       "    </tr>\n",
       "    <tr>\n",
       "      <th>13</th>\n",
       "      <td>3.50</td>\n",
       "      <td>0</td>\n",
       "    </tr>\n",
       "    <tr>\n",
       "      <th>14</th>\n",
       "      <td>4.00</td>\n",
       "      <td>1</td>\n",
       "    </tr>\n",
       "    <tr>\n",
       "      <th>15</th>\n",
       "      <td>4.25</td>\n",
       "      <td>1</td>\n",
       "    </tr>\n",
       "    <tr>\n",
       "      <th>16</th>\n",
       "      <td>4.50</td>\n",
       "      <td>1</td>\n",
       "    </tr>\n",
       "    <tr>\n",
       "      <th>17</th>\n",
       "      <td>4.75</td>\n",
       "      <td>1</td>\n",
       "    </tr>\n",
       "    <tr>\n",
       "      <th>18</th>\n",
       "      <td>5.00</td>\n",
       "      <td>1</td>\n",
       "    </tr>\n",
       "    <tr>\n",
       "      <th>19</th>\n",
       "      <td>5.50</td>\n",
       "      <td>1</td>\n",
       "    </tr>\n",
       "  </tbody>\n",
       "</table>\n",
       "</div>"
      ],
      "text/plain": [
       "    study_hours  pass_fail\n",
       "0          0.50          0\n",
       "1          0.75          0\n",
       "2          1.00          0\n",
       "3          1.25          0\n",
       "4          1.50          0\n",
       "5          1.75          0\n",
       "6          1.75          1\n",
       "7          2.00          0\n",
       "8          2.25          1\n",
       "9          2.50          0\n",
       "10         2.75          1\n",
       "11         3.00          0\n",
       "12         3.25          1\n",
       "13         3.50          0\n",
       "14         4.00          1\n",
       "15         4.25          1\n",
       "16         4.50          1\n",
       "17         4.75          1\n",
       "18         5.00          1\n",
       "19         5.50          1"
      ]
     },
     "execution_count": 2,
     "metadata": {},
     "output_type": "execute_result"
    }
   ],
   "source": [
    "import os\n",
    "\n",
    "notebook_path = os.getcwd()\n",
    "housing_dataset_csv_path = f\"{notebook_path}/data/exam.csv\"\n",
    "df = pd.read_csv(housing_dataset_csv_path)\n",
    "df"
   ]
  },
  {
   "cell_type": "markdown",
   "id": "3d62355f",
   "metadata": {},
   "source": [
    "## **🔸 Train-Test Split**"
   ]
  },
  {
   "cell_type": "code",
   "execution_count": 3,
   "id": "2ecd1049",
   "metadata": {},
   "outputs": [],
   "source": [
    "from sklearn.model_selection import train_test_split"
   ]
  },
  {
   "cell_type": "markdown",
   "id": "4f40bf50",
   "metadata": {},
   "source": [
    "#TODO Do it with normalization, two method"
   ]
  },
  {
   "cell_type": "code",
   "execution_count": 4,
   "id": "921fb00d",
   "metadata": {},
   "outputs": [
    {
     "data": {
      "text/plain": [
       "(array([[0.5 ],\n",
       "        [0.75],\n",
       "        [1.  ],\n",
       "        [1.25],\n",
       "        [1.5 ],\n",
       "        [1.75],\n",
       "        [1.75],\n",
       "        [2.  ],\n",
       "        [2.25],\n",
       "        [2.5 ],\n",
       "        [2.75],\n",
       "        [3.  ],\n",
       "        [3.25],\n",
       "        [3.5 ],\n",
       "        [4.  ],\n",
       "        [4.25],\n",
       "        [4.5 ],\n",
       "        [4.75],\n",
       "        [5.  ],\n",
       "        [5.5 ]]),\n",
       " array([[0],\n",
       "        [0],\n",
       "        [0],\n",
       "        [0],\n",
       "        [0],\n",
       "        [0],\n",
       "        [1],\n",
       "        [0],\n",
       "        [1],\n",
       "        [0],\n",
       "        [1],\n",
       "        [0],\n",
       "        [1],\n",
       "        [0],\n",
       "        [1],\n",
       "        [1],\n",
       "        [1],\n",
       "        [1],\n",
       "        [1],\n",
       "        [1]], dtype=int64))"
      ]
     },
     "execution_count": 4,
     "metadata": {},
     "output_type": "execute_result"
    }
   ],
   "source": [
    "X = df[[\"study_hours\"]].values\n",
    "y = df[[\"pass_fail\"]].values\n",
    "X, y"
   ]
  },
  {
   "cell_type": "code",
   "execution_count": 5,
   "id": "69690bf8",
   "metadata": {},
   "outputs": [
    {
     "data": {
      "text/plain": [
       "((16, 1), (4, 1), (16, 1), (4, 1))"
      ]
     },
     "execution_count": 5,
     "metadata": {},
     "output_type": "execute_result"
    }
   ],
   "source": [
    "x_train, x_test, y_train, y_test = train_test_split(X, y, test_size=0.2)\n",
    "\n",
    "x_train.shape, x_test.shape, y_train.shape, y_test.shape"
   ]
  },
  {
   "cell_type": "markdown",
   "id": "09205ccb",
   "metadata": {},
   "source": [
    "## **🔸 Logistic Regression (from Scratch)**"
   ]
  },
  {
   "cell_type": "markdown",
   "id": "3362211f",
   "metadata": {},
   "source": [
    "### Logistic Regression Model"
   ]
  },
  {
   "cell_type": "markdown",
   "id": "03191349",
   "metadata": {},
   "source": [
    "$\\hat{y}=\\sigma(x)=\\frac{1}{1+e^{-Xw}}$"
   ]
  },
  {
   "cell_type": "code",
   "execution_count": 6,
   "id": "7a48cd16",
   "metadata": {},
   "outputs": [],
   "source": [
    "# def sigmoid(x):\n",
    "#     return 1 / (1 + np.exp(-x))\n",
    "sigmoid = lambda x: 1 / (1 + np.exp(-x))"
   ]
  },
  {
   "cell_type": "code",
   "execution_count": 7,
   "id": "73007400",
   "metadata": {},
   "outputs": [],
   "source": [
    "def logistic_regression(x, w):\n",
    "    y_hat = sigmoid(x @ w)\n",
    "    return y_hat"
   ]
  },
  {
   "cell_type": "code",
   "execution_count": 8,
   "id": "e290610d",
   "metadata": {},
   "outputs": [
    {
     "name": "stdout",
     "output_type": "stream",
     "text": [
      "x: (5, 2) \n",
      "[[-1.33970465 -2.39967542]\n",
      " [-1.14227438  1.06899725]\n",
      " [-1.17020537  0.5787941 ]\n",
      " [-0.39815067  1.57765818]\n",
      " [-1.05140489  0.22727112]]\n",
      "w: (2, 1) \n",
      "[[0.96969822]\n",
      " [0.16840149]]\n",
      "y_hat: (5, 1) \n",
      "[[0.15404543]\n",
      " [0.28340361]\n",
      " [0.26167588]\n",
      " [0.46993481]\n",
      " [0.27263933]]\n"
     ]
    }
   ],
   "source": [
    "# Test functions\n",
    "x = np.random.randn(5, 2)\n",
    "w = np.random.randn(2, 1)\n",
    "y_hat = logistic_regression(x, w)\n",
    "print(f\"x: {x.shape} \\n{x}\")\n",
    "print(f\"w: {w.shape} \\n{w}\")\n",
    "print(f\"y_hat: {y_hat.shape} \\n{y_hat}\")"
   ]
  },
  {
   "cell_type": "markdown",
   "id": "4427f71a",
   "metadata": {},
   "source": [
    "### Binary Cross Entropy (BCE)"
   ]
  },
  {
   "cell_type": "markdown",
   "id": "0d0c5824",
   "metadata": {},
   "source": [
    "$L=-[ylog(\\hat{y})+(1-y)log(1-\\hat{y})]$"
   ]
  },
  {
   "cell_type": "code",
   "execution_count": 9,
   "id": "96c0a795",
   "metadata": {},
   "outputs": [],
   "source": [
    "def bce(y, y_hat):\n",
    "    # loss = -(y * np.log(y_hat) + (1 - y) * np.log(1 - y_hat))\n",
    "    loss = -np.mean(y * np.log(y_hat) + (1 - y) * np.log(1 - y_hat))\n",
    "    return loss"
   ]
  },
  {
   "cell_type": "code",
   "execution_count": 10,
   "id": "f8d7234a",
   "metadata": {},
   "outputs": [
    {
     "data": {
      "text/plain": [
       "1.3053612713569378"
      ]
     },
     "execution_count": 10,
     "metadata": {},
     "output_type": "execute_result"
    }
   ],
   "source": [
    "# Test functions\n",
    "bce(np.ones((5, 1)), y_hat)"
   ]
  },
  {
   "cell_type": "markdown",
   "id": "7ce18cab",
   "metadata": {},
   "source": [
    "### Gradient"
   ]
  },
  {
   "cell_type": "markdown",
   "id": "70352d4a",
   "metadata": {},
   "source": [
    "$\\nabla L_w(w)=\\frac{1}{n}X^T(\\hat{y}-y)$"
   ]
  },
  {
   "cell_type": "code",
   "execution_count": 11,
   "id": "5e011da9",
   "metadata": {},
   "outputs": [],
   "source": [
    "def gradient(x, y, y_hat):\n",
    "    grads = (x.T @ (y_hat - y)) / len(y)\n",
    "    return grads"
   ]
  },
  {
   "cell_type": "code",
   "execution_count": 12,
   "id": "26a21cff",
   "metadata": {},
   "outputs": [
    {
     "data": {
      "text/plain": [
       "array([[-0.18650798],\n",
       "       [-0.25276888]])"
      ]
     },
     "execution_count": 12,
     "metadata": {},
     "output_type": "execute_result"
    }
   ],
   "source": [
    "# Test functions\n",
    "gradient(np.random.randn(5, 2), np.ones((5, 1)), y_hat)"
   ]
  },
  {
   "cell_type": "markdown",
   "id": "637a32fd",
   "metadata": {},
   "source": [
    "### Gradient Descent"
   ]
  },
  {
   "cell_type": "code",
   "execution_count": 13,
   "id": "df837eb2",
   "metadata": {},
   "outputs": [],
   "source": [
    "def gradient_descent(w, eta, grads):\n",
    "    w -= eta * grads\n",
    "    return w"
   ]
  },
  {
   "cell_type": "markdown",
   "id": "dd573b3a",
   "metadata": {},
   "source": [
    "### Accuracy"
   ]
  },
  {
   "cell_type": "code",
   "execution_count": 14,
   "id": "453ea08a",
   "metadata": {},
   "outputs": [],
   "source": [
    "def accuracy(y, y_hat):\n",
    "    # acc = np.sum(y == np.round(y_hat)) / len(y)\n",
    "    thr = 0.5\n",
    "    # thr = 0.4\n",
    "    # thr = 0.9\n",
    "    acc = np.sum(y == (y_hat > thr).astype(int)) / len(y)\n",
    "    return acc"
   ]
  },
  {
   "cell_type": "code",
   "execution_count": 15,
   "id": "da88c5d2",
   "metadata": {},
   "outputs": [
    {
     "data": {
      "text/plain": [
       "0.6666666666666666"
      ]
     },
     "execution_count": 15,
     "metadata": {},
     "output_type": "execute_result"
    }
   ],
   "source": [
    "accuracy(np.array([1, 0, 1]), np.array([0.7, 0.5, 0.3]))"
   ]
  },
  {
   "cell_type": "markdown",
   "id": "5aa05980",
   "metadata": {},
   "source": [
    "### Train"
   ]
  },
  {
   "cell_type": "code",
   "execution_count": 16,
   "id": "cba32c5d",
   "metadata": {},
   "outputs": [
    {
     "name": "stdout",
     "output_type": "stream",
     "text": [
      "before add 1, x_train: (16, 1)\n",
      "after add  1, x_train: (16, 2)\n"
     ]
    }
   ],
   "source": [
    "print(f\"before add 1, x_train: {x_train.shape}\")\n",
    "x_train = np.hstack((np.ones((len(x_train), 1)), x_train))\n",
    "print(f\"after add  1, x_train: {x_train.shape}\")"
   ]
  },
  {
   "cell_type": "code",
   "execution_count": 17,
   "id": "4911b3f2",
   "metadata": {},
   "outputs": [
    {
     "name": "stdout",
     "output_type": "stream",
     "text": [
      "w: (2, 1)\n",
      "[[-0.02871228]\n",
      " [ 0.01529829]]\n"
     ]
    }
   ],
   "source": [
    "m = 1\n",
    "w = np.random.randn(m + 1, 1)\n",
    "print(f\"w: {w.shape}\\n{w}\")\n",
    "\n",
    "eta = 0.1\n",
    "n_epochs = 2000"
   ]
  },
  {
   "cell_type": "code",
   "execution_count": 18,
   "id": "9dd0ee18",
   "metadata": {},
   "outputs": [
    {
     "name": "stdout",
     "output_type": "stream",
     "text": [
      "Epoch=99,\t E=0.4246,\t w=[-1.40821004  0.60171879]\n",
      "Epoch=199,\t E=0.3332,\t w=[-2.31280476  0.88341019]\n",
      "Epoch=299,\t E=0.2868,\t w=[-2.95816494  1.08881611]\n",
      "Epoch=399,\t E=0.2591,\t w=[-3.45710044  1.24987804]\n",
      "Epoch=499,\t E=0.2408,\t w=[-3.86348043  1.3824164 ]\n",
      "Epoch=599,\t E=0.2277,\t w=[-4.20643032  1.49515777]\n",
      "Epoch=699,\t E=0.2178,\t w=[-4.5032965  1.5933707]\n",
      "Epoch=799,\t E=0.2102,\t w=[-4.76519156  1.68046588]\n",
      "Epoch=899,\t E=0.2041,\t w=[-4.999644    1.75877399]\n",
      "Epoch=999,\t E=0.1991,\t w=[-5.21198329  1.82995723]\n",
      "Epoch=1099,\t E=0.1949,\t w=[-5.40611768  1.89524255]\n",
      "Epoch=1199,\t E=0.1913,\t w=[-5.58499733  1.95556154]\n",
      "Epoch=1299,\t E=0.1882,\t w=[-5.75090349  2.01163841]\n",
      "Epoch=1399,\t E=0.1855,\t w=[-5.90563647  2.06404744]\n",
      "Epoch=1499,\t E=0.1832,\t w=[-6.05064204  2.1132519 ]\n",
      "Epoch=1599,\t E=0.1811,\t w=[-6.18709892  2.15963098]\n",
      "Epoch=1699,\t E=0.1793,\t w=[-6.31598087  2.20349917]\n",
      "Epoch=1799,\t E=0.1776,\t w=[-6.4381017   2.24512019]\n",
      "Epoch=1899,\t E=0.1761,\t w=[-6.55414863  2.28471748]\n",
      "Epoch=1999,\t E=0.1747,\t w=[-6.66470734  2.32248204]\n"
     ]
    }
   ],
   "source": [
    "error_hist = []\n",
    "\n",
    "for epoch in range(n_epochs):\n",
    "    # predictions\n",
    "    y_hat = logistic_regression(x_train, w)\n",
    "\n",
    "    # loss\n",
    "    e = bce(y_train, y_hat)\n",
    "    error_hist.append(e)\n",
    "\n",
    "    # gradients\n",
    "    grads = gradient(x_train, y_train, y_hat)\n",
    "\n",
    "    # gradient descent\n",
    "    w = gradient_descent(w, eta, grads)\n",
    "\n",
    "    if (epoch + 1) % 100 == 0:\n",
    "        print(f\"Epoch={epoch},\\t E={e:.4},\\t w={w.T[0]}\")"
   ]
  },
  {
   "cell_type": "code",
   "execution_count": 19,
   "id": "bdbfa746",
   "metadata": {},
   "outputs": [
    {
     "data": {
      "text/plain": [
       "[<matplotlib.lines.Line2D at 0x1e4a2588140>]"
      ]
     },
     "execution_count": 19,
     "metadata": {},
     "output_type": "execute_result"
    },
    {
     "data": {
      "image/png": "[encoded data removed]",
      "text/plain": [
       "<Figure size 640x480 with 1 Axes>"
      ]
     },
     "metadata": {},
     "output_type": "display_data"
    }
   ],
   "source": [
    "plt.plot(error_hist)"
   ]
  },
  {
   "cell_type": "markdown",
   "id": "75d7e42b",
   "metadata": {},
   "source": [
    "### Test"
   ]
  },
  {
   "cell_type": "code",
   "execution_count": 20,
   "id": "01b805d6",
   "metadata": {},
   "outputs": [
    {
     "data": {
      "text/plain": [
       "(4, 2)"
      ]
     },
     "execution_count": 20,
     "metadata": {},
     "output_type": "execute_result"
    }
   ],
   "source": [
    "x_test = np.hstack((np.ones((len(x_test), 1)), x_test))\n",
    "x_test.shape"
   ]
  },
  {
   "cell_type": "code",
   "execution_count": 21,
   "id": "5c9a6ba7",
   "metadata": {},
   "outputs": [
    {
     "data": {
      "text/plain": [
       "0.25"
      ]
     },
     "execution_count": 21,
     "metadata": {},
     "output_type": "execute_result"
    }
   ],
   "source": [
    "y_hat = logistic_regression(x_test, w)\n",
    "accuracy(y_test, y_hat)"
   ]
  },
  {
   "cell_type": "code",
   "execution_count": 22,
   "id": "6d8aa3c6",
   "metadata": {},
   "outputs": [
    {
     "data": {
      "text/plain": [
       "(array([[0.81214062],\n",
       "        [0.06911501],\n",
       "        [0.96105351],\n",
       "        [0.19168123]]),\n",
       " array([[0],\n",
       "        [1],\n",
       "        [1],\n",
       "        [1]], dtype=int64))"
      ]
     },
     "execution_count": 22,
     "metadata": {},
     "output_type": "execute_result"
    }
   ],
   "source": [
    "y_hat,y_test"
   ]
  }
 ],
 "metadata": {
  "kernelspec": {
   "display_name": "venv_general_312",
   "language": "python",
   "name": "python3"
  },
  "language_info": {
   "codemirror_mode": {
    "name": "ipython",
    "version": 3
   },
   "file_extension": ".py",
   "mimetype": "text/x-python",
   "name": "python",
   "nbconvert_exporter": "python",
   "pygments_lexer": "ipython3",
   "version": "3.12.6"
  }
 },
 "nbformat": 4,
 "nbformat_minor": 5
}
