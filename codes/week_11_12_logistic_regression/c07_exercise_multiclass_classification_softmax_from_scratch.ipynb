{
 "cells": [
  {
   "cell_type": "markdown",
   "id": "1a983bb7",
   "metadata": {},
   "source": [
    "# <font color='#FFE15D'>**Week 11: Logistic Regression 🔴🔵**</font>"
   ]
  },
  {
   "cell_type": "markdown",
   "id": "08ed1603",
   "metadata": {},
   "source": [
    "## **🔸 Exercise: Multiclass Classification (Softmax) (from scratch)**"
   ]
  },
  {
   "cell_type": "code",
   "execution_count": null,
   "id": "19278236",
   "metadata": {
    "vscode": {
     "languageId": "plaintext"
    }
   },
   "outputs": [],
   "source": [
    "#TODO At the first time :-)"
   ]
  }
 ],
 "metadata": {
  "kernelspec": {
   "display_name": "venv_general_312",
   "language": "python",
   "name": "python3"
  },
  "language_info": {
   "codemirror_mode": {
    "name": "ipython",
    "version": 3
   },
   "file_extension": ".py",
   "mimetype": "text/x-python",
   "name": "python",
   "nbconvert_exporter": "python",
   "pygments_lexer": "ipython3",
   "version": "3.12.6"
  }
 },
 "nbformat": 4,
 "nbformat_minor": 5
}
