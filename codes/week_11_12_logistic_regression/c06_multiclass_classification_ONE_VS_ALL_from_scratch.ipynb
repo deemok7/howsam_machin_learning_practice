{
 "cells": [
  {
   "cell_type": "markdown",
   "id": "1a983bb7",
   "metadata": {},
   "source": [
    "# <font color='#FFE15D'>**Week 11: Logistic Regression 🔴🔵**</font>"
   ]
  },
  {
   "cell_type": "markdown",
   "id": "08ed1603",
   "metadata": {},
   "source": [
    "## **🔸 Multiclass Classification (One vs. All) (from Scratch)**"
   ]
  },
  {
   "cell_type": "code",
   "execution_count": 1,
   "id": "02644942",
   "metadata": {},
   "outputs": [],
   "source": [
    "from sklearn.datasets import load_iris\n",
    "from sklearn.model_selection import train_test_split\n",
    "from sklearn.preprocessing import label_binarize\n",
    "\n",
    "import numpy as np\n",
    "import matplotlib.pyplot as plt"
   ]
  },
  {
   "cell_type": "markdown",
   "id": "3c39a506",
   "metadata": {},
   "source": [
    "### Data"
   ]
  },
  {
   "cell_type": "code",
   "execution_count": 2,
   "id": "44fe6ba5",
   "metadata": {},
   "outputs": [
    {
     "data": {
      "text/plain": [
       "((150, 4), (150,))"
      ]
     },
     "execution_count": 2,
     "metadata": {},
     "output_type": "execute_result"
    }
   ],
   "source": [
    "X, y = load_iris(return_X_y=True)\n",
    "X.shape, y.shape"
   ]
  },
  {
   "cell_type": "code",
   "execution_count": 3,
   "id": "462a19ab",
   "metadata": {},
   "outputs": [
    {
     "data": {
      "text/plain": [
       "array([0, 0, 0, 0, 0, 0, 0, 0, 0, 0, 0, 0, 0, 0, 0, 0, 0, 0, 0, 0, 0, 0,\n",
       "       0, 0, 0, 0, 0, 0, 0, 0, 0, 0, 0, 0, 0, 0, 0, 0, 0, 0, 0, 0, 0, 0,\n",
       "       0, 0, 0, 0, 0, 0, 1, 1, 1, 1, 1, 1, 1, 1, 1, 1, 1, 1, 1, 1, 1, 1,\n",
       "       1, 1, 1, 1, 1, 1, 1, 1, 1, 1, 1, 1, 1, 1, 1, 1, 1, 1, 1, 1, 1, 1,\n",
       "       1, 1, 1, 1, 1, 1, 1, 1, 1, 1, 1, 1, 2, 2, 2, 2, 2, 2, 2, 2, 2, 2,\n",
       "       2, 2, 2, 2, 2, 2, 2, 2, 2, 2, 2, 2, 2, 2, 2, 2, 2, 2, 2, 2, 2, 2,\n",
       "       2, 2, 2, 2, 2, 2, 2, 2, 2, 2, 2, 2, 2, 2, 2, 2, 2, 2])"
      ]
     },
     "execution_count": 3,
     "metadata": {},
     "output_type": "execute_result"
    }
   ],
   "source": [
    "y"
   ]
  },
  {
   "cell_type": "code",
   "execution_count": 4,
   "id": "65b393f2",
   "metadata": {},
   "outputs": [
    {
     "data": {
      "text/plain": [
       "((120, 4), (30, 4), (120,), (30,))"
      ]
     },
     "execution_count": 4,
     "metadata": {},
     "output_type": "execute_result"
    }
   ],
   "source": [
    "x_train, x_test, y_train, y_test = train_test_split(X, y, test_size=0.2, random_state=25)\n",
    "\n",
    "x_train.shape, x_test.shape, y_train.shape, y_test.shape"
   ]
  },
  {
   "cell_type": "code",
   "execution_count": 5,
   "id": "41379436",
   "metadata": {},
   "outputs": [
    {
     "data": {
      "text/plain": [
       "array([0, 1, 2])"
      ]
     },
     "execution_count": 5,
     "metadata": {},
     "output_type": "execute_result"
    }
   ],
   "source": [
    "np.unique(y_train)"
   ]
  },
  {
   "cell_type": "code",
   "execution_count": 6,
   "id": "c875f9a3",
   "metadata": {},
   "outputs": [
    {
     "data": {
      "text/plain": [
       "array([[0, 1, 0],\n",
       "       [0, 0, 1],\n",
       "       [0, 0, 1],\n",
       "       [1, 0, 0],\n",
       "       [0, 0, 1],\n",
       "       [0, 1, 0],\n",
       "       [0, 1, 0],\n",
       "       [1, 0, 0],\n",
       "       [1, 0, 0],\n",
       "       [1, 0, 0],\n",
       "       [1, 0, 0],\n",
       "       [1, 0, 0],\n",
       "       [1, 0, 0],\n",
       "       [1, 0, 0],\n",
       "       [0, 0, 1],\n",
       "       [1, 0, 0],\n",
       "       [1, 0, 0],\n",
       "       [0, 1, 0],\n",
       "       [1, 0, 0],\n",
       "       [0, 0, 1],\n",
       "       [0, 0, 1],\n",
       "       [1, 0, 0],\n",
       "       [1, 0, 0],\n",
       "       [0, 0, 1],\n",
       "       [0, 1, 0],\n",
       "       [0, 0, 1],\n",
       "       [0, 0, 1],\n",
       "       [0, 1, 0],\n",
       "       [0, 0, 1],\n",
       "       [0, 1, 0],\n",
       "       [0, 0, 1],\n",
       "       [0, 0, 1],\n",
       "       [0, 1, 0],\n",
       "       [1, 0, 0],\n",
       "       [0, 0, 1],\n",
       "       [0, 1, 0],\n",
       "       [0, 0, 1],\n",
       "       [1, 0, 0],\n",
       "       [0, 1, 0],\n",
       "       [0, 1, 0],\n",
       "       [1, 0, 0],\n",
       "       [1, 0, 0],\n",
       "       [0, 0, 1],\n",
       "       [0, 1, 0],\n",
       "       [0, 1, 0],\n",
       "       [1, 0, 0],\n",
       "       [0, 0, 1],\n",
       "       [0, 1, 0],\n",
       "       [0, 0, 1],\n",
       "       [0, 1, 0],\n",
       "       [0, 0, 1],\n",
       "       [1, 0, 0],\n",
       "       [1, 0, 0],\n",
       "       [0, 1, 0],\n",
       "       [1, 0, 0],\n",
       "       [1, 0, 0],\n",
       "       [0, 1, 0],\n",
       "       [0, 0, 1],\n",
       "       [1, 0, 0],\n",
       "       [0, 0, 1],\n",
       "       [0, 1, 0],\n",
       "       [0, 1, 0],\n",
       "       [0, 1, 0],\n",
       "       [0, 0, 1],\n",
       "       [0, 1, 0],\n",
       "       [1, 0, 0],\n",
       "       [0, 0, 1],\n",
       "       [1, 0, 0],\n",
       "       [1, 0, 0],\n",
       "       [0, 1, 0],\n",
       "       [0, 1, 0],\n",
       "       [0, 0, 1],\n",
       "       [0, 0, 1],\n",
       "       [0, 1, 0],\n",
       "       [1, 0, 0],\n",
       "       [0, 0, 1],\n",
       "       [1, 0, 0],\n",
       "       [1, 0, 0],\n",
       "       [0, 1, 0],\n",
       "       [0, 1, 0],\n",
       "       [1, 0, 0],\n",
       "       [1, 0, 0],\n",
       "       [1, 0, 0],\n",
       "       [0, 0, 1],\n",
       "       [0, 0, 1],\n",
       "       [0, 0, 1],\n",
       "       [0, 0, 1],\n",
       "       [1, 0, 0],\n",
       "       [0, 1, 0],\n",
       "       [0, 0, 1],\n",
       "       [0, 1, 0],\n",
       "       [1, 0, 0],\n",
       "       [1, 0, 0],\n",
       "       [0, 1, 0],\n",
       "       [0, 1, 0],\n",
       "       [0, 0, 1],\n",
       "       [0, 0, 1],\n",
       "       [0, 0, 1],\n",
       "       [0, 1, 0],\n",
       "       [1, 0, 0],\n",
       "       [0, 1, 0],\n",
       "       [0, 0, 1],\n",
       "       [1, 0, 0],\n",
       "       [1, 0, 0],\n",
       "       [1, 0, 0],\n",
       "       [0, 0, 1],\n",
       "       [1, 0, 0],\n",
       "       [0, 1, 0],\n",
       "       [0, 0, 1],\n",
       "       [0, 1, 0],\n",
       "       [1, 0, 0],\n",
       "       [0, 0, 1],\n",
       "       [0, 1, 0],\n",
       "       [0, 0, 1],\n",
       "       [0, 0, 1],\n",
       "       [0, 0, 1],\n",
       "       [0, 1, 0],\n",
       "       [0, 0, 1],\n",
       "       [0, 1, 0],\n",
       "       [0, 0, 1]])"
      ]
     },
     "execution_count": 6,
     "metadata": {},
     "output_type": "execute_result"
    }
   ],
   "source": [
    "# sample or test code\n",
    "label_binarize(y_train,classes=[0,1,2])"
   ]
  },
  {
   "cell_type": "code",
   "execution_count": 7,
   "id": "39ae128f",
   "metadata": {},
   "outputs": [
    {
     "data": {
      "text/plain": [
       "((120, 5), (120, 3))"
      ]
     },
     "execution_count": 7,
     "metadata": {},
     "output_type": "execute_result"
    }
   ],
   "source": [
    "x_train_aug = np.hstack((np.ones((len(x_train), 1)), x_train))  # Augment\n",
    "y_train_oh = label_binarize(y_train, classes=np.unique(y_train))  # one hot\n",
    "x_train_aug.shape, y_train_oh.shape"
   ]
  },
  {
   "cell_type": "markdown",
   "id": "20448db1",
   "metadata": {},
   "source": [
    "### Logistic Regression Model"
   ]
  },
  {
   "cell_type": "code",
   "execution_count": 8,
   "id": "cbb3e6fc",
   "metadata": {},
   "outputs": [],
   "source": [
    "def sigmoid(x):\n",
    "    return 1 / (1 + np.exp(-x))"
   ]
  },
  {
   "cell_type": "code",
   "execution_count": 9,
   "id": "01cb66b1",
   "metadata": {},
   "outputs": [],
   "source": [
    "def multi_logistic_regression(x, w):\n",
    "    # x: nx(m+1)\n",
    "    # w: (m+1)xc\n",
    "    # y_hat: nxc\n",
    "\n",
    "    y_hat = sigmoid(x @ w)\n",
    "    return y_hat"
   ]
  },
  {
   "cell_type": "code",
   "execution_count": 10,
   "id": "8ca23a96",
   "metadata": {},
   "outputs": [
    {
     "data": {
      "text/plain": [
       "(5, 3)"
      ]
     },
     "execution_count": 10,
     "metadata": {},
     "output_type": "execute_result"
    }
   ],
   "source": [
    "# sample or test code\n",
    "tmp = np.random.randn(5, 3)\n",
    "tmp.shape"
   ]
  },
  {
   "cell_type": "code",
   "execution_count": 11,
   "id": "9a396eff",
   "metadata": {},
   "outputs": [
    {
     "data": {
      "text/plain": [
       "(120, 3)"
      ]
     },
     "execution_count": 11,
     "metadata": {},
     "output_type": "execute_result"
    }
   ],
   "source": [
    "y_hat = multi_logistic_regression(x_train_aug, np.random.randn(5, 3))\n",
    "y_hat.shape"
   ]
  },
  {
   "cell_type": "markdown",
   "id": "ea23fd74",
   "metadata": {},
   "source": [
    "### Binary Cross Entropy (BCE)"
   ]
  },
  {
   "cell_type": "code",
   "execution_count": 12,
   "id": "1155bebb",
   "metadata": {},
   "outputs": [],
   "source": [
    "def bce(y, y_hat):\n",
    "    loss = -np.mean(np.sum(y * np.log(y_hat) + (1 - y) * np.log(1 - y_hat), 1))\n",
    "    return loss"
   ]
  },
  {
   "cell_type": "code",
   "execution_count": 13,
   "id": "43b2eac0",
   "metadata": {},
   "outputs": [
    {
     "data": {
      "text/plain": [
       "4.073240704754933"
      ]
     },
     "execution_count": 13,
     "metadata": {},
     "output_type": "execute_result"
    }
   ],
   "source": [
    "bce(y_train_oh, y_hat)"
   ]
  },
  {
   "cell_type": "markdown",
   "id": "28490093",
   "metadata": {},
   "source": [
    "### Gradient"
   ]
  },
  {
   "cell_type": "markdown",
   "id": "8ae9628a",
   "metadata": {},
   "source": [
    "$\\nabla L_w(w)=\\frac{1}{n}X^T(\\hat{y}-y)$"
   ]
  },
  {
   "cell_type": "code",
   "execution_count": 14,
   "id": "22477fc7",
   "metadata": {},
   "outputs": [],
   "source": [
    "def gradient(x, y, y_hat):\n",
    "    # x: nx(m+1)\n",
    "    # y: nxc\n",
    "    # y_hat: nxc\n",
    "    # grads: (m+1)xc\n",
    "\n",
    "    grads = (x.T @ (y_hat - y)) / len(y)\n",
    "    return grads"
   ]
  },
  {
   "cell_type": "code",
   "execution_count": 15,
   "id": "7579a1d0",
   "metadata": {},
   "outputs": [
    {
     "data": {
      "text/plain": [
       "((5, 3),\n",
       " array([[-0.33264153,  0.22894279,  0.53682581],\n",
       "        [-1.6681436 ,  1.2880062 ,  2.9842382 ],\n",
       "        [-1.15499961,  0.77820658,  1.64088606],\n",
       "        [-0.47924641,  0.69245413,  1.65606536],\n",
       "        [-0.0757309 ,  0.21252919,  0.46115937]]))"
      ]
     },
     "execution_count": 15,
     "metadata": {},
     "output_type": "execute_result"
    }
   ],
   "source": [
    "grad = gradient(x_train_aug, y_train_oh, y_hat)\n",
    "\n",
    "grad.shape, grad"
   ]
  },
  {
   "cell_type": "markdown",
   "id": "91ed1ad7",
   "metadata": {},
   "source": [
    "### Gradient Descent"
   ]
  },
  {
   "cell_type": "code",
   "execution_count": 16,
   "id": "5caf1b69",
   "metadata": {},
   "outputs": [],
   "source": [
    "def gradient_descent(w, eta, grads):\n",
    "    w -= eta * grads\n",
    "    return w"
   ]
  },
  {
   "cell_type": "markdown",
   "id": "6fc8863e",
   "metadata": {},
   "source": [
    "### Accuracy"
   ]
  },
  {
   "cell_type": "code",
   "execution_count": 17,
   "id": "b14474af",
   "metadata": {},
   "outputs": [],
   "source": [
    "def accuracy(y, y_hat):\n",
    "    acc = np.sum(y == np.argmax(y_hat, 1)) / len(y)\n",
    "    return acc"
   ]
  },
  {
   "cell_type": "code",
   "execution_count": 18,
   "id": "c291b199",
   "metadata": {},
   "outputs": [
    {
     "data": {
      "text/plain": [
       "array([2, 2, 2, 2, 2, 2, 2, 2, 2, 2, 2, 2, 2, 2, 2, 2, 2, 2, 2, 2, 2, 2,\n",
       "       2, 2, 2, 2, 2, 2, 2, 2, 2, 2, 2, 2, 2, 2, 2, 2, 2, 2, 2, 2, 2, 2,\n",
       "       2, 2, 2, 2, 2, 2, 2, 2, 2, 2, 2, 2, 2, 2, 2, 2, 2, 2, 2, 2, 2, 2,\n",
       "       2, 2, 2, 2, 2, 2, 2, 2, 2, 2, 2, 2, 2, 2, 2, 2, 2, 2, 2, 2, 2, 2,\n",
       "       2, 2, 2, 2, 2, 2, 2, 2, 2, 2, 2, 2, 2, 2, 2, 2, 2, 2, 2, 2, 2, 2,\n",
       "       2, 2, 2, 2, 2, 2, 2, 2, 2, 2], dtype=int64)"
      ]
     },
     "execution_count": 18,
     "metadata": {},
     "output_type": "execute_result"
    }
   ],
   "source": [
    "np.argmax(y_hat, 1)"
   ]
  },
  {
   "cell_type": "code",
   "execution_count": 19,
   "id": "4ad8fae8",
   "metadata": {},
   "outputs": [
    {
     "data": {
      "text/plain": [
       "0.35"
      ]
     },
     "execution_count": 19,
     "metadata": {},
     "output_type": "execute_result"
    }
   ],
   "source": [
    "accuracy(y_train, y_hat)"
   ]
  },
  {
   "cell_type": "markdown",
   "id": "d1667bce",
   "metadata": {},
   "source": [
    "### Train"
   ]
  },
  {
   "cell_type": "code",
   "execution_count": 20,
   "id": "afe217ff",
   "metadata": {},
   "outputs": [
    {
     "data": {
      "text/plain": [
       "(5, 3)"
      ]
     },
     "execution_count": 20,
     "metadata": {},
     "output_type": "execute_result"
    }
   ],
   "source": [
    "n, mp = x_train_aug.shape\n",
    "c = len(np.unique(y))\n",
    "\n",
    "w = np.random.randn(mp, c)\n",
    "w.shape"
   ]
  },
  {
   "cell_type": "code",
   "execution_count": 21,
   "id": "94a326f5",
   "metadata": {},
   "outputs": [
    {
     "data": {
      "text/plain": [
       "array([[ 1.48594441, -0.43899101, -0.53952864],\n",
       "       [ 2.06541703,  1.60566462,  0.56568708],\n",
       "       [ 0.85301641, -0.58696232, -1.03486302],\n",
       "       [ 0.57895176, -0.81287333,  1.11122569],\n",
       "       [-0.3575684 , -0.24906872, -1.49748643]])"
      ]
     },
     "execution_count": 21,
     "metadata": {},
     "output_type": "execute_result"
    }
   ],
   "source": [
    "w"
   ]
  },
  {
   "cell_type": "code",
   "execution_count": 22,
   "id": "e5f591f8",
   "metadata": {},
   "outputs": [],
   "source": [
    "eta = 0.01\n",
    "n_epochs = 1000"
   ]
  },
  {
   "cell_type": "code",
   "execution_count": 23,
   "id": "826455b6",
   "metadata": {},
   "outputs": [
    {
     "name": "stdout",
     "output_type": "stream",
     "text": [
      "Epoch=99, \t E=1.289\n",
      "Epoch=199, \t E=1.15\n",
      "Epoch=299, \t E=1.075\n",
      "Epoch=399, \t E=1.029\n",
      "Epoch=499, \t E=0.995\n",
      "Epoch=599, \t E=0.9687\n",
      "Epoch=699, \t E=0.9469\n",
      "Epoch=799, \t E=0.9282\n",
      "Epoch=899, \t E=0.9117\n",
      "Epoch=999, \t E=0.897\n"
     ]
    }
   ],
   "source": [
    "error_hist = []\n",
    "\n",
    "for epoch in range(n_epochs):\n",
    "    # predictions\n",
    "    y_hat = multi_logistic_regression(x_train_aug, w)\n",
    "\n",
    "    # loss\n",
    "    e = bce(y_train_oh, y_hat)\n",
    "    error_hist.append(e)\n",
    "    \n",
    "    # gradients\n",
    "    grads = gradient(x_train_aug, y_train_oh, y_hat)\n",
    "    \n",
    "    # gradient descent\n",
    "    w = gradient_descent(w, eta, grads)\n",
    "    \n",
    "    if (epoch+1) % 100 == 0:\n",
    "        print(f'Epoch={epoch}, \\t E={e:.4}')"
   ]
  },
  {
   "cell_type": "code",
   "execution_count": 24,
   "id": "64f45689",
   "metadata": {},
   "outputs": [
    {
     "data": {
      "image/png": "[encoded data removed]",
      "text/plain": [
       "<Figure size 640x480 with 1 Axes>"
      ]
     },
     "metadata": {},
     "output_type": "display_data"
    }
   ],
   "source": [
    "plt.plot(error_hist, label='Train');"
   ]
  },
  {
   "cell_type": "code",
   "execution_count": 25,
   "id": "b8c757a8",
   "metadata": {},
   "outputs": [
    {
     "data": {
      "text/plain": [
       "array([[ 1.28175724, -0.56720157, -0.8052957 ],\n",
       "       [ 0.40829394,  0.94031053, -0.32387949],\n",
       "       [ 0.53219837, -1.62392638, -1.46830085],\n",
       "       [-1.54776699, -0.1853453 ,  1.72176419],\n",
       "       [-1.15960264, -0.16556262, -0.70204056]])"
      ]
     },
     "execution_count": 25,
     "metadata": {},
     "output_type": "execute_result"
    }
   ],
   "source": [
    "w"
   ]
  },
  {
   "cell_type": "markdown",
   "id": "8b1b5e56",
   "metadata": {},
   "source": [
    "### Test"
   ]
  },
  {
   "cell_type": "code",
   "execution_count": 26,
   "id": "1bce8491",
   "metadata": {},
   "outputs": [
    {
     "data": {
      "text/plain": [
       "((30, 5), (30,))"
      ]
     },
     "execution_count": 26,
     "metadata": {},
     "output_type": "execute_result"
    }
   ],
   "source": [
    "x_test_aug = np.hstack((np.ones((len(x_test), 1)), x_test))\n",
    "x_test_aug.shape, y_test.shape"
   ]
  },
  {
   "cell_type": "code",
   "execution_count": 27,
   "id": "5ace60a1",
   "metadata": {},
   "outputs": [
    {
     "data": {
      "text/plain": [
       "array([[0.9435112 , 0.18369182, 0.00542321],\n",
       "       [0.01568938, 0.53504318, 0.7041409 ],\n",
       "       [0.01594024, 0.19724483, 0.39796482],\n",
       "       [0.03628748, 0.17571657, 0.24673141],\n",
       "       [0.0032766 , 0.38182169, 0.76462896],\n",
       "       [0.05916282, 0.41372201, 0.28209057],\n",
       "       [0.01335529, 0.28714491, 0.49677715],\n",
       "       [0.92671348, 0.1300563 , 0.00791505],\n",
       "       [0.11088919, 0.46399811, 0.39124833],\n",
       "       [0.15187754, 0.4066379 , 0.30533847],\n",
       "       [0.92741876, 0.10674889, 0.00372868],\n",
       "       [0.92487655, 0.205035  , 0.00524805],\n",
       "       [0.89956795, 0.14807543, 0.00708328],\n",
       "       [0.01353497, 0.40520009, 0.68372803],\n",
       "       [0.92089932, 0.11182089, 0.00613552],\n",
       "       [0.04280554, 0.46546548, 0.45177285],\n",
       "       [0.00428057, 0.40044418, 0.77401479],\n",
       "       [0.00640464, 0.3865644 , 0.55760426],\n",
       "       [0.12261828, 0.29042443, 0.16918773],\n",
       "       [0.04729206, 0.33631811, 0.43421454],\n",
       "       [0.17022427, 0.43932269, 0.24142975],\n",
       "       [0.05985327, 0.32528853, 0.35067564],\n",
       "       [0.02820743, 0.22172544, 0.41847293],\n",
       "       [0.91930153, 0.20439085, 0.0084939 ],\n",
       "       [0.91518404, 0.21332771, 0.0109674 ],\n",
       "       [0.00154191, 0.24903193, 0.75261722],\n",
       "       [0.08217505, 0.43382939, 0.41407681],\n",
       "       [0.00114241, 0.63489088, 0.93827354],\n",
       "       [0.00337716, 0.32896155, 0.6131887 ],\n",
       "       [0.87901744, 0.41060799, 0.02628388]])"
      ]
     },
     "execution_count": 27,
     "metadata": {},
     "output_type": "execute_result"
    }
   ],
   "source": [
    "y_hat_test = multi_logistic_regression(x_test_aug, w)\n",
    "y_hat_test"
   ]
  },
  {
   "cell_type": "code",
   "execution_count": 28,
   "id": "8e08e9fe",
   "metadata": {},
   "outputs": [
    {
     "data": {
      "text/plain": [
       "0.8"
      ]
     },
     "execution_count": 28,
     "metadata": {},
     "output_type": "execute_result"
    }
   ],
   "source": [
    "accuracy(y_test, y_hat_test)"
   ]
  },
  {
   "cell_type": "code",
   "execution_count": 29,
   "id": "fb9d7133",
   "metadata": {},
   "outputs": [
    {
     "data": {
      "text/plain": [
       "(array([0, 1, 1, 1, 2, 1, 2, 0, 1, 1, 0, 0, 0, 2, 0, 1, 2, 2, 1, 1, 1, 1,\n",
       "        1, 0, 0, 2, 1, 2, 2, 0]),\n",
       " array([0, 2, 2, 2, 2, 1, 2, 0, 1, 1, 0, 0, 0, 2, 0, 1, 2, 2, 1, 2, 1, 2,\n",
       "        2, 0, 0, 2, 1, 2, 2, 0], dtype=int64))"
      ]
     },
     "execution_count": 29,
     "metadata": {},
     "output_type": "execute_result"
    }
   ],
   "source": [
    "y_test, np.argmax(y_hat_test, 1)"
   ]
  },
  {
   "cell_type": "markdown",
   "id": "2116767c",
   "metadata": {},
   "source": [
    "### My test: Using polynomial on iris"
   ]
  },
  {
   "cell_type": "code",
   "execution_count": 30,
   "id": "e497d603",
   "metadata": {},
   "outputs": [],
   "source": [
    "X, y = load_iris(return_X_y=True)\n",
    "X.shape, y.shape\n",
    "\n",
    "use_poly=True\n",
    "degree = 2\n",
    "interaction_only=True"
   ]
  },
  {
   "cell_type": "code",
   "execution_count": 31,
   "id": "c8238bcb",
   "metadata": {},
   "outputs": [],
   "source": [
    "# using polynomial\n",
    "if use_poly:\n",
    "    from sklearn.preprocessing import PolynomialFeatures\n",
    "\n",
    "    poly = PolynomialFeatures(degree=degree, interaction_only=interaction_only)\n",
    "    poly.fit_transform (X)"
   ]
  },
  {
   "cell_type": "code",
   "execution_count": 32,
   "id": "96d2c3ef",
   "metadata": {},
   "outputs": [
    {
     "data": {
      "text/plain": [
       "((120, 4), (30, 4), (120,), (30,))"
      ]
     },
     "execution_count": 32,
     "metadata": {},
     "output_type": "execute_result"
    }
   ],
   "source": [
    "x_train, x_test, y_train, y_test = train_test_split(\n",
    "    X, y, test_size=0.2, random_state=25\n",
    ")\n",
    "x_train.shape, x_test.shape, y_train.shape, y_test.shape"
   ]
  },
  {
   "cell_type": "code",
   "execution_count": 33,
   "id": "2728c576",
   "metadata": {},
   "outputs": [
    {
     "data": {
      "text/plain": [
       "((120, 5), (120, 3))"
      ]
     },
     "execution_count": 33,
     "metadata": {},
     "output_type": "execute_result"
    }
   ],
   "source": [
    "x_train_aug = np.hstack((np.ones((len(x_train), 1)), x_train))  # Augment\n",
    "y_train_oh = label_binarize(y_train, classes=np.unique(y_train))  # one hot\n",
    "x_train_aug.shape, y_train_oh.shape"
   ]
  },
  {
   "cell_type": "code",
   "execution_count": 34,
   "id": "f1316d3b",
   "metadata": {},
   "outputs": [],
   "source": [
    "n, mp = x_train_aug.shape\n",
    "c = len(np.unique(y))\n",
    "\n",
    "# np.random.seed(25)\n",
    "np.random.seed(24)\n",
    "w = np.random.randn(mp, c)"
   ]
  },
  {
   "cell_type": "code",
   "execution_count": 35,
   "id": "d9f77181",
   "metadata": {},
   "outputs": [
    {
     "name": "stdout",
     "output_type": "stream",
     "text": [
      "Epoch=99, \t E=1.294\n",
      "Epoch=199, \t E=1.123\n",
      "Epoch=299, \t E=1.04\n",
      "Epoch=399, \t E=0.9901\n",
      "Epoch=499, \t E=0.9563\n",
      "Epoch=599, \t E=0.931\n",
      "Epoch=699, \t E=0.9108\n",
      "Epoch=799, \t E=0.8941\n",
      "Epoch=899, \t E=0.8796\n",
      "Epoch=999, \t E=0.8669\n"
     ]
    }
   ],
   "source": [
    "eta = 0.01\n",
    "n_epochs = 1000\n",
    "error_hist = []\n",
    "\n",
    "for epoch in range(n_epochs):\n",
    "    # predictions\n",
    "    y_hat = multi_logistic_regression(x_train_aug, w)\n",
    "\n",
    "    # loss\n",
    "    e = bce(y_train_oh, y_hat)\n",
    "    error_hist.append(e)\n",
    "    \n",
    "    # gradients\n",
    "    grads = gradient(x_train_aug, y_train_oh, y_hat)\n",
    "    \n",
    "    # gradient descent\n",
    "    w = gradient_descent(w, eta, grads)\n",
    "    \n",
    "    if (epoch+1) % 100 == 0:\n",
    "        print(f'Epoch={epoch}, \\t E={e:.4}')\n",
    "# plt.plot(error_hist, label='Train');"
   ]
  },
  {
   "cell_type": "code",
   "execution_count": 36,
   "id": "35abeadb",
   "metadata": {},
   "outputs": [
    {
     "data": {
      "text/plain": [
       "((30, 5), (30,), (30, 3))"
      ]
     },
     "execution_count": 36,
     "metadata": {},
     "output_type": "execute_result"
    }
   ],
   "source": [
    "if use_poly:\n",
    "    poly.transform(x_test)\n",
    "\n",
    "x_test_aug = np.hstack((np.ones((len(x_test), 1)), x_test))\n",
    "\n",
    "\n",
    "y_hat_test = multi_logistic_regression(x_test_aug, w)\n",
    "x_test_aug.shape, y_test.shape, y_hat_test.shape"
   ]
  },
  {
   "cell_type": "code",
   "execution_count": 37,
   "id": "f0a1b143",
   "metadata": {},
   "outputs": [
    {
     "data": {
      "text/plain": [
       "0.8666666666666667"
      ]
     },
     "execution_count": 37,
     "metadata": {},
     "output_type": "execute_result"
    }
   ],
   "source": [
    "accuracy(y_test, y_hat_test)"
   ]
  }
 ],
 "metadata": {
  "kernelspec": {
   "display_name": "venv_general_312",
   "language": "python",
   "name": "python3"
  },
  "language_info": {
   "codemirror_mode": {
    "name": "ipython",
    "version": 3
   },
   "file_extension": ".py",
   "mimetype": "text/x-python",
   "name": "python",
   "nbconvert_exporter": "python",
   "pygments_lexer": "ipython3",
   "version": "3.12.6"
  }
 },
 "nbformat": 4,
 "nbformat_minor": 5
}
