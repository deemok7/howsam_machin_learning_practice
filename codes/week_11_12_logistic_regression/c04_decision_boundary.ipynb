{
 "cells": [
  {
   "cell_type": "markdown",
   "id": "1a983bb7",
   "metadata": {},
   "source": [
    "# <font color='#FFE15D'>**Week 11: Logistic Regression 🔴🔵**</font>"
   ]
  },
  {
   "cell_type": "markdown",
   "id": "a8d63f8f",
   "metadata": {},
   "source": [
    "## **🔸 Decision Boundary**"
   ]
  },
  {
   "cell_type": "code",
   "execution_count": null,
   "id": "c7a64355",
   "metadata": {},
   "outputs": [],
   "source": [
    "from sklearn.datasets import make_classification, make_blobs, make_circles"
   ]
  }
 ],
 "metadata": {
  "kernelspec": {
   "display_name": "venv_general_312",
   "language": "python",
   "name": "python3"
  },
  "language_info": {
   "codemirror_mode": {
    "name": "ipython",
    "version": 3
   },
   "file_extension": ".py",
   "mimetype": "text/x-python",
   "name": "python",
   "nbconvert_exporter": "python",
   "pygments_lexer": "ipython3",
   "version": "3.12.6"
  }
 },
 "nbformat": 4,
 "nbformat_minor": 5
}
