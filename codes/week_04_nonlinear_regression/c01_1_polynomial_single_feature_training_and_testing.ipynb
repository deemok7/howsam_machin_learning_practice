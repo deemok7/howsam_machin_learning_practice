{
 "cells": [
  {
   "cell_type": "code",
   "execution_count": 1,
   "metadata": {},
   "outputs": [],
   "source": [
    "import numpy as np\n",
    "import pandas as pd\n",
    "import matplotlib.pyplot as plt\n",
    "import os\n",
    "\n",
    "notebook_path = os.getcwd()\n",
    "weights_file_path=f\"{notebook_path}/c01_1_polynomial_single_feature_training_and_testing_weights.npy\""
   ]
  },
  {
   "cell_type": "code",
   "execution_count": 2,
   "metadata": {},
   "outputs": [],
   "source": [
    "# Datasets path\n",
    "# auto\n",
    "csv_train_path = f\"{notebook_path}/data/auto-train-preprocessed.csv\"\n",
    "csv_test_path = f\"{notebook_path}/data/auto-test-preprocessed.csv\""
   ]
  },
  {
   "cell_type": "code",
   "execution_count": 3,
   "metadata": {},
   "outputs": [],
   "source": [
    "def polynomial(x,degree_of_polynomial):\n",
    "    phi_x = np.array([x**i for i in range(degree_of_polynomial+1)])\n",
    "    phi_x = phi_x[..., 0].T\n",
    "    return phi_x"
   ]
  },
  {
   "cell_type": "code",
   "execution_count": 4,
   "metadata": {},
   "outputs": [],
   "source": [
    "def load_csv_as_augmented(csv_path,degree_of_polynomial):\n",
    "    assert os.path.exists(csv_path), \"File not exists, \"+ csv_path\n",
    "    df=pd.read_csv(csv_path)\n",
    "    print(f\"Loaded Data:\")\n",
    "    print(df)\n",
    "    print(df.columns)\n",
    "    # d=np.array(df)[:,1:]\n",
    "    d=np.array(df)[:,:]\n",
    "    x=d[:,:-1]\n",
    "    # x_aug=np.hstack((np.ones((x.shape[0],1)),x))\n",
    "    x_aug=polynomial(x,degree_of_polynomial )\n",
    "    y=d[:,-1:]\n",
    "    print(f\"x_aug.shape: {x_aug.shape}, y.shape: {y.shape}\")\n",
    "    return x,x_aug,y"
   ]
  },
  {
   "cell_type": "code",
   "execution_count": 5,
   "metadata": {},
   "outputs": [],
   "source": [
    "def linear_regression(x,w):\n",
    "    # y_hat=0\n",
    "    # for xi,wi in zip(x.T,w):\n",
    "    #     y_hat+=xi*wi\n",
    "    y_hat = x @ w\n",
    "    return y_hat"
   ]
  },
  {
   "cell_type": "code",
   "execution_count": 6,
   "metadata": {},
   "outputs": [],
   "source": [
    "def fn_mae(y_hat,y):\n",
    "    return np.mean(np.abs(y_hat-y))\n",
    "def fn_mse(y_hat,y):\n",
    "    return np.mean((y_hat-y)**2)\n",
    "def fn_rmse(y_hat,y):\n",
    "    return np.sqrt(fn_mse(y_hat,y))\n",
    "def fn_r2(y_hat,y):\n",
    "    r2=1-np.sum((y_hat-y)**2)/np.sum((y.mean()-y)**2)\n",
    "    return r2"
   ]
  },
  {
   "cell_type": "code",
   "execution_count": 7,
   "metadata": {},
   "outputs": [],
   "source": [
    "def use_grad_mse(x, y, y_hat, w, eta):\n",
    "    # Not good\n",
    "    # for i in range(w.shape[0]):\n",
    "    #     # print(i)\n",
    "    #     g = 2 * np.mean(x[:, i] * (y_hat - y))\n",
    "    #     w[i] -= eta*g\n",
    "\n",
    "    # Better\n",
    "    # grads = []\n",
    "    # for xi in x.T:\n",
    "    #     grads.append(2 * np.mean(xi * (y_hat - y)))\n",
    "    \n",
    "    # grads = np.array(grads)\n",
    "    # grads = grads.reshape(-1, 1)\n",
    "    # # print(f\"grads.shape1: {grads.shape}\")\n",
    "    \n",
    "    grads = 2*(x.T @ (y_hat - y)) / y.shape[0]    \n",
    "    grads=grads\n",
    "    # print(f\"grads.shape2: {grads.shape}\")\n",
    "    w -= eta * grads\n",
    "    return w"
   ]
  },
  {
   "cell_type": "code",
   "execution_count": 8,
   "metadata": {},
   "outputs": [],
   "source": [
    "def gradient_decent(x, y, eta, epochs,degree_of_polynomial):\n",
    "    e_mae_list = []\n",
    "    e_mse_list = []\n",
    "    # w = np.random.random(x.shape[1])\n",
    "    w = np.random.randn(degree_of_polynomial+1,1)\n",
    "    print(f\"w.shape: {w.shape}\")\n",
    "    for epoch in range(epochs):\n",
    "        y_hat = linear_regression(x, w)\n",
    "\n",
    "        e_mae = fn_mae(y_hat, y)\n",
    "        e_mae_list.append(e_mae)\n",
    "\n",
    "        e_mse = fn_mse(y_hat, y)\n",
    "        e_mse_list.append(e_mse)\n",
    "\n",
    "        if epoch % 100 == 0 or epoch < 10 or epoch > epochs - 10:\n",
    "            # print(f\"epoch {epoch},\\tE_MAE:{e_mae:.4f},\\tE_MSE:{e_mse:.4f},\\tw:{w}\")\n",
    "            print(f\"epoch {epoch},\\tE_MAE:{e_mae:.4f},\\tE_MSE:{e_mse:.4f}\")\n",
    "\n",
    "        # loss function MSE\n",
    "        # print(x.shape, y.shape, y_hat.shape)\n",
    "        w = use_grad_mse(x, y, y_hat, w, eta)\n",
    "    y_hat = linear_regression(x, w)\n",
    "    e_mae = fn_mae(y_hat, y)\n",
    "    e_mae_list.append(e_mae)\n",
    "\n",
    "    e_mse = fn_mse(y_hat, y)\n",
    "    e_mse_list.append(e_mse)\n",
    "\n",
    "    print(f\"Final    \\tE_MAE:{e_mae:.4f},\\tE_MSE:{e_mse:.4f},\\tw:{w}\")\n",
    "    info = {\n",
    "        \"weights\": w,  # Not necessary\n",
    "        \"last_e_mae\": e_mae,\n",
    "        \"e_mae_list\": e_mae_list,\n",
    "        \"last_e_mse\": e_mse,\n",
    "        \"e_mse_list\": e_mse_list,\n",
    "    }\n",
    "    return w, info"
   ]
  },
  {
   "cell_type": "code",
   "execution_count": 9,
   "metadata": {},
   "outputs": [],
   "source": [
    "# Hyper parameters\n",
    "epochs = 2000\n",
    "eta = 0.1\n",
    "degree_of_polynomial=3\n"
   ]
  },
  {
   "cell_type": "code",
   "execution_count": 10,
   "metadata": {},
   "outputs": [
    {
     "name": "stdout",
     "output_type": "stream",
     "text": [
      "train: \tLoaded Data:\n",
      "     HorsePower       MPG\n",
      "0      0.038043  0.638298\n",
      "1      0.646739  0.106383\n",
      "2      0.157609  0.398936\n",
      "3      0.239130  0.239362\n",
      "4      0.728261  0.186170\n",
      "..          ...       ...\n",
      "347    0.293478  0.390957\n",
      "348    0.130435  0.651596\n",
      "349    0.347826  0.226064\n",
      "350    0.277174  0.396277\n",
      "351    0.163044  0.577128\n",
      "\n",
      "[352 rows x 2 columns]\n",
      "Index(['HorsePower', 'MPG'], dtype='object')\n",
      "x_aug.shape: (352, 4), y.shape: (352, 1)\n"
     ]
    }
   ],
   "source": [
    "# load train data\n",
    "print(\"train: \", end=\"\\t\")\n",
    "x_train,x_aug_train, y_train = load_csv_as_augmented(csv_train_path,degree_of_polynomial)"
   ]
  },
  {
   "cell_type": "code",
   "execution_count": 11,
   "metadata": {},
   "outputs": [
    {
     "name": "stdout",
     "output_type": "stream",
     "text": [
      "(352, 4)\n"
     ]
    },
    {
     "data": {
      "text/plain": [
       "<matplotlib.collections.PathCollection at 0x245353e2ab0>"
      ]
     },
     "execution_count": 11,
     "metadata": {},
     "output_type": "execute_result"
    },
    {
     "data": {
      "image/png": "[encoded data removed]",
      "text/plain": [
       "<Figure size 640x480 with 1 Axes>"
      ]
     },
     "metadata": {},
     "output_type": "display_data"
    }
   ],
   "source": [
    "# Visualize\n",
    "# plt.scatter(x_aug_train[:,0],y_train)\n",
    "\n",
    "print(x_aug_train.shape)\n",
    "plt.scatter(x_aug_train[:, 1], y_train,s=2)\n",
    "# plt.scatter(x_aug_train[:,2],y_train)\n",
    "# ..."
   ]
  },
  {
   "cell_type": "code",
   "execution_count": 12,
   "metadata": {},
   "outputs": [
    {
     "name": "stdout",
     "output_type": "stream",
     "text": [
      "y_hat_train_no_trained.shape: (352,)\n",
      "MAE: 0.7063\n",
      "MSE: 0.5733\n"
     ]
    }
   ],
   "source": [
    "# For test\n",
    "w = np.random.random(x_aug_train.shape[1])\n",
    "y_hat_train_no_trained = linear_regression(x_aug_train, w)\n",
    "print(f\"y_hat_train_no_trained.shape: {y_hat_train_no_trained.shape}\")\n",
    "print(f\"MAE: {fn_mae(y_hat_train_no_trained,y_train):.4f}\")\n",
    "print(f\"MSE: {fn_mse(y_hat_train_no_trained,y_train):.4f}\")"
   ]
  },
  {
   "cell_type": "code",
   "execution_count": 13,
   "metadata": {},
   "outputs": [
    {
     "name": "stdout",
     "output_type": "stream",
     "text": [
      "w.shape: (4, 1)\n",
      "epoch 0,\tE_MAE:0.6445,\tE_MSE:0.4780\n",
      "epoch 1,\tE_MAE:0.4977,\tE_MSE:0.3018\n",
      "epoch 2,\tE_MAE:0.3871,\tE_MSE:0.1959\n",
      "epoch 3,\tE_MAE:0.3089,\tE_MSE:0.1323\n",
      "epoch 4,\tE_MAE:0.2552,\tE_MSE:0.0939\n",
      "epoch 5,\tE_MAE:0.2189,\tE_MSE:0.0707\n",
      "epoch 6,\tE_MAE:0.1951,\tE_MSE:0.0565\n",
      "epoch 7,\tE_MAE:0.1799,\tE_MSE:0.0478\n",
      "epoch 8,\tE_MAE:0.1701,\tE_MSE:0.0423\n",
      "epoch 9,\tE_MAE:0.1634,\tE_MSE:0.0389\n",
      "epoch 100,\tE_MAE:0.1034,\tE_MSE:0.0173\n",
      "epoch 200,\tE_MAE:0.0982,\tE_MSE:0.0160\n",
      "epoch 300,\tE_MAE:0.0967,\tE_MSE:0.0157\n",
      "epoch 400,\tE_MAE:0.0957,\tE_MSE:0.0155\n",
      "epoch 500,\tE_MAE:0.0948,\tE_MSE:0.0153\n",
      "epoch 600,\tE_MAE:0.0940,\tE_MSE:0.0151\n",
      "epoch 700,\tE_MAE:0.0933,\tE_MSE:0.0150\n",
      "epoch 800,\tE_MAE:0.0926,\tE_MSE:0.0149\n",
      "epoch 900,\tE_MAE:0.0921,\tE_MSE:0.0147\n",
      "epoch 1000,\tE_MAE:0.0916,\tE_MSE:0.0146\n",
      "epoch 1100,\tE_MAE:0.0911,\tE_MSE:0.0146\n",
      "epoch 1200,\tE_MAE:0.0907,\tE_MSE:0.0145\n",
      "epoch 1300,\tE_MAE:0.0904,\tE_MSE:0.0144\n",
      "epoch 1400,\tE_MAE:0.0901,\tE_MSE:0.0144\n",
      "epoch 1500,\tE_MAE:0.0899,\tE_MSE:0.0143\n",
      "epoch 1600,\tE_MAE:0.0896,\tE_MSE:0.0143\n",
      "epoch 1700,\tE_MAE:0.0894,\tE_MSE:0.0142\n",
      "epoch 1800,\tE_MAE:0.0893,\tE_MSE:0.0142\n",
      "epoch 1900,\tE_MAE:0.0891,\tE_MSE:0.0142\n",
      "epoch 1991,\tE_MAE:0.0890,\tE_MSE:0.0141\n",
      "epoch 1992,\tE_MAE:0.0890,\tE_MSE:0.0141\n",
      "epoch 1993,\tE_MAE:0.0890,\tE_MSE:0.0141\n",
      "epoch 1994,\tE_MAE:0.0890,\tE_MSE:0.0141\n",
      "epoch 1995,\tE_MAE:0.0890,\tE_MSE:0.0141\n",
      "epoch 1996,\tE_MAE:0.0890,\tE_MSE:0.0141\n",
      "epoch 1997,\tE_MAE:0.0890,\tE_MSE:0.0141\n",
      "epoch 1998,\tE_MAE:0.0890,\tE_MSE:0.0141\n",
      "epoch 1999,\tE_MAE:0.0890,\tE_MSE:0.0141\n",
      "Final    \tE_MAE:0.0890,\tE_MSE:0.0141,\tw:[[ 0.7000183 ]\n",
      " [-1.1966247 ]\n",
      " [ 0.22046532]\n",
      " [ 0.36806844]]\n",
      "weights: [[ 0.7000183 ]\n",
      " [-1.1966247 ]\n",
      " [ 0.22046532]\n",
      " [ 0.36806844]]\n",
      "Error MAE on train: 0.0890\n",
      "Error MSE on train: 0.0141\n",
      "Weights saved in: c01_training_and_testing_weights.npy \n"
     ]
    }
   ],
   "source": [
    "# Training\n",
    "weights, info = gradient_decent(x_aug_train, y_train, eta, epochs,degree_of_polynomial)\n",
    "print(f\"weights: {weights}\")\n",
    "print(f\"Error MAE on train: {info[\"last_e_mae\"]:.4f}\")\n",
    "print(f\"Error MSE on train: {info[\"last_e_mse\"]:.4f}\")\n",
    "\n",
    "# Save weights\n",
    "np.save(weights_file_path,weights)\n",
    "print(f\"Weights saved in: {\"c01_training_and_testing_weights.npy\"} \")\n",
    "# print(f\"Weights saved in:{weights_file_path}\")\n"
   ]
  },
  {
   "cell_type": "code",
   "execution_count": 14,
   "metadata": {},
   "outputs": [
    {
     "data": {
      "text/plain": [
       "<matplotlib.legend.Legend at 0x24535432f90>"
      ]
     },
     "execution_count": 14,
     "metadata": {},
     "output_type": "execute_result"
    },
    {
     "data": {
      "image/png": "[encoded data removed]",
      "text/plain": [
       "<Figure size 640x480 with 1 Axes>"
      ]
     },
     "metadata": {},
     "output_type": "display_data"
    }
   ],
   "source": [
    "# Plot learning curve\n",
    "plt.plot(info[\"e_mae_list\"], label=\"MAE\")\n",
    "plt.plot(info[\"e_mse_list\"], label=\"MSE\")\n",
    "plt.legend()"
   ]
  },
  {
   "cell_type": "code",
   "execution_count": 15,
   "metadata": {},
   "outputs": [
    {
     "name": "stdout",
     "output_type": "stream",
     "text": [
      "\n",
      "test: \tLoaded Data:\n",
      "    HorsePower       MPG\n",
      "0     0.673913  0.159574\n",
      "1     0.135870  0.609043\n",
      "2     1.000000  0.186170\n",
      "3     0.130435  0.678191\n",
      "4     0.211957  0.319149\n",
      "5     0.130435  0.664894\n",
      "6     0.103261  0.744681\n",
      "7     0.293478  0.239362\n",
      "8     0.010870  0.914894\n",
      "9     0.510870  0.226064\n",
      "10    0.260870  0.345745\n",
      "11    0.972826  0.132979\n",
      "12    0.103261  0.845745\n",
      "13    0.347826  0.255319\n",
      "14    0.701087  0.106383\n",
      "15    0.141304  0.465426\n",
      "16    0.277174  0.239362\n",
      "17    0.277174  0.372340\n",
      "18    0.277174  0.345745\n",
      "19    0.782609  0.159574\n",
      "20    0.972826  0.079787\n",
      "21    0.565217  0.132979\n",
      "22    0.293478  0.212766\n",
      "23    0.918478  0.132979\n",
      "24    0.565217  0.159574\n",
      "25    0.157609  0.622340\n",
      "26    0.483696  0.244681\n",
      "27    0.347826  0.289894\n",
      "28    0.157609  0.718085\n",
      "29    0.673913  0.106383\n",
      "30    0.347826  0.159574\n",
      "31    0.347826  0.332447\n",
      "32    0.228261  0.239362\n",
      "33    0.065217  0.718085\n",
      "34    0.266304  0.398936\n",
      "35    0.228261  0.505319\n",
      "36    0.293478  0.265957\n",
      "37    0.195652  0.585106\n",
      "38    0.114130  0.619681\n",
      "39    0.347826  0.398936\n",
      "Index(['HorsePower', 'MPG'], dtype='object')\n",
      "x_aug.shape: (40, 4), y.shape: (40, 1)\n"
     ]
    }
   ],
   "source": [
    "# load test data\n",
    "print(\"\\ntest: \", end=\"\\t\")\n",
    "x_test,x_aug_test, y_test = load_csv_as_augmented(csv_test_path,degree_of_polynomial)"
   ]
  },
  {
   "cell_type": "code",
   "execution_count": 16,
   "metadata": {},
   "outputs": [
    {
     "name": "stdout",
     "output_type": "stream",
     "text": [
      "weights_loaded:\t[[ 0.7000183 ]\n",
      " [-1.1966247 ]\n",
      " [ 0.22046532]\n",
      " [ 0.36806844]]\n"
     ]
    }
   ],
   "source": [
    "# Load weights\n",
    "weights_loaded=np.load(weights_file_path)\n",
    "print(f\"weights_loaded:\\t{weights_loaded}\")"
   ]
  },
  {
   "cell_type": "code",
   "execution_count": 17,
   "metadata": {},
   "outputs": [
    {
     "name": "stdout",
     "output_type": "stream",
     "text": [
      "Error MAE on train: \t0.0890\n",
      "Error MSE on train: \t0.0141\n",
      "Error RMSE on train: \t0.1189\n",
      "Error R2 on train: \t0.6627\n",
      "\n",
      "Error MAE on test: \t0.0878\n",
      "Error MSE on test: \t0.0121\n",
      "Error RMSE on test: \t0.1101\n",
      "Error R2 on test: \t0.7685\n"
     ]
    }
   ],
   "source": [
    "# Testing\n",
    "y_hat_train = linear_regression(x_aug_train, weights_loaded)\n",
    "print(f\"Error MAE on train: \\t{fn_mae(y_hat_train,y_train):.4f}\")\n",
    "print(f\"Error MSE on train: \\t{fn_mse(y_hat_train,y_train):.4f}\")\n",
    "print(f\"Error RMSE on train: \\t{fn_rmse(y_hat_train,y_train):.4f}\")\n",
    "print(f\"Error R2 on train: \\t{fn_r2(y_hat_train,y_train):.4f}\")\n",
    "print()\n",
    "y_hat_test = linear_regression(x_aug_test, weights_loaded)\n",
    "print(f\"Error MAE on test: \\t{fn_mae(y_hat_test,y_test):.4f}\")\n",
    "print(f\"Error MSE on test: \\t{fn_mse(y_hat_test,y_test):.4f}\")\n",
    "print(f\"Error RMSE on test: \\t{fn_rmse(y_hat_test,y_test):.4f}\")\n",
    "print(f\"Error R2 on test: \\t{fn_r2(y_hat_test,y_test):.4f}\")"
   ]
  },
  {
   "cell_type": "code",
   "execution_count": 18,
   "metadata": {},
   "outputs": [
    {
     "name": "stdout",
     "output_type": "stream",
     "text": [
      "(100, 1) (100, 1) (4, 1)\n",
      "0.06811203327542222 0.7000182962976871\n"
     ]
    },
    {
     "data": {
      "text/plain": [
       "[<matplotlib.lines.Line2D at 0x24535d78b90>]"
      ]
     },
     "execution_count": 18,
     "metadata": {},
     "output_type": "execute_result"
    },
    {
     "data": {
      "image/png": "[encoded data removed]",
      "text/plain": [
       "<Figure size 640x480 with 1 Axes>"
      ]
     },
     "metadata": {},
     "output_type": "display_data"
    }
   ],
   "source": [
    "# Visualize using mean of data\n",
    "# Best result on simple data\n",
    "\n",
    "plt.scatter(x_train, y_train, s=1)\n",
    "plt.scatter(x_test, y_test, s=1)\n",
    "\n",
    "# x_total = np.vstack((x_train, x_test))\n",
    "# # x_total = np.sort(x_total, axis=0)\n",
    "# # x_aug_total = np.vstack((x_aug_train, x_aug_test))\n",
    "\n",
    "\n",
    "# # x_aug=np.hstack((np.ones((x.shape[0],1)),x))\n",
    "# x_aug_total=np.array([x_total**i for i in range(degree_of_polynomial+1)])\n",
    "# x_aug_total=x_aug_total[...,0].T\n",
    "\n",
    "x_total = np.linspace(x_train.min(), x_train.max(), 100)[:, None]\n",
    "x_aug_total = polynomial(x_total,degree_of_polynomial)\n",
    "\n",
    "y_hat_total = linear_regression(x_aug_total, weights_loaded)\n",
    "# x_new=np.linspace(x_total.min(),x_total.max(),100)\n",
    "# y_hat_total = linear_regression(x_new, weights_loaded)\n",
    "print(x_total.shape,y_hat_total.shape,weights_loaded.shape)\n",
    "print(y_hat_total.min(),y_hat_total.max())\n",
    "plt.plot(x_total.flatten().tolist(), y_hat_total.tolist(), c=\"red\")"
   ]
  }
 ],
 "metadata": {
  "kernelspec": {
   "display_name": "base",
   "language": "python",
   "name": "python3"
  },
  "language_info": {
   "codemirror_mode": {
    "name": "ipython",
    "version": 3
   },
   "file_extension": ".py",
   "mimetype": "text/x-python",
   "name": "python",
   "nbconvert_exporter": "python",
   "pygments_lexer": "ipython3",
   "version": "3.12.7"
  }
 },
 "nbformat": 4,
 "nbformat_minor": 2
}
