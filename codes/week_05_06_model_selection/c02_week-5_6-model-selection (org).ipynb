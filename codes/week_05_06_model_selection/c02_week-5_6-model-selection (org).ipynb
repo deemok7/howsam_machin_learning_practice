{
 "cells": [
  {
   "cell_type": "markdown",
   "id": "cb56c1b9",
   "metadata": {},
   "source": [
    "# <font color='#FFE15D'>**Week 5:  Model Selection ❌✔️❌**</font>"
   ]
  },
  {
   "cell_type": "markdown",
   "id": "da9e0c7f",
   "metadata": {
    "jp-MarkdownHeadingCollapsed": true,
    "tags": []
   },
   "source": [
    "## **🔸 Imports**"
   ]
  },
  {
   "cell_type": "code",
   "execution_count": 242,
   "id": "2748a277",
   "metadata": {},
   "outputs": [],
   "source": [
    "import joblib\n",
    "import os\n",
    "\n",
    "import pandas as pd\n",
    "import numpy as np\n",
    "import matplotlib.pyplot as plt\n",
    "\n",
    "from sklearn.preprocessing import PolynomialFeatures\n",
    "from sklearn.linear_model import LinearRegression, SGDRegressor, Lasso, Ridge, ElasticNet, RidgeCV , ElasticNetCV , LassoCV\n",
    "from sklearn.pipeline import make_pipeline\n",
    "from sklearn.metrics import mean_absolute_error\n",
    "from sklearn.model_selection import train_test_split, KFold, LeaveOneOut, GridSearchCV, RandomizedSearchCV\n",
    "\n",
    "from mlxtend.evaluate import bias_variance_decomp"
   ]
  },
  {
   "cell_type": "markdown",
   "id": "4deae1e7",
   "metadata": {
    "jp-MarkdownHeadingCollapsed": true,
    "tags": []
   },
   "source": [
    "## **🔸 Learning Curve (Scratch)**"
   ]
  },
  {
   "cell_type": "markdown",
   "id": "a2ab1520",
   "metadata": {
    "tags": []
   },
   "source": [
    "### Functions"
   ]
  },
  {
   "cell_type": "code",
   "execution_count": 243,
   "id": "d8df4d14",
   "metadata": {},
   "outputs": [],
   "source": [
    "def polynomial(x):\n",
    "    phi_x = np.array([x**i for i in range(d+1)])\n",
    "    phi_x = phi_x[..., 0].T\n",
    "    return phi_x"
   ]
  },
  {
   "cell_type": "code",
   "execution_count": 244,
   "id": "742a3440",
   "metadata": {},
   "outputs": [],
   "source": [
    "def linear_regression(x, w):\n",
    "    y_hat = x @ w\n",
    "    return y_hat"
   ]
  },
  {
   "cell_type": "code",
   "execution_count": 245,
   "id": "0fb0c4cd",
   "metadata": {},
   "outputs": [],
   "source": [
    "def mse(y, y_hat):\n",
    "    loss = np.mean((y - y_hat)**2)\n",
    "    return loss"
   ]
  },
  {
   "cell_type": "code",
   "execution_count": 246,
   "id": "87a61233",
   "metadata": {},
   "outputs": [],
   "source": [
    "def gradient(x, y, y_hat):\n",
    "    grads = 2*(x.T @ (y_hat - y)) / y.shape[0]\n",
    "    return grads"
   ]
  },
  {
   "cell_type": "code",
   "execution_count": 247,
   "id": "e608c268",
   "metadata": {},
   "outputs": [],
   "source": [
    "def gradient_descent(w, eta, grads):\n",
    "    w -= eta*grads\n",
    "    return w"
   ]
  },
  {
   "cell_type": "code",
   "execution_count": 248,
   "id": "530890d3",
   "metadata": {},
   "outputs": [],
   "source": [
    "def mae(y, y_hat):\n",
    "    loss = np.mean(np.abs(y - y_hat))\n",
    "    return loss"
   ]
  },
  {
   "cell_type": "code",
   "execution_count": 249,
   "id": "0372abdb",
   "metadata": {},
   "outputs": [],
   "source": [
    "def r2(y, y_hat):\n",
    "    return 1 - np.sum((y - y_hat)**2) / np.sum((y - y.mean())**2)"
   ]
  },
  {
   "cell_type": "markdown",
   "id": "e438ddf6",
   "metadata": {
    "jp-MarkdownHeadingCollapsed": true,
    "tags": []
   },
   "source": [
    "### Load Dataset"
   ]
  },
  {
   "cell_type": "code",
   "execution_count": 250,
   "id": "3fe6ef43",
   "metadata": {},
   "outputs": [],
   "source": [
    "notebook_path = os.getcwd()\n",
    "# Datasets path\n",
    "# auto\n",
    "csv_train_path = f\"{notebook_path}/data/energy-train-s.csv\"\n",
    "csv_test_path= f\"{notebook_path}/data/energy-test-s.csv\""
   ]
  },
  {
   "cell_type": "code",
   "execution_count": 251,
   "id": "9c6639fd",
   "metadata": {},
   "outputs": [
    {
     "data": {
      "text/plain": [
       "((29, 1), (29, 1), (50, 1), (50, 1))"
      ]
     },
     "execution_count": 251,
     "metadata": {},
     "output_type": "execute_result"
    }
   ],
   "source": [
    "df = pd.read_csv(csv_train_path)\n",
    "train_set = np.array(df)\n",
    "\n",
    "x_train = train_set[:, :-1]\n",
    "y_train = train_set[:, -1:]\n",
    "\n",
    "df = pd.read_csv(csv_test_path)\n",
    "test_set = np.array(df)\n",
    "\n",
    "x_test = test_set[:, :-1]\n",
    "y_test = test_set[:, -1:]\n",
    "\n",
    "x_train.shape, y_train.shape, x_test.shape, y_test.shape"
   ]
  },
  {
   "cell_type": "code",
   "execution_count": 252,
   "id": "3613c279",
   "metadata": {},
   "outputs": [
    {
     "data": {
      "text/plain": [
       "((29, 3), (50, 3))"
      ]
     },
     "execution_count": 252,
     "metadata": {},
     "output_type": "execute_result"
    }
   ],
   "source": [
    "d = 2\n",
    "phi_x_train = polynomial(x_train)\n",
    "phi_x_test = polynomial(x_test)\n",
    "\n",
    "phi_x_train.shape, phi_x_test.shape"
   ]
  },
  {
   "cell_type": "markdown",
   "id": "4b3cc26a",
   "metadata": {
    "jp-MarkdownHeadingCollapsed": true,
    "tags": []
   },
   "source": [
    "### Initialization"
   ]
  },
  {
   "cell_type": "code",
   "execution_count": 253,
   "id": "61bfd533",
   "metadata": {},
   "outputs": [
    {
     "name": "stdout",
     "output_type": "stream",
     "text": [
      "[[-0.15087841]\n",
      " [ 1.45432926]\n",
      " [ 0.89037082]]\n"
     ]
    }
   ],
   "source": [
    "w = np.random.randn(d+1, 1)\n",
    "print(w)\n",
    "\n",
    "eta = 0.01\n",
    "n_epochs = 2000"
   ]
  },
  {
   "cell_type": "markdown",
   "id": "059f0e32",
   "metadata": {
    "jp-MarkdownHeadingCollapsed": true,
    "tags": []
   },
   "source": [
    "### Train"
   ]
  },
  {
   "cell_type": "code",
   "execution_count": 254,
   "id": "043e375e",
   "metadata": {},
   "outputs": [
    {
     "name": "stdout",
     "output_type": "stream",
     "text": [
      "Epoch=99, \t Loss_train=0.186,\t Loss_test=0.2504, \t Score_train=0.814,\t Score_test=0.5915,\t w=[-0.61145497  0.57658058  0.69137886]\n",
      "Epoch=199, \t Loss_train=0.1529,\t Loss_test=0.2519, \t Score_train=0.8471,\t Score_test=0.5889,\t w=[-0.71578409  0.46232924  0.74822965]\n",
      "Epoch=299, \t Loss_train=0.1498,\t Loss_test=0.2654, \t Score_train=0.8502,\t Score_test=0.5669,\t w=[-0.75994887  0.44868875  0.77408114]\n",
      "Epoch=399, \t Loss_train=0.1493,\t Loss_test=0.2723, \t Score_train=0.8507,\t Score_test=0.5557,\t w=[-0.77932922  0.44755371  0.78557219]\n",
      "Epoch=499, \t Loss_train=0.1492,\t Loss_test=0.2755, \t Score_train=0.8508,\t Score_test=0.5505,\t w=[-0.78790948  0.4477027   0.79067895]\n",
      "Epoch=599, \t Loss_train=0.1491,\t Loss_test=0.277, \t Score_train=0.8509,\t Score_test=0.5481,\t w=[-0.79171832  0.44785557  0.79294845]\n",
      "Epoch=699, \t Loss_train=0.1491,\t Loss_test=0.2776, \t Score_train=0.8509,\t Score_test=0.547,\t w=[-0.79341044  0.44793499  0.79395703]\n",
      "Epoch=799, \t Loss_train=0.1491,\t Loss_test=0.2779, \t Score_train=0.8509,\t Score_test=0.5466,\t w=[-0.79416236  0.44797182  0.79440526]\n",
      "Epoch=899, \t Loss_train=0.1491,\t Loss_test=0.278, \t Score_train=0.8509,\t Score_test=0.5464,\t w=[-0.79449651  0.44798838  0.79460446]\n",
      "Epoch=999, \t Loss_train=0.1491,\t Loss_test=0.2781, \t Score_train=0.8509,\t Score_test=0.5463,\t w=[-0.79464501  0.44799577  0.79469298]\n",
      "Epoch=1099, \t Loss_train=0.1491,\t Loss_test=0.2781, \t Score_train=0.8509,\t Score_test=0.5462,\t w=[-0.79471101  0.44799906  0.79473233]\n",
      "Epoch=1199, \t Loss_train=0.1491,\t Loss_test=0.2781, \t Score_train=0.8509,\t Score_test=0.5462,\t w=[-0.79474033  0.44800052  0.79474981]\n",
      "Epoch=1299, \t Loss_train=0.1491,\t Loss_test=0.2781, \t Score_train=0.8509,\t Score_test=0.5462,\t w=[-0.79475337  0.44800117  0.79475758]\n",
      "Epoch=1399, \t Loss_train=0.1491,\t Loss_test=0.2781, \t Score_train=0.8509,\t Score_test=0.5462,\t w=[-0.79475916  0.44800146  0.79476103]\n",
      "Epoch=1499, \t Loss_train=0.1491,\t Loss_test=0.2781, \t Score_train=0.8509,\t Score_test=0.5462,\t w=[-0.79476174  0.44800159  0.79476257]\n",
      "Epoch=1599, \t Loss_train=0.1491,\t Loss_test=0.2781, \t Score_train=0.8509,\t Score_test=0.5462,\t w=[-0.79476288  0.44800165  0.79476325]\n",
      "Epoch=1699, \t Loss_train=0.1491,\t Loss_test=0.2781, \t Score_train=0.8509,\t Score_test=0.5462,\t w=[-0.79476339  0.44800167  0.79476355]\n",
      "Epoch=1799, \t Loss_train=0.1491,\t Loss_test=0.2781, \t Score_train=0.8509,\t Score_test=0.5462,\t w=[-0.79476361  0.44800168  0.79476369]\n",
      "Epoch=1899, \t Loss_train=0.1491,\t Loss_test=0.2781, \t Score_train=0.8509,\t Score_test=0.5462,\t w=[-0.79476371  0.44800169  0.79476375]\n",
      "Epoch=1999, \t Loss_train=0.1491,\t Loss_test=0.2781, \t Score_train=0.8509,\t Score_test=0.5462,\t w=[-0.79476376  0.44800169  0.79476377]\n"
     ]
    }
   ],
   "source": [
    "error_train_hist, error_test_hist = [], []\n",
    "score_train_hist, score_test_hist = [], []\n",
    "\n",
    "for epoch in range(n_epochs):\n",
    "    # predictions\n",
    "    y_hat = linear_regression(phi_x_train, w)\n",
    "    \n",
    "    # loss\n",
    "    e = mse(y_train, y_hat)\n",
    "    error_train_hist.append(e)  # loss train\n",
    "    \n",
    "    # gradients\n",
    "    grads = gradient(phi_x_train, y_train, y_hat)\n",
    "    \n",
    "    # gradient descent\n",
    "    w = gradient_descent(w, eta, grads)\n",
    "    \n",
    "    # evaluation\n",
    "    y_hat_test = linear_regression(phi_x_test, w)\n",
    "    e = mse(y_hat_test, y_test)\n",
    "    error_test_hist.append(e)  # loss test\n",
    "    # metric test\n",
    "    s = r2(y_test, y_hat_test)\n",
    "    score_test_hist.append(s)\n",
    "    # metric train\n",
    "    s = r2(y_train, y_hat)\n",
    "    score_train_hist.append(s)\n",
    "    \n",
    "    if (epoch+1) % 100 == 0:\n",
    "        print(f'Epoch={epoch}, \\t Loss_train={error_train_hist[epoch]:.4},\\t Loss_test={error_test_hist[epoch]:.4}, \\t Score_train={score_train_hist[epoch]:.4},\\t Score_test={score_test_hist[epoch]:.4},\\t w={w.T[0]}')"
   ]
  },
  {
   "cell_type": "markdown",
   "id": "b0e1800d",
   "metadata": {
    "jp-MarkdownHeadingCollapsed": true,
    "tags": []
   },
   "source": [
    "#### Alternative"
   ]
  },
  {
   "cell_type": "code",
   "execution_count": 255,
   "id": "faede635",
   "metadata": {},
   "outputs": [
    {
     "name": "stdout",
     "output_type": "stream",
     "text": [
      "Epoch=99, \t Loss_train=0.1491,\t Loss_test=0.2781, \t Score_train=0.8509,\t Score_test=0.5462,\t w=[-0.79476378  0.44800169  0.79476379]\n",
      "Epoch=199, \t Loss_train=0.1491,\t Loss_test=0.2781, \t Score_train=0.8509,\t Score_test=0.5462,\t w=[-0.79476379  0.44800169  0.79476379]\n",
      "Epoch=299, \t Loss_train=0.1491,\t Loss_test=0.2781, \t Score_train=0.8509,\t Score_test=0.5462,\t w=[-0.79476379  0.44800169  0.79476379]\n",
      "Epoch=399, \t Loss_train=0.1491,\t Loss_test=0.2781, \t Score_train=0.8509,\t Score_test=0.5462,\t w=[-0.79476379  0.44800169  0.79476379]\n",
      "Epoch=499, \t Loss_train=0.1491,\t Loss_test=0.2781, \t Score_train=0.8509,\t Score_test=0.5462,\t w=[-0.79476379  0.44800169  0.79476379]\n",
      "Epoch=599, \t Loss_train=0.1491,\t Loss_test=0.2781, \t Score_train=0.8509,\t Score_test=0.5462,\t w=[-0.79476379  0.44800169  0.79476379]\n",
      "Epoch=699, \t Loss_train=0.1491,\t Loss_test=0.2781, \t Score_train=0.8509,\t Score_test=0.5462,\t w=[-0.79476379  0.44800169  0.79476379]\n",
      "Epoch=799, \t Loss_train=0.1491,\t Loss_test=0.2781, \t Score_train=0.8509,\t Score_test=0.5462,\t w=[-0.79476379  0.44800169  0.79476379]\n",
      "Epoch=899, \t Loss_train=0.1491,\t Loss_test=0.2781, \t Score_train=0.8509,\t Score_test=0.5462,\t w=[-0.79476379  0.44800169  0.79476379]\n",
      "Epoch=999, \t Loss_train=0.1491,\t Loss_test=0.2781, \t Score_train=0.8509,\t Score_test=0.5462,\t w=[-0.79476379  0.44800169  0.79476379]\n",
      "Epoch=1099, \t Loss_train=0.1491,\t Loss_test=0.2781, \t Score_train=0.8509,\t Score_test=0.5462,\t w=[-0.79476379  0.44800169  0.79476379]\n",
      "Epoch=1199, \t Loss_train=0.1491,\t Loss_test=0.2781, \t Score_train=0.8509,\t Score_test=0.5462,\t w=[-0.79476379  0.44800169  0.79476379]\n",
      "Epoch=1299, \t Loss_train=0.1491,\t Loss_test=0.2781, \t Score_train=0.8509,\t Score_test=0.5462,\t w=[-0.79476379  0.44800169  0.79476379]\n",
      "Epoch=1399, \t Loss_train=0.1491,\t Loss_test=0.2781, \t Score_train=0.8509,\t Score_test=0.5462,\t w=[-0.79476379  0.44800169  0.79476379]\n",
      "Epoch=1499, \t Loss_train=0.1491,\t Loss_test=0.2781, \t Score_train=0.8509,\t Score_test=0.5462,\t w=[-0.79476379  0.44800169  0.79476379]\n",
      "Epoch=1599, \t Loss_train=0.1491,\t Loss_test=0.2781, \t Score_train=0.8509,\t Score_test=0.5462,\t w=[-0.79476379  0.44800169  0.79476379]\n",
      "Epoch=1699, \t Loss_train=0.1491,\t Loss_test=0.2781, \t Score_train=0.8509,\t Score_test=0.5462,\t w=[-0.79476379  0.44800169  0.79476379]\n",
      "Epoch=1799, \t Loss_train=0.1491,\t Loss_test=0.2781, \t Score_train=0.8509,\t Score_test=0.5462,\t w=[-0.79476379  0.44800169  0.79476379]\n",
      "Epoch=1899, \t Loss_train=0.1491,\t Loss_test=0.2781, \t Score_train=0.8509,\t Score_test=0.5462,\t w=[-0.79476379  0.44800169  0.79476379]\n",
      "Epoch=1999, \t Loss_train=0.1491,\t Loss_test=0.2781, \t Score_train=0.8509,\t Score_test=0.5462,\t w=[-0.79476379  0.44800169  0.79476379]\n"
     ]
    }
   ],
   "source": [
    "loss_train_hist, loss_test_hist = [], []\n",
    "score_train_hist, score_test_hist = [], []\n",
    "\n",
    "for epoch in range(n_epochs):\n",
    "    # predictions\n",
    "    y_hat = linear_regression(phi_x_train, w)\n",
    "    \n",
    "    # loss\n",
    "    loss_train = mse(y_train, y_hat)\n",
    "    loss_train_hist.append(loss_train)  # loss train\n",
    "    \n",
    "    # gradients\n",
    "    grads = gradient(phi_x_train, y_train, y_hat)\n",
    "    \n",
    "    # gradient descent\n",
    "    w = gradient_descent(w, eta, grads)\n",
    "    \n",
    "    # evaluation\n",
    "    y_hat_test = linear_regression(phi_x_test, w)\n",
    "    loss_test = mse(y_hat_test, y_test)\n",
    "    loss_test_hist.append(loss_test)  # loss test\n",
    "    # metric test\n",
    "    score_test = r2(y_test, y_hat_test)\n",
    "    score_test_hist.append(score_test)\n",
    "    # metric train\n",
    "    score_train = r2(y_train, y_hat)\n",
    "    score_train_hist.append(score_train)\n",
    "    \n",
    "    if (epoch+1) % 100 == 0:\n",
    "        print(f'Epoch={epoch}, \\t Loss_train={loss_train:.4},\\t Loss_test={loss_test:.4}, \\t Score_train={score_train:.4},\\t Score_test={score_test:.4},\\t w={w.T[0]}')"
   ]
  },
  {
   "cell_type": "markdown",
   "id": "e6954fb4",
   "metadata": {
    "jp-MarkdownHeadingCollapsed": true,
    "tags": []
   },
   "source": [
    "### Learning curve"
   ]
  },
  {
   "cell_type": "code",
   "execution_count": 256,
   "id": "0aacb45d",
   "metadata": {},
   "outputs": [
    {
     "data": {
      "image/png": "[encoded data removed]",
      "text/plain": [
       "<Figure size 640x480 with 1 Axes>"
      ]
     },
     "metadata": {},
     "output_type": "display_data"
    }
   ],
   "source": [
    "plt.plot(error_train_hist, label='Train')\n",
    "plt.plot(error_test_hist, label='Test')\n",
    "plt.legend()\n",
    "plt.grid()\n",
    "plt.title('Learning Curve for Loss');"
   ]
  },
  {
   "cell_type": "code",
   "execution_count": 257,
   "id": "89b1bfeb",
   "metadata": {},
   "outputs": [
    {
     "data": {
      "image/png": "[encoded data removed]",
      "text/plain": [
       "<Figure size 640x480 with 1 Axes>"
      ]
     },
     "metadata": {},
     "output_type": "display_data"
    }
   ],
   "source": [
    "plt.plot(score_train_hist, label='Train')\n",
    "plt.plot(score_test_hist, label='Test')\n",
    "plt.legend()\n",
    "plt.grid()\n",
    "plt.title('Learning Curve for Metric');"
   ]
  },
  {
   "cell_type": "markdown",
   "id": "c7b8633c",
   "metadata": {
    "jp-MarkdownHeadingCollapsed": true,
    "tags": []
   },
   "source": [
    "## **🔸 Learning Curve (sklearn)**"
   ]
  },
  {
   "cell_type": "code",
   "execution_count": 258,
   "id": "9a6dc840",
   "metadata": {},
   "outputs": [
    {
     "data": {
      "text/plain": [
       "((29, 1), (29, 1), (50, 1), (50, 1))"
      ]
     },
     "execution_count": 258,
     "metadata": {},
     "output_type": "execute_result"
    }
   ],
   "source": [
    "df = pd.read_csv(csv_train_path)   \n",
    "train_set = np.array(df)\n",
    "\n",
    "x_train = train_set[:, :-1]\n",
    "y_train = train_set[:, -1:]\n",
    "\n",
    "df = pd.read_csv(csv_test_path)\n",
    "test_set = np.array(df)\n",
    "\n",
    "x_test = test_set[:, :-1]\n",
    "y_test = test_set[:, -1:]\n",
    "\n",
    "x_train.shape, y_train.shape, x_test.shape, y_test.shape"
   ]
  },
  {
   "cell_type": "code",
   "execution_count": 259,
   "id": "01082f72",
   "metadata": {},
   "outputs": [
    {
     "name": "stdout",
     "output_type": "stream",
     "text": [
      "Epoch=99, \t Loss_train=0.7692,\t Loss_test=0.5488\n",
      "Epoch=199, \t Loss_train=0.7688,\t Loss_test=0.5483\n",
      "Epoch=299, \t Loss_train=0.769,\t Loss_test=0.5486\n",
      "Epoch=399, \t Loss_train=0.7688,\t Loss_test=0.5483\n",
      "Epoch=499, \t Loss_train=0.7688,\t Loss_test=0.5483\n",
      "Epoch=599, \t Loss_train=0.7689,\t Loss_test=0.5485\n",
      "Epoch=699, \t Loss_train=0.769,\t Loss_test=0.5486\n",
      "Epoch=799, \t Loss_train=0.7689,\t Loss_test=0.5485\n",
      "Epoch=899, \t Loss_train=0.7688,\t Loss_test=0.5483\n",
      "Epoch=999, \t Loss_train=0.7689,\t Loss_test=0.5485\n",
      "Epoch=1099, \t Loss_train=0.7689,\t Loss_test=0.5485\n",
      "Epoch=1199, \t Loss_train=0.7689,\t Loss_test=0.5485\n",
      "Epoch=1299, \t Loss_train=0.7689,\t Loss_test=0.5485\n",
      "Epoch=1399, \t Loss_train=0.7689,\t Loss_test=0.5485\n",
      "Epoch=1499, \t Loss_train=0.7689,\t Loss_test=0.5484\n",
      "Epoch=1599, \t Loss_train=0.7689,\t Loss_test=0.5485\n",
      "Epoch=1699, \t Loss_train=0.7689,\t Loss_test=0.5484\n",
      "Epoch=1799, \t Loss_train=0.7689,\t Loss_test=0.5484\n",
      "Epoch=1899, \t Loss_train=0.769,\t Loss_test=0.5486\n",
      "Epoch=1999, \t Loss_train=0.7689,\t Loss_test=0.5484\n",
      "Epoch=2099, \t Loss_train=0.7689,\t Loss_test=0.5485\n",
      "Epoch=2199, \t Loss_train=0.769,\t Loss_test=0.5486\n",
      "Epoch=2299, \t Loss_train=0.7689,\t Loss_test=0.5485\n",
      "Epoch=2399, \t Loss_train=0.7689,\t Loss_test=0.5485\n",
      "Epoch=2499, \t Loss_train=0.7689,\t Loss_test=0.5484\n",
      "Epoch=2599, \t Loss_train=0.7689,\t Loss_test=0.5485\n",
      "Epoch=2699, \t Loss_train=0.7689,\t Loss_test=0.5485\n",
      "Epoch=2799, \t Loss_train=0.769,\t Loss_test=0.5485\n",
      "Epoch=2899, \t Loss_train=0.7689,\t Loss_test=0.5484\n",
      "Epoch=2999, \t Loss_train=0.7689,\t Loss_test=0.5484\n",
      "Model weights: [5.10347916e-05 4.08256927e-01]\n"
     ]
    }
   ],
   "source": [
    "lr = 0.01\n",
    "n_epochs = 3000\n",
    "\n",
    "polynomial = PolynomialFeatures(degree=1)\n",
    "model = SGDRegressor(eta0=lr)\n",
    "\n",
    "# polynomial\n",
    "x_train_poly = polynomial.fit_transform(x_train)\n",
    "x_test_poly = polynomial.transform(x_test)\n",
    "\n",
    "loss_train_hist, loss_test_hist = [], []\n",
    "for epoch in range(n_epochs):\n",
    "    # fit\n",
    "    model.partial_fit(x_train_poly, y_train.ravel())\n",
    "    \n",
    "    # prediction (train)\n",
    "    y_hat = model.predict(x_train_poly)\n",
    "    loss_train = mean_absolute_error(y_hat, y_train)\n",
    "    loss_train_hist.append(loss_train)\n",
    "    \n",
    "    # prediction (test)\n",
    "    y_hat = model.predict(x_test_poly)\n",
    "    loss_test = mean_absolute_error(y_hat, y_test)\n",
    "    loss_test_hist.append(loss_test)\n",
    "    \n",
    "    if (epoch+1) % 100 == 0:\n",
    "        print(f'Epoch={epoch}, \\t Loss_train={loss_train:.4},\\t Loss_test={loss_test:.4}')\n",
    "        \n",
    "print(f'Model weights: {model.coef_}')"
   ]
  },
  {
   "cell_type": "code",
   "execution_count": 260,
   "id": "1d2d6a72",
   "metadata": {},
   "outputs": [
    {
     "data": {
      "image/png": "[encoded data removed]",
      "text/plain": [
       "<Figure size 640x480 with 1 Axes>"
      ]
     },
     "metadata": {},
     "output_type": "display_data"
    }
   ],
   "source": [
    "plt.plot(loss_train_hist, label='Train')\n",
    "plt.plot(loss_test_hist, label='Test')\n",
    "plt.legend()\n",
    "plt.grid()\n",
    "plt.title('Learning Curve for Loss');"
   ]
  },
  {
   "cell_type": "markdown",
   "id": "d00ed250",
   "metadata": {
    "jp-MarkdownHeadingCollapsed": true,
    "tags": []
   },
   "source": [
    "## **🔸 Underfit, Goodfit & Overfit**"
   ]
  },
  {
   "cell_type": "markdown",
   "id": "1a3ddb41",
   "metadata": {},
   "source": [
    "<img src='imgs/learning-curve.png' width=800px />"
   ]
  },
  {
   "cell_type": "code",
   "execution_count": 261,
   "id": "8a586e72",
   "metadata": {},
   "outputs": [
    {
     "data": {
      "text/plain": [
       "((29, 1), (29, 1), (50, 1), (50, 1))"
      ]
     },
     "execution_count": 261,
     "metadata": {},
     "output_type": "execute_result"
    }
   ],
   "source": [
    "df = pd.read_csv(csv_train_path)\n",
    "train_set = np.array(df)\n",
    "\n",
    "x_train = train_set[:, :-1]\n",
    "y_train = train_set[:, -1:]\n",
    "\n",
    "df = pd.read_csv(csv_test_path)\n",
    "test_set = np.array(df)\n",
    "\n",
    "x_test = test_set[:, :-1]\n",
    "y_test = test_set[:, -1:]\n",
    "\n",
    "x_train.shape, y_train.shape, x_test.shape, y_test.shape"
   ]
  },
  {
   "cell_type": "code",
   "execution_count": 262,
   "id": "b8a907ba",
   "metadata": {
    "collapsed": true,
    "jupyter": {
     "outputs_hidden": true
    },
    "tags": []
   },
   "outputs": [
    {
     "name": "stdout",
     "output_type": "stream",
     "text": [
      "Epoch=99, \t Loss_train=0.5619,\t Loss_test=0.697\n",
      "Epoch=199, \t Loss_train=0.5591,\t Loss_test=0.6774\n",
      "Epoch=299, \t Loss_train=0.5567,\t Loss_test=0.6645\n",
      "Epoch=399, \t Loss_train=0.5546,\t Loss_test=0.6505\n",
      "Epoch=499, \t Loss_train=0.5526,\t Loss_test=0.6367\n",
      "Epoch=599, \t Loss_train=0.5506,\t Loss_test=0.626\n",
      "Epoch=699, \t Loss_train=0.5487,\t Loss_test=0.6171\n",
      "Epoch=799, \t Loss_train=0.5469,\t Loss_test=0.6069\n",
      "Epoch=899, \t Loss_train=0.5453,\t Loss_test=0.5972\n",
      "Epoch=999, \t Loss_train=0.5435,\t Loss_test=0.5889\n",
      "Epoch=1099, \t Loss_train=0.542,\t Loss_test=0.5797\n",
      "Epoch=1199, \t Loss_train=0.5404,\t Loss_test=0.5724\n",
      "Epoch=1299, \t Loss_train=0.539,\t Loss_test=0.5632\n",
      "Epoch=1399, \t Loss_train=0.5375,\t Loss_test=0.5557\n",
      "Epoch=1499, \t Loss_train=0.536,\t Loss_test=0.5485\n",
      "Epoch=1599, \t Loss_train=0.5347,\t Loss_test=0.5415\n",
      "Epoch=1699, \t Loss_train=0.5333,\t Loss_test=0.534\n",
      "Epoch=1799, \t Loss_train=0.5319,\t Loss_test=0.5273\n",
      "Epoch=1899, \t Loss_train=0.5307,\t Loss_test=0.5206\n",
      "Epoch=1999, \t Loss_train=0.5294,\t Loss_test=0.515\n",
      "Epoch=2099, \t Loss_train=0.528,\t Loss_test=0.509\n",
      "Epoch=2199, \t Loss_train=0.5269,\t Loss_test=0.5029\n",
      "Epoch=2299, \t Loss_train=0.5256,\t Loss_test=0.4975\n",
      "Epoch=2399, \t Loss_train=0.5244,\t Loss_test=0.4927\n",
      "Epoch=2499, \t Loss_train=0.5232,\t Loss_test=0.4874\n",
      "Epoch=2599, \t Loss_train=0.5221,\t Loss_test=0.4813\n",
      "Epoch=2699, \t Loss_train=0.5209,\t Loss_test=0.4761\n",
      "Epoch=2799, \t Loss_train=0.5198,\t Loss_test=0.4714\n",
      "Epoch=2899, \t Loss_train=0.5187,\t Loss_test=0.4664\n",
      "Epoch=2999, \t Loss_train=0.5176,\t Loss_test=0.4611\n",
      "Epoch=3099, \t Loss_train=0.5166,\t Loss_test=0.4562\n",
      "Epoch=3199, \t Loss_train=0.5154,\t Loss_test=0.4522\n",
      "Epoch=3299, \t Loss_train=0.5144,\t Loss_test=0.4471\n",
      "Epoch=3399, \t Loss_train=0.5134,\t Loss_test=0.442\n",
      "Epoch=3499, \t Loss_train=0.5124,\t Loss_test=0.4385\n",
      "Epoch=3599, \t Loss_train=0.5114,\t Loss_test=0.4342\n",
      "Epoch=3699, \t Loss_train=0.5104,\t Loss_test=0.4299\n",
      "Epoch=3799, \t Loss_train=0.5093,\t Loss_test=0.4256\n",
      "Epoch=3899, \t Loss_train=0.5084,\t Loss_test=0.4219\n",
      "Epoch=3999, \t Loss_train=0.5074,\t Loss_test=0.4175\n",
      "Epoch=4099, \t Loss_train=0.5065,\t Loss_test=0.4135\n",
      "Epoch=4199, \t Loss_train=0.5055,\t Loss_test=0.4142\n",
      "Epoch=4299, \t Loss_train=0.5046,\t Loss_test=0.4171\n",
      "Epoch=4399, \t Loss_train=0.5036,\t Loss_test=0.4194\n",
      "Epoch=4499, \t Loss_train=0.5027,\t Loss_test=0.422\n",
      "Epoch=4599, \t Loss_train=0.5018,\t Loss_test=0.4242\n",
      "Epoch=4699, \t Loss_train=0.5009,\t Loss_test=0.4264\n",
      "Epoch=4799, \t Loss_train=0.5,\t Loss_test=0.4286\n",
      "Epoch=4899, \t Loss_train=0.4992,\t Loss_test=0.4308\n",
      "Epoch=4999, \t Loss_train=0.4983,\t Loss_test=0.4332\n",
      "Epoch=5099, \t Loss_train=0.4974,\t Loss_test=0.4352\n",
      "Epoch=5199, \t Loss_train=0.4966,\t Loss_test=0.4371\n",
      "Epoch=5299, \t Loss_train=0.4957,\t Loss_test=0.4393\n",
      "Epoch=5399, \t Loss_train=0.4949,\t Loss_test=0.4413\n",
      "Epoch=5499, \t Loss_train=0.4941,\t Loss_test=0.4438\n",
      "Epoch=5599, \t Loss_train=0.4932,\t Loss_test=0.4455\n",
      "Epoch=5699, \t Loss_train=0.4924,\t Loss_test=0.4473\n",
      "Epoch=5799, \t Loss_train=0.4916,\t Loss_test=0.4494\n",
      "Epoch=5899, \t Loss_train=0.4908,\t Loss_test=0.4511\n",
      "Epoch=5999, \t Loss_train=0.49,\t Loss_test=0.4529\n",
      "Epoch=6099, \t Loss_train=0.4892,\t Loss_test=0.4551\n",
      "Epoch=6199, \t Loss_train=0.4884,\t Loss_test=0.4567\n",
      "Epoch=6299, \t Loss_train=0.4877,\t Loss_test=0.4583\n",
      "Epoch=6399, \t Loss_train=0.4869,\t Loss_test=0.4601\n",
      "Epoch=6499, \t Loss_train=0.4861,\t Loss_test=0.4618\n",
      "Epoch=6599, \t Loss_train=0.4853,\t Loss_test=0.4636\n",
      "Epoch=6699, \t Loss_train=0.4846,\t Loss_test=0.4654\n",
      "Epoch=6799, \t Loss_train=0.4838,\t Loss_test=0.467\n",
      "Epoch=6899, \t Loss_train=0.4831,\t Loss_test=0.4683\n",
      "Epoch=6999, \t Loss_train=0.4824,\t Loss_test=0.4698\n",
      "Epoch=7099, \t Loss_train=0.4816,\t Loss_test=0.4714\n",
      "Epoch=7199, \t Loss_train=0.4809,\t Loss_test=0.4729\n",
      "Epoch=7299, \t Loss_train=0.4802,\t Loss_test=0.4743\n",
      "Epoch=7399, \t Loss_train=0.4795,\t Loss_test=0.4763\n",
      "Epoch=7499, \t Loss_train=0.4787,\t Loss_test=0.4772\n",
      "Epoch=7599, \t Loss_train=0.4781,\t Loss_test=0.4789\n",
      "Epoch=7699, \t Loss_train=0.4773,\t Loss_test=0.4803\n",
      "Epoch=7799, \t Loss_train=0.4767,\t Loss_test=0.4819\n",
      "Epoch=7899, \t Loss_train=0.476,\t Loss_test=0.4832\n",
      "Epoch=7999, \t Loss_train=0.4753,\t Loss_test=0.4843\n",
      "Epoch=8099, \t Loss_train=0.4746,\t Loss_test=0.4855\n",
      "Epoch=8199, \t Loss_train=0.4739,\t Loss_test=0.4867\n",
      "Epoch=8299, \t Loss_train=0.4732,\t Loss_test=0.4882\n",
      "Epoch=8399, \t Loss_train=0.4726,\t Loss_test=0.4896\n",
      "Epoch=8499, \t Loss_train=0.4719,\t Loss_test=0.4911\n",
      "Epoch=8599, \t Loss_train=0.4713,\t Loss_test=0.492\n",
      "Epoch=8699, \t Loss_train=0.4707,\t Loss_test=0.4933\n",
      "Epoch=8799, \t Loss_train=0.4701,\t Loss_test=0.4944\n",
      "Epoch=8899, \t Loss_train=0.4694,\t Loss_test=0.496\n",
      "Epoch=8999, \t Loss_train=0.4688,\t Loss_test=0.497\n",
      "Epoch=9099, \t Loss_train=0.4681,\t Loss_test=0.4983\n",
      "Epoch=9199, \t Loss_train=0.4675,\t Loss_test=0.4995\n",
      "Epoch=9299, \t Loss_train=0.4669,\t Loss_test=0.5004\n",
      "Epoch=9399, \t Loss_train=0.4664,\t Loss_test=0.5015\n",
      "Epoch=9499, \t Loss_train=0.4658,\t Loss_test=0.5025\n",
      "Epoch=9599, \t Loss_train=0.4651,\t Loss_test=0.5037\n",
      "Epoch=9699, \t Loss_train=0.4645,\t Loss_test=0.5049\n",
      "Epoch=9799, \t Loss_train=0.464,\t Loss_test=0.5057\n",
      "Epoch=9899, \t Loss_train=0.4634,\t Loss_test=0.5069\n",
      "Epoch=9999, \t Loss_train=0.4628,\t Loss_test=0.5081\n",
      "Model weights: [-0.0476526   0.00976434  0.0070971   0.0226018   0.02229802  0.03434148\n",
      "  0.0359015   0.03811728  0.0403054  -0.00904038 -0.01086342]\n"
     ]
    }
   ],
   "source": [
    "lr = 0.00001\n",
    "n_epochs = 10000\n",
    "d = 10\n",
    "\n",
    "polynomial = PolynomialFeatures(degree=d)\n",
    "model = SGDRegressor(eta0=lr)\n",
    "\n",
    "# polynomial\n",
    "x_train_poly = polynomial.fit_transform(x_train)\n",
    "x_test_poly = polynomial.transform(x_test)\n",
    "\n",
    "loss_train_hist, loss_test_hist = [], []\n",
    "for epoch in range(n_epochs):\n",
    "    # fit\n",
    "    model.partial_fit(x_train_poly, y_train.ravel())\n",
    "    \n",
    "    # prediction (train)\n",
    "    y_hat = model.predict(x_train_poly)\n",
    "    loss_train = mean_absolute_error(y_hat, y_train)\n",
    "    loss_train_hist.append(loss_train)\n",
    "    \n",
    "    # prediction (test)\n",
    "    y_hat = model.predict(x_test_poly)\n",
    "    loss_test = mean_absolute_error(y_hat, y_test)\n",
    "    loss_test_hist.append(loss_test)\n",
    "    \n",
    "    if (epoch+1) % 100 == 0:\n",
    "        print(f'Epoch={epoch}, \\t Loss_train={loss_train:.4},\\t Loss_test={loss_test:.4}')\n",
    "        \n",
    "print(f'Model weights: {model.coef_}')"
   ]
  },
  {
   "cell_type": "code",
   "execution_count": 263,
   "id": "a171ca79",
   "metadata": {},
   "outputs": [
    {
     "data": {
      "image/png": "[encoded data removed]",
      "text/plain": [
       "<Figure size 640x480 with 1 Axes>"
      ]
     },
     "metadata": {},
     "output_type": "display_data"
    }
   ],
   "source": [
    "plt.plot(loss_train_hist, label='Train')\n",
    "plt.plot(loss_test_hist, label='Test')\n",
    "plt.legend()\n",
    "plt.grid()\n",
    "plt.title('Learning Curve for Loss');\n",
    "# plt.ylim([0.26, 0.41])"
   ]
  },
  {
   "cell_type": "code",
   "execution_count": 264,
   "id": "b3992443",
   "metadata": {},
   "outputs": [
    {
     "data": {
      "text/plain": [
       "[<matplotlib.lines.Line2D at 0x2084ba5e3f0>]"
      ]
     },
     "execution_count": 264,
     "metadata": {},
     "output_type": "execute_result"
    },
    {
     "data": {
      "image/png": "[encoded data removed]",
      "text/plain": [
       "<Figure size 640x480 with 1 Axes>"
      ]
     },
     "metadata": {},
     "output_type": "display_data"
    }
   ],
   "source": [
    "x = np.linspace(x_train.min(), x_train.max(), 100)[:, None]\n",
    "xp = polynomial.transform(x)\n",
    "y_hat = model.predict(xp)\n",
    "\n",
    "plt.scatter(x_train, y_train)\n",
    "plt.scatter(x_test, y_test)\n",
    "plt.plot(x, y_hat, 'r', linewidth=3)"
   ]
  },
  {
   "cell_type": "code",
   "execution_count": 265,
   "id": "abb24cb1",
   "metadata": {},
   "outputs": [
    {
     "data": {
      "text/plain": [
       "(4123, 0.4126051399115559)"
      ]
     },
     "execution_count": 265,
     "metadata": {},
     "output_type": "execute_result"
    }
   ],
   "source": [
    "a = np.array(loss_test_hist)\n",
    "a.argmin(), a.min()"
   ]
  },
  {
   "cell_type": "markdown",
   "id": "d1d7423a",
   "metadata": {
    "jp-MarkdownHeadingCollapsed": true,
    "tags": []
   },
   "source": [
    "## **🔸 Early Stopping**"
   ]
  },
  {
   "cell_type": "markdown",
   "id": "272586a5",
   "metadata": {
    "jp-MarkdownHeadingCollapsed": true,
    "tags": []
   },
   "source": [
    "### Scratch"
   ]
  },
  {
   "cell_type": "code",
   "execution_count": 266,
   "id": "86681c4c",
   "metadata": {},
   "outputs": [
    {
     "data": {
      "text/plain": [
       "((29, 1), (29, 1), (50, 1), (50, 1))"
      ]
     },
     "execution_count": 266,
     "metadata": {},
     "output_type": "execute_result"
    }
   ],
   "source": [
    "df = pd.read_csv(csv_train_path)\n",
    "train_set = np.array(df)\n",
    "\n",
    "x_train = train_set[:, :-1]\n",
    "y_train = train_set[:, -1:]\n",
    "\n",
    "df = pd.read_csv(csv_test_path)\n",
    "test_set = np.array(df)\n",
    "\n",
    "x_test = test_set[:, :-1]\n",
    "y_test = test_set[:, -1:]\n",
    "\n",
    "x_train.shape, y_train.shape, x_test.shape, y_test.shape"
   ]
  },
  {
   "cell_type": "code",
   "execution_count": 267,
   "id": "f6ad3aa1",
   "metadata": {
    "tags": []
   },
   "outputs": [
    {
     "name": "stdout",
     "output_type": "stream",
     "text": [
      "Model weights: [-0.02956197  0.00693103  0.00736618  0.01519292  0.02607011  0.0222926\n",
      "  0.06311188  0.0215126 ]\n",
      "Best epoch:22, Best loss:0.410070496658655\n"
     ]
    }
   ],
   "source": [
    "lr = 0.0005\n",
    "n_epochs = 1000\n",
    "d = 7\n",
    "\n",
    "polynomial = PolynomialFeatures(degree=d)\n",
    "model = SGDRegressor(eta0=lr, random_state=5)\n",
    "\n",
    "# polynomial\n",
    "x_train_poly = polynomial.fit_transform(x_train)\n",
    "x_test_poly = polynomial.transform(x_test)\n",
    "\n",
    "loss_train_hist, loss_test_hist = [], []\n",
    "best_loss = np.inf\n",
    "n_es = 0\n",
    "for epoch in range(n_epochs):\n",
    "    # fit\n",
    "    model.partial_fit(x_train_poly, y_train.ravel())\n",
    "    \n",
    "    # prediction (train)\n",
    "    y_hat = model.predict(x_train_poly)\n",
    "    loss_train = mean_absolute_error(y_hat, y_train)\n",
    "    loss_train_hist.append(loss_train)\n",
    "    \n",
    "    # prediction (test)\n",
    "    y_hat = model.predict(x_test_poly)\n",
    "    loss_test = mean_absolute_error(y_hat, y_test)\n",
    "    loss_test_hist.append(loss_test)\n",
    "    \n",
    "    # early stopping\n",
    "    if loss_test < best_loss:\n",
    "        best_loss = loss_test\n",
    "        joblib.dump(model, 'best-model')\n",
    "        best_epoch = epoch\n",
    "        n_es = 0\n",
    "    else:\n",
    "        n_es += 1\n",
    "        if n_es >= 5:\n",
    "            break\n",
    "        \n",
    "    if (epoch+1) % 100 == 0:\n",
    "        print(f'Epoch={epoch}, \\t Loss_train={loss_train:.4},\\t Loss_test={loss_test:.4}')\n",
    "        \n",
    "print(f'Model weights: {model.coef_}')\n",
    "print(f'Best epoch:{best_epoch}, Best loss:{best_loss}')"
   ]
  },
  {
   "cell_type": "code",
   "execution_count": 268,
   "id": "3f5e5b31",
   "metadata": {},
   "outputs": [
    {
     "data": {
      "text/plain": [
       "(27,\n",
       " [0.410070496658655,\n",
       "  0.4101589813391374,\n",
       "  0.4102734660941871,\n",
       "  0.4103811349991557,\n",
       "  0.41048257879728145,\n",
       "  0.41057831000944395])"
      ]
     },
     "execution_count": 268,
     "metadata": {},
     "output_type": "execute_result"
    }
   ],
   "source": [
    "epoch, loss_test_hist[22:28]"
   ]
  },
  {
   "cell_type": "code",
   "execution_count": 269,
   "id": "a91cec1d",
   "metadata": {},
   "outputs": [
    {
     "data": {
      "image/png": "[encoded data removed]",
      "text/plain": [
       "<Figure size 640x480 with 1 Axes>"
      ]
     },
     "metadata": {},
     "output_type": "display_data"
    }
   ],
   "source": [
    "plt.plot(loss_train_hist, label='Train')\n",
    "plt.plot(loss_test_hist, label='Test')\n",
    "\n",
    "ymin, ymax = plt.ylim()\n",
    "plt.vlines(best_epoch, ymin, ymax, color='g', linestyles='--')\n",
    "plt.title('Learning Curve for Loss');\n",
    "plt.legend()\n",
    "plt.grid()"
   ]
  },
  {
   "cell_type": "code",
   "execution_count": 270,
   "id": "c81f7bb7",
   "metadata": {},
   "outputs": [
    {
     "data": {
      "image/png": "[encoded data removed]",
      "text/plain": [
       "<Figure size 640x480 with 1 Axes>"
      ]
     },
     "metadata": {},
     "output_type": "display_data"
    }
   ],
   "source": [
    "plt.plot(loss_train_hist, label='Train')\n",
    "plt.plot(loss_test_hist, label='Test')\n",
    "\n",
    "ymin, ymax = plt.ylim()\n",
    "plt.vlines(best_epoch, ymin, ymax, color='g', linestyles='--')\n",
    "plt.title('Learning Curve for Loss');\n",
    "plt.legend()\n",
    "plt.grid()"
   ]
  },
  {
   "cell_type": "code",
   "execution_count": 271,
   "id": "c0ad271a",
   "metadata": {
    "tags": []
   },
   "outputs": [
    {
     "data": {
      "text/plain": [
       "Text(0.5, 1.0, 'Overfit')"
      ]
     },
     "execution_count": 271,
     "metadata": {},
     "output_type": "execute_result"
    },
    {
     "data": {
      "image/png": "[encoded data removed]",
      "text/plain": [
       "<Figure size 640x480 with 1 Axes>"
      ]
     },
     "metadata": {},
     "output_type": "display_data"
    }
   ],
   "source": [
    "x = np.linspace(x_train.min(), x_train.max(), 100)[:, None]\n",
    "xp = polynomial.transform(x)\n",
    "y_hat = model.predict(xp)\n",
    "\n",
    "plt.scatter(x_train, y_train)\n",
    "plt.scatter(x_test, y_test)\n",
    "plt.plot(x, y_hat, 'r', linewidth=3)\n",
    "plt.title('Overfit')"
   ]
  },
  {
   "cell_type": "code",
   "execution_count": 272,
   "id": "f9a1ea8d",
   "metadata": {
    "tags": []
   },
   "outputs": [
    {
     "data": {
      "text/plain": [
       "Text(0.5, 1.0, 'Overfit')"
      ]
     },
     "execution_count": 272,
     "metadata": {},
     "output_type": "execute_result"
    },
    {
     "data": {
      "image/png": "[encoded data removed]",
      "text/plain": [
       "<Figure size 640x480 with 1 Axes>"
      ]
     },
     "metadata": {},
     "output_type": "display_data"
    }
   ],
   "source": [
    "best_model = joblib.load('best-model')\n",
    "\n",
    "x = np.linspace(x_train.min(), x_train.max(), 100)[:, None]\n",
    "xp = polynomial.transform(x)\n",
    "y_hat = best_model.predict(xp)\n",
    "\n",
    "plt.scatter(x_train, y_train)\n",
    "plt.scatter(x_test, y_test)\n",
    "plt.plot(x, y_hat, 'r', linewidth=3)\n",
    "plt.title('Overfit')"
   ]
  },
  {
   "cell_type": "markdown",
   "id": "6bfd6aaa",
   "metadata": {
    "jp-MarkdownHeadingCollapsed": true,
    "tags": []
   },
   "source": [
    "### Sklearn"
   ]
  },
  {
   "cell_type": "code",
   "execution_count": 273,
   "id": "ac05b3d7",
   "metadata": {},
   "outputs": [
    {
     "name": "stdout",
     "output_type": "stream",
     "text": [
      "-- Epoch 1\n",
      "Norm: 0.05, NNZs: 8, Bias: 0.000201, T: 23, Avg. loss: 0.401082\n",
      "Total training time: 0.00 seconds.\n",
      "-- Epoch 2\n",
      "Norm: 0.06, NNZs: 8, Bias: -0.000427, T: 46, Avg. loss: 0.203482\n",
      "Total training time: 0.00 seconds.\n",
      "-- Epoch 3\n",
      "Norm: 0.06, NNZs: 8, Bias: -0.001381, T: 69, Avg. loss: 0.175771\n",
      "Total training time: 0.00 seconds.\n",
      "-- Epoch 4\n",
      "Norm: 0.07, NNZs: 8, Bias: -0.002292, T: 92, Avg. loss: 0.170660\n",
      "Total training time: 0.00 seconds.\n",
      "-- Epoch 5\n",
      "Norm: 0.07, NNZs: 8, Bias: -0.003210, T: 115, Avg. loss: 0.167257\n",
      "Total training time: 0.00 seconds.\n",
      "-- Epoch 6\n",
      "Norm: 0.07, NNZs: 8, Bias: -0.004098, T: 138, Avg. loss: 0.166553\n",
      "Total training time: 0.00 seconds.\n",
      "Convergence after 6 epochs took 0.00 seconds\n"
     ]
    },
    {
     "data": {
      "text/html": [
       "<style>#sk-container-id-10 {\n",
       "  /* Definition of color scheme common for light and dark mode */\n",
       "  --sklearn-color-text: black;\n",
       "  --sklearn-color-line: gray;\n",
       "  /* Definition of color scheme for unfitted estimators */\n",
       "  --sklearn-color-unfitted-level-0: #fff5e6;\n",
       "  --sklearn-color-unfitted-level-1: #f6e4d2;\n",
       "  --sklearn-color-unfitted-level-2: #ffe0b3;\n",
       "  --sklearn-color-unfitted-level-3: chocolate;\n",
       "  /* Definition of color scheme for fitted estimators */\n",
       "  --sklearn-color-fitted-level-0: #f0f8ff;\n",
       "  --sklearn-color-fitted-level-1: #d4ebff;\n",
       "  --sklearn-color-fitted-level-2: #b3dbfd;\n",
       "  --sklearn-color-fitted-level-3: cornflowerblue;\n",
       "\n",
       "  /* Specific color for light theme */\n",
       "  --sklearn-color-text-on-default-background: var(--sg-text-color, var(--theme-code-foreground, var(--jp-content-font-color1, black)));\n",
       "  --sklearn-color-background: var(--sg-background-color, var(--theme-background, var(--jp-layout-color0, white)));\n",
       "  --sklearn-color-border-box: var(--sg-text-color, var(--theme-code-foreground, var(--jp-content-font-color1, black)));\n",
       "  --sklearn-color-icon: #696969;\n",
       "\n",
       "  @media (prefers-color-scheme: dark) {\n",
       "    /* Redefinition of color scheme for dark theme */\n",
       "    --sklearn-color-text-on-default-background: var(--sg-text-color, var(--theme-code-foreground, var(--jp-content-font-color1, white)));\n",
       "    --sklearn-color-background: var(--sg-background-color, var(--theme-background, var(--jp-layout-color0, #111)));\n",
       "    --sklearn-color-border-box: var(--sg-text-color, var(--theme-code-foreground, var(--jp-content-font-color1, white)));\n",
       "    --sklearn-color-icon: #878787;\n",
       "  }\n",
       "}\n",
       "\n",
       "#sk-container-id-10 {\n",
       "  color: var(--sklearn-color-text);\n",
       "}\n",
       "\n",
       "#sk-container-id-10 pre {\n",
       "  padding: 0;\n",
       "}\n",
       "\n",
       "#sk-container-id-10 input.sk-hidden--visually {\n",
       "  border: 0;\n",
       "  clip: rect(1px 1px 1px 1px);\n",
       "  clip: rect(1px, 1px, 1px, 1px);\n",
       "  height: 1px;\n",
       "  margin: -1px;\n",
       "  overflow: hidden;\n",
       "  padding: 0;\n",
       "  position: absolute;\n",
       "  width: 1px;\n",
       "}\n",
       "\n",
       "#sk-container-id-10 div.sk-dashed-wrapped {\n",
       "  border: 1px dashed var(--sklearn-color-line);\n",
       "  margin: 0 0.4em 0.5em 0.4em;\n",
       "  box-sizing: border-box;\n",
       "  padding-bottom: 0.4em;\n",
       "  background-color: var(--sklearn-color-background);\n",
       "}\n",
       "\n",
       "#sk-container-id-10 div.sk-container {\n",
       "  /* jupyter's `normalize.less` sets `[hidden] { display: none; }`\n",
       "     but bootstrap.min.css set `[hidden] { display: none !important; }`\n",
       "     so we also need the `!important` here to be able to override the\n",
       "     default hidden behavior on the sphinx rendered scikit-learn.org.\n",
       "     See: https://github.com/scikit-learn/scikit-learn/issues/21755 */\n",
       "  display: inline-block !important;\n",
       "  position: relative;\n",
       "}\n",
       "\n",
       "#sk-container-id-10 div.sk-text-repr-fallback {\n",
       "  display: none;\n",
       "}\n",
       "\n",
       "div.sk-parallel-item,\n",
       "div.sk-serial,\n",
       "div.sk-item {\n",
       "  /* draw centered vertical line to link estimators */\n",
       "  background-image: linear-gradient(var(--sklearn-color-text-on-default-background), var(--sklearn-color-text-on-default-background));\n",
       "  background-size: 2px 100%;\n",
       "  background-repeat: no-repeat;\n",
       "  background-position: center center;\n",
       "}\n",
       "\n",
       "/* Parallel-specific style estimator block */\n",
       "\n",
       "#sk-container-id-10 div.sk-parallel-item::after {\n",
       "  content: \"\";\n",
       "  width: 100%;\n",
       "  border-bottom: 2px solid var(--sklearn-color-text-on-default-background);\n",
       "  flex-grow: 1;\n",
       "}\n",
       "\n",
       "#sk-container-id-10 div.sk-parallel {\n",
       "  display: flex;\n",
       "  align-items: stretch;\n",
       "  justify-content: center;\n",
       "  background-color: var(--sklearn-color-background);\n",
       "  position: relative;\n",
       "}\n",
       "\n",
       "#sk-container-id-10 div.sk-parallel-item {\n",
       "  display: flex;\n",
       "  flex-direction: column;\n",
       "}\n",
       "\n",
       "#sk-container-id-10 div.sk-parallel-item:first-child::after {\n",
       "  align-self: flex-end;\n",
       "  width: 50%;\n",
       "}\n",
       "\n",
       "#sk-container-id-10 div.sk-parallel-item:last-child::after {\n",
       "  align-self: flex-start;\n",
       "  width: 50%;\n",
       "}\n",
       "\n",
       "#sk-container-id-10 div.sk-parallel-item:only-child::after {\n",
       "  width: 0;\n",
       "}\n",
       "\n",
       "/* Serial-specific style estimator block */\n",
       "\n",
       "#sk-container-id-10 div.sk-serial {\n",
       "  display: flex;\n",
       "  flex-direction: column;\n",
       "  align-items: center;\n",
       "  background-color: var(--sklearn-color-background);\n",
       "  padding-right: 1em;\n",
       "  padding-left: 1em;\n",
       "}\n",
       "\n",
       "\n",
       "/* Toggleable style: style used for estimator/Pipeline/ColumnTransformer box that is\n",
       "clickable and can be expanded/collapsed.\n",
       "- Pipeline and ColumnTransformer use this feature and define the default style\n",
       "- Estimators will overwrite some part of the style using the `sk-estimator` class\n",
       "*/\n",
       "\n",
       "/* Pipeline and ColumnTransformer style (default) */\n",
       "\n",
       "#sk-container-id-10 div.sk-toggleable {\n",
       "  /* Default theme specific background. It is overwritten whether we have a\n",
       "  specific estimator or a Pipeline/ColumnTransformer */\n",
       "  background-color: var(--sklearn-color-background);\n",
       "}\n",
       "\n",
       "/* Toggleable label */\n",
       "#sk-container-id-10 label.sk-toggleable__label {\n",
       "  cursor: pointer;\n",
       "  display: block;\n",
       "  width: 100%;\n",
       "  margin-bottom: 0;\n",
       "  padding: 0.5em;\n",
       "  box-sizing: border-box;\n",
       "  text-align: center;\n",
       "}\n",
       "\n",
       "#sk-container-id-10 label.sk-toggleable__label-arrow:before {\n",
       "  /* Arrow on the left of the label */\n",
       "  content: \"▸\";\n",
       "  float: left;\n",
       "  margin-right: 0.25em;\n",
       "  color: var(--sklearn-color-icon);\n",
       "}\n",
       "\n",
       "#sk-container-id-10 label.sk-toggleable__label-arrow:hover:before {\n",
       "  color: var(--sklearn-color-text);\n",
       "}\n",
       "\n",
       "/* Toggleable content - dropdown */\n",
       "\n",
       "#sk-container-id-10 div.sk-toggleable__content {\n",
       "  max-height: 0;\n",
       "  max-width: 0;\n",
       "  overflow: hidden;\n",
       "  text-align: left;\n",
       "  /* unfitted */\n",
       "  background-color: var(--sklearn-color-unfitted-level-0);\n",
       "}\n",
       "\n",
       "#sk-container-id-10 div.sk-toggleable__content.fitted {\n",
       "  /* fitted */\n",
       "  background-color: var(--sklearn-color-fitted-level-0);\n",
       "}\n",
       "\n",
       "#sk-container-id-10 div.sk-toggleable__content pre {\n",
       "  margin: 0.2em;\n",
       "  border-radius: 0.25em;\n",
       "  color: var(--sklearn-color-text);\n",
       "  /* unfitted */\n",
       "  background-color: var(--sklearn-color-unfitted-level-0);\n",
       "}\n",
       "\n",
       "#sk-container-id-10 div.sk-toggleable__content.fitted pre {\n",
       "  /* unfitted */\n",
       "  background-color: var(--sklearn-color-fitted-level-0);\n",
       "}\n",
       "\n",
       "#sk-container-id-10 input.sk-toggleable__control:checked~div.sk-toggleable__content {\n",
       "  /* Expand drop-down */\n",
       "  max-height: 200px;\n",
       "  max-width: 100%;\n",
       "  overflow: auto;\n",
       "}\n",
       "\n",
       "#sk-container-id-10 input.sk-toggleable__control:checked~label.sk-toggleable__label-arrow:before {\n",
       "  content: \"▾\";\n",
       "}\n",
       "\n",
       "/* Pipeline/ColumnTransformer-specific style */\n",
       "\n",
       "#sk-container-id-10 div.sk-label input.sk-toggleable__control:checked~label.sk-toggleable__label {\n",
       "  color: var(--sklearn-color-text);\n",
       "  background-color: var(--sklearn-color-unfitted-level-2);\n",
       "}\n",
       "\n",
       "#sk-container-id-10 div.sk-label.fitted input.sk-toggleable__control:checked~label.sk-toggleable__label {\n",
       "  background-color: var(--sklearn-color-fitted-level-2);\n",
       "}\n",
       "\n",
       "/* Estimator-specific style */\n",
       "\n",
       "/* Colorize estimator box */\n",
       "#sk-container-id-10 div.sk-estimator input.sk-toggleable__control:checked~label.sk-toggleable__label {\n",
       "  /* unfitted */\n",
       "  background-color: var(--sklearn-color-unfitted-level-2);\n",
       "}\n",
       "\n",
       "#sk-container-id-10 div.sk-estimator.fitted input.sk-toggleable__control:checked~label.sk-toggleable__label {\n",
       "  /* fitted */\n",
       "  background-color: var(--sklearn-color-fitted-level-2);\n",
       "}\n",
       "\n",
       "#sk-container-id-10 div.sk-label label.sk-toggleable__label,\n",
       "#sk-container-id-10 div.sk-label label {\n",
       "  /* The background is the default theme color */\n",
       "  color: var(--sklearn-color-text-on-default-background);\n",
       "}\n",
       "\n",
       "/* On hover, darken the color of the background */\n",
       "#sk-container-id-10 div.sk-label:hover label.sk-toggleable__label {\n",
       "  color: var(--sklearn-color-text);\n",
       "  background-color: var(--sklearn-color-unfitted-level-2);\n",
       "}\n",
       "\n",
       "/* Label box, darken color on hover, fitted */\n",
       "#sk-container-id-10 div.sk-label.fitted:hover label.sk-toggleable__label.fitted {\n",
       "  color: var(--sklearn-color-text);\n",
       "  background-color: var(--sklearn-color-fitted-level-2);\n",
       "}\n",
       "\n",
       "/* Estimator label */\n",
       "\n",
       "#sk-container-id-10 div.sk-label label {\n",
       "  font-family: monospace;\n",
       "  font-weight: bold;\n",
       "  display: inline-block;\n",
       "  line-height: 1.2em;\n",
       "}\n",
       "\n",
       "#sk-container-id-10 div.sk-label-container {\n",
       "  text-align: center;\n",
       "}\n",
       "\n",
       "/* Estimator-specific */\n",
       "#sk-container-id-10 div.sk-estimator {\n",
       "  font-family: monospace;\n",
       "  border: 1px dotted var(--sklearn-color-border-box);\n",
       "  border-radius: 0.25em;\n",
       "  box-sizing: border-box;\n",
       "  margin-bottom: 0.5em;\n",
       "  /* unfitted */\n",
       "  background-color: var(--sklearn-color-unfitted-level-0);\n",
       "}\n",
       "\n",
       "#sk-container-id-10 div.sk-estimator.fitted {\n",
       "  /* fitted */\n",
       "  background-color: var(--sklearn-color-fitted-level-0);\n",
       "}\n",
       "\n",
       "/* on hover */\n",
       "#sk-container-id-10 div.sk-estimator:hover {\n",
       "  /* unfitted */\n",
       "  background-color: var(--sklearn-color-unfitted-level-2);\n",
       "}\n",
       "\n",
       "#sk-container-id-10 div.sk-estimator.fitted:hover {\n",
       "  /* fitted */\n",
       "  background-color: var(--sklearn-color-fitted-level-2);\n",
       "}\n",
       "\n",
       "/* Specification for estimator info (e.g. \"i\" and \"?\") */\n",
       "\n",
       "/* Common style for \"i\" and \"?\" */\n",
       "\n",
       ".sk-estimator-doc-link,\n",
       "a:link.sk-estimator-doc-link,\n",
       "a:visited.sk-estimator-doc-link {\n",
       "  float: right;\n",
       "  font-size: smaller;\n",
       "  line-height: 1em;\n",
       "  font-family: monospace;\n",
       "  background-color: var(--sklearn-color-background);\n",
       "  border-radius: 1em;\n",
       "  height: 1em;\n",
       "  width: 1em;\n",
       "  text-decoration: none !important;\n",
       "  margin-left: 1ex;\n",
       "  /* unfitted */\n",
       "  border: var(--sklearn-color-unfitted-level-1) 1pt solid;\n",
       "  color: var(--sklearn-color-unfitted-level-1);\n",
       "}\n",
       "\n",
       ".sk-estimator-doc-link.fitted,\n",
       "a:link.sk-estimator-doc-link.fitted,\n",
       "a:visited.sk-estimator-doc-link.fitted {\n",
       "  /* fitted */\n",
       "  border: var(--sklearn-color-fitted-level-1) 1pt solid;\n",
       "  color: var(--sklearn-color-fitted-level-1);\n",
       "}\n",
       "\n",
       "/* On hover */\n",
       "div.sk-estimator:hover .sk-estimator-doc-link:hover,\n",
       ".sk-estimator-doc-link:hover,\n",
       "div.sk-label-container:hover .sk-estimator-doc-link:hover,\n",
       ".sk-estimator-doc-link:hover {\n",
       "  /* unfitted */\n",
       "  background-color: var(--sklearn-color-unfitted-level-3);\n",
       "  color: var(--sklearn-color-background);\n",
       "  text-decoration: none;\n",
       "}\n",
       "\n",
       "div.sk-estimator.fitted:hover .sk-estimator-doc-link.fitted:hover,\n",
       ".sk-estimator-doc-link.fitted:hover,\n",
       "div.sk-label-container:hover .sk-estimator-doc-link.fitted:hover,\n",
       ".sk-estimator-doc-link.fitted:hover {\n",
       "  /* fitted */\n",
       "  background-color: var(--sklearn-color-fitted-level-3);\n",
       "  color: var(--sklearn-color-background);\n",
       "  text-decoration: none;\n",
       "}\n",
       "\n",
       "/* Span, style for the box shown on hovering the info icon */\n",
       ".sk-estimator-doc-link span {\n",
       "  display: none;\n",
       "  z-index: 9999;\n",
       "  position: relative;\n",
       "  font-weight: normal;\n",
       "  right: .2ex;\n",
       "  padding: .5ex;\n",
       "  margin: .5ex;\n",
       "  width: min-content;\n",
       "  min-width: 20ex;\n",
       "  max-width: 50ex;\n",
       "  color: var(--sklearn-color-text);\n",
       "  box-shadow: 2pt 2pt 4pt #999;\n",
       "  /* unfitted */\n",
       "  background: var(--sklearn-color-unfitted-level-0);\n",
       "  border: .5pt solid var(--sklearn-color-unfitted-level-3);\n",
       "}\n",
       "\n",
       ".sk-estimator-doc-link.fitted span {\n",
       "  /* fitted */\n",
       "  background: var(--sklearn-color-fitted-level-0);\n",
       "  border: var(--sklearn-color-fitted-level-3);\n",
       "}\n",
       "\n",
       ".sk-estimator-doc-link:hover span {\n",
       "  display: block;\n",
       "}\n",
       "\n",
       "/* \"?\"-specific style due to the `<a>` HTML tag */\n",
       "\n",
       "#sk-container-id-10 a.estimator_doc_link {\n",
       "  float: right;\n",
       "  font-size: 1rem;\n",
       "  line-height: 1em;\n",
       "  font-family: monospace;\n",
       "  background-color: var(--sklearn-color-background);\n",
       "  border-radius: 1rem;\n",
       "  height: 1rem;\n",
       "  width: 1rem;\n",
       "  text-decoration: none;\n",
       "  /* unfitted */\n",
       "  color: var(--sklearn-color-unfitted-level-1);\n",
       "  border: var(--sklearn-color-unfitted-level-1) 1pt solid;\n",
       "}\n",
       "\n",
       "#sk-container-id-10 a.estimator_doc_link.fitted {\n",
       "  /* fitted */\n",
       "  border: var(--sklearn-color-fitted-level-1) 1pt solid;\n",
       "  color: var(--sklearn-color-fitted-level-1);\n",
       "}\n",
       "\n",
       "/* On hover */\n",
       "#sk-container-id-10 a.estimator_doc_link:hover {\n",
       "  /* unfitted */\n",
       "  background-color: var(--sklearn-color-unfitted-level-3);\n",
       "  color: var(--sklearn-color-background);\n",
       "  text-decoration: none;\n",
       "}\n",
       "\n",
       "#sk-container-id-10 a.estimator_doc_link.fitted:hover {\n",
       "  /* fitted */\n",
       "  background-color: var(--sklearn-color-fitted-level-3);\n",
       "}\n",
       "</style><div id=\"sk-container-id-10\" class=\"sk-top-container\"><div class=\"sk-text-repr-fallback\"><pre>SGDRegressor(early_stopping=True, eta0=0.0005, max_iter=100, random_state=2,\n",
       "             validation_fraction=0.2, verbose=1)</pre><b>In a Jupyter environment, please rerun this cell to show the HTML representation or trust the notebook. <br />On GitHub, the HTML representation is unable to render, please try loading this page with nbviewer.org.</b></div><div class=\"sk-container\" hidden><div class=\"sk-item\"><div class=\"sk-estimator fitted sk-toggleable\"><input class=\"sk-toggleable__control sk-hidden--visually\" id=\"sk-estimator-id-14\" type=\"checkbox\" checked><label for=\"sk-estimator-id-14\" class=\"sk-toggleable__label fitted sk-toggleable__label-arrow fitted\">&nbsp;&nbsp;SGDRegressor<a class=\"sk-estimator-doc-link fitted\" rel=\"noreferrer\" target=\"_blank\" href=\"https://scikit-learn.org/1.5/modules/generated/sklearn.linear_model.SGDRegressor.html\">?<span>Documentation for SGDRegressor</span></a><span class=\"sk-estimator-doc-link fitted\">i<span>Fitted</span></span></label><div class=\"sk-toggleable__content fitted\"><pre>SGDRegressor(early_stopping=True, eta0=0.0005, max_iter=100, random_state=2,\n",
       "             validation_fraction=0.2, verbose=1)</pre></div> </div></div></div></div>"
      ],
      "text/plain": [
       "SGDRegressor(early_stopping=True, eta0=0.0005, max_iter=100, random_state=2,\n",
       "             validation_fraction=0.2, verbose=1)"
      ]
     },
     "execution_count": 273,
     "metadata": {},
     "output_type": "execute_result"
    }
   ],
   "source": [
    "lr = 0.0005\n",
    "d = 7\n",
    "\n",
    "polynomial = PolynomialFeatures(degree=d)\n",
    "model = SGDRegressor(eta0=lr, verbose=1, max_iter=100, random_state=2, early_stopping=True, validation_fraction=0.2)\n",
    "\n",
    "x_train_poly = polynomial.fit_transform(x_train)\n",
    "x_test_poly = polynomial.transform(x_test)\n",
    "model.fit(x_train_poly, y_train.ravel())"
   ]
  },
  {
   "cell_type": "markdown",
   "id": "8d255df8",
   "metadata": {
    "jp-MarkdownHeadingCollapsed": true,
    "tags": []
   },
   "source": [
    "## **🔸 Regularization (Scratch)**"
   ]
  },
  {
   "cell_type": "markdown",
   "id": "e48a5740",
   "metadata": {
    "jp-MarkdownHeadingCollapsed": true,
    "tags": []
   },
   "source": [
    "### Functions"
   ]
  },
  {
   "cell_type": "code",
   "execution_count": 274,
   "id": "a4b6919b",
   "metadata": {},
   "outputs": [],
   "source": [
    "def polynomial(x):\n",
    "    phi_x = np.array([x**i for i in range(d+1)])\n",
    "    phi_x = phi_x[..., 0].T\n",
    "    return phi_x"
   ]
  },
  {
   "cell_type": "code",
   "execution_count": 275,
   "id": "1fb60355",
   "metadata": {},
   "outputs": [],
   "source": [
    "def linear_regression(x, w):\n",
    "    y_hat = x @ w\n",
    "    return y_hat"
   ]
  },
  {
   "cell_type": "code",
   "execution_count": 276,
   "id": "b3462757",
   "metadata": {},
   "outputs": [],
   "source": [
    "def mse(y, y_hat):\n",
    "    loss = np.mean((y - y_hat)**2)\n",
    "    return loss"
   ]
  },
  {
   "cell_type": "code",
   "execution_count": 277,
   "id": "bb3e2a57",
   "metadata": {},
   "outputs": [],
   "source": [
    "def regularization(w, mode='l2'):\n",
    "    if mode == 'l2':\n",
    "        norm = np.linalg.norm(w[1:], ord=2)**2\n",
    "    if mode == 'l1':\n",
    "        norm = np.linalg.norm(w[1:], ord=1)\n",
    "    if mode == 'l1+l2':\n",
    "        norm = r*np.linalg.norm(w[1:], ord=1) + 0.5 * (1-r) * np.linalg.norm(w[1:], ord=2)**2\n",
    "    return norm"
   ]
  },
  {
   "cell_type": "code",
   "execution_count": 278,
   "id": "20d3b395",
   "metadata": {},
   "outputs": [],
   "source": [
    "def gradient(x, y, y_hat, w, alpha, mode='l2'):\n",
    "    grads = 2*(x.T @ (y_hat - y)) / y.shape[0] \n",
    "    if mode == 'l2':\n",
    "        grads[1:] += 2*alpha*w[1:]\n",
    "    if mode == 'l1':\n",
    "        grads[1:] += alpha * np.sign(w[1:])\n",
    "    if mode == 'l1+l2':\n",
    "        grads[1:] += alpha * r * np.sign(w[1:]) + alpha * (r-1) * w[1:]\n",
    "    return grads"
   ]
  },
  {
   "cell_type": "code",
   "execution_count": 279,
   "id": "e617c574",
   "metadata": {},
   "outputs": [],
   "source": [
    "def gradient_descent(w, eta, grads):\n",
    "    w -= eta*grads\n",
    "    return w"
   ]
  },
  {
   "cell_type": "code",
   "execution_count": 280,
   "id": "58b352c2",
   "metadata": {},
   "outputs": [],
   "source": [
    "def mae(y, y_hat):\n",
    "    loss = np.mean(np.abs(y - y_hat))\n",
    "    return loss"
   ]
  },
  {
   "cell_type": "code",
   "execution_count": 281,
   "id": "30262e99",
   "metadata": {},
   "outputs": [],
   "source": [
    "def r2(y, y_hat):\n",
    "    return 1 - np.sum((y - y_hat)**2) / np.sum((y - y.mean())**2)"
   ]
  },
  {
   "cell_type": "markdown",
   "id": "afdb84c7",
   "metadata": {
    "jp-MarkdownHeadingCollapsed": true,
    "tags": []
   },
   "source": [
    "### Load Dataset"
   ]
  },
  {
   "cell_type": "code",
   "execution_count": 282,
   "id": "4355e49b",
   "metadata": {},
   "outputs": [
    {
     "data": {
      "text/plain": [
       "((29, 1), (29, 1), (50, 1), (50, 1))"
      ]
     },
     "execution_count": 282,
     "metadata": {},
     "output_type": "execute_result"
    }
   ],
   "source": [
    "df = pd.read_csv(csv_train_path)\n",
    "train_set = np.array(df)\n",
    "\n",
    "x_train = train_set[:, :-1]\n",
    "y_train = train_set[:, -1:]\n",
    "\n",
    "df = pd.read_csv(csv_test_path)\n",
    "test_set = np.array(df)\n",
    "\n",
    "x_test = test_set[:, :-1]\n",
    "y_test = test_set[:, -1:]\n",
    "\n",
    "x_train.shape, y_train.shape, x_test.shape, y_test.shape"
   ]
  },
  {
   "cell_type": "code",
   "execution_count": 283,
   "id": "7e5c256d",
   "metadata": {},
   "outputs": [
    {
     "data": {
      "text/plain": [
       "((29, 8), (50, 8))"
      ]
     },
     "execution_count": 283,
     "metadata": {},
     "output_type": "execute_result"
    }
   ],
   "source": [
    "d = 7\n",
    "phi_x_train = polynomial(x_train)\n",
    "phi_x_test = polynomial(x_test)\n",
    "\n",
    "phi_x_train.shape, phi_x_test.shape"
   ]
  },
  {
   "cell_type": "markdown",
   "id": "df81e33a",
   "metadata": {
    "jp-MarkdownHeadingCollapsed": true,
    "tags": []
   },
   "source": [
    "### Initialization"
   ]
  },
  {
   "cell_type": "code",
   "execution_count": 284,
   "id": "468a1432",
   "metadata": {},
   "outputs": [
    {
     "name": "stdout",
     "output_type": "stream",
     "text": [
      "[[-0.03123285]\n",
      " [ 0.03392847]\n",
      " [-0.01559085]\n",
      " [-0.05017897]\n",
      " [ 0.02355689]\n",
      " [-0.17636053]\n",
      " [-0.1095862 ]\n",
      " [-0.10877657]]\n"
     ]
    }
   ],
   "source": [
    "np.random.seed(15)\n",
    "w = 0.1*np.random.randn(d+1, 1)\n",
    "print(w)\n",
    "\n",
    "eta = 0.0005\n",
    "alpha = 2.0\n",
    "n_epochs = 1500"
   ]
  },
  {
   "cell_type": "markdown",
   "id": "eb8b762c",
   "metadata": {
    "jp-MarkdownHeadingCollapsed": true,
    "tags": []
   },
   "source": [
    "### Train"
   ]
  },
  {
   "cell_type": "code",
   "execution_count": 285,
   "id": "a82cdba8",
   "metadata": {},
   "outputs": [
    {
     "name": "stdout",
     "output_type": "stream",
     "text": [
      "Epoch=99, \t Loss_train=0.4113,\t Loss_test=0.8838\n",
      "Epoch=199, \t Loss_train=0.3716,\t Loss_test=0.4984\n",
      "Epoch=299, \t Loss_train=0.3435,\t Loss_test=0.3161\n",
      "Epoch=399, \t Loss_train=0.3229,\t Loss_test=0.2406\n",
      "Epoch=499, \t Loss_train=0.307,\t Loss_test=0.2195\n",
      "Epoch=599, \t Loss_train=0.2945,\t Loss_test=0.2245\n",
      "Epoch=699, \t Loss_train=0.2843,\t Loss_test=0.2407\n",
      "Epoch=799, \t Loss_train=0.2758,\t Loss_test=0.2603\n",
      "Epoch=899, \t Loss_train=0.2686,\t Loss_test=0.2797\n",
      "Epoch=999, \t Loss_train=0.2625,\t Loss_test=0.2973\n",
      "Epoch=1099, \t Loss_train=0.2572,\t Loss_test=0.3126\n",
      "Epoch=1199, \t Loss_train=0.2527,\t Loss_test=0.3255\n",
      "Epoch=1299, \t Loss_train=0.2488,\t Loss_test=0.3362\n",
      "Epoch=1399, \t Loss_train=0.2453,\t Loss_test=0.345\n",
      "Epoch=1499, \t Loss_train=0.2423,\t Loss_test=0.3524\n",
      "Model weights:\n",
      " [-0.16698027  0.03306369  0.00904476  0.02875637  0.05666784  0.0048039\n",
      "  0.05649606  0.02332994]\n",
      "Best epoch:519, Best loss:0.21906693478303232\n"
     ]
    }
   ],
   "source": [
    "loss_train_hist, loss_test_hist = [], []\n",
    "score_train_hist, score_test_hist = [], []\n",
    "best_loss = np.inf\n",
    "\n",
    "for epoch in range(n_epochs):\n",
    "    # predictions\n",
    "    y_hat = linear_regression(phi_x_train, w)\n",
    "    \n",
    "    # loss\n",
    "    loss_train = mse(y_train, y_hat) + alpha*regularization(w, mode='l2')\n",
    "    loss_train_hist.append(loss_train)  # loss train\n",
    "    \n",
    "    # gradients\n",
    "    grads = gradient(phi_x_train, y_train, y_hat, w, alpha, mode='l2')\n",
    "    \n",
    "    # gradient descent\n",
    "    w = gradient_descent(w, eta, grads)\n",
    "    \n",
    "    # evaluation\n",
    "    y_hat_test = linear_regression(phi_x_test, w)\n",
    "    loss_test = mse(y_hat_test, y_test)\n",
    "    loss_test_hist.append(loss_test)  # loss test\n",
    "    \n",
    "    # early stopping\n",
    "    if loss_test < best_loss:\n",
    "        best_loss = loss_test\n",
    "        w_best = w.copy()\n",
    "        best_epoch = epoch\n",
    "    \n",
    "    if (epoch+1) % 100 == 0:\n",
    "        print(f'Epoch={epoch}, \\t Loss_train={loss_train:.4},\\t Loss_test={loss_test:.4}')\n",
    "\n",
    "print(f'Model weights:\\n {w_best.T[0]}')\n",
    "print(f'Best epoch:{best_epoch}, Best loss:{best_loss}')"
   ]
  },
  {
   "cell_type": "markdown",
   "id": "f42eca93",
   "metadata": {
    "tags": []
   },
   "source": [
    "### Learning curve"
   ]
  },
  {
   "cell_type": "code",
   "execution_count": 286,
   "id": "0754f84a",
   "metadata": {},
   "outputs": [
    {
     "data": {
      "image/png": "[encoded data removed]",
      "text/plain": [
       "<Figure size 640x480 with 1 Axes>"
      ]
     },
     "metadata": {},
     "output_type": "display_data"
    }
   ],
   "source": [
    "plt.plot(loss_train_hist, label='Train')\n",
    "plt.plot(loss_test_hist, label='Test')\n",
    "\n",
    "plt.legend()\n",
    "plt.grid()\n",
    "plt.ylim([0, 1])\n",
    "plt.title('Learning Curve for Loss');"
   ]
  },
  {
   "cell_type": "markdown",
   "id": "99426b55",
   "metadata": {
    "tags": []
   },
   "source": [
    "### Visualization"
   ]
  },
  {
   "cell_type": "code",
   "execution_count": 287,
   "id": "8737463f",
   "metadata": {
    "tags": []
   },
   "outputs": [
    {
     "data": {
      "text/plain": [
       "Text(0.5, 1.0, 'Overfit')"
      ]
     },
     "execution_count": 287,
     "metadata": {},
     "output_type": "execute_result"
    },
    {
     "data": {
      "image/png": "[encoded data removed]",
      "text/plain": [
       "<Figure size 640x480 with 1 Axes>"
      ]
     },
     "metadata": {},
     "output_type": "display_data"
    }
   ],
   "source": [
    "x = np.linspace(x_train.min(), x_train.max(), 100)[:, None]\n",
    "xp = polynomial(x)\n",
    "y_hat = linear_regression(xp, w)\n",
    "\n",
    "plt.scatter(x_train, y_train)\n",
    "plt.scatter(x_test, y_test)\n",
    "plt.plot(x, y_hat, 'r', linewidth=3)\n",
    "plt.title('Overfit')"
   ]
  },
  {
   "cell_type": "code",
   "execution_count": 288,
   "id": "aaab7522",
   "metadata": {},
   "outputs": [
    {
     "data": {
      "text/plain": [
       "array([[-0.32798434],\n",
       "       [ 0.01748172],\n",
       "       [ 0.03092952],\n",
       "       [ 0.03825937],\n",
       "       [ 0.06000641],\n",
       "       [ 0.04315677],\n",
       "       [ 0.06032468],\n",
       "       [ 0.00921707]])"
      ]
     },
     "execution_count": 288,
     "metadata": {},
     "output_type": "execute_result"
    }
   ],
   "source": [
    "w"
   ]
  },
  {
   "cell_type": "code",
   "execution_count": 289,
   "id": "a0541c05",
   "metadata": {},
   "outputs": [
    {
     "data": {
      "text/plain": [
       "Text(0.5, 1.0, 'Overfit')"
      ]
     },
     "execution_count": 289,
     "metadata": {},
     "output_type": "execute_result"
    },
    {
     "data": {
      "image/png": "[encoded data removed]",
      "text/plain": [
       "<Figure size 640x480 with 1 Axes>"
      ]
     },
     "metadata": {},
     "output_type": "display_data"
    }
   ],
   "source": [
    "x = np.linspace(x_train.min(), x_train.max(), 100)[:, None]\n",
    "xp = polynomial(x)\n",
    "y_hat = linear_regression(xp, w_best)\n",
    "\n",
    "plt.scatter(x_train, y_train)\n",
    "plt.scatter(x_test, y_test)\n",
    "plt.plot(x, y_hat, 'r', linewidth=3)\n",
    "plt.title('Overfit')"
   ]
  },
  {
   "cell_type": "markdown",
   "id": "179e2f96",
   "metadata": {
    "jp-MarkdownHeadingCollapsed": true,
    "tags": []
   },
   "source": [
    "## **🔸 Regularization (sklearn)**"
   ]
  },
  {
   "cell_type": "code",
   "execution_count": 290,
   "id": "39efadb7",
   "metadata": {},
   "outputs": [
    {
     "data": {
      "text/plain": [
       "((29, 1), (29, 1), (50, 1), (50, 1))"
      ]
     },
     "execution_count": 290,
     "metadata": {},
     "output_type": "execute_result"
    }
   ],
   "source": [
    "df = pd.read_csv(csv_train_path)\n",
    "train_set = np.array(df)\n",
    "\n",
    "x_train = train_set[:, :-1]\n",
    "y_train = train_set[:, -1:]\n",
    "\n",
    "df = pd.read_csv(csv_test_path)\n",
    "test_set = np.array(df)\n",
    "\n",
    "x_test = test_set[:, :-1]\n",
    "y_test = test_set[:, -1:]\n",
    "\n",
    "x_train.shape, y_train.shape, x_test.shape, y_test.shape"
   ]
  },
  {
   "cell_type": "code",
   "execution_count": 291,
   "id": "c5a2ffc5",
   "metadata": {},
   "outputs": [
    {
     "name": "stdout",
     "output_type": "stream",
     "text": [
      "Epoch=99, \t Loss_train=0.5034,\t Loss_test=0.4143\n",
      "Epoch=199, \t Loss_train=0.4861,\t Loss_test=0.3958\n",
      "Epoch=299, \t Loss_train=0.4727,\t Loss_test=0.3844\n",
      "Epoch=399, \t Loss_train=0.4618,\t Loss_test=0.3805\n",
      "Epoch=499, \t Loss_train=0.4525,\t Loss_test=0.3785\n",
      "Epoch=599, \t Loss_train=0.4445,\t Loss_test=0.3778\n",
      "Epoch=699, \t Loss_train=0.4375,\t Loss_test=0.378\n",
      "Epoch=799, \t Loss_train=0.4313,\t Loss_test=0.3785\n",
      "Epoch=899, \t Loss_train=0.4258,\t Loss_test=0.379\n",
      "Epoch=999, \t Loss_train=0.4209,\t Loss_test=0.3799\n",
      "Epoch=1099, \t Loss_train=0.4165,\t Loss_test=0.3811\n",
      "Epoch=1199, \t Loss_train=0.4125,\t Loss_test=0.3822\n",
      "Model weights: [0.         0.         0.         0.         0.         0.\n",
      " 0.08164362 0.02913492]\n"
     ]
    }
   ],
   "source": [
    "lr = 0.0005\n",
    "alpha = 1\n",
    "n_epochs = 1200\n",
    "r = 0.5\n",
    "degree = 7\n",
    "\n",
    "polynomial = PolynomialFeatures(degree=degree)\n",
    "model = SGDRegressor(eta0=lr, penalty='elasticnet', alpha=alpha , l1_ratio=r , random_state=2)\n",
    "\n",
    "# polynomial\n",
    "x_train_poly = polynomial.fit_transform(x_train)\n",
    "x_test_poly = polynomial.transform(x_test)\n",
    "\n",
    "loss_train_hist, loss_test_hist = [], []\n",
    "for epoch in range(n_epochs):\n",
    "    # fit\n",
    "    model.partial_fit(x_train_poly, y_train.ravel())\n",
    "    \n",
    "    # prediction (train)\n",
    "    y_hat = model.predict(x_train_poly)\n",
    "    loss_train = mean_absolute_error(y_hat, y_train)\n",
    "    loss_train_hist.append(loss_train)\n",
    "    \n",
    "    # prediction (test)\n",
    "    y_hat = model.predict(x_test_poly)\n",
    "    loss_test = mean_absolute_error(y_hat, y_test)\n",
    "    loss_test_hist.append(loss_test)\n",
    "    \n",
    "    if (epoch+1) % 100 == 0:\n",
    "        print(f'Epoch={epoch}, \\t Loss_train={loss_train:.4},\\t Loss_test={loss_test:.4}')\n",
    "        \n",
    "print(f'Model weights: {model.coef_}')"
   ]
  },
  {
   "cell_type": "code",
   "execution_count": 292,
   "id": "6a7d467c",
   "metadata": {},
   "outputs": [
    {
     "data": {
      "image/png": "[encoded data removed]",
      "text/plain": [
       "<Figure size 640x480 with 1 Axes>"
      ]
     },
     "metadata": {},
     "output_type": "display_data"
    }
   ],
   "source": [
    "plt.plot(loss_train_hist, label='Train')\n",
    "plt.plot(loss_test_hist, label='Test')\n",
    "\n",
    "plt.legend()\n",
    "plt.grid()\n",
    "plt.title('Learning Curve for Loss');"
   ]
  },
  {
   "cell_type": "markdown",
   "id": "091cb105",
   "metadata": {
    "jp-MarkdownHeadingCollapsed": true
   },
   "source": [
    "## Close Form"
   ]
  },
  {
   "cell_type": "code",
   "execution_count": 293,
   "id": "ef97c533",
   "metadata": {},
   "outputs": [
    {
     "data": {
      "text/plain": [
       "array([[-0.71101043],\n",
       "       [-0.15484106],\n",
       "       [ 0.38450589],\n",
       "       [ 0.17380068],\n",
       "       [ 0.31612394],\n",
       "       [ 0.21825546],\n",
       "       [-0.06532957],\n",
       "       [-0.06646761]])"
      ]
     },
     "execution_count": 293,
     "metadata": {},
     "output_type": "execute_result"
    }
   ],
   "source": [
    "alpha = 1\n",
    "degree = 7\n",
    "I = np.eye(8)\n",
    "I[0,0] = 0\n",
    "wc = np.linalg.inv(x_train_poly.T @ x_train_poly + alpha * I) @ x_train_poly.T @ y_train\n",
    "wc"
   ]
  },
  {
   "cell_type": "markdown",
   "id": "e8d48918",
   "metadata": {},
   "source": [
    "### Plot Close Form with Regu and Iterative with Regu"
   ]
  },
  {
   "cell_type": "code",
   "execution_count": 294,
   "id": "8ad9c454",
   "metadata": {},
   "outputs": [
    {
     "data": {
      "text/plain": [
       "<matplotlib.legend.Legend at 0x2084cef8c20>"
      ]
     },
     "execution_count": 294,
     "metadata": {},
     "output_type": "execute_result"
    },
    {
     "data": {
      "image/png": "[encoded data removed]",
      "text/plain": [
       "<Figure size 640x480 with 1 Axes>"
      ]
     },
     "metadata": {},
     "output_type": "display_data"
    }
   ],
   "source": [
    "x = np.linspace(x_train.min(), x_train.max(), 100)[:, None]\n",
    "xp = polynomial.transform(x)\n",
    "y_hat_iter = model.predict(xp)\n",
    "\n",
    "plt.scatter(x_train, y_train)\n",
    "plt.scatter(x_test, y_test)\n",
    "plt.plot(x, y_hat_iter, 'r', linewidth=3 , label='Iterative Reg')\n",
    "\n",
    "y_hat_close = linear_regression(xp , wc)\n",
    "plt.plot(x, y_hat_close, 'g', linewidth=3 , label='Close Form Reg')\n",
    "plt.legend()"
   ]
  },
  {
   "cell_type": "markdown",
   "id": "e0291f4e",
   "metadata": {
    "jp-MarkdownHeadingCollapsed": true,
    "tags": []
   },
   "source": [
    "## **🔸 Ridge, LASSO, ElasticNet (sklearn)**"
   ]
  },
  {
   "cell_type": "code",
   "execution_count": 295,
   "id": "10e5aedc",
   "metadata": {},
   "outputs": [
    {
     "data": {
      "text/plain": [
       "((29, 1), (29, 1), (50, 1), (50, 1))"
      ]
     },
     "execution_count": 295,
     "metadata": {},
     "output_type": "execute_result"
    }
   ],
   "source": [
    "df = pd.read_csv(csv_train_path)\n",
    "train_set = np.array(df)\n",
    "\n",
    "x_train = train_set[:, :-1]\n",
    "y_train = train_set[:, -1:]\n",
    "\n",
    "df = pd.read_csv(csv_test_path)\n",
    "test_set = np.array(df)\n",
    "\n",
    "x_test = test_set[:, :-1]\n",
    "y_test = test_set[:, -1:]\n",
    "\n",
    "x_train.shape, y_train.shape, x_test.shape, y_test.shape"
   ]
  },
  {
   "cell_type": "code",
   "execution_count": 296,
   "id": "1787ce13",
   "metadata": {},
   "outputs": [
    {
     "data": {
      "text/plain": [
       "0.7082373291730015"
      ]
     },
     "execution_count": 296,
     "metadata": {},
     "output_type": "execute_result"
    }
   ],
   "source": [
    "lr = 0.01\n",
    "alpha = 0.03\n",
    "r = 0.5\n",
    "degree = 8\n",
    "\n",
    "polynomial = PolynomialFeatures(degree=degree)\n",
    "model = ElasticNet(alpha, max_iter=5000)\n",
    "#model = Lasso(alpha, max_iter=5000)\n",
    "\n",
    "# polynomial\n",
    "x_train_poly = polynomial.fit_transform(x_train)\n",
    "x_test_poly = polynomial.transform(x_test)\n",
    "\n",
    "model.fit(x_train_poly, y_train.ravel())\n",
    "model.score(x_test_poly, y_test)"
   ]
  },
  {
   "cell_type": "code",
   "execution_count": 297,
   "id": "b1c31b37",
   "metadata": {},
   "outputs": [
    {
     "data": {
      "text/plain": [
       "array([ 0.        , -0.        ,  0.30539014,  0.02066538,  0.28723128,\n",
       "        0.21712491,  0.        , -0.05350284, -0.01592889])"
      ]
     },
     "execution_count": 297,
     "metadata": {},
     "output_type": "execute_result"
    }
   ],
   "source": [
    "model.coef_"
   ]
  },
  {
   "cell_type": "code",
   "execution_count": 298,
   "id": "5336e4b0",
   "metadata": {},
   "outputs": [
    {
     "data": {
      "text/plain": [
       "Text(0.5, 1.0, 'Overfit')"
      ]
     },
     "execution_count": 298,
     "metadata": {},
     "output_type": "execute_result"
    },
    {
     "data": {
      "image/png": "[encoded data removed]",
      "text/plain": [
       "<Figure size 640x480 with 1 Axes>"
      ]
     },
     "metadata": {},
     "output_type": "display_data"
    }
   ],
   "source": [
    "x = np.linspace(x_train.min(), x_train.max(), 100)[:, None]\n",
    "xp = polynomial.transform(x)\n",
    "y_hat = model.predict(xp)\n",
    "\n",
    "plt.scatter(x_train, y_train)\n",
    "plt.scatter(x_test, y_test)\n",
    "plt.plot(x, y_hat, 'r', linewidth=3)\n",
    "plt.title('Overfit')"
   ]
  },
  {
   "cell_type": "markdown",
   "id": "8197f8ac",
   "metadata": {
    "jp-MarkdownHeadingCollapsed": true,
    "tags": []
   },
   "source": [
    "## **🔸 Bias-Variance (mlxtend)**"
   ]
  },
  {
   "cell_type": "code",
   "execution_count": 299,
   "id": "cff7d096",
   "metadata": {},
   "outputs": [],
   "source": [
    "notebook_path = os.getcwd()\n",
    "# Datasets path\n",
    "# auto\n",
    "csv_train_l_path = f\"{notebook_path}/data/energy-train-l.csv\"\n",
    "csv_test_l_path= f\"{notebook_path}/data/energy-test-l.csv\""
   ]
  },
  {
   "cell_type": "code",
   "execution_count": 300,
   "id": "1751f6dc",
   "metadata": {},
   "outputs": [
    {
     "data": {
      "text/plain": [
       "((1168, 1), (1168, 1), (292, 1), (292, 1))"
      ]
     },
     "execution_count": 300,
     "metadata": {},
     "output_type": "execute_result"
    }
   ],
   "source": [
    "df = pd.read_csv(csv_train_l_path)\n",
    "train_set = np.array(df)\n",
    "\n",
    "x_train = train_set[:, :-1]\n",
    "y_train = train_set[:, -1:]\n",
    "\n",
    "df = pd.read_csv(csv_test_l_path)\n",
    "test_set = np.array(df)\n",
    "\n",
    "x_test = test_set[:, :-1]\n",
    "y_test = test_set[:, -1:]\n",
    "\n",
    "x_train.shape, y_train.shape, x_test.shape, y_test.shape"
   ]
  },
  {
   "cell_type": "code",
   "execution_count": 301,
   "id": "f1f0acc2",
   "metadata": {},
   "outputs": [],
   "source": [
    "polynomial = PolynomialFeatures(degree=3)\n",
    "\n",
    "x_train_poly = polynomial.fit_transform(x_train)\n",
    "x_test_poly = polynomial.fit_transform(x_test)"
   ]
  },
  {
   "cell_type": "code",
   "execution_count": 302,
   "id": "dd185fb4",
   "metadata": {},
   "outputs": [],
   "source": [
    "model = LinearRegression()"
   ]
  },
  {
   "cell_type": "code",
   "execution_count": 303,
   "id": "40dd5256",
   "metadata": {},
   "outputs": [
    {
     "name": "stdout",
     "output_type": "stream",
     "text": [
      "0.30926573752996095 0.30829641053580525 0.000969326994155669 0.30926573752996095\n"
     ]
    }
   ],
   "source": [
    "mse, bias, var = bias_variance_decomp(model, x_train_poly, y_train.ravel(), x_test_poly, y_test.ravel(), loss='mse', num_rounds=100, random_seed=2)\n",
    "print(mse, bias, var, bias+var)"
   ]
  },
  {
   "cell_type": "markdown",
   "id": "cf111442",
   "metadata": {},
   "source": [
    "#My test"
   ]
  },
  {
   "cell_type": "code",
   "execution_count": 304,
   "id": "005cf60b",
   "metadata": {},
   "outputs": [
    {
     "name": "stdout",
     "output_type": "stream",
     "text": [
      "1- best_degree:6, best_bias:0.30192649472464783, best_variance:0.0016550685317471435, min_bias_variance:0.30358156325639496\n",
      "2- best_degree:6, best_bias:0.30192649472464783, best_variance:0.0016550685317471435, min_bias_variance:0.30358156325639496\n",
      "3- best_degree:6, best_bias:0.30192649472464783, best_variance:0.0016550685317471435, min_bias_variance:0.30358156325639496\n",
      "4- best_degree:6, best_bias:0.30192649472464783, best_variance:0.0016550685317471435, min_bias_variance:0.30358156325639496\n",
      "5- best_degree:6, best_bias:0.30192649472464783, best_variance:0.0016550685317471435, min_bias_variance:0.30358156325639496\n",
      "6- best_degree:6, best_bias:0.30192649472464783, best_variance:0.0016550685317471435, min_bias_variance:0.30358156325639496\n",
      "7- best_degree:6, best_bias:0.30192649472464783, best_variance:0.0016550685317471435, min_bias_variance:0.30358156325639496\n",
      "8- best_degree:6, best_bias:0.30192649472464783, best_variance:0.0016550685317471435, min_bias_variance:0.30358156325639496\n",
      "9- best_degree:6, best_bias:0.30192649472464783, best_variance:0.0016550685317471435, min_bias_variance:0.30358156325639496\n"
     ]
    }
   ],
   "source": [
    "min_bias_variance = 10000\n",
    "best_bias = None\n",
    "best_variance = None\n",
    "best_degree = None\n",
    "for test_no in range(1, 10):\n",
    "    for degree in range(10):\n",
    "        polynomial = PolynomialFeatures(degree=degree)\n",
    "\n",
    "        x_train_poly = polynomial.fit_transform(x_train)\n",
    "        x_test_poly = polynomial.fit_transform(x_test)\n",
    "\n",
    "        model = LinearRegression()\n",
    "\n",
    "        mse, bias, var = bias_variance_decomp(model, x_train_poly, y_train.ravel(), x_test_poly, y_test.ravel(), loss='mse', num_rounds=100, random_seed=2)\n",
    "        # print(degree,mse, bias, var, bias+var)\n",
    "        if mse < min_bias_variance:\n",
    "                min_bias_variance = mse\n",
    "                best_bias = bias\n",
    "                best_variance = var\n",
    "                best_degree = degree\n",
    "                \n",
    "    print(\n",
    "            f\"{test_no}- best_degree:{best_degree}, best_bias:{best_bias}, best_variance:{best_variance}, min_bias_variance:{min_bias_variance}\"\n",
    "        )            "
   ]
  },
  {
   "cell_type": "markdown",
   "id": "4e7acd0c",
   "metadata": {
    "tags": []
   },
   "source": [
    "### Exercise: implement bias-variance from scratch"
   ]
  },
  {
   "cell_type": "code",
   "execution_count": 305,
   "id": "e5485517",
   "metadata": {},
   "outputs": [
    {
     "data": {
      "text/plain": [
       "((1168, 1), (1168, 1), (292, 1), (292, 1))"
      ]
     },
     "execution_count": 305,
     "metadata": {},
     "output_type": "execute_result"
    }
   ],
   "source": [
    "df = pd.read_csv(csv_train_l_path)\n",
    "train_set = np.array(df)\n",
    "\n",
    "x_train = train_set[:, :-1]\n",
    "y_train = train_set[:, -1:]\n",
    "\n",
    "df = pd.read_csv(csv_test_l_path)\n",
    "test_set = np.array(df)\n",
    "\n",
    "x_test = test_set[:, :-1]\n",
    "y_test = test_set[:, -1:]\n",
    "\n",
    "x_train.shape, y_train.shape, x_test.shape, y_test.shape"
   ]
  },
  {
   "cell_type": "code",
   "execution_count": 306,
   "id": "fa17a2d4",
   "metadata": {},
   "outputs": [
    {
     "name": "stdout",
     "output_type": "stream",
     "text": [
      "1- best_degree:6, best_bias:0.30223113038602456, best_variance:0.001788648395860628, min_bias_variance:0.3040197787818852\n",
      "2- best_degree:6, best_bias:0.30154294695505796, best_variance:0.0019625918035282015, min_bias_variance:0.30350553875858616\n",
      "3- best_degree:6, best_bias:0.30088668901864446, best_variance:0.0017321563319531988, min_bias_variance:0.30261884535059763\n",
      "4- best_degree:6, best_bias:0.30088668901864446, best_variance:0.0017321563319531988, min_bias_variance:0.30261884535059763\n",
      "5- best_degree:6, best_bias:0.30088668901864446, best_variance:0.0017321563319531988, min_bias_variance:0.30261884535059763\n",
      "6- best_degree:6, best_bias:0.30088668901864446, best_variance:0.0017321563319531988, min_bias_variance:0.30261884535059763\n",
      "7- best_degree:6, best_bias:0.30088668901864446, best_variance:0.0017321563319531988, min_bias_variance:0.30261884535059763\n",
      "8- best_degree:6, best_bias:0.30088668901864446, best_variance:0.0017321563319531988, min_bias_variance:0.30261884535059763\n",
      "9- best_degree:6, best_bias:0.30088668901864446, best_variance:0.0017321563319531988, min_bias_variance:0.30261884535059763\n"
     ]
    }
   ],
   "source": [
    "# Exercise: implement bias-variance from scratch\n",
    "min_bias_variance = 10000\n",
    "best_bias=best_variance =best_degree= None\n",
    "for test_no in range(1, 10):\n",
    "    for degree in range(10):\n",
    "        num_rounds = 100\n",
    "        test_size_split_factor = 0.5\n",
    "        all_preds = None\n",
    "        for i in range(num_rounds):\n",
    "            x_train_sub, _ , y_train_sub , _ = train_test_split(x_train, y_train, test_size=test_size_split_factor)\n",
    "            if all_preds is None:\n",
    "                all_preds = np.zeros((num_rounds, y_test.shape[0]))\n",
    "            poly = PolynomialFeatures(degree=degree)\n",
    "            x_train_poly = poly.fit_transform(x_train_sub)\n",
    "            x_test_poly = poly.transform(x_test)\n",
    "            model = LinearRegression()\n",
    "            model.fit(x_train_poly, y_train_sub)\n",
    "            preds = model.predict(x_test_poly)\n",
    "            all_preds[i, :] = preds.ravel().copy()\n",
    "        mean_preds = np.mean(all_preds, axis=0)        \n",
    "        bias = np.mean((mean_preds - y_test.ravel()) ** 2)\n",
    "        variance = np.mean((mean_preds - all_preds) ** 2)\n",
    "        # print(degree,bias, variance , bias + variance)\n",
    "        if bias + variance < min_bias_variance:\n",
    "            min_bias_variance = bias + variance\n",
    "            best_bias = bias\n",
    "            best_variance = variance\n",
    "            best_degree = degree\n",
    "    print(f\"{test_no}- best_degree:{best_degree}, best_bias:{best_bias}, best_variance:{best_variance}, min_bias_variance:{min_bias_variance}\")"
   ]
  },
  {
   "cell_type": "markdown",
   "id": "9e42afd4",
   "metadata": {
    "jp-MarkdownHeadingCollapsed": true,
    "tags": []
   },
   "source": [
    "## **🔸 Cross Validation**"
   ]
  },
  {
   "cell_type": "code",
   "execution_count": 307,
   "id": "a7a3f273",
   "metadata": {},
   "outputs": [
    {
     "data": {
      "text/plain": [
       "((1168, 1), (1168, 1), (292, 1), (292, 1))"
      ]
     },
     "execution_count": 307,
     "metadata": {},
     "output_type": "execute_result"
    }
   ],
   "source": [
    "df = pd.read_csv(csv_train_l_path)\n",
    "train_set = np.array(df)\n",
    "\n",
    "x_train = train_set[:, :-1]\n",
    "y_train = train_set[:, -1:]\n",
    "\n",
    "df = pd.read_csv(csv_test_l_path)\n",
    "test_set = np.array(df)\n",
    "\n",
    "x_test = test_set[:, :-1]\n",
    "y_test = test_set[:, -1:]\n",
    "\n",
    "x_train.shape, y_train.shape, x_test.shape, y_test.shape"
   ]
  },
  {
   "cell_type": "markdown",
   "id": "0cf12fd5",
   "metadata": {
    "jp-MarkdownHeadingCollapsed": true,
    "tags": []
   },
   "source": [
    "### Hold-out"
   ]
  },
  {
   "cell_type": "code",
   "execution_count": 308,
   "id": "3e1dedd9",
   "metadata": {},
   "outputs": [
    {
     "data": {
      "text/plain": [
       "((934, 1), (234, 1))"
      ]
     },
     "execution_count": 308,
     "metadata": {},
     "output_type": "execute_result"
    }
   ],
   "source": [
    "x_train_s, x_valid, y_train_s, y_valid = train_test_split(x_train, y_train, test_size=0.2)\n",
    "x_train_s.shape, x_valid.shape"
   ]
  },
  {
   "cell_type": "code",
   "execution_count": 309,
   "id": "1b1643b4",
   "metadata": {},
   "outputs": [
    {
     "data": {
      "text/plain": [
       "<matplotlib.collections.PathCollection at 0x2084bcd2840>"
      ]
     },
     "execution_count": 309,
     "metadata": {},
     "output_type": "execute_result"
    },
    {
     "data": {
      "image/png": "[encoded data removed]",
      "text/plain": [
       "<Figure size 640x480 with 1 Axes>"
      ]
     },
     "metadata": {},
     "output_type": "display_data"
    }
   ],
   "source": [
    "plt.scatter(x_train_s, y_train_s, c='r')\n",
    "plt.scatter(x_valid, y_valid, c='g')\n",
    "plt.scatter(x_test, y_test, c='b')"
   ]
  },
  {
   "cell_type": "code",
   "execution_count": 310,
   "id": "2c650d70",
   "metadata": {},
   "outputs": [
    {
     "data": {
      "text/plain": [
       "0.13224874116364438"
      ]
     },
     "execution_count": 310,
     "metadata": {},
     "output_type": "execute_result"
    }
   ],
   "source": [
    "x_train_s, x_valid, y_train_s, y_valid = train_test_split(x_train, y_train, test_size=0.2, random_state=5)\n",
    "\n",
    "model = LinearRegression()\n",
    "model.fit(x_train_s, y_train_s)\n",
    "model.score(x_valid, y_valid)"
   ]
  },
  {
   "cell_type": "markdown",
   "id": "3f3fa8b5",
   "metadata": {
    "jp-MarkdownHeadingCollapsed": true,
    "tags": []
   },
   "source": [
    "### K-fold"
   ]
  },
  {
   "cell_type": "markdown",
   "id": "459acc28",
   "metadata": {
    "tags": []
   },
   "source": [
    "#### Simple example"
   ]
  },
  {
   "cell_type": "code",
   "execution_count": 311,
   "id": "f4965d5b",
   "metadata": {},
   "outputs": [
    {
     "name": "stdout",
     "output_type": "stream",
     "text": [
      "Fold 0: \n",
      " Train:\n",
      " (array([[5, 6],\n",
      "       [7, 8]]), array([3, 4])), \n",
      " Validation: \n",
      "(array([[1, 2],\n",
      "       [3, 4]]), array([1, 2]))\n",
      "\n",
      "Fold 1: \n",
      " Train:\n",
      " (array([[1, 2],\n",
      "       [3, 4]]), array([1, 2])), \n",
      " Validation: \n",
      "(array([[5, 6],\n",
      "       [7, 8]]), array([3, 4]))\n",
      "\n"
     ]
    }
   ],
   "source": [
    "X = np.array([[1, 2], \n",
    "              [3, 4], \n",
    "              [5, 6], \n",
    "              [7, 8]])\n",
    "\n",
    "y = np.array([1, 2, 3, 4])\n",
    "\n",
    "kf = KFold(2, shuffle=True, random_state=5)\n",
    "list(kf.split(X))\n",
    "\n",
    "for i, (train_idx, valid_idx) in enumerate(kf.split(X)):\n",
    "    print(f'Fold {i}: \\n Train:\\n {X[train_idx], y[train_idx]}, \\n Validation: \\n{X[valid_idx], y[valid_idx]}\\n')"
   ]
  },
  {
   "cell_type": "markdown",
   "id": "6de2a016",
   "metadata": {
    "tags": []
   },
   "source": [
    "#### Real Data"
   ]
  },
  {
   "cell_type": "code",
   "execution_count": 312,
   "id": "06516dec",
   "metadata": {
    "tags": []
   },
   "outputs": [
    {
     "data": {
      "text/plain": [
       "<matplotlib.collections.PathCollection at 0x2084cf992b0>"
      ]
     },
     "execution_count": 312,
     "metadata": {},
     "output_type": "execute_result"
    },
    {
     "data": {
      "image/png": "[encoded data removed]",
      "text/plain": [
       "<Figure size 640x480 with 1 Axes>"
      ]
     },
     "metadata": {},
     "output_type": "display_data"
    }
   ],
   "source": [
    "kf = KFold(5, shuffle=True, random_state=5)\n",
    "\n",
    "list_kf = list(kf.split(x_train))\n",
    "plt.scatter(x_train[list_kf[0][0]], y_train[list_kf[0][0]])\n",
    "plt.scatter(x_train[list_kf[0][1]], y_train[list_kf[0][1]])"
   ]
  },
  {
   "cell_type": "code",
   "execution_count": 313,
   "id": "5b899287",
   "metadata": {},
   "outputs": [
    {
     "name": "stdout",
     "output_type": "stream",
     "text": [
      "0.10587827002821464 0.054651015714819014\n"
     ]
    }
   ],
   "source": [
    "scores = []\n",
    "\n",
    "for i, (train_idx, valid_idx) in enumerate(kf.split(x_train)):\n",
    "    # train subset\n",
    "    x_train_s, y_train_s = x_train[train_idx], y_train[train_idx]\n",
    "    # validation\n",
    "    x_valid, y_valid = x_train[valid_idx], y_train[valid_idx]\n",
    "    \n",
    "    model = LinearRegression()\n",
    "    model.fit(x_train_s, y_train_s)\n",
    "    \n",
    "    scores.append(model.score(x_valid, y_valid))\n",
    "\n",
    "scores = np.array(scores)\n",
    "print(scores.mean(), scores.std())"
   ]
  },
  {
   "cell_type": "markdown",
   "id": "33e55caf",
   "metadata": {
    "tags": []
   },
   "source": [
    "### LOO"
   ]
  },
  {
   "cell_type": "markdown",
   "id": "43bc073e",
   "metadata": {
    "tags": []
   },
   "source": [
    "#### Simple example"
   ]
  },
  {
   "cell_type": "code",
   "execution_count": 363,
   "id": "4d62e48f",
   "metadata": {
    "collapsed": true,
    "jupyter": {
     "outputs_hidden": true
    },
    "tags": []
   },
   "outputs": [
    {
     "name": "stdout",
     "output_type": "stream",
     "text": [
      "Fold 0: \n",
      " Train:\n",
      " (array([[3, 4],\n",
      "       [5, 6],\n",
      "       [7, 8]]), array([2, 3, 4])), \n",
      " Validation: \n",
      "(array([[1, 2]]), array([1]))\n",
      "\n",
      "Fold 1: \n",
      " Train:\n",
      " (array([[1, 2],\n",
      "       [5, 6],\n",
      "       [7, 8]]), array([1, 3, 4])), \n",
      " Validation: \n",
      "(array([[3, 4]]), array([2]))\n",
      "\n",
      "Fold 2: \n",
      " Train:\n",
      " (array([[1, 2],\n",
      "       [3, 4],\n",
      "       [7, 8]]), array([1, 2, 4])), \n",
      " Validation: \n",
      "(array([[5, 6]]), array([3]))\n",
      "\n",
      "Fold 3: \n",
      " Train:\n",
      " (array([[1, 2],\n",
      "       [3, 4],\n",
      "       [5, 6]]), array([1, 2, 3])), \n",
      " Validation: \n",
      "(array([[7, 8]]), array([4]))\n",
      "\n"
     ]
    }
   ],
   "source": [
    "X = np.array([[1, 2], \n",
    "              [3, 4], \n",
    "              [5, 6], \n",
    "              [7, 8]])\n",
    "\n",
    "y = np.array([1, 2, 3, 4])\n",
    "\n",
    "loo = LeaveOneOut()\n",
    "list(loo.split(X))\n",
    "\n",
    "for i, (train_idx, valid_idx) in enumerate(loo.split(X)):\n",
    "    print(f'Fold {i}: \\n Train:\\n {X[train_idx], y[train_idx]}, \\n Validation: \\n{X[valid_idx], y[valid_idx]}\\n')"
   ]
  },
  {
   "cell_type": "markdown",
   "id": "c1729979",
   "metadata": {
    "tags": []
   },
   "source": [
    "#### Real Data"
   ]
  },
  {
   "cell_type": "code",
   "execution_count": 364,
   "id": "822f8e43",
   "metadata": {
    "collapsed": true,
    "jupyter": {
     "outputs_hidden": true
    }
   },
   "outputs": [
    {
     "name": "stdout",
     "output_type": "stream",
     "text": [
      "0.40621077354231006 0.3498873153766427\n"
     ]
    }
   ],
   "source": [
    "loo = LeaveOneOut()\n",
    "degree = 3\n",
    "polynomial = PolynomialFeatures(degree = degree)\n",
    "MAEs = []\n",
    "\n",
    "for i, (train_idx, valid_idx) in enumerate(loo.split(x_train)):\n",
    "    # train subset\n",
    "    x_train_s, y_train_s = x_train[train_idx], y_train[train_idx]\n",
    "    # validation\n",
    "    x_valid, y_valid = x_train[valid_idx], y_train[valid_idx]\n",
    "    \n",
    "    x_train_poly = polynomial.fit_transform(x_train_s)\n",
    "    x_valid_poly = polynomial.fit_transform(x_valid)\n",
    "    \n",
    "    model = LinearRegression()\n",
    "    model.fit(x_train_poly, y_train_s.ravel())\n",
    "    y_hat_valid = model.predict(x_valid_poly)\n",
    "    \n",
    "    MAEs.append(mean_absolute_error(y_hat_valid, y_valid.ravel()))\n",
    "\n",
    "MAEs = np.array(MAEs)\n",
    "print(MAEs.mean(), MAEs.std())"
   ]
  },
  {
   "cell_type": "markdown",
   "id": "9f5b0ca4",
   "metadata": {
    "jp-MarkdownHeadingCollapsed": true,
    "tags": []
   },
   "source": [
    "### RidgeCV"
   ]
  },
  {
   "cell_type": "code",
   "execution_count": 316,
   "id": "dcb57a2a",
   "metadata": {},
   "outputs": [
    {
     "data": {
      "text/plain": [
       "((1168, 1), (1168, 1), (292, 1), (292, 1))"
      ]
     },
     "execution_count": 316,
     "metadata": {},
     "output_type": "execute_result"
    }
   ],
   "source": [
    "df = pd.read_csv(csv_train_l_path)\n",
    "train_set = np.array(df)\n",
    "\n",
    "x_train = train_set[:, :-1]\n",
    "y_train = train_set[:, -1:]\n",
    "\n",
    "df = pd.read_csv(csv_test_l_path)\n",
    "test_set = np.array(df)\n",
    "\n",
    "x_test = test_set[:, :-1]\n",
    "y_test = test_set[:, -1:]\n",
    "\n",
    "x_train.shape, y_train.shape, x_test.shape, y_test.shape"
   ]
  },
  {
   "cell_type": "code",
   "execution_count": 317,
   "id": "0cbf22ba",
   "metadata": {},
   "outputs": [],
   "source": [
    "polynomial = PolynomialFeatures(degree=4)\n",
    "\n",
    "x_train_poly = polynomial.fit_transform(x_train)\n",
    "x_test_poly = polynomial.fit_transform(x_test)"
   ]
  },
  {
   "cell_type": "code",
   "execution_count": 318,
   "id": "f691939c",
   "metadata": {},
   "outputs": [
    {
     "data": {
      "text/html": [
       "<style>#sk-container-id-11 {\n",
       "  /* Definition of color scheme common for light and dark mode */\n",
       "  --sklearn-color-text: black;\n",
       "  --sklearn-color-line: gray;\n",
       "  /* Definition of color scheme for unfitted estimators */\n",
       "  --sklearn-color-unfitted-level-0: #fff5e6;\n",
       "  --sklearn-color-unfitted-level-1: #f6e4d2;\n",
       "  --sklearn-color-unfitted-level-2: #ffe0b3;\n",
       "  --sklearn-color-unfitted-level-3: chocolate;\n",
       "  /* Definition of color scheme for fitted estimators */\n",
       "  --sklearn-color-fitted-level-0: #f0f8ff;\n",
       "  --sklearn-color-fitted-level-1: #d4ebff;\n",
       "  --sklearn-color-fitted-level-2: #b3dbfd;\n",
       "  --sklearn-color-fitted-level-3: cornflowerblue;\n",
       "\n",
       "  /* Specific color for light theme */\n",
       "  --sklearn-color-text-on-default-background: var(--sg-text-color, var(--theme-code-foreground, var(--jp-content-font-color1, black)));\n",
       "  --sklearn-color-background: var(--sg-background-color, var(--theme-background, var(--jp-layout-color0, white)));\n",
       "  --sklearn-color-border-box: var(--sg-text-color, var(--theme-code-foreground, var(--jp-content-font-color1, black)));\n",
       "  --sklearn-color-icon: #696969;\n",
       "\n",
       "  @media (prefers-color-scheme: dark) {\n",
       "    /* Redefinition of color scheme for dark theme */\n",
       "    --sklearn-color-text-on-default-background: var(--sg-text-color, var(--theme-code-foreground, var(--jp-content-font-color1, white)));\n",
       "    --sklearn-color-background: var(--sg-background-color, var(--theme-background, var(--jp-layout-color0, #111)));\n",
       "    --sklearn-color-border-box: var(--sg-text-color, var(--theme-code-foreground, var(--jp-content-font-color1, white)));\n",
       "    --sklearn-color-icon: #878787;\n",
       "  }\n",
       "}\n",
       "\n",
       "#sk-container-id-11 {\n",
       "  color: var(--sklearn-color-text);\n",
       "}\n",
       "\n",
       "#sk-container-id-11 pre {\n",
       "  padding: 0;\n",
       "}\n",
       "\n",
       "#sk-container-id-11 input.sk-hidden--visually {\n",
       "  border: 0;\n",
       "  clip: rect(1px 1px 1px 1px);\n",
       "  clip: rect(1px, 1px, 1px, 1px);\n",
       "  height: 1px;\n",
       "  margin: -1px;\n",
       "  overflow: hidden;\n",
       "  padding: 0;\n",
       "  position: absolute;\n",
       "  width: 1px;\n",
       "}\n",
       "\n",
       "#sk-container-id-11 div.sk-dashed-wrapped {\n",
       "  border: 1px dashed var(--sklearn-color-line);\n",
       "  margin: 0 0.4em 0.5em 0.4em;\n",
       "  box-sizing: border-box;\n",
       "  padding-bottom: 0.4em;\n",
       "  background-color: var(--sklearn-color-background);\n",
       "}\n",
       "\n",
       "#sk-container-id-11 div.sk-container {\n",
       "  /* jupyter's `normalize.less` sets `[hidden] { display: none; }`\n",
       "     but bootstrap.min.css set `[hidden] { display: none !important; }`\n",
       "     so we also need the `!important` here to be able to override the\n",
       "     default hidden behavior on the sphinx rendered scikit-learn.org.\n",
       "     See: https://github.com/scikit-learn/scikit-learn/issues/21755 */\n",
       "  display: inline-block !important;\n",
       "  position: relative;\n",
       "}\n",
       "\n",
       "#sk-container-id-11 div.sk-text-repr-fallback {\n",
       "  display: none;\n",
       "}\n",
       "\n",
       "div.sk-parallel-item,\n",
       "div.sk-serial,\n",
       "div.sk-item {\n",
       "  /* draw centered vertical line to link estimators */\n",
       "  background-image: linear-gradient(var(--sklearn-color-text-on-default-background), var(--sklearn-color-text-on-default-background));\n",
       "  background-size: 2px 100%;\n",
       "  background-repeat: no-repeat;\n",
       "  background-position: center center;\n",
       "}\n",
       "\n",
       "/* Parallel-specific style estimator block */\n",
       "\n",
       "#sk-container-id-11 div.sk-parallel-item::after {\n",
       "  content: \"\";\n",
       "  width: 100%;\n",
       "  border-bottom: 2px solid var(--sklearn-color-text-on-default-background);\n",
       "  flex-grow: 1;\n",
       "}\n",
       "\n",
       "#sk-container-id-11 div.sk-parallel {\n",
       "  display: flex;\n",
       "  align-items: stretch;\n",
       "  justify-content: center;\n",
       "  background-color: var(--sklearn-color-background);\n",
       "  position: relative;\n",
       "}\n",
       "\n",
       "#sk-container-id-11 div.sk-parallel-item {\n",
       "  display: flex;\n",
       "  flex-direction: column;\n",
       "}\n",
       "\n",
       "#sk-container-id-11 div.sk-parallel-item:first-child::after {\n",
       "  align-self: flex-end;\n",
       "  width: 50%;\n",
       "}\n",
       "\n",
       "#sk-container-id-11 div.sk-parallel-item:last-child::after {\n",
       "  align-self: flex-start;\n",
       "  width: 50%;\n",
       "}\n",
       "\n",
       "#sk-container-id-11 div.sk-parallel-item:only-child::after {\n",
       "  width: 0;\n",
       "}\n",
       "\n",
       "/* Serial-specific style estimator block */\n",
       "\n",
       "#sk-container-id-11 div.sk-serial {\n",
       "  display: flex;\n",
       "  flex-direction: column;\n",
       "  align-items: center;\n",
       "  background-color: var(--sklearn-color-background);\n",
       "  padding-right: 1em;\n",
       "  padding-left: 1em;\n",
       "}\n",
       "\n",
       "\n",
       "/* Toggleable style: style used for estimator/Pipeline/ColumnTransformer box that is\n",
       "clickable and can be expanded/collapsed.\n",
       "- Pipeline and ColumnTransformer use this feature and define the default style\n",
       "- Estimators will overwrite some part of the style using the `sk-estimator` class\n",
       "*/\n",
       "\n",
       "/* Pipeline and ColumnTransformer style (default) */\n",
       "\n",
       "#sk-container-id-11 div.sk-toggleable {\n",
       "  /* Default theme specific background. It is overwritten whether we have a\n",
       "  specific estimator or a Pipeline/ColumnTransformer */\n",
       "  background-color: var(--sklearn-color-background);\n",
       "}\n",
       "\n",
       "/* Toggleable label */\n",
       "#sk-container-id-11 label.sk-toggleable__label {\n",
       "  cursor: pointer;\n",
       "  display: block;\n",
       "  width: 100%;\n",
       "  margin-bottom: 0;\n",
       "  padding: 0.5em;\n",
       "  box-sizing: border-box;\n",
       "  text-align: center;\n",
       "}\n",
       "\n",
       "#sk-container-id-11 label.sk-toggleable__label-arrow:before {\n",
       "  /* Arrow on the left of the label */\n",
       "  content: \"▸\";\n",
       "  float: left;\n",
       "  margin-right: 0.25em;\n",
       "  color: var(--sklearn-color-icon);\n",
       "}\n",
       "\n",
       "#sk-container-id-11 label.sk-toggleable__label-arrow:hover:before {\n",
       "  color: var(--sklearn-color-text);\n",
       "}\n",
       "\n",
       "/* Toggleable content - dropdown */\n",
       "\n",
       "#sk-container-id-11 div.sk-toggleable__content {\n",
       "  max-height: 0;\n",
       "  max-width: 0;\n",
       "  overflow: hidden;\n",
       "  text-align: left;\n",
       "  /* unfitted */\n",
       "  background-color: var(--sklearn-color-unfitted-level-0);\n",
       "}\n",
       "\n",
       "#sk-container-id-11 div.sk-toggleable__content.fitted {\n",
       "  /* fitted */\n",
       "  background-color: var(--sklearn-color-fitted-level-0);\n",
       "}\n",
       "\n",
       "#sk-container-id-11 div.sk-toggleable__content pre {\n",
       "  margin: 0.2em;\n",
       "  border-radius: 0.25em;\n",
       "  color: var(--sklearn-color-text);\n",
       "  /* unfitted */\n",
       "  background-color: var(--sklearn-color-unfitted-level-0);\n",
       "}\n",
       "\n",
       "#sk-container-id-11 div.sk-toggleable__content.fitted pre {\n",
       "  /* unfitted */\n",
       "  background-color: var(--sklearn-color-fitted-level-0);\n",
       "}\n",
       "\n",
       "#sk-container-id-11 input.sk-toggleable__control:checked~div.sk-toggleable__content {\n",
       "  /* Expand drop-down */\n",
       "  max-height: 200px;\n",
       "  max-width: 100%;\n",
       "  overflow: auto;\n",
       "}\n",
       "\n",
       "#sk-container-id-11 input.sk-toggleable__control:checked~label.sk-toggleable__label-arrow:before {\n",
       "  content: \"▾\";\n",
       "}\n",
       "\n",
       "/* Pipeline/ColumnTransformer-specific style */\n",
       "\n",
       "#sk-container-id-11 div.sk-label input.sk-toggleable__control:checked~label.sk-toggleable__label {\n",
       "  color: var(--sklearn-color-text);\n",
       "  background-color: var(--sklearn-color-unfitted-level-2);\n",
       "}\n",
       "\n",
       "#sk-container-id-11 div.sk-label.fitted input.sk-toggleable__control:checked~label.sk-toggleable__label {\n",
       "  background-color: var(--sklearn-color-fitted-level-2);\n",
       "}\n",
       "\n",
       "/* Estimator-specific style */\n",
       "\n",
       "/* Colorize estimator box */\n",
       "#sk-container-id-11 div.sk-estimator input.sk-toggleable__control:checked~label.sk-toggleable__label {\n",
       "  /* unfitted */\n",
       "  background-color: var(--sklearn-color-unfitted-level-2);\n",
       "}\n",
       "\n",
       "#sk-container-id-11 div.sk-estimator.fitted input.sk-toggleable__control:checked~label.sk-toggleable__label {\n",
       "  /* fitted */\n",
       "  background-color: var(--sklearn-color-fitted-level-2);\n",
       "}\n",
       "\n",
       "#sk-container-id-11 div.sk-label label.sk-toggleable__label,\n",
       "#sk-container-id-11 div.sk-label label {\n",
       "  /* The background is the default theme color */\n",
       "  color: var(--sklearn-color-text-on-default-background);\n",
       "}\n",
       "\n",
       "/* On hover, darken the color of the background */\n",
       "#sk-container-id-11 div.sk-label:hover label.sk-toggleable__label {\n",
       "  color: var(--sklearn-color-text);\n",
       "  background-color: var(--sklearn-color-unfitted-level-2);\n",
       "}\n",
       "\n",
       "/* Label box, darken color on hover, fitted */\n",
       "#sk-container-id-11 div.sk-label.fitted:hover label.sk-toggleable__label.fitted {\n",
       "  color: var(--sklearn-color-text);\n",
       "  background-color: var(--sklearn-color-fitted-level-2);\n",
       "}\n",
       "\n",
       "/* Estimator label */\n",
       "\n",
       "#sk-container-id-11 div.sk-label label {\n",
       "  font-family: monospace;\n",
       "  font-weight: bold;\n",
       "  display: inline-block;\n",
       "  line-height: 1.2em;\n",
       "}\n",
       "\n",
       "#sk-container-id-11 div.sk-label-container {\n",
       "  text-align: center;\n",
       "}\n",
       "\n",
       "/* Estimator-specific */\n",
       "#sk-container-id-11 div.sk-estimator {\n",
       "  font-family: monospace;\n",
       "  border: 1px dotted var(--sklearn-color-border-box);\n",
       "  border-radius: 0.25em;\n",
       "  box-sizing: border-box;\n",
       "  margin-bottom: 0.5em;\n",
       "  /* unfitted */\n",
       "  background-color: var(--sklearn-color-unfitted-level-0);\n",
       "}\n",
       "\n",
       "#sk-container-id-11 div.sk-estimator.fitted {\n",
       "  /* fitted */\n",
       "  background-color: var(--sklearn-color-fitted-level-0);\n",
       "}\n",
       "\n",
       "/* on hover */\n",
       "#sk-container-id-11 div.sk-estimator:hover {\n",
       "  /* unfitted */\n",
       "  background-color: var(--sklearn-color-unfitted-level-2);\n",
       "}\n",
       "\n",
       "#sk-container-id-11 div.sk-estimator.fitted:hover {\n",
       "  /* fitted */\n",
       "  background-color: var(--sklearn-color-fitted-level-2);\n",
       "}\n",
       "\n",
       "/* Specification for estimator info (e.g. \"i\" and \"?\") */\n",
       "\n",
       "/* Common style for \"i\" and \"?\" */\n",
       "\n",
       ".sk-estimator-doc-link,\n",
       "a:link.sk-estimator-doc-link,\n",
       "a:visited.sk-estimator-doc-link {\n",
       "  float: right;\n",
       "  font-size: smaller;\n",
       "  line-height: 1em;\n",
       "  font-family: monospace;\n",
       "  background-color: var(--sklearn-color-background);\n",
       "  border-radius: 1em;\n",
       "  height: 1em;\n",
       "  width: 1em;\n",
       "  text-decoration: none !important;\n",
       "  margin-left: 1ex;\n",
       "  /* unfitted */\n",
       "  border: var(--sklearn-color-unfitted-level-1) 1pt solid;\n",
       "  color: var(--sklearn-color-unfitted-level-1);\n",
       "}\n",
       "\n",
       ".sk-estimator-doc-link.fitted,\n",
       "a:link.sk-estimator-doc-link.fitted,\n",
       "a:visited.sk-estimator-doc-link.fitted {\n",
       "  /* fitted */\n",
       "  border: var(--sklearn-color-fitted-level-1) 1pt solid;\n",
       "  color: var(--sklearn-color-fitted-level-1);\n",
       "}\n",
       "\n",
       "/* On hover */\n",
       "div.sk-estimator:hover .sk-estimator-doc-link:hover,\n",
       ".sk-estimator-doc-link:hover,\n",
       "div.sk-label-container:hover .sk-estimator-doc-link:hover,\n",
       ".sk-estimator-doc-link:hover {\n",
       "  /* unfitted */\n",
       "  background-color: var(--sklearn-color-unfitted-level-3);\n",
       "  color: var(--sklearn-color-background);\n",
       "  text-decoration: none;\n",
       "}\n",
       "\n",
       "div.sk-estimator.fitted:hover .sk-estimator-doc-link.fitted:hover,\n",
       ".sk-estimator-doc-link.fitted:hover,\n",
       "div.sk-label-container:hover .sk-estimator-doc-link.fitted:hover,\n",
       ".sk-estimator-doc-link.fitted:hover {\n",
       "  /* fitted */\n",
       "  background-color: var(--sklearn-color-fitted-level-3);\n",
       "  color: var(--sklearn-color-background);\n",
       "  text-decoration: none;\n",
       "}\n",
       "\n",
       "/* Span, style for the box shown on hovering the info icon */\n",
       ".sk-estimator-doc-link span {\n",
       "  display: none;\n",
       "  z-index: 9999;\n",
       "  position: relative;\n",
       "  font-weight: normal;\n",
       "  right: .2ex;\n",
       "  padding: .5ex;\n",
       "  margin: .5ex;\n",
       "  width: min-content;\n",
       "  min-width: 20ex;\n",
       "  max-width: 50ex;\n",
       "  color: var(--sklearn-color-text);\n",
       "  box-shadow: 2pt 2pt 4pt #999;\n",
       "  /* unfitted */\n",
       "  background: var(--sklearn-color-unfitted-level-0);\n",
       "  border: .5pt solid var(--sklearn-color-unfitted-level-3);\n",
       "}\n",
       "\n",
       ".sk-estimator-doc-link.fitted span {\n",
       "  /* fitted */\n",
       "  background: var(--sklearn-color-fitted-level-0);\n",
       "  border: var(--sklearn-color-fitted-level-3);\n",
       "}\n",
       "\n",
       ".sk-estimator-doc-link:hover span {\n",
       "  display: block;\n",
       "}\n",
       "\n",
       "/* \"?\"-specific style due to the `<a>` HTML tag */\n",
       "\n",
       "#sk-container-id-11 a.estimator_doc_link {\n",
       "  float: right;\n",
       "  font-size: 1rem;\n",
       "  line-height: 1em;\n",
       "  font-family: monospace;\n",
       "  background-color: var(--sklearn-color-background);\n",
       "  border-radius: 1rem;\n",
       "  height: 1rem;\n",
       "  width: 1rem;\n",
       "  text-decoration: none;\n",
       "  /* unfitted */\n",
       "  color: var(--sklearn-color-unfitted-level-1);\n",
       "  border: var(--sklearn-color-unfitted-level-1) 1pt solid;\n",
       "}\n",
       "\n",
       "#sk-container-id-11 a.estimator_doc_link.fitted {\n",
       "  /* fitted */\n",
       "  border: var(--sklearn-color-fitted-level-1) 1pt solid;\n",
       "  color: var(--sklearn-color-fitted-level-1);\n",
       "}\n",
       "\n",
       "/* On hover */\n",
       "#sk-container-id-11 a.estimator_doc_link:hover {\n",
       "  /* unfitted */\n",
       "  background-color: var(--sklearn-color-unfitted-level-3);\n",
       "  color: var(--sklearn-color-background);\n",
       "  text-decoration: none;\n",
       "}\n",
       "\n",
       "#sk-container-id-11 a.estimator_doc_link.fitted:hover {\n",
       "  /* fitted */\n",
       "  background-color: var(--sklearn-color-fitted-level-3);\n",
       "}\n",
       "</style><div id=\"sk-container-id-11\" class=\"sk-top-container\"><div class=\"sk-text-repr-fallback\"><pre>RidgeCV(alphas=(100.0, 10.0, 1.0, 0.1, 0.01, 0.001), cv=10, scoring=&#x27;r2&#x27;)</pre><b>In a Jupyter environment, please rerun this cell to show the HTML representation or trust the notebook. <br />On GitHub, the HTML representation is unable to render, please try loading this page with nbviewer.org.</b></div><div class=\"sk-container\" hidden><div class=\"sk-item\"><div class=\"sk-estimator fitted sk-toggleable\"><input class=\"sk-toggleable__control sk-hidden--visually\" id=\"sk-estimator-id-15\" type=\"checkbox\" checked><label for=\"sk-estimator-id-15\" class=\"sk-toggleable__label fitted sk-toggleable__label-arrow fitted\">&nbsp;&nbsp;RidgeCV<a class=\"sk-estimator-doc-link fitted\" rel=\"noreferrer\" target=\"_blank\" href=\"https://scikit-learn.org/1.5/modules/generated/sklearn.linear_model.RidgeCV.html\">?<span>Documentation for RidgeCV</span></a><span class=\"sk-estimator-doc-link fitted\">i<span>Fitted</span></span></label><div class=\"sk-toggleable__content fitted\"><pre>RidgeCV(alphas=(100.0, 10.0, 1.0, 0.1, 0.01, 0.001), cv=10, scoring=&#x27;r2&#x27;)</pre></div> </div></div></div></div>"
      ],
      "text/plain": [
       "RidgeCV(alphas=(100.0, 10.0, 1.0, 0.1, 0.01, 0.001), cv=10, scoring='r2')"
      ]
     },
     "execution_count": 318,
     "metadata": {},
     "output_type": "execute_result"
    }
   ],
   "source": [
    "model = RidgeCV(alphas=(100., 10., 1.0, 0.1, 0.01, 0.001), scoring='r2', cv=10)\n",
    "model.fit(x_train_poly, y_train)"
   ]
  },
  {
   "cell_type": "code",
   "execution_count": 319,
   "id": "5b0fa63b",
   "metadata": {},
   "outputs": [
    {
     "data": {
      "text/plain": [
       "10.0"
      ]
     },
     "execution_count": 319,
     "metadata": {},
     "output_type": "execute_result"
    }
   ],
   "source": [
    "model.alpha_"
   ]
  },
  {
   "cell_type": "code",
   "execution_count": 320,
   "id": "2ce5a27d",
   "metadata": {},
   "outputs": [
    {
     "data": {
      "text/plain": [
       "0.7042104695234381"
      ]
     },
     "execution_count": 320,
     "metadata": {},
     "output_type": "execute_result"
    }
   ],
   "source": [
    "model = Ridge(alpha=10.)\n",
    "model.fit(x_train_poly, y_train)\n",
    "model.score(x_test_poly, y_test)"
   ]
  },
  {
   "cell_type": "markdown",
   "id": "4aa5a479",
   "metadata": {
    "jp-MarkdownHeadingCollapsed": true
   },
   "source": [
    "## ElasticNetCV"
   ]
  },
  {
   "cell_type": "code",
   "execution_count": 321,
   "id": "ca3e2637",
   "metadata": {},
   "outputs": [
    {
     "data": {
      "text/plain": [
       "((1168, 1), (1168, 1), (292, 1), (292, 1))"
      ]
     },
     "execution_count": 321,
     "metadata": {},
     "output_type": "execute_result"
    }
   ],
   "source": [
    "df = pd.read_csv(csv_train_l_path)\n",
    "train_set = np.array(df)\n",
    "\n",
    "x_train = train_set[:, :-1]\n",
    "y_train = train_set[:, -1:]\n",
    "\n",
    "df = pd.read_csv(csv_test_l_path)\n",
    "test_set = np.array(df)\n",
    "\n",
    "x_test = test_set[:, :-1]\n",
    "y_test = test_set[:, -1:]\n",
    "\n",
    "x_train.shape, y_train.shape, x_test.shape, y_test.shape"
   ]
  },
  {
   "cell_type": "code",
   "execution_count": 322,
   "id": "9b2fcbd8",
   "metadata": {},
   "outputs": [],
   "source": [
    "polynomial = PolynomialFeatures(degree=4)\n",
    "\n",
    "x_train_poly = polynomial.fit_transform(x_train)\n",
    "x_test_poly = polynomial.fit_transform(x_test)"
   ]
  },
  {
   "cell_type": "code",
   "execution_count": 323,
   "id": "bdff9e6c",
   "metadata": {},
   "outputs": [
    {
     "data": {
      "text/html": [
       "<style>#sk-container-id-12 {\n",
       "  /* Definition of color scheme common for light and dark mode */\n",
       "  --sklearn-color-text: black;\n",
       "  --sklearn-color-line: gray;\n",
       "  /* Definition of color scheme for unfitted estimators */\n",
       "  --sklearn-color-unfitted-level-0: #fff5e6;\n",
       "  --sklearn-color-unfitted-level-1: #f6e4d2;\n",
       "  --sklearn-color-unfitted-level-2: #ffe0b3;\n",
       "  --sklearn-color-unfitted-level-3: chocolate;\n",
       "  /* Definition of color scheme for fitted estimators */\n",
       "  --sklearn-color-fitted-level-0: #f0f8ff;\n",
       "  --sklearn-color-fitted-level-1: #d4ebff;\n",
       "  --sklearn-color-fitted-level-2: #b3dbfd;\n",
       "  --sklearn-color-fitted-level-3: cornflowerblue;\n",
       "\n",
       "  /* Specific color for light theme */\n",
       "  --sklearn-color-text-on-default-background: var(--sg-text-color, var(--theme-code-foreground, var(--jp-content-font-color1, black)));\n",
       "  --sklearn-color-background: var(--sg-background-color, var(--theme-background, var(--jp-layout-color0, white)));\n",
       "  --sklearn-color-border-box: var(--sg-text-color, var(--theme-code-foreground, var(--jp-content-font-color1, black)));\n",
       "  --sklearn-color-icon: #696969;\n",
       "\n",
       "  @media (prefers-color-scheme: dark) {\n",
       "    /* Redefinition of color scheme for dark theme */\n",
       "    --sklearn-color-text-on-default-background: var(--sg-text-color, var(--theme-code-foreground, var(--jp-content-font-color1, white)));\n",
       "    --sklearn-color-background: var(--sg-background-color, var(--theme-background, var(--jp-layout-color0, #111)));\n",
       "    --sklearn-color-border-box: var(--sg-text-color, var(--theme-code-foreground, var(--jp-content-font-color1, white)));\n",
       "    --sklearn-color-icon: #878787;\n",
       "  }\n",
       "}\n",
       "\n",
       "#sk-container-id-12 {\n",
       "  color: var(--sklearn-color-text);\n",
       "}\n",
       "\n",
       "#sk-container-id-12 pre {\n",
       "  padding: 0;\n",
       "}\n",
       "\n",
       "#sk-container-id-12 input.sk-hidden--visually {\n",
       "  border: 0;\n",
       "  clip: rect(1px 1px 1px 1px);\n",
       "  clip: rect(1px, 1px, 1px, 1px);\n",
       "  height: 1px;\n",
       "  margin: -1px;\n",
       "  overflow: hidden;\n",
       "  padding: 0;\n",
       "  position: absolute;\n",
       "  width: 1px;\n",
       "}\n",
       "\n",
       "#sk-container-id-12 div.sk-dashed-wrapped {\n",
       "  border: 1px dashed var(--sklearn-color-line);\n",
       "  margin: 0 0.4em 0.5em 0.4em;\n",
       "  box-sizing: border-box;\n",
       "  padding-bottom: 0.4em;\n",
       "  background-color: var(--sklearn-color-background);\n",
       "}\n",
       "\n",
       "#sk-container-id-12 div.sk-container {\n",
       "  /* jupyter's `normalize.less` sets `[hidden] { display: none; }`\n",
       "     but bootstrap.min.css set `[hidden] { display: none !important; }`\n",
       "     so we also need the `!important` here to be able to override the\n",
       "     default hidden behavior on the sphinx rendered scikit-learn.org.\n",
       "     See: https://github.com/scikit-learn/scikit-learn/issues/21755 */\n",
       "  display: inline-block !important;\n",
       "  position: relative;\n",
       "}\n",
       "\n",
       "#sk-container-id-12 div.sk-text-repr-fallback {\n",
       "  display: none;\n",
       "}\n",
       "\n",
       "div.sk-parallel-item,\n",
       "div.sk-serial,\n",
       "div.sk-item {\n",
       "  /* draw centered vertical line to link estimators */\n",
       "  background-image: linear-gradient(var(--sklearn-color-text-on-default-background), var(--sklearn-color-text-on-default-background));\n",
       "  background-size: 2px 100%;\n",
       "  background-repeat: no-repeat;\n",
       "  background-position: center center;\n",
       "}\n",
       "\n",
       "/* Parallel-specific style estimator block */\n",
       "\n",
       "#sk-container-id-12 div.sk-parallel-item::after {\n",
       "  content: \"\";\n",
       "  width: 100%;\n",
       "  border-bottom: 2px solid var(--sklearn-color-text-on-default-background);\n",
       "  flex-grow: 1;\n",
       "}\n",
       "\n",
       "#sk-container-id-12 div.sk-parallel {\n",
       "  display: flex;\n",
       "  align-items: stretch;\n",
       "  justify-content: center;\n",
       "  background-color: var(--sklearn-color-background);\n",
       "  position: relative;\n",
       "}\n",
       "\n",
       "#sk-container-id-12 div.sk-parallel-item {\n",
       "  display: flex;\n",
       "  flex-direction: column;\n",
       "}\n",
       "\n",
       "#sk-container-id-12 div.sk-parallel-item:first-child::after {\n",
       "  align-self: flex-end;\n",
       "  width: 50%;\n",
       "}\n",
       "\n",
       "#sk-container-id-12 div.sk-parallel-item:last-child::after {\n",
       "  align-self: flex-start;\n",
       "  width: 50%;\n",
       "}\n",
       "\n",
       "#sk-container-id-12 div.sk-parallel-item:only-child::after {\n",
       "  width: 0;\n",
       "}\n",
       "\n",
       "/* Serial-specific style estimator block */\n",
       "\n",
       "#sk-container-id-12 div.sk-serial {\n",
       "  display: flex;\n",
       "  flex-direction: column;\n",
       "  align-items: center;\n",
       "  background-color: var(--sklearn-color-background);\n",
       "  padding-right: 1em;\n",
       "  padding-left: 1em;\n",
       "}\n",
       "\n",
       "\n",
       "/* Toggleable style: style used for estimator/Pipeline/ColumnTransformer box that is\n",
       "clickable and can be expanded/collapsed.\n",
       "- Pipeline and ColumnTransformer use this feature and define the default style\n",
       "- Estimators will overwrite some part of the style using the `sk-estimator` class\n",
       "*/\n",
       "\n",
       "/* Pipeline and ColumnTransformer style (default) */\n",
       "\n",
       "#sk-container-id-12 div.sk-toggleable {\n",
       "  /* Default theme specific background. It is overwritten whether we have a\n",
       "  specific estimator or a Pipeline/ColumnTransformer */\n",
       "  background-color: var(--sklearn-color-background);\n",
       "}\n",
       "\n",
       "/* Toggleable label */\n",
       "#sk-container-id-12 label.sk-toggleable__label {\n",
       "  cursor: pointer;\n",
       "  display: block;\n",
       "  width: 100%;\n",
       "  margin-bottom: 0;\n",
       "  padding: 0.5em;\n",
       "  box-sizing: border-box;\n",
       "  text-align: center;\n",
       "}\n",
       "\n",
       "#sk-container-id-12 label.sk-toggleable__label-arrow:before {\n",
       "  /* Arrow on the left of the label */\n",
       "  content: \"▸\";\n",
       "  float: left;\n",
       "  margin-right: 0.25em;\n",
       "  color: var(--sklearn-color-icon);\n",
       "}\n",
       "\n",
       "#sk-container-id-12 label.sk-toggleable__label-arrow:hover:before {\n",
       "  color: var(--sklearn-color-text);\n",
       "}\n",
       "\n",
       "/* Toggleable content - dropdown */\n",
       "\n",
       "#sk-container-id-12 div.sk-toggleable__content {\n",
       "  max-height: 0;\n",
       "  max-width: 0;\n",
       "  overflow: hidden;\n",
       "  text-align: left;\n",
       "  /* unfitted */\n",
       "  background-color: var(--sklearn-color-unfitted-level-0);\n",
       "}\n",
       "\n",
       "#sk-container-id-12 div.sk-toggleable__content.fitted {\n",
       "  /* fitted */\n",
       "  background-color: var(--sklearn-color-fitted-level-0);\n",
       "}\n",
       "\n",
       "#sk-container-id-12 div.sk-toggleable__content pre {\n",
       "  margin: 0.2em;\n",
       "  border-radius: 0.25em;\n",
       "  color: var(--sklearn-color-text);\n",
       "  /* unfitted */\n",
       "  background-color: var(--sklearn-color-unfitted-level-0);\n",
       "}\n",
       "\n",
       "#sk-container-id-12 div.sk-toggleable__content.fitted pre {\n",
       "  /* unfitted */\n",
       "  background-color: var(--sklearn-color-fitted-level-0);\n",
       "}\n",
       "\n",
       "#sk-container-id-12 input.sk-toggleable__control:checked~div.sk-toggleable__content {\n",
       "  /* Expand drop-down */\n",
       "  max-height: 200px;\n",
       "  max-width: 100%;\n",
       "  overflow: auto;\n",
       "}\n",
       "\n",
       "#sk-container-id-12 input.sk-toggleable__control:checked~label.sk-toggleable__label-arrow:before {\n",
       "  content: \"▾\";\n",
       "}\n",
       "\n",
       "/* Pipeline/ColumnTransformer-specific style */\n",
       "\n",
       "#sk-container-id-12 div.sk-label input.sk-toggleable__control:checked~label.sk-toggleable__label {\n",
       "  color: var(--sklearn-color-text);\n",
       "  background-color: var(--sklearn-color-unfitted-level-2);\n",
       "}\n",
       "\n",
       "#sk-container-id-12 div.sk-label.fitted input.sk-toggleable__control:checked~label.sk-toggleable__label {\n",
       "  background-color: var(--sklearn-color-fitted-level-2);\n",
       "}\n",
       "\n",
       "/* Estimator-specific style */\n",
       "\n",
       "/* Colorize estimator box */\n",
       "#sk-container-id-12 div.sk-estimator input.sk-toggleable__control:checked~label.sk-toggleable__label {\n",
       "  /* unfitted */\n",
       "  background-color: var(--sklearn-color-unfitted-level-2);\n",
       "}\n",
       "\n",
       "#sk-container-id-12 div.sk-estimator.fitted input.sk-toggleable__control:checked~label.sk-toggleable__label {\n",
       "  /* fitted */\n",
       "  background-color: var(--sklearn-color-fitted-level-2);\n",
       "}\n",
       "\n",
       "#sk-container-id-12 div.sk-label label.sk-toggleable__label,\n",
       "#sk-container-id-12 div.sk-label label {\n",
       "  /* The background is the default theme color */\n",
       "  color: var(--sklearn-color-text-on-default-background);\n",
       "}\n",
       "\n",
       "/* On hover, darken the color of the background */\n",
       "#sk-container-id-12 div.sk-label:hover label.sk-toggleable__label {\n",
       "  color: var(--sklearn-color-text);\n",
       "  background-color: var(--sklearn-color-unfitted-level-2);\n",
       "}\n",
       "\n",
       "/* Label box, darken color on hover, fitted */\n",
       "#sk-container-id-12 div.sk-label.fitted:hover label.sk-toggleable__label.fitted {\n",
       "  color: var(--sklearn-color-text);\n",
       "  background-color: var(--sklearn-color-fitted-level-2);\n",
       "}\n",
       "\n",
       "/* Estimator label */\n",
       "\n",
       "#sk-container-id-12 div.sk-label label {\n",
       "  font-family: monospace;\n",
       "  font-weight: bold;\n",
       "  display: inline-block;\n",
       "  line-height: 1.2em;\n",
       "}\n",
       "\n",
       "#sk-container-id-12 div.sk-label-container {\n",
       "  text-align: center;\n",
       "}\n",
       "\n",
       "/* Estimator-specific */\n",
       "#sk-container-id-12 div.sk-estimator {\n",
       "  font-family: monospace;\n",
       "  border: 1px dotted var(--sklearn-color-border-box);\n",
       "  border-radius: 0.25em;\n",
       "  box-sizing: border-box;\n",
       "  margin-bottom: 0.5em;\n",
       "  /* unfitted */\n",
       "  background-color: var(--sklearn-color-unfitted-level-0);\n",
       "}\n",
       "\n",
       "#sk-container-id-12 div.sk-estimator.fitted {\n",
       "  /* fitted */\n",
       "  background-color: var(--sklearn-color-fitted-level-0);\n",
       "}\n",
       "\n",
       "/* on hover */\n",
       "#sk-container-id-12 div.sk-estimator:hover {\n",
       "  /* unfitted */\n",
       "  background-color: var(--sklearn-color-unfitted-level-2);\n",
       "}\n",
       "\n",
       "#sk-container-id-12 div.sk-estimator.fitted:hover {\n",
       "  /* fitted */\n",
       "  background-color: var(--sklearn-color-fitted-level-2);\n",
       "}\n",
       "\n",
       "/* Specification for estimator info (e.g. \"i\" and \"?\") */\n",
       "\n",
       "/* Common style for \"i\" and \"?\" */\n",
       "\n",
       ".sk-estimator-doc-link,\n",
       "a:link.sk-estimator-doc-link,\n",
       "a:visited.sk-estimator-doc-link {\n",
       "  float: right;\n",
       "  font-size: smaller;\n",
       "  line-height: 1em;\n",
       "  font-family: monospace;\n",
       "  background-color: var(--sklearn-color-background);\n",
       "  border-radius: 1em;\n",
       "  height: 1em;\n",
       "  width: 1em;\n",
       "  text-decoration: none !important;\n",
       "  margin-left: 1ex;\n",
       "  /* unfitted */\n",
       "  border: var(--sklearn-color-unfitted-level-1) 1pt solid;\n",
       "  color: var(--sklearn-color-unfitted-level-1);\n",
       "}\n",
       "\n",
       ".sk-estimator-doc-link.fitted,\n",
       "a:link.sk-estimator-doc-link.fitted,\n",
       "a:visited.sk-estimator-doc-link.fitted {\n",
       "  /* fitted */\n",
       "  border: var(--sklearn-color-fitted-level-1) 1pt solid;\n",
       "  color: var(--sklearn-color-fitted-level-1);\n",
       "}\n",
       "\n",
       "/* On hover */\n",
       "div.sk-estimator:hover .sk-estimator-doc-link:hover,\n",
       ".sk-estimator-doc-link:hover,\n",
       "div.sk-label-container:hover .sk-estimator-doc-link:hover,\n",
       ".sk-estimator-doc-link:hover {\n",
       "  /* unfitted */\n",
       "  background-color: var(--sklearn-color-unfitted-level-3);\n",
       "  color: var(--sklearn-color-background);\n",
       "  text-decoration: none;\n",
       "}\n",
       "\n",
       "div.sk-estimator.fitted:hover .sk-estimator-doc-link.fitted:hover,\n",
       ".sk-estimator-doc-link.fitted:hover,\n",
       "div.sk-label-container:hover .sk-estimator-doc-link.fitted:hover,\n",
       ".sk-estimator-doc-link.fitted:hover {\n",
       "  /* fitted */\n",
       "  background-color: var(--sklearn-color-fitted-level-3);\n",
       "  color: var(--sklearn-color-background);\n",
       "  text-decoration: none;\n",
       "}\n",
       "\n",
       "/* Span, style for the box shown on hovering the info icon */\n",
       ".sk-estimator-doc-link span {\n",
       "  display: none;\n",
       "  z-index: 9999;\n",
       "  position: relative;\n",
       "  font-weight: normal;\n",
       "  right: .2ex;\n",
       "  padding: .5ex;\n",
       "  margin: .5ex;\n",
       "  width: min-content;\n",
       "  min-width: 20ex;\n",
       "  max-width: 50ex;\n",
       "  color: var(--sklearn-color-text);\n",
       "  box-shadow: 2pt 2pt 4pt #999;\n",
       "  /* unfitted */\n",
       "  background: var(--sklearn-color-unfitted-level-0);\n",
       "  border: .5pt solid var(--sklearn-color-unfitted-level-3);\n",
       "}\n",
       "\n",
       ".sk-estimator-doc-link.fitted span {\n",
       "  /* fitted */\n",
       "  background: var(--sklearn-color-fitted-level-0);\n",
       "  border: var(--sklearn-color-fitted-level-3);\n",
       "}\n",
       "\n",
       ".sk-estimator-doc-link:hover span {\n",
       "  display: block;\n",
       "}\n",
       "\n",
       "/* \"?\"-specific style due to the `<a>` HTML tag */\n",
       "\n",
       "#sk-container-id-12 a.estimator_doc_link {\n",
       "  float: right;\n",
       "  font-size: 1rem;\n",
       "  line-height: 1em;\n",
       "  font-family: monospace;\n",
       "  background-color: var(--sklearn-color-background);\n",
       "  border-radius: 1rem;\n",
       "  height: 1rem;\n",
       "  width: 1rem;\n",
       "  text-decoration: none;\n",
       "  /* unfitted */\n",
       "  color: var(--sklearn-color-unfitted-level-1);\n",
       "  border: var(--sklearn-color-unfitted-level-1) 1pt solid;\n",
       "}\n",
       "\n",
       "#sk-container-id-12 a.estimator_doc_link.fitted {\n",
       "  /* fitted */\n",
       "  border: var(--sklearn-color-fitted-level-1) 1pt solid;\n",
       "  color: var(--sklearn-color-fitted-level-1);\n",
       "}\n",
       "\n",
       "/* On hover */\n",
       "#sk-container-id-12 a.estimator_doc_link:hover {\n",
       "  /* unfitted */\n",
       "  background-color: var(--sklearn-color-unfitted-level-3);\n",
       "  color: var(--sklearn-color-background);\n",
       "  text-decoration: none;\n",
       "}\n",
       "\n",
       "#sk-container-id-12 a.estimator_doc_link.fitted:hover {\n",
       "  /* fitted */\n",
       "  background-color: var(--sklearn-color-fitted-level-3);\n",
       "}\n",
       "</style><div id=\"sk-container-id-12\" class=\"sk-top-container\"><div class=\"sk-text-repr-fallback\"><pre>ElasticNetCV(l1_ratio=(0.1, 0.2, 0.3, 0.4, 0.5, 0.6, 0.7, 0.8, 0.9))</pre><b>In a Jupyter environment, please rerun this cell to show the HTML representation or trust the notebook. <br />On GitHub, the HTML representation is unable to render, please try loading this page with nbviewer.org.</b></div><div class=\"sk-container\" hidden><div class=\"sk-item\"><div class=\"sk-estimator fitted sk-toggleable\"><input class=\"sk-toggleable__control sk-hidden--visually\" id=\"sk-estimator-id-16\" type=\"checkbox\" checked><label for=\"sk-estimator-id-16\" class=\"sk-toggleable__label fitted sk-toggleable__label-arrow fitted\">&nbsp;&nbsp;ElasticNetCV<a class=\"sk-estimator-doc-link fitted\" rel=\"noreferrer\" target=\"_blank\" href=\"https://scikit-learn.org/1.5/modules/generated/sklearn.linear_model.ElasticNetCV.html\">?<span>Documentation for ElasticNetCV</span></a><span class=\"sk-estimator-doc-link fitted\">i<span>Fitted</span></span></label><div class=\"sk-toggleable__content fitted\"><pre>ElasticNetCV(l1_ratio=(0.1, 0.2, 0.3, 0.4, 0.5, 0.6, 0.7, 0.8, 0.9))</pre></div> </div></div></div></div>"
      ],
      "text/plain": [
       "ElasticNetCV(l1_ratio=(0.1, 0.2, 0.3, 0.4, 0.5, 0.6, 0.7, 0.8, 0.9))"
      ]
     },
     "execution_count": 323,
     "metadata": {},
     "output_type": "execute_result"
    }
   ],
   "source": [
    "model = ElasticNetCV(l1_ratio=(0.1, 0.2, 0.3, 0.4, 0.5, 0.6, 0.7, 0.8, 0.9))\n",
    "model.fit(x_train_poly, y_train.ravel())"
   ]
  },
  {
   "cell_type": "code",
   "execution_count": 324,
   "id": "863a537c",
   "metadata": {},
   "outputs": [
    {
     "data": {
      "text/plain": [
       "(0.005994002142838706, 0.9)"
      ]
     },
     "execution_count": 324,
     "metadata": {},
     "output_type": "execute_result"
    }
   ],
   "source": [
    "alpha = model.alpha_ \n",
    "l1_ratio = model.l1_ratio_\n",
    "alpha , l1_ratio"
   ]
  },
  {
   "cell_type": "code",
   "execution_count": 325,
   "id": "4956f738",
   "metadata": {},
   "outputs": [
    {
     "data": {
      "text/plain": [
       "0.7041534929567033"
      ]
     },
     "execution_count": 325,
     "metadata": {},
     "output_type": "execute_result"
    }
   ],
   "source": [
    "model = ElasticNet(alpha=alpha , l1_ratio=l1_ratio)\n",
    "model.fit(x_train_poly, y_train)\n",
    "model.score(x_test_poly, y_test)"
   ]
  },
  {
   "cell_type": "markdown",
   "id": "7f53ccde",
   "metadata": {
    "jp-MarkdownHeadingCollapsed": true
   },
   "source": [
    "## LassoCV"
   ]
  },
  {
   "cell_type": "code",
   "execution_count": 326,
   "id": "2ba5d4f7",
   "metadata": {},
   "outputs": [
    {
     "data": {
      "text/plain": [
       "((1168, 1), (1168, 1), (292, 1), (292, 1))"
      ]
     },
     "execution_count": 326,
     "metadata": {},
     "output_type": "execute_result"
    }
   ],
   "source": [
    "df = pd.read_csv(csv_train_l_path)\n",
    "train_set = np.array(df)\n",
    "\n",
    "x_train = train_set[:, :-1]\n",
    "y_train = train_set[:, -1:]\n",
    "\n",
    "df = pd.read_csv(csv_test_l_path)\n",
    "test_set = np.array(df)\n",
    "\n",
    "x_test = test_set[:, :-1]\n",
    "y_test = test_set[:, -1:]\n",
    "\n",
    "x_train.shape, y_train.shape, x_test.shape, y_test.shape"
   ]
  },
  {
   "cell_type": "code",
   "execution_count": 327,
   "id": "8d36c8e7",
   "metadata": {},
   "outputs": [],
   "source": [
    "polynomial = PolynomialFeatures(degree=4)\n",
    "\n",
    "x_train_poly = polynomial.fit_transform(x_train)\n",
    "x_test_poly = polynomial.fit_transform(x_test)"
   ]
  },
  {
   "cell_type": "code",
   "execution_count": 328,
   "id": "f122df54",
   "metadata": {},
   "outputs": [
    {
     "data": {
      "text/html": [
       "<style>#sk-container-id-13 {\n",
       "  /* Definition of color scheme common for light and dark mode */\n",
       "  --sklearn-color-text: black;\n",
       "  --sklearn-color-line: gray;\n",
       "  /* Definition of color scheme for unfitted estimators */\n",
       "  --sklearn-color-unfitted-level-0: #fff5e6;\n",
       "  --sklearn-color-unfitted-level-1: #f6e4d2;\n",
       "  --sklearn-color-unfitted-level-2: #ffe0b3;\n",
       "  --sklearn-color-unfitted-level-3: chocolate;\n",
       "  /* Definition of color scheme for fitted estimators */\n",
       "  --sklearn-color-fitted-level-0: #f0f8ff;\n",
       "  --sklearn-color-fitted-level-1: #d4ebff;\n",
       "  --sklearn-color-fitted-level-2: #b3dbfd;\n",
       "  --sklearn-color-fitted-level-3: cornflowerblue;\n",
       "\n",
       "  /* Specific color for light theme */\n",
       "  --sklearn-color-text-on-default-background: var(--sg-text-color, var(--theme-code-foreground, var(--jp-content-font-color1, black)));\n",
       "  --sklearn-color-background: var(--sg-background-color, var(--theme-background, var(--jp-layout-color0, white)));\n",
       "  --sklearn-color-border-box: var(--sg-text-color, var(--theme-code-foreground, var(--jp-content-font-color1, black)));\n",
       "  --sklearn-color-icon: #696969;\n",
       "\n",
       "  @media (prefers-color-scheme: dark) {\n",
       "    /* Redefinition of color scheme for dark theme */\n",
       "    --sklearn-color-text-on-default-background: var(--sg-text-color, var(--theme-code-foreground, var(--jp-content-font-color1, white)));\n",
       "    --sklearn-color-background: var(--sg-background-color, var(--theme-background, var(--jp-layout-color0, #111)));\n",
       "    --sklearn-color-border-box: var(--sg-text-color, var(--theme-code-foreground, var(--jp-content-font-color1, white)));\n",
       "    --sklearn-color-icon: #878787;\n",
       "  }\n",
       "}\n",
       "\n",
       "#sk-container-id-13 {\n",
       "  color: var(--sklearn-color-text);\n",
       "}\n",
       "\n",
       "#sk-container-id-13 pre {\n",
       "  padding: 0;\n",
       "}\n",
       "\n",
       "#sk-container-id-13 input.sk-hidden--visually {\n",
       "  border: 0;\n",
       "  clip: rect(1px 1px 1px 1px);\n",
       "  clip: rect(1px, 1px, 1px, 1px);\n",
       "  height: 1px;\n",
       "  margin: -1px;\n",
       "  overflow: hidden;\n",
       "  padding: 0;\n",
       "  position: absolute;\n",
       "  width: 1px;\n",
       "}\n",
       "\n",
       "#sk-container-id-13 div.sk-dashed-wrapped {\n",
       "  border: 1px dashed var(--sklearn-color-line);\n",
       "  margin: 0 0.4em 0.5em 0.4em;\n",
       "  box-sizing: border-box;\n",
       "  padding-bottom: 0.4em;\n",
       "  background-color: var(--sklearn-color-background);\n",
       "}\n",
       "\n",
       "#sk-container-id-13 div.sk-container {\n",
       "  /* jupyter's `normalize.less` sets `[hidden] { display: none; }`\n",
       "     but bootstrap.min.css set `[hidden] { display: none !important; }`\n",
       "     so we also need the `!important` here to be able to override the\n",
       "     default hidden behavior on the sphinx rendered scikit-learn.org.\n",
       "     See: https://github.com/scikit-learn/scikit-learn/issues/21755 */\n",
       "  display: inline-block !important;\n",
       "  position: relative;\n",
       "}\n",
       "\n",
       "#sk-container-id-13 div.sk-text-repr-fallback {\n",
       "  display: none;\n",
       "}\n",
       "\n",
       "div.sk-parallel-item,\n",
       "div.sk-serial,\n",
       "div.sk-item {\n",
       "  /* draw centered vertical line to link estimators */\n",
       "  background-image: linear-gradient(var(--sklearn-color-text-on-default-background), var(--sklearn-color-text-on-default-background));\n",
       "  background-size: 2px 100%;\n",
       "  background-repeat: no-repeat;\n",
       "  background-position: center center;\n",
       "}\n",
       "\n",
       "/* Parallel-specific style estimator block */\n",
       "\n",
       "#sk-container-id-13 div.sk-parallel-item::after {\n",
       "  content: \"\";\n",
       "  width: 100%;\n",
       "  border-bottom: 2px solid var(--sklearn-color-text-on-default-background);\n",
       "  flex-grow: 1;\n",
       "}\n",
       "\n",
       "#sk-container-id-13 div.sk-parallel {\n",
       "  display: flex;\n",
       "  align-items: stretch;\n",
       "  justify-content: center;\n",
       "  background-color: var(--sklearn-color-background);\n",
       "  position: relative;\n",
       "}\n",
       "\n",
       "#sk-container-id-13 div.sk-parallel-item {\n",
       "  display: flex;\n",
       "  flex-direction: column;\n",
       "}\n",
       "\n",
       "#sk-container-id-13 div.sk-parallel-item:first-child::after {\n",
       "  align-self: flex-end;\n",
       "  width: 50%;\n",
       "}\n",
       "\n",
       "#sk-container-id-13 div.sk-parallel-item:last-child::after {\n",
       "  align-self: flex-start;\n",
       "  width: 50%;\n",
       "}\n",
       "\n",
       "#sk-container-id-13 div.sk-parallel-item:only-child::after {\n",
       "  width: 0;\n",
       "}\n",
       "\n",
       "/* Serial-specific style estimator block */\n",
       "\n",
       "#sk-container-id-13 div.sk-serial {\n",
       "  display: flex;\n",
       "  flex-direction: column;\n",
       "  align-items: center;\n",
       "  background-color: var(--sklearn-color-background);\n",
       "  padding-right: 1em;\n",
       "  padding-left: 1em;\n",
       "}\n",
       "\n",
       "\n",
       "/* Toggleable style: style used for estimator/Pipeline/ColumnTransformer box that is\n",
       "clickable and can be expanded/collapsed.\n",
       "- Pipeline and ColumnTransformer use this feature and define the default style\n",
       "- Estimators will overwrite some part of the style using the `sk-estimator` class\n",
       "*/\n",
       "\n",
       "/* Pipeline and ColumnTransformer style (default) */\n",
       "\n",
       "#sk-container-id-13 div.sk-toggleable {\n",
       "  /* Default theme specific background. It is overwritten whether we have a\n",
       "  specific estimator or a Pipeline/ColumnTransformer */\n",
       "  background-color: var(--sklearn-color-background);\n",
       "}\n",
       "\n",
       "/* Toggleable label */\n",
       "#sk-container-id-13 label.sk-toggleable__label {\n",
       "  cursor: pointer;\n",
       "  display: block;\n",
       "  width: 100%;\n",
       "  margin-bottom: 0;\n",
       "  padding: 0.5em;\n",
       "  box-sizing: border-box;\n",
       "  text-align: center;\n",
       "}\n",
       "\n",
       "#sk-container-id-13 label.sk-toggleable__label-arrow:before {\n",
       "  /* Arrow on the left of the label */\n",
       "  content: \"▸\";\n",
       "  float: left;\n",
       "  margin-right: 0.25em;\n",
       "  color: var(--sklearn-color-icon);\n",
       "}\n",
       "\n",
       "#sk-container-id-13 label.sk-toggleable__label-arrow:hover:before {\n",
       "  color: var(--sklearn-color-text);\n",
       "}\n",
       "\n",
       "/* Toggleable content - dropdown */\n",
       "\n",
       "#sk-container-id-13 div.sk-toggleable__content {\n",
       "  max-height: 0;\n",
       "  max-width: 0;\n",
       "  overflow: hidden;\n",
       "  text-align: left;\n",
       "  /* unfitted */\n",
       "  background-color: var(--sklearn-color-unfitted-level-0);\n",
       "}\n",
       "\n",
       "#sk-container-id-13 div.sk-toggleable__content.fitted {\n",
       "  /* fitted */\n",
       "  background-color: var(--sklearn-color-fitted-level-0);\n",
       "}\n",
       "\n",
       "#sk-container-id-13 div.sk-toggleable__content pre {\n",
       "  margin: 0.2em;\n",
       "  border-radius: 0.25em;\n",
       "  color: var(--sklearn-color-text);\n",
       "  /* unfitted */\n",
       "  background-color: var(--sklearn-color-unfitted-level-0);\n",
       "}\n",
       "\n",
       "#sk-container-id-13 div.sk-toggleable__content.fitted pre {\n",
       "  /* unfitted */\n",
       "  background-color: var(--sklearn-color-fitted-level-0);\n",
       "}\n",
       "\n",
       "#sk-container-id-13 input.sk-toggleable__control:checked~div.sk-toggleable__content {\n",
       "  /* Expand drop-down */\n",
       "  max-height: 200px;\n",
       "  max-width: 100%;\n",
       "  overflow: auto;\n",
       "}\n",
       "\n",
       "#sk-container-id-13 input.sk-toggleable__control:checked~label.sk-toggleable__label-arrow:before {\n",
       "  content: \"▾\";\n",
       "}\n",
       "\n",
       "/* Pipeline/ColumnTransformer-specific style */\n",
       "\n",
       "#sk-container-id-13 div.sk-label input.sk-toggleable__control:checked~label.sk-toggleable__label {\n",
       "  color: var(--sklearn-color-text);\n",
       "  background-color: var(--sklearn-color-unfitted-level-2);\n",
       "}\n",
       "\n",
       "#sk-container-id-13 div.sk-label.fitted input.sk-toggleable__control:checked~label.sk-toggleable__label {\n",
       "  background-color: var(--sklearn-color-fitted-level-2);\n",
       "}\n",
       "\n",
       "/* Estimator-specific style */\n",
       "\n",
       "/* Colorize estimator box */\n",
       "#sk-container-id-13 div.sk-estimator input.sk-toggleable__control:checked~label.sk-toggleable__label {\n",
       "  /* unfitted */\n",
       "  background-color: var(--sklearn-color-unfitted-level-2);\n",
       "}\n",
       "\n",
       "#sk-container-id-13 div.sk-estimator.fitted input.sk-toggleable__control:checked~label.sk-toggleable__label {\n",
       "  /* fitted */\n",
       "  background-color: var(--sklearn-color-fitted-level-2);\n",
       "}\n",
       "\n",
       "#sk-container-id-13 div.sk-label label.sk-toggleable__label,\n",
       "#sk-container-id-13 div.sk-label label {\n",
       "  /* The background is the default theme color */\n",
       "  color: var(--sklearn-color-text-on-default-background);\n",
       "}\n",
       "\n",
       "/* On hover, darken the color of the background */\n",
       "#sk-container-id-13 div.sk-label:hover label.sk-toggleable__label {\n",
       "  color: var(--sklearn-color-text);\n",
       "  background-color: var(--sklearn-color-unfitted-level-2);\n",
       "}\n",
       "\n",
       "/* Label box, darken color on hover, fitted */\n",
       "#sk-container-id-13 div.sk-label.fitted:hover label.sk-toggleable__label.fitted {\n",
       "  color: var(--sklearn-color-text);\n",
       "  background-color: var(--sklearn-color-fitted-level-2);\n",
       "}\n",
       "\n",
       "/* Estimator label */\n",
       "\n",
       "#sk-container-id-13 div.sk-label label {\n",
       "  font-family: monospace;\n",
       "  font-weight: bold;\n",
       "  display: inline-block;\n",
       "  line-height: 1.2em;\n",
       "}\n",
       "\n",
       "#sk-container-id-13 div.sk-label-container {\n",
       "  text-align: center;\n",
       "}\n",
       "\n",
       "/* Estimator-specific */\n",
       "#sk-container-id-13 div.sk-estimator {\n",
       "  font-family: monospace;\n",
       "  border: 1px dotted var(--sklearn-color-border-box);\n",
       "  border-radius: 0.25em;\n",
       "  box-sizing: border-box;\n",
       "  margin-bottom: 0.5em;\n",
       "  /* unfitted */\n",
       "  background-color: var(--sklearn-color-unfitted-level-0);\n",
       "}\n",
       "\n",
       "#sk-container-id-13 div.sk-estimator.fitted {\n",
       "  /* fitted */\n",
       "  background-color: var(--sklearn-color-fitted-level-0);\n",
       "}\n",
       "\n",
       "/* on hover */\n",
       "#sk-container-id-13 div.sk-estimator:hover {\n",
       "  /* unfitted */\n",
       "  background-color: var(--sklearn-color-unfitted-level-2);\n",
       "}\n",
       "\n",
       "#sk-container-id-13 div.sk-estimator.fitted:hover {\n",
       "  /* fitted */\n",
       "  background-color: var(--sklearn-color-fitted-level-2);\n",
       "}\n",
       "\n",
       "/* Specification for estimator info (e.g. \"i\" and \"?\") */\n",
       "\n",
       "/* Common style for \"i\" and \"?\" */\n",
       "\n",
       ".sk-estimator-doc-link,\n",
       "a:link.sk-estimator-doc-link,\n",
       "a:visited.sk-estimator-doc-link {\n",
       "  float: right;\n",
       "  font-size: smaller;\n",
       "  line-height: 1em;\n",
       "  font-family: monospace;\n",
       "  background-color: var(--sklearn-color-background);\n",
       "  border-radius: 1em;\n",
       "  height: 1em;\n",
       "  width: 1em;\n",
       "  text-decoration: none !important;\n",
       "  margin-left: 1ex;\n",
       "  /* unfitted */\n",
       "  border: var(--sklearn-color-unfitted-level-1) 1pt solid;\n",
       "  color: var(--sklearn-color-unfitted-level-1);\n",
       "}\n",
       "\n",
       ".sk-estimator-doc-link.fitted,\n",
       "a:link.sk-estimator-doc-link.fitted,\n",
       "a:visited.sk-estimator-doc-link.fitted {\n",
       "  /* fitted */\n",
       "  border: var(--sklearn-color-fitted-level-1) 1pt solid;\n",
       "  color: var(--sklearn-color-fitted-level-1);\n",
       "}\n",
       "\n",
       "/* On hover */\n",
       "div.sk-estimator:hover .sk-estimator-doc-link:hover,\n",
       ".sk-estimator-doc-link:hover,\n",
       "div.sk-label-container:hover .sk-estimator-doc-link:hover,\n",
       ".sk-estimator-doc-link:hover {\n",
       "  /* unfitted */\n",
       "  background-color: var(--sklearn-color-unfitted-level-3);\n",
       "  color: var(--sklearn-color-background);\n",
       "  text-decoration: none;\n",
       "}\n",
       "\n",
       "div.sk-estimator.fitted:hover .sk-estimator-doc-link.fitted:hover,\n",
       ".sk-estimator-doc-link.fitted:hover,\n",
       "div.sk-label-container:hover .sk-estimator-doc-link.fitted:hover,\n",
       ".sk-estimator-doc-link.fitted:hover {\n",
       "  /* fitted */\n",
       "  background-color: var(--sklearn-color-fitted-level-3);\n",
       "  color: var(--sklearn-color-background);\n",
       "  text-decoration: none;\n",
       "}\n",
       "\n",
       "/* Span, style for the box shown on hovering the info icon */\n",
       ".sk-estimator-doc-link span {\n",
       "  display: none;\n",
       "  z-index: 9999;\n",
       "  position: relative;\n",
       "  font-weight: normal;\n",
       "  right: .2ex;\n",
       "  padding: .5ex;\n",
       "  margin: .5ex;\n",
       "  width: min-content;\n",
       "  min-width: 20ex;\n",
       "  max-width: 50ex;\n",
       "  color: var(--sklearn-color-text);\n",
       "  box-shadow: 2pt 2pt 4pt #999;\n",
       "  /* unfitted */\n",
       "  background: var(--sklearn-color-unfitted-level-0);\n",
       "  border: .5pt solid var(--sklearn-color-unfitted-level-3);\n",
       "}\n",
       "\n",
       ".sk-estimator-doc-link.fitted span {\n",
       "  /* fitted */\n",
       "  background: var(--sklearn-color-fitted-level-0);\n",
       "  border: var(--sklearn-color-fitted-level-3);\n",
       "}\n",
       "\n",
       ".sk-estimator-doc-link:hover span {\n",
       "  display: block;\n",
       "}\n",
       "\n",
       "/* \"?\"-specific style due to the `<a>` HTML tag */\n",
       "\n",
       "#sk-container-id-13 a.estimator_doc_link {\n",
       "  float: right;\n",
       "  font-size: 1rem;\n",
       "  line-height: 1em;\n",
       "  font-family: monospace;\n",
       "  background-color: var(--sklearn-color-background);\n",
       "  border-radius: 1rem;\n",
       "  height: 1rem;\n",
       "  width: 1rem;\n",
       "  text-decoration: none;\n",
       "  /* unfitted */\n",
       "  color: var(--sklearn-color-unfitted-level-1);\n",
       "  border: var(--sklearn-color-unfitted-level-1) 1pt solid;\n",
       "}\n",
       "\n",
       "#sk-container-id-13 a.estimator_doc_link.fitted {\n",
       "  /* fitted */\n",
       "  border: var(--sklearn-color-fitted-level-1) 1pt solid;\n",
       "  color: var(--sklearn-color-fitted-level-1);\n",
       "}\n",
       "\n",
       "/* On hover */\n",
       "#sk-container-id-13 a.estimator_doc_link:hover {\n",
       "  /* unfitted */\n",
       "  background-color: var(--sklearn-color-unfitted-level-3);\n",
       "  color: var(--sklearn-color-background);\n",
       "  text-decoration: none;\n",
       "}\n",
       "\n",
       "#sk-container-id-13 a.estimator_doc_link.fitted:hover {\n",
       "  /* fitted */\n",
       "  background-color: var(--sklearn-color-fitted-level-3);\n",
       "}\n",
       "</style><div id=\"sk-container-id-13\" class=\"sk-top-container\"><div class=\"sk-text-repr-fallback\"><pre>LassoCV()</pre><b>In a Jupyter environment, please rerun this cell to show the HTML representation or trust the notebook. <br />On GitHub, the HTML representation is unable to render, please try loading this page with nbviewer.org.</b></div><div class=\"sk-container\" hidden><div class=\"sk-item\"><div class=\"sk-estimator fitted sk-toggleable\"><input class=\"sk-toggleable__control sk-hidden--visually\" id=\"sk-estimator-id-17\" type=\"checkbox\" checked><label for=\"sk-estimator-id-17\" class=\"sk-toggleable__label fitted sk-toggleable__label-arrow fitted\">&nbsp;&nbsp;LassoCV<a class=\"sk-estimator-doc-link fitted\" rel=\"noreferrer\" target=\"_blank\" href=\"https://scikit-learn.org/1.5/modules/generated/sklearn.linear_model.LassoCV.html\">?<span>Documentation for LassoCV</span></a><span class=\"sk-estimator-doc-link fitted\">i<span>Fitted</span></span></label><div class=\"sk-toggleable__content fitted\"><pre>LassoCV()</pre></div> </div></div></div></div>"
      ],
      "text/plain": [
       "LassoCV()"
      ]
     },
     "execution_count": 328,
     "metadata": {},
     "output_type": "execute_result"
    }
   ],
   "source": [
    "model = LassoCV()\n",
    "model.fit(x_train_poly, y_train.ravel())"
   ]
  },
  {
   "cell_type": "code",
   "execution_count": 329,
   "id": "697a2b05",
   "metadata": {},
   "outputs": [
    {
     "data": {
      "text/plain": [
       "0.006202481304742036"
      ]
     },
     "execution_count": 329,
     "metadata": {},
     "output_type": "execute_result"
    }
   ],
   "source": [
    "alpha = model.alpha_ \n",
    "alpha "
   ]
  },
  {
   "cell_type": "code",
   "execution_count": 330,
   "id": "ddba9d6e",
   "metadata": {},
   "outputs": [
    {
     "data": {
      "text/plain": [
       "0.7042318884315488"
      ]
     },
     "execution_count": 330,
     "metadata": {},
     "output_type": "execute_result"
    }
   ],
   "source": [
    "model = Lasso(alpha=alpha)\n",
    "model.fit(x_train_poly, y_train)\n",
    "model.score(x_test_poly, y_test)"
   ]
  },
  {
   "cell_type": "markdown",
   "id": "8344cd34",
   "metadata": {
    "jp-MarkdownHeadingCollapsed": true,
    "tags": []
   },
   "source": [
    "### store_cv_values"
   ]
  },
  {
   "cell_type": "code",
   "execution_count": 331,
   "id": "cd3f07d2",
   "metadata": {},
   "outputs": [
    {
     "name": "stderr",
     "output_type": "stream",
     "text": [
      "e:\\ProgramData\\anaconda3\\Lib\\site-packages\\sklearn\\linear_model\\_ridge.py:2341: FutureWarning: 'store_cv_values' is deprecated in version 1.5 and will be removed in 1.7. Use 'store_cv_results' instead.\n",
      "  warnings.warn(\n"
     ]
    },
    {
     "data": {
      "text/html": [
       "<style>#sk-container-id-14 {\n",
       "  /* Definition of color scheme common for light and dark mode */\n",
       "  --sklearn-color-text: black;\n",
       "  --sklearn-color-line: gray;\n",
       "  /* Definition of color scheme for unfitted estimators */\n",
       "  --sklearn-color-unfitted-level-0: #fff5e6;\n",
       "  --sklearn-color-unfitted-level-1: #f6e4d2;\n",
       "  --sklearn-color-unfitted-level-2: #ffe0b3;\n",
       "  --sklearn-color-unfitted-level-3: chocolate;\n",
       "  /* Definition of color scheme for fitted estimators */\n",
       "  --sklearn-color-fitted-level-0: #f0f8ff;\n",
       "  --sklearn-color-fitted-level-1: #d4ebff;\n",
       "  --sklearn-color-fitted-level-2: #b3dbfd;\n",
       "  --sklearn-color-fitted-level-3: cornflowerblue;\n",
       "\n",
       "  /* Specific color for light theme */\n",
       "  --sklearn-color-text-on-default-background: var(--sg-text-color, var(--theme-code-foreground, var(--jp-content-font-color1, black)));\n",
       "  --sklearn-color-background: var(--sg-background-color, var(--theme-background, var(--jp-layout-color0, white)));\n",
       "  --sklearn-color-border-box: var(--sg-text-color, var(--theme-code-foreground, var(--jp-content-font-color1, black)));\n",
       "  --sklearn-color-icon: #696969;\n",
       "\n",
       "  @media (prefers-color-scheme: dark) {\n",
       "    /* Redefinition of color scheme for dark theme */\n",
       "    --sklearn-color-text-on-default-background: var(--sg-text-color, var(--theme-code-foreground, var(--jp-content-font-color1, white)));\n",
       "    --sklearn-color-background: var(--sg-background-color, var(--theme-background, var(--jp-layout-color0, #111)));\n",
       "    --sklearn-color-border-box: var(--sg-text-color, var(--theme-code-foreground, var(--jp-content-font-color1, white)));\n",
       "    --sklearn-color-icon: #878787;\n",
       "  }\n",
       "}\n",
       "\n",
       "#sk-container-id-14 {\n",
       "  color: var(--sklearn-color-text);\n",
       "}\n",
       "\n",
       "#sk-container-id-14 pre {\n",
       "  padding: 0;\n",
       "}\n",
       "\n",
       "#sk-container-id-14 input.sk-hidden--visually {\n",
       "  border: 0;\n",
       "  clip: rect(1px 1px 1px 1px);\n",
       "  clip: rect(1px, 1px, 1px, 1px);\n",
       "  height: 1px;\n",
       "  margin: -1px;\n",
       "  overflow: hidden;\n",
       "  padding: 0;\n",
       "  position: absolute;\n",
       "  width: 1px;\n",
       "}\n",
       "\n",
       "#sk-container-id-14 div.sk-dashed-wrapped {\n",
       "  border: 1px dashed var(--sklearn-color-line);\n",
       "  margin: 0 0.4em 0.5em 0.4em;\n",
       "  box-sizing: border-box;\n",
       "  padding-bottom: 0.4em;\n",
       "  background-color: var(--sklearn-color-background);\n",
       "}\n",
       "\n",
       "#sk-container-id-14 div.sk-container {\n",
       "  /* jupyter's `normalize.less` sets `[hidden] { display: none; }`\n",
       "     but bootstrap.min.css set `[hidden] { display: none !important; }`\n",
       "     so we also need the `!important` here to be able to override the\n",
       "     default hidden behavior on the sphinx rendered scikit-learn.org.\n",
       "     See: https://github.com/scikit-learn/scikit-learn/issues/21755 */\n",
       "  display: inline-block !important;\n",
       "  position: relative;\n",
       "}\n",
       "\n",
       "#sk-container-id-14 div.sk-text-repr-fallback {\n",
       "  display: none;\n",
       "}\n",
       "\n",
       "div.sk-parallel-item,\n",
       "div.sk-serial,\n",
       "div.sk-item {\n",
       "  /* draw centered vertical line to link estimators */\n",
       "  background-image: linear-gradient(var(--sklearn-color-text-on-default-background), var(--sklearn-color-text-on-default-background));\n",
       "  background-size: 2px 100%;\n",
       "  background-repeat: no-repeat;\n",
       "  background-position: center center;\n",
       "}\n",
       "\n",
       "/* Parallel-specific style estimator block */\n",
       "\n",
       "#sk-container-id-14 div.sk-parallel-item::after {\n",
       "  content: \"\";\n",
       "  width: 100%;\n",
       "  border-bottom: 2px solid var(--sklearn-color-text-on-default-background);\n",
       "  flex-grow: 1;\n",
       "}\n",
       "\n",
       "#sk-container-id-14 div.sk-parallel {\n",
       "  display: flex;\n",
       "  align-items: stretch;\n",
       "  justify-content: center;\n",
       "  background-color: var(--sklearn-color-background);\n",
       "  position: relative;\n",
       "}\n",
       "\n",
       "#sk-container-id-14 div.sk-parallel-item {\n",
       "  display: flex;\n",
       "  flex-direction: column;\n",
       "}\n",
       "\n",
       "#sk-container-id-14 div.sk-parallel-item:first-child::after {\n",
       "  align-self: flex-end;\n",
       "  width: 50%;\n",
       "}\n",
       "\n",
       "#sk-container-id-14 div.sk-parallel-item:last-child::after {\n",
       "  align-self: flex-start;\n",
       "  width: 50%;\n",
       "}\n",
       "\n",
       "#sk-container-id-14 div.sk-parallel-item:only-child::after {\n",
       "  width: 0;\n",
       "}\n",
       "\n",
       "/* Serial-specific style estimator block */\n",
       "\n",
       "#sk-container-id-14 div.sk-serial {\n",
       "  display: flex;\n",
       "  flex-direction: column;\n",
       "  align-items: center;\n",
       "  background-color: var(--sklearn-color-background);\n",
       "  padding-right: 1em;\n",
       "  padding-left: 1em;\n",
       "}\n",
       "\n",
       "\n",
       "/* Toggleable style: style used for estimator/Pipeline/ColumnTransformer box that is\n",
       "clickable and can be expanded/collapsed.\n",
       "- Pipeline and ColumnTransformer use this feature and define the default style\n",
       "- Estimators will overwrite some part of the style using the `sk-estimator` class\n",
       "*/\n",
       "\n",
       "/* Pipeline and ColumnTransformer style (default) */\n",
       "\n",
       "#sk-container-id-14 div.sk-toggleable {\n",
       "  /* Default theme specific background. It is overwritten whether we have a\n",
       "  specific estimator or a Pipeline/ColumnTransformer */\n",
       "  background-color: var(--sklearn-color-background);\n",
       "}\n",
       "\n",
       "/* Toggleable label */\n",
       "#sk-container-id-14 label.sk-toggleable__label {\n",
       "  cursor: pointer;\n",
       "  display: block;\n",
       "  width: 100%;\n",
       "  margin-bottom: 0;\n",
       "  padding: 0.5em;\n",
       "  box-sizing: border-box;\n",
       "  text-align: center;\n",
       "}\n",
       "\n",
       "#sk-container-id-14 label.sk-toggleable__label-arrow:before {\n",
       "  /* Arrow on the left of the label */\n",
       "  content: \"▸\";\n",
       "  float: left;\n",
       "  margin-right: 0.25em;\n",
       "  color: var(--sklearn-color-icon);\n",
       "}\n",
       "\n",
       "#sk-container-id-14 label.sk-toggleable__label-arrow:hover:before {\n",
       "  color: var(--sklearn-color-text);\n",
       "}\n",
       "\n",
       "/* Toggleable content - dropdown */\n",
       "\n",
       "#sk-container-id-14 div.sk-toggleable__content {\n",
       "  max-height: 0;\n",
       "  max-width: 0;\n",
       "  overflow: hidden;\n",
       "  text-align: left;\n",
       "  /* unfitted */\n",
       "  background-color: var(--sklearn-color-unfitted-level-0);\n",
       "}\n",
       "\n",
       "#sk-container-id-14 div.sk-toggleable__content.fitted {\n",
       "  /* fitted */\n",
       "  background-color: var(--sklearn-color-fitted-level-0);\n",
       "}\n",
       "\n",
       "#sk-container-id-14 div.sk-toggleable__content pre {\n",
       "  margin: 0.2em;\n",
       "  border-radius: 0.25em;\n",
       "  color: var(--sklearn-color-text);\n",
       "  /* unfitted */\n",
       "  background-color: var(--sklearn-color-unfitted-level-0);\n",
       "}\n",
       "\n",
       "#sk-container-id-14 div.sk-toggleable__content.fitted pre {\n",
       "  /* unfitted */\n",
       "  background-color: var(--sklearn-color-fitted-level-0);\n",
       "}\n",
       "\n",
       "#sk-container-id-14 input.sk-toggleable__control:checked~div.sk-toggleable__content {\n",
       "  /* Expand drop-down */\n",
       "  max-height: 200px;\n",
       "  max-width: 100%;\n",
       "  overflow: auto;\n",
       "}\n",
       "\n",
       "#sk-container-id-14 input.sk-toggleable__control:checked~label.sk-toggleable__label-arrow:before {\n",
       "  content: \"▾\";\n",
       "}\n",
       "\n",
       "/* Pipeline/ColumnTransformer-specific style */\n",
       "\n",
       "#sk-container-id-14 div.sk-label input.sk-toggleable__control:checked~label.sk-toggleable__label {\n",
       "  color: var(--sklearn-color-text);\n",
       "  background-color: var(--sklearn-color-unfitted-level-2);\n",
       "}\n",
       "\n",
       "#sk-container-id-14 div.sk-label.fitted input.sk-toggleable__control:checked~label.sk-toggleable__label {\n",
       "  background-color: var(--sklearn-color-fitted-level-2);\n",
       "}\n",
       "\n",
       "/* Estimator-specific style */\n",
       "\n",
       "/* Colorize estimator box */\n",
       "#sk-container-id-14 div.sk-estimator input.sk-toggleable__control:checked~label.sk-toggleable__label {\n",
       "  /* unfitted */\n",
       "  background-color: var(--sklearn-color-unfitted-level-2);\n",
       "}\n",
       "\n",
       "#sk-container-id-14 div.sk-estimator.fitted input.sk-toggleable__control:checked~label.sk-toggleable__label {\n",
       "  /* fitted */\n",
       "  background-color: var(--sklearn-color-fitted-level-2);\n",
       "}\n",
       "\n",
       "#sk-container-id-14 div.sk-label label.sk-toggleable__label,\n",
       "#sk-container-id-14 div.sk-label label {\n",
       "  /* The background is the default theme color */\n",
       "  color: var(--sklearn-color-text-on-default-background);\n",
       "}\n",
       "\n",
       "/* On hover, darken the color of the background */\n",
       "#sk-container-id-14 div.sk-label:hover label.sk-toggleable__label {\n",
       "  color: var(--sklearn-color-text);\n",
       "  background-color: var(--sklearn-color-unfitted-level-2);\n",
       "}\n",
       "\n",
       "/* Label box, darken color on hover, fitted */\n",
       "#sk-container-id-14 div.sk-label.fitted:hover label.sk-toggleable__label.fitted {\n",
       "  color: var(--sklearn-color-text);\n",
       "  background-color: var(--sklearn-color-fitted-level-2);\n",
       "}\n",
       "\n",
       "/* Estimator label */\n",
       "\n",
       "#sk-container-id-14 div.sk-label label {\n",
       "  font-family: monospace;\n",
       "  font-weight: bold;\n",
       "  display: inline-block;\n",
       "  line-height: 1.2em;\n",
       "}\n",
       "\n",
       "#sk-container-id-14 div.sk-label-container {\n",
       "  text-align: center;\n",
       "}\n",
       "\n",
       "/* Estimator-specific */\n",
       "#sk-container-id-14 div.sk-estimator {\n",
       "  font-family: monospace;\n",
       "  border: 1px dotted var(--sklearn-color-border-box);\n",
       "  border-radius: 0.25em;\n",
       "  box-sizing: border-box;\n",
       "  margin-bottom: 0.5em;\n",
       "  /* unfitted */\n",
       "  background-color: var(--sklearn-color-unfitted-level-0);\n",
       "}\n",
       "\n",
       "#sk-container-id-14 div.sk-estimator.fitted {\n",
       "  /* fitted */\n",
       "  background-color: var(--sklearn-color-fitted-level-0);\n",
       "}\n",
       "\n",
       "/* on hover */\n",
       "#sk-container-id-14 div.sk-estimator:hover {\n",
       "  /* unfitted */\n",
       "  background-color: var(--sklearn-color-unfitted-level-2);\n",
       "}\n",
       "\n",
       "#sk-container-id-14 div.sk-estimator.fitted:hover {\n",
       "  /* fitted */\n",
       "  background-color: var(--sklearn-color-fitted-level-2);\n",
       "}\n",
       "\n",
       "/* Specification for estimator info (e.g. \"i\" and \"?\") */\n",
       "\n",
       "/* Common style for \"i\" and \"?\" */\n",
       "\n",
       ".sk-estimator-doc-link,\n",
       "a:link.sk-estimator-doc-link,\n",
       "a:visited.sk-estimator-doc-link {\n",
       "  float: right;\n",
       "  font-size: smaller;\n",
       "  line-height: 1em;\n",
       "  font-family: monospace;\n",
       "  background-color: var(--sklearn-color-background);\n",
       "  border-radius: 1em;\n",
       "  height: 1em;\n",
       "  width: 1em;\n",
       "  text-decoration: none !important;\n",
       "  margin-left: 1ex;\n",
       "  /* unfitted */\n",
       "  border: var(--sklearn-color-unfitted-level-1) 1pt solid;\n",
       "  color: var(--sklearn-color-unfitted-level-1);\n",
       "}\n",
       "\n",
       ".sk-estimator-doc-link.fitted,\n",
       "a:link.sk-estimator-doc-link.fitted,\n",
       "a:visited.sk-estimator-doc-link.fitted {\n",
       "  /* fitted */\n",
       "  border: var(--sklearn-color-fitted-level-1) 1pt solid;\n",
       "  color: var(--sklearn-color-fitted-level-1);\n",
       "}\n",
       "\n",
       "/* On hover */\n",
       "div.sk-estimator:hover .sk-estimator-doc-link:hover,\n",
       ".sk-estimator-doc-link:hover,\n",
       "div.sk-label-container:hover .sk-estimator-doc-link:hover,\n",
       ".sk-estimator-doc-link:hover {\n",
       "  /* unfitted */\n",
       "  background-color: var(--sklearn-color-unfitted-level-3);\n",
       "  color: var(--sklearn-color-background);\n",
       "  text-decoration: none;\n",
       "}\n",
       "\n",
       "div.sk-estimator.fitted:hover .sk-estimator-doc-link.fitted:hover,\n",
       ".sk-estimator-doc-link.fitted:hover,\n",
       "div.sk-label-container:hover .sk-estimator-doc-link.fitted:hover,\n",
       ".sk-estimator-doc-link.fitted:hover {\n",
       "  /* fitted */\n",
       "  background-color: var(--sklearn-color-fitted-level-3);\n",
       "  color: var(--sklearn-color-background);\n",
       "  text-decoration: none;\n",
       "}\n",
       "\n",
       "/* Span, style for the box shown on hovering the info icon */\n",
       ".sk-estimator-doc-link span {\n",
       "  display: none;\n",
       "  z-index: 9999;\n",
       "  position: relative;\n",
       "  font-weight: normal;\n",
       "  right: .2ex;\n",
       "  padding: .5ex;\n",
       "  margin: .5ex;\n",
       "  width: min-content;\n",
       "  min-width: 20ex;\n",
       "  max-width: 50ex;\n",
       "  color: var(--sklearn-color-text);\n",
       "  box-shadow: 2pt 2pt 4pt #999;\n",
       "  /* unfitted */\n",
       "  background: var(--sklearn-color-unfitted-level-0);\n",
       "  border: .5pt solid var(--sklearn-color-unfitted-level-3);\n",
       "}\n",
       "\n",
       ".sk-estimator-doc-link.fitted span {\n",
       "  /* fitted */\n",
       "  background: var(--sklearn-color-fitted-level-0);\n",
       "  border: var(--sklearn-color-fitted-level-3);\n",
       "}\n",
       "\n",
       ".sk-estimator-doc-link:hover span {\n",
       "  display: block;\n",
       "}\n",
       "\n",
       "/* \"?\"-specific style due to the `<a>` HTML tag */\n",
       "\n",
       "#sk-container-id-14 a.estimator_doc_link {\n",
       "  float: right;\n",
       "  font-size: 1rem;\n",
       "  line-height: 1em;\n",
       "  font-family: monospace;\n",
       "  background-color: var(--sklearn-color-background);\n",
       "  border-radius: 1rem;\n",
       "  height: 1rem;\n",
       "  width: 1rem;\n",
       "  text-decoration: none;\n",
       "  /* unfitted */\n",
       "  color: var(--sklearn-color-unfitted-level-1);\n",
       "  border: var(--sklearn-color-unfitted-level-1) 1pt solid;\n",
       "}\n",
       "\n",
       "#sk-container-id-14 a.estimator_doc_link.fitted {\n",
       "  /* fitted */\n",
       "  border: var(--sklearn-color-fitted-level-1) 1pt solid;\n",
       "  color: var(--sklearn-color-fitted-level-1);\n",
       "}\n",
       "\n",
       "/* On hover */\n",
       "#sk-container-id-14 a.estimator_doc_link:hover {\n",
       "  /* unfitted */\n",
       "  background-color: var(--sklearn-color-unfitted-level-3);\n",
       "  color: var(--sklearn-color-background);\n",
       "  text-decoration: none;\n",
       "}\n",
       "\n",
       "#sk-container-id-14 a.estimator_doc_link.fitted:hover {\n",
       "  /* fitted */\n",
       "  background-color: var(--sklearn-color-fitted-level-3);\n",
       "}\n",
       "</style><div id=\"sk-container-id-14\" class=\"sk-top-container\"><div class=\"sk-text-repr-fallback\"><pre>RidgeCV(alphas=(100.0, 10.0, 1.0, 0.1, 0.01, 0.001), scoring=&#x27;r2&#x27;,\n",
       "        store_cv_values=True)</pre><b>In a Jupyter environment, please rerun this cell to show the HTML representation or trust the notebook. <br />On GitHub, the HTML representation is unable to render, please try loading this page with nbviewer.org.</b></div><div class=\"sk-container\" hidden><div class=\"sk-item\"><div class=\"sk-estimator fitted sk-toggleable\"><input class=\"sk-toggleable__control sk-hidden--visually\" id=\"sk-estimator-id-18\" type=\"checkbox\" checked><label for=\"sk-estimator-id-18\" class=\"sk-toggleable__label fitted sk-toggleable__label-arrow fitted\">&nbsp;&nbsp;RidgeCV<a class=\"sk-estimator-doc-link fitted\" rel=\"noreferrer\" target=\"_blank\" href=\"https://scikit-learn.org/1.5/modules/generated/sklearn.linear_model.RidgeCV.html\">?<span>Documentation for RidgeCV</span></a><span class=\"sk-estimator-doc-link fitted\">i<span>Fitted</span></span></label><div class=\"sk-toggleable__content fitted\"><pre>RidgeCV(alphas=(100.0, 10.0, 1.0, 0.1, 0.01, 0.001), scoring=&#x27;r2&#x27;,\n",
       "        store_cv_values=True)</pre></div> </div></div></div></div>"
      ],
      "text/plain": [
       "RidgeCV(alphas=(100.0, 10.0, 1.0, 0.1, 0.01, 0.001), scoring='r2',\n",
       "        store_cv_values=True)"
      ]
     },
     "execution_count": 331,
     "metadata": {},
     "output_type": "execute_result"
    }
   ],
   "source": [
    "model = RidgeCV(alphas=(100., 10., 1.0, 0.1, 0.01, 0.001), scoring='r2', store_cv_values=True)\n",
    "model.fit(x_train, y_train)"
   ]
  },
  {
   "cell_type": "code",
   "execution_count": 332,
   "id": "7dee9034",
   "metadata": {},
   "outputs": [
    {
     "name": "stderr",
     "output_type": "stream",
     "text": [
      "e:\\ProgramData\\anaconda3\\Lib\\site-packages\\sklearn\\utils\\deprecation.py:102: FutureWarning: Attribute `cv_values_` is deprecated in version 1.5 and will be removed in 1.7. Use `cv_results_` instead.\n",
      "  warnings.warn(msg, category=FutureWarning)\n"
     ]
    },
    {
     "data": {
      "text/plain": [
       "((1168, 1, 6),\n",
       " array([0.14998307, 0.26381088, 0.20251546, ..., 0.1402462 , 0.17264265,\n",
       "        0.0260637 ]))"
      ]
     },
     "execution_count": 332,
     "metadata": {},
     "output_type": "execute_result"
    }
   ],
   "source": [
    "model.cv_values_.shape, model.cv_values_[:, 0, 0]"
   ]
  },
  {
   "cell_type": "markdown",
   "id": "b027bab5",
   "metadata": {
    "jp-MarkdownHeadingCollapsed": true,
    "tags": []
   },
   "source": [
    "## **🔸 Hyperparameter Tuning**"
   ]
  },
  {
   "cell_type": "code",
   "execution_count": 333,
   "id": "567d48e0",
   "metadata": {},
   "outputs": [
    {
     "data": {
      "text/plain": [
       "((1168, 1), (1168, 1), (292, 1), (292, 1))"
      ]
     },
     "execution_count": 333,
     "metadata": {},
     "output_type": "execute_result"
    }
   ],
   "source": [
    "df = pd.read_csv(csv_train_l_path)\n",
    "train_set = np.array(df)\n",
    "\n",
    "x_train = train_set[:, :-1]\n",
    "y_train = train_set[:, -1:]\n",
    "\n",
    "df = pd.read_csv(csv_test_l_path)\n",
    "test_set = np.array(df)\n",
    "\n",
    "x_test = test_set[:, :-1]\n",
    "y_test = test_set[:, -1:]\n",
    "\n",
    "x_train.shape, y_train.shape, x_test.shape, y_test.shape"
   ]
  },
  {
   "cell_type": "markdown",
   "id": "4309725e",
   "metadata": {
    "jp-MarkdownHeadingCollapsed": true,
    "tags": []
   },
   "source": [
    "### Grid Search"
   ]
  },
  {
   "cell_type": "code",
   "execution_count": 334,
   "id": "bebeed04",
   "metadata": {},
   "outputs": [],
   "source": [
    "polynomial = PolynomialFeatures(degree=3)\n",
    "\n",
    "x_train_poly = polynomial.fit_transform(x_train)\n",
    "x_test_poly = polynomial.fit_transform(x_test)"
   ]
  },
  {
   "cell_type": "code",
   "execution_count": 335,
   "id": "adfbc8a0",
   "metadata": {},
   "outputs": [],
   "source": [
    "model = SGDRegressor(random_state=2)"
   ]
  },
  {
   "cell_type": "code",
   "execution_count": 336,
   "id": "efab61b0",
   "metadata": {
    "tags": []
   },
   "outputs": [
    {
     "data": {
      "text/html": [
       "<style>#sk-container-id-15 {\n",
       "  /* Definition of color scheme common for light and dark mode */\n",
       "  --sklearn-color-text: black;\n",
       "  --sklearn-color-line: gray;\n",
       "  /* Definition of color scheme for unfitted estimators */\n",
       "  --sklearn-color-unfitted-level-0: #fff5e6;\n",
       "  --sklearn-color-unfitted-level-1: #f6e4d2;\n",
       "  --sklearn-color-unfitted-level-2: #ffe0b3;\n",
       "  --sklearn-color-unfitted-level-3: chocolate;\n",
       "  /* Definition of color scheme for fitted estimators */\n",
       "  --sklearn-color-fitted-level-0: #f0f8ff;\n",
       "  --sklearn-color-fitted-level-1: #d4ebff;\n",
       "  --sklearn-color-fitted-level-2: #b3dbfd;\n",
       "  --sklearn-color-fitted-level-3: cornflowerblue;\n",
       "\n",
       "  /* Specific color for light theme */\n",
       "  --sklearn-color-text-on-default-background: var(--sg-text-color, var(--theme-code-foreground, var(--jp-content-font-color1, black)));\n",
       "  --sklearn-color-background: var(--sg-background-color, var(--theme-background, var(--jp-layout-color0, white)));\n",
       "  --sklearn-color-border-box: var(--sg-text-color, var(--theme-code-foreground, var(--jp-content-font-color1, black)));\n",
       "  --sklearn-color-icon: #696969;\n",
       "\n",
       "  @media (prefers-color-scheme: dark) {\n",
       "    /* Redefinition of color scheme for dark theme */\n",
       "    --sklearn-color-text-on-default-background: var(--sg-text-color, var(--theme-code-foreground, var(--jp-content-font-color1, white)));\n",
       "    --sklearn-color-background: var(--sg-background-color, var(--theme-background, var(--jp-layout-color0, #111)));\n",
       "    --sklearn-color-border-box: var(--sg-text-color, var(--theme-code-foreground, var(--jp-content-font-color1, white)));\n",
       "    --sklearn-color-icon: #878787;\n",
       "  }\n",
       "}\n",
       "\n",
       "#sk-container-id-15 {\n",
       "  color: var(--sklearn-color-text);\n",
       "}\n",
       "\n",
       "#sk-container-id-15 pre {\n",
       "  padding: 0;\n",
       "}\n",
       "\n",
       "#sk-container-id-15 input.sk-hidden--visually {\n",
       "  border: 0;\n",
       "  clip: rect(1px 1px 1px 1px);\n",
       "  clip: rect(1px, 1px, 1px, 1px);\n",
       "  height: 1px;\n",
       "  margin: -1px;\n",
       "  overflow: hidden;\n",
       "  padding: 0;\n",
       "  position: absolute;\n",
       "  width: 1px;\n",
       "}\n",
       "\n",
       "#sk-container-id-15 div.sk-dashed-wrapped {\n",
       "  border: 1px dashed var(--sklearn-color-line);\n",
       "  margin: 0 0.4em 0.5em 0.4em;\n",
       "  box-sizing: border-box;\n",
       "  padding-bottom: 0.4em;\n",
       "  background-color: var(--sklearn-color-background);\n",
       "}\n",
       "\n",
       "#sk-container-id-15 div.sk-container {\n",
       "  /* jupyter's `normalize.less` sets `[hidden] { display: none; }`\n",
       "     but bootstrap.min.css set `[hidden] { display: none !important; }`\n",
       "     so we also need the `!important` here to be able to override the\n",
       "     default hidden behavior on the sphinx rendered scikit-learn.org.\n",
       "     See: https://github.com/scikit-learn/scikit-learn/issues/21755 */\n",
       "  display: inline-block !important;\n",
       "  position: relative;\n",
       "}\n",
       "\n",
       "#sk-container-id-15 div.sk-text-repr-fallback {\n",
       "  display: none;\n",
       "}\n",
       "\n",
       "div.sk-parallel-item,\n",
       "div.sk-serial,\n",
       "div.sk-item {\n",
       "  /* draw centered vertical line to link estimators */\n",
       "  background-image: linear-gradient(var(--sklearn-color-text-on-default-background), var(--sklearn-color-text-on-default-background));\n",
       "  background-size: 2px 100%;\n",
       "  background-repeat: no-repeat;\n",
       "  background-position: center center;\n",
       "}\n",
       "\n",
       "/* Parallel-specific style estimator block */\n",
       "\n",
       "#sk-container-id-15 div.sk-parallel-item::after {\n",
       "  content: \"\";\n",
       "  width: 100%;\n",
       "  border-bottom: 2px solid var(--sklearn-color-text-on-default-background);\n",
       "  flex-grow: 1;\n",
       "}\n",
       "\n",
       "#sk-container-id-15 div.sk-parallel {\n",
       "  display: flex;\n",
       "  align-items: stretch;\n",
       "  justify-content: center;\n",
       "  background-color: var(--sklearn-color-background);\n",
       "  position: relative;\n",
       "}\n",
       "\n",
       "#sk-container-id-15 div.sk-parallel-item {\n",
       "  display: flex;\n",
       "  flex-direction: column;\n",
       "}\n",
       "\n",
       "#sk-container-id-15 div.sk-parallel-item:first-child::after {\n",
       "  align-self: flex-end;\n",
       "  width: 50%;\n",
       "}\n",
       "\n",
       "#sk-container-id-15 div.sk-parallel-item:last-child::after {\n",
       "  align-self: flex-start;\n",
       "  width: 50%;\n",
       "}\n",
       "\n",
       "#sk-container-id-15 div.sk-parallel-item:only-child::after {\n",
       "  width: 0;\n",
       "}\n",
       "\n",
       "/* Serial-specific style estimator block */\n",
       "\n",
       "#sk-container-id-15 div.sk-serial {\n",
       "  display: flex;\n",
       "  flex-direction: column;\n",
       "  align-items: center;\n",
       "  background-color: var(--sklearn-color-background);\n",
       "  padding-right: 1em;\n",
       "  padding-left: 1em;\n",
       "}\n",
       "\n",
       "\n",
       "/* Toggleable style: style used for estimator/Pipeline/ColumnTransformer box that is\n",
       "clickable and can be expanded/collapsed.\n",
       "- Pipeline and ColumnTransformer use this feature and define the default style\n",
       "- Estimators will overwrite some part of the style using the `sk-estimator` class\n",
       "*/\n",
       "\n",
       "/* Pipeline and ColumnTransformer style (default) */\n",
       "\n",
       "#sk-container-id-15 div.sk-toggleable {\n",
       "  /* Default theme specific background. It is overwritten whether we have a\n",
       "  specific estimator or a Pipeline/ColumnTransformer */\n",
       "  background-color: var(--sklearn-color-background);\n",
       "}\n",
       "\n",
       "/* Toggleable label */\n",
       "#sk-container-id-15 label.sk-toggleable__label {\n",
       "  cursor: pointer;\n",
       "  display: block;\n",
       "  width: 100%;\n",
       "  margin-bottom: 0;\n",
       "  padding: 0.5em;\n",
       "  box-sizing: border-box;\n",
       "  text-align: center;\n",
       "}\n",
       "\n",
       "#sk-container-id-15 label.sk-toggleable__label-arrow:before {\n",
       "  /* Arrow on the left of the label */\n",
       "  content: \"▸\";\n",
       "  float: left;\n",
       "  margin-right: 0.25em;\n",
       "  color: var(--sklearn-color-icon);\n",
       "}\n",
       "\n",
       "#sk-container-id-15 label.sk-toggleable__label-arrow:hover:before {\n",
       "  color: var(--sklearn-color-text);\n",
       "}\n",
       "\n",
       "/* Toggleable content - dropdown */\n",
       "\n",
       "#sk-container-id-15 div.sk-toggleable__content {\n",
       "  max-height: 0;\n",
       "  max-width: 0;\n",
       "  overflow: hidden;\n",
       "  text-align: left;\n",
       "  /* unfitted */\n",
       "  background-color: var(--sklearn-color-unfitted-level-0);\n",
       "}\n",
       "\n",
       "#sk-container-id-15 div.sk-toggleable__content.fitted {\n",
       "  /* fitted */\n",
       "  background-color: var(--sklearn-color-fitted-level-0);\n",
       "}\n",
       "\n",
       "#sk-container-id-15 div.sk-toggleable__content pre {\n",
       "  margin: 0.2em;\n",
       "  border-radius: 0.25em;\n",
       "  color: var(--sklearn-color-text);\n",
       "  /* unfitted */\n",
       "  background-color: var(--sklearn-color-unfitted-level-0);\n",
       "}\n",
       "\n",
       "#sk-container-id-15 div.sk-toggleable__content.fitted pre {\n",
       "  /* unfitted */\n",
       "  background-color: var(--sklearn-color-fitted-level-0);\n",
       "}\n",
       "\n",
       "#sk-container-id-15 input.sk-toggleable__control:checked~div.sk-toggleable__content {\n",
       "  /* Expand drop-down */\n",
       "  max-height: 200px;\n",
       "  max-width: 100%;\n",
       "  overflow: auto;\n",
       "}\n",
       "\n",
       "#sk-container-id-15 input.sk-toggleable__control:checked~label.sk-toggleable__label-arrow:before {\n",
       "  content: \"▾\";\n",
       "}\n",
       "\n",
       "/* Pipeline/ColumnTransformer-specific style */\n",
       "\n",
       "#sk-container-id-15 div.sk-label input.sk-toggleable__control:checked~label.sk-toggleable__label {\n",
       "  color: var(--sklearn-color-text);\n",
       "  background-color: var(--sklearn-color-unfitted-level-2);\n",
       "}\n",
       "\n",
       "#sk-container-id-15 div.sk-label.fitted input.sk-toggleable__control:checked~label.sk-toggleable__label {\n",
       "  background-color: var(--sklearn-color-fitted-level-2);\n",
       "}\n",
       "\n",
       "/* Estimator-specific style */\n",
       "\n",
       "/* Colorize estimator box */\n",
       "#sk-container-id-15 div.sk-estimator input.sk-toggleable__control:checked~label.sk-toggleable__label {\n",
       "  /* unfitted */\n",
       "  background-color: var(--sklearn-color-unfitted-level-2);\n",
       "}\n",
       "\n",
       "#sk-container-id-15 div.sk-estimator.fitted input.sk-toggleable__control:checked~label.sk-toggleable__label {\n",
       "  /* fitted */\n",
       "  background-color: var(--sklearn-color-fitted-level-2);\n",
       "}\n",
       "\n",
       "#sk-container-id-15 div.sk-label label.sk-toggleable__label,\n",
       "#sk-container-id-15 div.sk-label label {\n",
       "  /* The background is the default theme color */\n",
       "  color: var(--sklearn-color-text-on-default-background);\n",
       "}\n",
       "\n",
       "/* On hover, darken the color of the background */\n",
       "#sk-container-id-15 div.sk-label:hover label.sk-toggleable__label {\n",
       "  color: var(--sklearn-color-text);\n",
       "  background-color: var(--sklearn-color-unfitted-level-2);\n",
       "}\n",
       "\n",
       "/* Label box, darken color on hover, fitted */\n",
       "#sk-container-id-15 div.sk-label.fitted:hover label.sk-toggleable__label.fitted {\n",
       "  color: var(--sklearn-color-text);\n",
       "  background-color: var(--sklearn-color-fitted-level-2);\n",
       "}\n",
       "\n",
       "/* Estimator label */\n",
       "\n",
       "#sk-container-id-15 div.sk-label label {\n",
       "  font-family: monospace;\n",
       "  font-weight: bold;\n",
       "  display: inline-block;\n",
       "  line-height: 1.2em;\n",
       "}\n",
       "\n",
       "#sk-container-id-15 div.sk-label-container {\n",
       "  text-align: center;\n",
       "}\n",
       "\n",
       "/* Estimator-specific */\n",
       "#sk-container-id-15 div.sk-estimator {\n",
       "  font-family: monospace;\n",
       "  border: 1px dotted var(--sklearn-color-border-box);\n",
       "  border-radius: 0.25em;\n",
       "  box-sizing: border-box;\n",
       "  margin-bottom: 0.5em;\n",
       "  /* unfitted */\n",
       "  background-color: var(--sklearn-color-unfitted-level-0);\n",
       "}\n",
       "\n",
       "#sk-container-id-15 div.sk-estimator.fitted {\n",
       "  /* fitted */\n",
       "  background-color: var(--sklearn-color-fitted-level-0);\n",
       "}\n",
       "\n",
       "/* on hover */\n",
       "#sk-container-id-15 div.sk-estimator:hover {\n",
       "  /* unfitted */\n",
       "  background-color: var(--sklearn-color-unfitted-level-2);\n",
       "}\n",
       "\n",
       "#sk-container-id-15 div.sk-estimator.fitted:hover {\n",
       "  /* fitted */\n",
       "  background-color: var(--sklearn-color-fitted-level-2);\n",
       "}\n",
       "\n",
       "/* Specification for estimator info (e.g. \"i\" and \"?\") */\n",
       "\n",
       "/* Common style for \"i\" and \"?\" */\n",
       "\n",
       ".sk-estimator-doc-link,\n",
       "a:link.sk-estimator-doc-link,\n",
       "a:visited.sk-estimator-doc-link {\n",
       "  float: right;\n",
       "  font-size: smaller;\n",
       "  line-height: 1em;\n",
       "  font-family: monospace;\n",
       "  background-color: var(--sklearn-color-background);\n",
       "  border-radius: 1em;\n",
       "  height: 1em;\n",
       "  width: 1em;\n",
       "  text-decoration: none !important;\n",
       "  margin-left: 1ex;\n",
       "  /* unfitted */\n",
       "  border: var(--sklearn-color-unfitted-level-1) 1pt solid;\n",
       "  color: var(--sklearn-color-unfitted-level-1);\n",
       "}\n",
       "\n",
       ".sk-estimator-doc-link.fitted,\n",
       "a:link.sk-estimator-doc-link.fitted,\n",
       "a:visited.sk-estimator-doc-link.fitted {\n",
       "  /* fitted */\n",
       "  border: var(--sklearn-color-fitted-level-1) 1pt solid;\n",
       "  color: var(--sklearn-color-fitted-level-1);\n",
       "}\n",
       "\n",
       "/* On hover */\n",
       "div.sk-estimator:hover .sk-estimator-doc-link:hover,\n",
       ".sk-estimator-doc-link:hover,\n",
       "div.sk-label-container:hover .sk-estimator-doc-link:hover,\n",
       ".sk-estimator-doc-link:hover {\n",
       "  /* unfitted */\n",
       "  background-color: var(--sklearn-color-unfitted-level-3);\n",
       "  color: var(--sklearn-color-background);\n",
       "  text-decoration: none;\n",
       "}\n",
       "\n",
       "div.sk-estimator.fitted:hover .sk-estimator-doc-link.fitted:hover,\n",
       ".sk-estimator-doc-link.fitted:hover,\n",
       "div.sk-label-container:hover .sk-estimator-doc-link.fitted:hover,\n",
       ".sk-estimator-doc-link.fitted:hover {\n",
       "  /* fitted */\n",
       "  background-color: var(--sklearn-color-fitted-level-3);\n",
       "  color: var(--sklearn-color-background);\n",
       "  text-decoration: none;\n",
       "}\n",
       "\n",
       "/* Span, style for the box shown on hovering the info icon */\n",
       ".sk-estimator-doc-link span {\n",
       "  display: none;\n",
       "  z-index: 9999;\n",
       "  position: relative;\n",
       "  font-weight: normal;\n",
       "  right: .2ex;\n",
       "  padding: .5ex;\n",
       "  margin: .5ex;\n",
       "  width: min-content;\n",
       "  min-width: 20ex;\n",
       "  max-width: 50ex;\n",
       "  color: var(--sklearn-color-text);\n",
       "  box-shadow: 2pt 2pt 4pt #999;\n",
       "  /* unfitted */\n",
       "  background: var(--sklearn-color-unfitted-level-0);\n",
       "  border: .5pt solid var(--sklearn-color-unfitted-level-3);\n",
       "}\n",
       "\n",
       ".sk-estimator-doc-link.fitted span {\n",
       "  /* fitted */\n",
       "  background: var(--sklearn-color-fitted-level-0);\n",
       "  border: var(--sklearn-color-fitted-level-3);\n",
       "}\n",
       "\n",
       ".sk-estimator-doc-link:hover span {\n",
       "  display: block;\n",
       "}\n",
       "\n",
       "/* \"?\"-specific style due to the `<a>` HTML tag */\n",
       "\n",
       "#sk-container-id-15 a.estimator_doc_link {\n",
       "  float: right;\n",
       "  font-size: 1rem;\n",
       "  line-height: 1em;\n",
       "  font-family: monospace;\n",
       "  background-color: var(--sklearn-color-background);\n",
       "  border-radius: 1rem;\n",
       "  height: 1rem;\n",
       "  width: 1rem;\n",
       "  text-decoration: none;\n",
       "  /* unfitted */\n",
       "  color: var(--sklearn-color-unfitted-level-1);\n",
       "  border: var(--sklearn-color-unfitted-level-1) 1pt solid;\n",
       "}\n",
       "\n",
       "#sk-container-id-15 a.estimator_doc_link.fitted {\n",
       "  /* fitted */\n",
       "  border: var(--sklearn-color-fitted-level-1) 1pt solid;\n",
       "  color: var(--sklearn-color-fitted-level-1);\n",
       "}\n",
       "\n",
       "/* On hover */\n",
       "#sk-container-id-15 a.estimator_doc_link:hover {\n",
       "  /* unfitted */\n",
       "  background-color: var(--sklearn-color-unfitted-level-3);\n",
       "  color: var(--sklearn-color-background);\n",
       "  text-decoration: none;\n",
       "}\n",
       "\n",
       "#sk-container-id-15 a.estimator_doc_link.fitted:hover {\n",
       "  /* fitted */\n",
       "  background-color: var(--sklearn-color-fitted-level-3);\n",
       "}\n",
       "</style><div id=\"sk-container-id-15\" class=\"sk-top-container\"><div class=\"sk-text-repr-fallback\"><pre>GridSearchCV(estimator=SGDRegressor(random_state=2),\n",
       "             param_grid={&#x27;alpha&#x27;: array([1.00000000e-06, 4.64158883e-06, 2.15443469e-05, 1.00000000e-04,\n",
       "       4.64158883e-04, 2.15443469e-03, 1.00000000e-02, 4.64158883e-02,\n",
       "       2.15443469e-01, 1.00000000e+00]),\n",
       "                         &#x27;eta0&#x27;: array([0.001     , 0.00215443, 0.00464159, 0.01      , 0.02154435,\n",
       "       0.04641589, 0.1       , 0.21544347, 0.46415888, 1.        ])},\n",
       "             return_train_score=True)</pre><b>In a Jupyter environment, please rerun this cell to show the HTML representation or trust the notebook. <br />On GitHub, the HTML representation is unable to render, please try loading this page with nbviewer.org.</b></div><div class=\"sk-container\" hidden><div class=\"sk-item sk-dashed-wrapped\"><div class=\"sk-label-container\"><div class=\"sk-label fitted sk-toggleable\"><input class=\"sk-toggleable__control sk-hidden--visually\" id=\"sk-estimator-id-19\" type=\"checkbox\" ><label for=\"sk-estimator-id-19\" class=\"sk-toggleable__label fitted sk-toggleable__label-arrow fitted\">&nbsp;&nbsp;GridSearchCV<a class=\"sk-estimator-doc-link fitted\" rel=\"noreferrer\" target=\"_blank\" href=\"https://scikit-learn.org/1.5/modules/generated/sklearn.model_selection.GridSearchCV.html\">?<span>Documentation for GridSearchCV</span></a><span class=\"sk-estimator-doc-link fitted\">i<span>Fitted</span></span></label><div class=\"sk-toggleable__content fitted\"><pre>GridSearchCV(estimator=SGDRegressor(random_state=2),\n",
       "             param_grid={&#x27;alpha&#x27;: array([1.00000000e-06, 4.64158883e-06, 2.15443469e-05, 1.00000000e-04,\n",
       "       4.64158883e-04, 2.15443469e-03, 1.00000000e-02, 4.64158883e-02,\n",
       "       2.15443469e-01, 1.00000000e+00]),\n",
       "                         &#x27;eta0&#x27;: array([0.001     , 0.00215443, 0.00464159, 0.01      , 0.02154435,\n",
       "       0.04641589, 0.1       , 0.21544347, 0.46415888, 1.        ])},\n",
       "             return_train_score=True)</pre></div> </div></div><div class=\"sk-parallel\"><div class=\"sk-parallel-item\"><div class=\"sk-item\"><div class=\"sk-label-container\"><div class=\"sk-label fitted sk-toggleable\"><input class=\"sk-toggleable__control sk-hidden--visually\" id=\"sk-estimator-id-20\" type=\"checkbox\" ><label for=\"sk-estimator-id-20\" class=\"sk-toggleable__label fitted sk-toggleable__label-arrow fitted\">best_estimator_: SGDRegressor</label><div class=\"sk-toggleable__content fitted\"><pre>SGDRegressor(alpha=1e-06, eta0=0.004641588833612777, random_state=2)</pre></div> </div></div><div class=\"sk-serial\"><div class=\"sk-item\"><div class=\"sk-estimator fitted sk-toggleable\"><input class=\"sk-toggleable__control sk-hidden--visually\" id=\"sk-estimator-id-21\" type=\"checkbox\" ><label for=\"sk-estimator-id-21\" class=\"sk-toggleable__label fitted sk-toggleable__label-arrow fitted\">&nbsp;SGDRegressor<a class=\"sk-estimator-doc-link fitted\" rel=\"noreferrer\" target=\"_blank\" href=\"https://scikit-learn.org/1.5/modules/generated/sklearn.linear_model.SGDRegressor.html\">?<span>Documentation for SGDRegressor</span></a></label><div class=\"sk-toggleable__content fitted\"><pre>SGDRegressor(alpha=1e-06, eta0=0.004641588833612777, random_state=2)</pre></div> </div></div></div></div></div></div></div></div></div>"
      ],
      "text/plain": [
       "GridSearchCV(estimator=SGDRegressor(random_state=2),\n",
       "             param_grid={'alpha': array([1.00000000e-06, 4.64158883e-06, 2.15443469e-05, 1.00000000e-04,\n",
       "       4.64158883e-04, 2.15443469e-03, 1.00000000e-02, 4.64158883e-02,\n",
       "       2.15443469e-01, 1.00000000e+00]),\n",
       "                         'eta0': array([0.001     , 0.00215443, 0.00464159, 0.01      , 0.02154435,\n",
       "       0.04641589, 0.1       , 0.21544347, 0.46415888, 1.        ])},\n",
       "             return_train_score=True)"
      ]
     },
     "execution_count": 336,
     "metadata": {},
     "output_type": "execute_result"
    }
   ],
   "source": [
    "lrs = np.logspace(-3, 0, 10)\n",
    "alphas = np.logspace(-6, 0, 10)\n",
    "\n",
    "param_grid = {'eta0': lrs, 'alpha': alphas}\n",
    "search = GridSearchCV(model, param_grid, verbose=0, return_train_score=True)\n",
    "\n",
    "search.fit(x_train_poly, y_train.ravel())"
   ]
  },
  {
   "cell_type": "code",
   "execution_count": 337,
   "id": "59801d6b",
   "metadata": {},
   "outputs": [
    {
     "data": {
      "text/plain": [
       "0.6985168737495981"
      ]
     },
     "execution_count": 337,
     "metadata": {},
     "output_type": "execute_result"
    }
   ],
   "source": [
    "search.best_estimator_.score(x_test_poly, y_test)"
   ]
  },
  {
   "cell_type": "code",
   "execution_count": 338,
   "id": "f03c65fb",
   "metadata": {},
   "outputs": [
    {
     "data": {
      "text/plain": [
       "(2, {'alpha': 1e-06, 'eta0': 0.004641588833612777}, 0.7085245157472255)"
      ]
     },
     "execution_count": 338,
     "metadata": {},
     "output_type": "execute_result"
    }
   ],
   "source": [
    "search.best_index_, search.best_params_, search.best_score_"
   ]
  },
  {
   "cell_type": "code",
   "execution_count": 339,
   "id": "5394706f",
   "metadata": {},
   "outputs": [
    {
     "data": {
      "application/vnd.microsoft.datawrangler.viewer.v0+json": {
       "columns": [
        {
         "name": "index",
         "rawType": "int64",
         "type": "integer"
        },
        {
         "name": "params",
         "rawType": "object",
         "type": "unknown"
        },
        {
         "name": "rank_test_score",
         "rawType": "int32",
         "type": "integer"
        },
        {
         "name": "mean_train_score",
         "rawType": "float64",
         "type": "float"
        },
        {
         "name": "mean_test_score",
         "rawType": "float64",
         "type": "float"
        }
       ],
       "conversionMethod": "pd.DataFrame",
       "ref": "1f40dcb3-876e-4379-91aa-1780cc4b0b3b",
       "rows": [
        [
         "2",
         "{'alpha': 1e-06, 'eta0': 0.004641588833612777}",
         "1",
         "0.712278890413996",
         "0.7085245157472255"
        ],
        [
         "12",
         "{'alpha': 4.641588833612782e-06, 'eta0': 0.004641588833612777}",
         "2",
         "0.7122785928072993",
         "0.7085242259360566"
        ],
        [
         "22",
         "{'alpha': 2.1544346900318823e-05, 'eta0': 0.004641588833612777}",
         "3",
         "0.7122772109121561",
         "0.7085228802186523"
        ],
        [
         "32",
         "{'alpha': 0.0001, 'eta0': 0.004641588833612777}",
         "4",
         "0.7122707853687411",
         "0.7085166224704441"
        ],
        [
         "42",
         "{'alpha': 0.00046415888336127773, 'eta0': 0.004641588833612777}",
         "5",
         "0.7122407164486336",
         "0.708487329654929"
        ],
        [
         "52",
         "{'alpha': 0.002154434690031882, 'eta0': 0.004641588833612777}",
         "6",
         "0.7120959309735007",
         "0.7083460880812893"
        ],
        [
         "54",
         "{'alpha': 0.002154434690031882, 'eta0': 0.021544346900318832}",
         "7",
         "0.7129826510919735",
         "0.7083444345991265"
        ],
        [
         "44",
         "{'alpha': 0.00046415888336127773, 'eta0': 0.021544346900318832}",
         "8",
         "0.7129575612472083",
         "0.7083045360730438"
        ],
        [
         "34",
         "{'alpha': 0.0001, 'eta0': 0.021544346900318832}",
         "9",
         "0.7129501070541386",
         "0.7082938394186342"
        ],
        [
         "24",
         "{'alpha': 2.1544346900318823e-05, 'eta0': 0.021544346900318832}",
         "10",
         "0.712948404369175",
         "0.7082914357256725"
        ],
        [
         "14",
         "{'alpha': 4.641588833612782e-06, 'eta0': 0.021544346900318832}",
         "11",
         "0.7129480330305127",
         "0.7082909132458571"
        ],
        [
         "4",
         "{'alpha': 1e-06, 'eta0': 0.021544346900318832}",
         "12",
         "0.7129479528186922",
         "0.7082908004663887"
        ],
        [
         "64",
         "{'alpha': 0.01, 'eta0': 0.021544346900318832}",
         "13",
         "0.7134465621828898",
         "0.7080506809237772"
        ],
        [
         "3",
         "{'alpha': 1e-06, 'eta0': 0.01}",
         "14",
         "0.7132043418415329",
         "0.7077591423158436"
        ],
        [
         "13",
         "{'alpha': 4.641588833612782e-06, 'eta0': 0.01}",
         "15",
         "0.713204240388402",
         "0.7077590689758498"
        ],
        [
         "23",
         "{'alpha': 2.1544346900318823e-05, 'eta0': 0.01}",
         "16",
         "0.713203768718641",
         "0.7077587277834514"
        ],
        [
         "33",
         "{'alpha': 0.0001, 'eta0': 0.01}",
         "17",
         "0.7132015629263788",
         "0.7077571273494225"
        ],
        [
         "43",
         "{'alpha': 0.00046415888336127773, 'eta0': 0.01}",
         "18",
         "0.7131909700367818",
         "0.7077493386052514"
        ],
        [
         "62",
         "{'alpha': 0.01, 'eta0': 0.004641588833612777}",
         "19",
         "0.7114100513403384",
         "0.707722158051314"
        ],
        [
         "53",
         "{'alpha': 0.002154434690031882, 'eta0': 0.01}",
         "20",
         "0.7131342506131035",
         "0.707705513514086"
        ],
        [
         "63",
         "{'alpha': 0.01, 'eta0': 0.01}",
         "21",
         "0.7127165403808255",
         "0.7073451337817733"
        ],
        [
         "74",
         "{'alpha': 0.046415888336127725, 'eta0': 0.021544346900318832}",
         "22",
         "0.7100083275542908",
         "0.7057298945386481"
        ],
        [
         "75",
         "{'alpha': 0.046415888336127725, 'eta0': 0.046415888336127774}",
         "23",
         "0.7089500553190383",
         "0.7040688541014613"
        ],
        [
         "76",
         "{'alpha': 0.046415888336127725, 'eta0': 0.1}",
         "24",
         "0.7057588563552746",
         "0.7032210372669594"
        ],
        [
         "73",
         "{'alpha': 0.046415888336127725, 'eta0': 0.01}",
         "25",
         "0.7081349268869079",
         "0.7029834208176408"
        ],
        [
         "72",
         "{'alpha': 0.046415888336127725, 'eta0': 0.004641588833612777}",
         "26",
         "0.7062140682703457",
         "0.7025416858006753"
        ],
        [
         "1",
         "{'alpha': 1e-06, 'eta0': 0.0021544346900318843}",
         "27",
         "0.7056145409882287",
         "0.701636051919243"
        ],
        [
         "11",
         "{'alpha': 4.641588833612782e-06, 'eta0': 0.0021544346900318843}",
         "28",
         "0.7056139689585782",
         "0.701635485454857"
        ],
        [
         "21",
         "{'alpha': 2.1544346900318823e-05, 'eta0': 0.0021544346900318843}",
         "29",
         "0.7056113135352431",
         "0.7016328558596598"
        ],
        [
         "31",
         "{'alpha': 0.0001, 'eta0': 0.0021544346900318843}",
         "30",
         "0.7055989817577464",
         "0.7016206438896853"
        ],
        [
         "41",
         "{'alpha': 0.00046415888336127773, 'eta0': 0.0021544346900318843}",
         "31",
         "0.7055416051514387",
         "0.7015638217434439"
        ],
        [
         "51",
         "{'alpha': 0.002154434690031882, 'eta0': 0.0021544346900318843}",
         "32",
         "0.7052723420169801",
         "0.701297097090061"
        ],
        [
         "65",
         "{'alpha': 0.01, 'eta0': 0.046415888336127774}",
         "33",
         "0.7091934362357236",
         "0.7008692730530752"
        ],
        [
         "55",
         "{'alpha': 0.002154434690031882, 'eta0': 0.046415888336127774}",
         "34",
         "0.7092434532050576",
         "0.7008311643042905"
        ],
        [
         "45",
         "{'alpha': 0.00046415888336127773, 'eta0': 0.046415888336127774}",
         "35",
         "0.7092130111123501",
         "0.7007811217286067"
        ],
        [
         "35",
         "{'alpha': 0.0001, 'eta0': 0.046415888336127774}",
         "36",
         "0.7092042979517832",
         "0.7007681618893079"
        ],
        [
         "25",
         "{'alpha': 2.1544346900318823e-05, 'eta0': 0.046415888336127774}",
         "37",
         "0.7092023179364658",
         "0.7007652659021971"
        ],
        [
         "15",
         "{'alpha': 4.641588833612782e-06, 'eta0': 0.046415888336127774}",
         "38",
         "0.7092018865534114",
         "0.7007646371307272"
        ],
        [
         "5",
         "{'alpha': 1e-06, 'eta0': 0.046415888336127774}",
         "39",
         "0.7092017933915817",
         "0.7007645014406177"
        ],
        [
         "61",
         "{'alpha': 0.01, 'eta0': 0.0021544346900318843}",
         "40",
         "0.7041410969581215",
         "0.7001849591235072"
        ],
        [
         "66",
         "{'alpha': 0.01, 'eta0': 0.1}",
         "41",
         "0.7045717920018998",
         "0.6978946754312898"
        ],
        [
         "56",
         "{'alpha': 0.002154434690031882, 'eta0': 0.1}",
         "42",
         "0.7025296791168241",
         "0.6965055323021361"
        ],
        [
         "46",
         "{'alpha': 0.00046415888336127773, 'eta0': 0.1}",
         "43",
         "0.7025459328056988",
         "0.696423029969638"
        ],
        [
         "36",
         "{'alpha': 0.0001, 'eta0': 0.1}",
         "44",
         "0.702546742293378",
         "0.6964023783838651"
        ],
        [
         "26",
         "{'alpha': 2.1544346900318823e-05, 'eta0': 0.1}",
         "45",
         "0.7025467842148145",
         "0.6963977885287227"
        ],
        [
         "16",
         "{'alpha': 4.641588833612782e-06, 'eta0': 0.1}",
         "46",
         "0.702546787016743",
         "0.696396793072342"
        ],
        [
         "6",
         "{'alpha': 1e-06, 'eta0': 0.1}",
         "47",
         "0.70254678733042",
         "0.6963965783005566"
        ],
        [
         "71",
         "{'alpha': 0.046415888336127725, 'eta0': 0.0021544346900318843}",
         "48",
         "0.6975372811580972",
         "0.6936311169134777"
        ],
        [
         "0",
         "{'alpha': 1e-06, 'eta0': 0.001}",
         "49",
         "0.6860608192752773",
         "0.681965761332758"
        ],
        [
         "10",
         "{'alpha': 4.641588833612782e-06, 'eta0': 0.001}",
         "50",
         "0.686060010904619",
         "0.6819649534282717"
        ]
       ],
       "shape": {
        "columns": 4,
        "rows": 100
       }
      },
      "text/html": [
       "<div>\n",
       "<style scoped>\n",
       "    .dataframe tbody tr th:only-of-type {\n",
       "        vertical-align: middle;\n",
       "    }\n",
       "\n",
       "    .dataframe tbody tr th {\n",
       "        vertical-align: top;\n",
       "    }\n",
       "\n",
       "    .dataframe thead th {\n",
       "        text-align: right;\n",
       "    }\n",
       "</style>\n",
       "<table border=\"1\" class=\"dataframe\">\n",
       "  <thead>\n",
       "    <tr style=\"text-align: right;\">\n",
       "      <th></th>\n",
       "      <th>params</th>\n",
       "      <th>rank_test_score</th>\n",
       "      <th>mean_train_score</th>\n",
       "      <th>mean_test_score</th>\n",
       "    </tr>\n",
       "  </thead>\n",
       "  <tbody>\n",
       "    <tr>\n",
       "      <th>2</th>\n",
       "      <td>{'alpha': 1e-06, 'eta0': 0.004641588833612777}</td>\n",
       "      <td>1</td>\n",
       "      <td>7.122789e-01</td>\n",
       "      <td>7.085245e-01</td>\n",
       "    </tr>\n",
       "    <tr>\n",
       "      <th>12</th>\n",
       "      <td>{'alpha': 4.641588833612782e-06, 'eta0': 0.004...</td>\n",
       "      <td>2</td>\n",
       "      <td>7.122786e-01</td>\n",
       "      <td>7.085242e-01</td>\n",
       "    </tr>\n",
       "    <tr>\n",
       "      <th>22</th>\n",
       "      <td>{'alpha': 2.1544346900318823e-05, 'eta0': 0.00...</td>\n",
       "      <td>3</td>\n",
       "      <td>7.122772e-01</td>\n",
       "      <td>7.085229e-01</td>\n",
       "    </tr>\n",
       "    <tr>\n",
       "      <th>32</th>\n",
       "      <td>{'alpha': 0.0001, 'eta0': 0.004641588833612777}</td>\n",
       "      <td>4</td>\n",
       "      <td>7.122708e-01</td>\n",
       "      <td>7.085166e-01</td>\n",
       "    </tr>\n",
       "    <tr>\n",
       "      <th>42</th>\n",
       "      <td>{'alpha': 0.00046415888336127773, 'eta0': 0.00...</td>\n",
       "      <td>5</td>\n",
       "      <td>7.122407e-01</td>\n",
       "      <td>7.084873e-01</td>\n",
       "    </tr>\n",
       "    <tr>\n",
       "      <th>...</th>\n",
       "      <td>...</td>\n",
       "      <td>...</td>\n",
       "      <td>...</td>\n",
       "      <td>...</td>\n",
       "    </tr>\n",
       "    <tr>\n",
       "      <th>19</th>\n",
       "      <td>{'alpha': 4.641588833612782e-06, 'eta0': 1.0}</td>\n",
       "      <td>96</td>\n",
       "      <td>-5.781310e+21</td>\n",
       "      <td>-6.073673e+21</td>\n",
       "    </tr>\n",
       "    <tr>\n",
       "      <th>9</th>\n",
       "      <td>{'alpha': 1e-06, 'eta0': 1.0}</td>\n",
       "      <td>97</td>\n",
       "      <td>-2.725867e+22</td>\n",
       "      <td>-2.749525e+22</td>\n",
       "    </tr>\n",
       "    <tr>\n",
       "      <th>39</th>\n",
       "      <td>{'alpha': 0.0001, 'eta0': 1.0}</td>\n",
       "      <td>98</td>\n",
       "      <td>-4.469671e+22</td>\n",
       "      <td>-4.356081e+22</td>\n",
       "    </tr>\n",
       "    <tr>\n",
       "      <th>69</th>\n",
       "      <td>{'alpha': 0.01, 'eta0': 1.0}</td>\n",
       "      <td>99</td>\n",
       "      <td>-7.631622e+22</td>\n",
       "      <td>-4.896849e+22</td>\n",
       "    </tr>\n",
       "    <tr>\n",
       "      <th>49</th>\n",
       "      <td>{'alpha': 0.00046415888336127773, 'eta0': 1.0}</td>\n",
       "      <td>100</td>\n",
       "      <td>-4.524793e+22</td>\n",
       "      <td>-5.404573e+22</td>\n",
       "    </tr>\n",
       "  </tbody>\n",
       "</table>\n",
       "<p>100 rows × 4 columns</p>\n",
       "</div>"
      ],
      "text/plain": [
       "                                               params  rank_test_score  \\\n",
       "2      {'alpha': 1e-06, 'eta0': 0.004641588833612777}                1   \n",
       "12  {'alpha': 4.641588833612782e-06, 'eta0': 0.004...                2   \n",
       "22  {'alpha': 2.1544346900318823e-05, 'eta0': 0.00...                3   \n",
       "32    {'alpha': 0.0001, 'eta0': 0.004641588833612777}                4   \n",
       "42  {'alpha': 0.00046415888336127773, 'eta0': 0.00...                5   \n",
       "..                                                ...              ...   \n",
       "19      {'alpha': 4.641588833612782e-06, 'eta0': 1.0}               96   \n",
       "9                       {'alpha': 1e-06, 'eta0': 1.0}               97   \n",
       "39                     {'alpha': 0.0001, 'eta0': 1.0}               98   \n",
       "69                       {'alpha': 0.01, 'eta0': 1.0}               99   \n",
       "49     {'alpha': 0.00046415888336127773, 'eta0': 1.0}              100   \n",
       "\n",
       "    mean_train_score  mean_test_score  \n",
       "2       7.122789e-01     7.085245e-01  \n",
       "12      7.122786e-01     7.085242e-01  \n",
       "22      7.122772e-01     7.085229e-01  \n",
       "32      7.122708e-01     7.085166e-01  \n",
       "42      7.122407e-01     7.084873e-01  \n",
       "..               ...              ...  \n",
       "19     -5.781310e+21    -6.073673e+21  \n",
       "9      -2.725867e+22    -2.749525e+22  \n",
       "39     -4.469671e+22    -4.356081e+22  \n",
       "69     -7.631622e+22    -4.896849e+22  \n",
       "49     -4.524793e+22    -5.404573e+22  \n",
       "\n",
       "[100 rows x 4 columns]"
      ]
     },
     "execution_count": 339,
     "metadata": {},
     "output_type": "execute_result"
    }
   ],
   "source": [
    "df_cv = pd.DataFrame(search.cv_results_)\n",
    "df_cv = df_cv.sort_values(by='rank_test_score')\n",
    "df_cv[['params', 'rank_test_score', 'mean_train_score', 'mean_test_score']]"
   ]
  },
  {
   "cell_type": "markdown",
   "id": "1961a84f",
   "metadata": {
    "jp-MarkdownHeadingCollapsed": true,
    "tags": []
   },
   "source": [
    "### Random Search"
   ]
  },
  {
   "cell_type": "code",
   "execution_count": 340,
   "id": "dfec5f0f",
   "metadata": {},
   "outputs": [],
   "source": [
    "polynomial = PolynomialFeatures(degree=3)\n",
    "\n",
    "x_train_poly = polynomial.fit_transform(x_train)\n",
    "x_test_poly = polynomial.fit_transform(x_test)"
   ]
  },
  {
   "cell_type": "code",
   "execution_count": 341,
   "id": "22246885",
   "metadata": {},
   "outputs": [],
   "source": [
    "model = SGDRegressor(random_state=2)"
   ]
  },
  {
   "cell_type": "code",
   "execution_count": 342,
   "id": "5f4de71a",
   "metadata": {
    "tags": []
   },
   "outputs": [
    {
     "name": "stdout",
     "output_type": "stream",
     "text": [
      "Fitting 5 folds for each of 100 candidates, totalling 500 fits\n"
     ]
    },
    {
     "data": {
      "text/html": [
       "<style>#sk-container-id-16 {\n",
       "  /* Definition of color scheme common for light and dark mode */\n",
       "  --sklearn-color-text: black;\n",
       "  --sklearn-color-line: gray;\n",
       "  /* Definition of color scheme for unfitted estimators */\n",
       "  --sklearn-color-unfitted-level-0: #fff5e6;\n",
       "  --sklearn-color-unfitted-level-1: #f6e4d2;\n",
       "  --sklearn-color-unfitted-level-2: #ffe0b3;\n",
       "  --sklearn-color-unfitted-level-3: chocolate;\n",
       "  /* Definition of color scheme for fitted estimators */\n",
       "  --sklearn-color-fitted-level-0: #f0f8ff;\n",
       "  --sklearn-color-fitted-level-1: #d4ebff;\n",
       "  --sklearn-color-fitted-level-2: #b3dbfd;\n",
       "  --sklearn-color-fitted-level-3: cornflowerblue;\n",
       "\n",
       "  /* Specific color for light theme */\n",
       "  --sklearn-color-text-on-default-background: var(--sg-text-color, var(--theme-code-foreground, var(--jp-content-font-color1, black)));\n",
       "  --sklearn-color-background: var(--sg-background-color, var(--theme-background, var(--jp-layout-color0, white)));\n",
       "  --sklearn-color-border-box: var(--sg-text-color, var(--theme-code-foreground, var(--jp-content-font-color1, black)));\n",
       "  --sklearn-color-icon: #696969;\n",
       "\n",
       "  @media (prefers-color-scheme: dark) {\n",
       "    /* Redefinition of color scheme for dark theme */\n",
       "    --sklearn-color-text-on-default-background: var(--sg-text-color, var(--theme-code-foreground, var(--jp-content-font-color1, white)));\n",
       "    --sklearn-color-background: var(--sg-background-color, var(--theme-background, var(--jp-layout-color0, #111)));\n",
       "    --sklearn-color-border-box: var(--sg-text-color, var(--theme-code-foreground, var(--jp-content-font-color1, white)));\n",
       "    --sklearn-color-icon: #878787;\n",
       "  }\n",
       "}\n",
       "\n",
       "#sk-container-id-16 {\n",
       "  color: var(--sklearn-color-text);\n",
       "}\n",
       "\n",
       "#sk-container-id-16 pre {\n",
       "  padding: 0;\n",
       "}\n",
       "\n",
       "#sk-container-id-16 input.sk-hidden--visually {\n",
       "  border: 0;\n",
       "  clip: rect(1px 1px 1px 1px);\n",
       "  clip: rect(1px, 1px, 1px, 1px);\n",
       "  height: 1px;\n",
       "  margin: -1px;\n",
       "  overflow: hidden;\n",
       "  padding: 0;\n",
       "  position: absolute;\n",
       "  width: 1px;\n",
       "}\n",
       "\n",
       "#sk-container-id-16 div.sk-dashed-wrapped {\n",
       "  border: 1px dashed var(--sklearn-color-line);\n",
       "  margin: 0 0.4em 0.5em 0.4em;\n",
       "  box-sizing: border-box;\n",
       "  padding-bottom: 0.4em;\n",
       "  background-color: var(--sklearn-color-background);\n",
       "}\n",
       "\n",
       "#sk-container-id-16 div.sk-container {\n",
       "  /* jupyter's `normalize.less` sets `[hidden] { display: none; }`\n",
       "     but bootstrap.min.css set `[hidden] { display: none !important; }`\n",
       "     so we also need the `!important` here to be able to override the\n",
       "     default hidden behavior on the sphinx rendered scikit-learn.org.\n",
       "     See: https://github.com/scikit-learn/scikit-learn/issues/21755 */\n",
       "  display: inline-block !important;\n",
       "  position: relative;\n",
       "}\n",
       "\n",
       "#sk-container-id-16 div.sk-text-repr-fallback {\n",
       "  display: none;\n",
       "}\n",
       "\n",
       "div.sk-parallel-item,\n",
       "div.sk-serial,\n",
       "div.sk-item {\n",
       "  /* draw centered vertical line to link estimators */\n",
       "  background-image: linear-gradient(var(--sklearn-color-text-on-default-background), var(--sklearn-color-text-on-default-background));\n",
       "  background-size: 2px 100%;\n",
       "  background-repeat: no-repeat;\n",
       "  background-position: center center;\n",
       "}\n",
       "\n",
       "/* Parallel-specific style estimator block */\n",
       "\n",
       "#sk-container-id-16 div.sk-parallel-item::after {\n",
       "  content: \"\";\n",
       "  width: 100%;\n",
       "  border-bottom: 2px solid var(--sklearn-color-text-on-default-background);\n",
       "  flex-grow: 1;\n",
       "}\n",
       "\n",
       "#sk-container-id-16 div.sk-parallel {\n",
       "  display: flex;\n",
       "  align-items: stretch;\n",
       "  justify-content: center;\n",
       "  background-color: var(--sklearn-color-background);\n",
       "  position: relative;\n",
       "}\n",
       "\n",
       "#sk-container-id-16 div.sk-parallel-item {\n",
       "  display: flex;\n",
       "  flex-direction: column;\n",
       "}\n",
       "\n",
       "#sk-container-id-16 div.sk-parallel-item:first-child::after {\n",
       "  align-self: flex-end;\n",
       "  width: 50%;\n",
       "}\n",
       "\n",
       "#sk-container-id-16 div.sk-parallel-item:last-child::after {\n",
       "  align-self: flex-start;\n",
       "  width: 50%;\n",
       "}\n",
       "\n",
       "#sk-container-id-16 div.sk-parallel-item:only-child::after {\n",
       "  width: 0;\n",
       "}\n",
       "\n",
       "/* Serial-specific style estimator block */\n",
       "\n",
       "#sk-container-id-16 div.sk-serial {\n",
       "  display: flex;\n",
       "  flex-direction: column;\n",
       "  align-items: center;\n",
       "  background-color: var(--sklearn-color-background);\n",
       "  padding-right: 1em;\n",
       "  padding-left: 1em;\n",
       "}\n",
       "\n",
       "\n",
       "/* Toggleable style: style used for estimator/Pipeline/ColumnTransformer box that is\n",
       "clickable and can be expanded/collapsed.\n",
       "- Pipeline and ColumnTransformer use this feature and define the default style\n",
       "- Estimators will overwrite some part of the style using the `sk-estimator` class\n",
       "*/\n",
       "\n",
       "/* Pipeline and ColumnTransformer style (default) */\n",
       "\n",
       "#sk-container-id-16 div.sk-toggleable {\n",
       "  /* Default theme specific background. It is overwritten whether we have a\n",
       "  specific estimator or a Pipeline/ColumnTransformer */\n",
       "  background-color: var(--sklearn-color-background);\n",
       "}\n",
       "\n",
       "/* Toggleable label */\n",
       "#sk-container-id-16 label.sk-toggleable__label {\n",
       "  cursor: pointer;\n",
       "  display: block;\n",
       "  width: 100%;\n",
       "  margin-bottom: 0;\n",
       "  padding: 0.5em;\n",
       "  box-sizing: border-box;\n",
       "  text-align: center;\n",
       "}\n",
       "\n",
       "#sk-container-id-16 label.sk-toggleable__label-arrow:before {\n",
       "  /* Arrow on the left of the label */\n",
       "  content: \"▸\";\n",
       "  float: left;\n",
       "  margin-right: 0.25em;\n",
       "  color: var(--sklearn-color-icon);\n",
       "}\n",
       "\n",
       "#sk-container-id-16 label.sk-toggleable__label-arrow:hover:before {\n",
       "  color: var(--sklearn-color-text);\n",
       "}\n",
       "\n",
       "/* Toggleable content - dropdown */\n",
       "\n",
       "#sk-container-id-16 div.sk-toggleable__content {\n",
       "  max-height: 0;\n",
       "  max-width: 0;\n",
       "  overflow: hidden;\n",
       "  text-align: left;\n",
       "  /* unfitted */\n",
       "  background-color: var(--sklearn-color-unfitted-level-0);\n",
       "}\n",
       "\n",
       "#sk-container-id-16 div.sk-toggleable__content.fitted {\n",
       "  /* fitted */\n",
       "  background-color: var(--sklearn-color-fitted-level-0);\n",
       "}\n",
       "\n",
       "#sk-container-id-16 div.sk-toggleable__content pre {\n",
       "  margin: 0.2em;\n",
       "  border-radius: 0.25em;\n",
       "  color: var(--sklearn-color-text);\n",
       "  /* unfitted */\n",
       "  background-color: var(--sklearn-color-unfitted-level-0);\n",
       "}\n",
       "\n",
       "#sk-container-id-16 div.sk-toggleable__content.fitted pre {\n",
       "  /* unfitted */\n",
       "  background-color: var(--sklearn-color-fitted-level-0);\n",
       "}\n",
       "\n",
       "#sk-container-id-16 input.sk-toggleable__control:checked~div.sk-toggleable__content {\n",
       "  /* Expand drop-down */\n",
       "  max-height: 200px;\n",
       "  max-width: 100%;\n",
       "  overflow: auto;\n",
       "}\n",
       "\n",
       "#sk-container-id-16 input.sk-toggleable__control:checked~label.sk-toggleable__label-arrow:before {\n",
       "  content: \"▾\";\n",
       "}\n",
       "\n",
       "/* Pipeline/ColumnTransformer-specific style */\n",
       "\n",
       "#sk-container-id-16 div.sk-label input.sk-toggleable__control:checked~label.sk-toggleable__label {\n",
       "  color: var(--sklearn-color-text);\n",
       "  background-color: var(--sklearn-color-unfitted-level-2);\n",
       "}\n",
       "\n",
       "#sk-container-id-16 div.sk-label.fitted input.sk-toggleable__control:checked~label.sk-toggleable__label {\n",
       "  background-color: var(--sklearn-color-fitted-level-2);\n",
       "}\n",
       "\n",
       "/* Estimator-specific style */\n",
       "\n",
       "/* Colorize estimator box */\n",
       "#sk-container-id-16 div.sk-estimator input.sk-toggleable__control:checked~label.sk-toggleable__label {\n",
       "  /* unfitted */\n",
       "  background-color: var(--sklearn-color-unfitted-level-2);\n",
       "}\n",
       "\n",
       "#sk-container-id-16 div.sk-estimator.fitted input.sk-toggleable__control:checked~label.sk-toggleable__label {\n",
       "  /* fitted */\n",
       "  background-color: var(--sklearn-color-fitted-level-2);\n",
       "}\n",
       "\n",
       "#sk-container-id-16 div.sk-label label.sk-toggleable__label,\n",
       "#sk-container-id-16 div.sk-label label {\n",
       "  /* The background is the default theme color */\n",
       "  color: var(--sklearn-color-text-on-default-background);\n",
       "}\n",
       "\n",
       "/* On hover, darken the color of the background */\n",
       "#sk-container-id-16 div.sk-label:hover label.sk-toggleable__label {\n",
       "  color: var(--sklearn-color-text);\n",
       "  background-color: var(--sklearn-color-unfitted-level-2);\n",
       "}\n",
       "\n",
       "/* Label box, darken color on hover, fitted */\n",
       "#sk-container-id-16 div.sk-label.fitted:hover label.sk-toggleable__label.fitted {\n",
       "  color: var(--sklearn-color-text);\n",
       "  background-color: var(--sklearn-color-fitted-level-2);\n",
       "}\n",
       "\n",
       "/* Estimator label */\n",
       "\n",
       "#sk-container-id-16 div.sk-label label {\n",
       "  font-family: monospace;\n",
       "  font-weight: bold;\n",
       "  display: inline-block;\n",
       "  line-height: 1.2em;\n",
       "}\n",
       "\n",
       "#sk-container-id-16 div.sk-label-container {\n",
       "  text-align: center;\n",
       "}\n",
       "\n",
       "/* Estimator-specific */\n",
       "#sk-container-id-16 div.sk-estimator {\n",
       "  font-family: monospace;\n",
       "  border: 1px dotted var(--sklearn-color-border-box);\n",
       "  border-radius: 0.25em;\n",
       "  box-sizing: border-box;\n",
       "  margin-bottom: 0.5em;\n",
       "  /* unfitted */\n",
       "  background-color: var(--sklearn-color-unfitted-level-0);\n",
       "}\n",
       "\n",
       "#sk-container-id-16 div.sk-estimator.fitted {\n",
       "  /* fitted */\n",
       "  background-color: var(--sklearn-color-fitted-level-0);\n",
       "}\n",
       "\n",
       "/* on hover */\n",
       "#sk-container-id-16 div.sk-estimator:hover {\n",
       "  /* unfitted */\n",
       "  background-color: var(--sklearn-color-unfitted-level-2);\n",
       "}\n",
       "\n",
       "#sk-container-id-16 div.sk-estimator.fitted:hover {\n",
       "  /* fitted */\n",
       "  background-color: var(--sklearn-color-fitted-level-2);\n",
       "}\n",
       "\n",
       "/* Specification for estimator info (e.g. \"i\" and \"?\") */\n",
       "\n",
       "/* Common style for \"i\" and \"?\" */\n",
       "\n",
       ".sk-estimator-doc-link,\n",
       "a:link.sk-estimator-doc-link,\n",
       "a:visited.sk-estimator-doc-link {\n",
       "  float: right;\n",
       "  font-size: smaller;\n",
       "  line-height: 1em;\n",
       "  font-family: monospace;\n",
       "  background-color: var(--sklearn-color-background);\n",
       "  border-radius: 1em;\n",
       "  height: 1em;\n",
       "  width: 1em;\n",
       "  text-decoration: none !important;\n",
       "  margin-left: 1ex;\n",
       "  /* unfitted */\n",
       "  border: var(--sklearn-color-unfitted-level-1) 1pt solid;\n",
       "  color: var(--sklearn-color-unfitted-level-1);\n",
       "}\n",
       "\n",
       ".sk-estimator-doc-link.fitted,\n",
       "a:link.sk-estimator-doc-link.fitted,\n",
       "a:visited.sk-estimator-doc-link.fitted {\n",
       "  /* fitted */\n",
       "  border: var(--sklearn-color-fitted-level-1) 1pt solid;\n",
       "  color: var(--sklearn-color-fitted-level-1);\n",
       "}\n",
       "\n",
       "/* On hover */\n",
       "div.sk-estimator:hover .sk-estimator-doc-link:hover,\n",
       ".sk-estimator-doc-link:hover,\n",
       "div.sk-label-container:hover .sk-estimator-doc-link:hover,\n",
       ".sk-estimator-doc-link:hover {\n",
       "  /* unfitted */\n",
       "  background-color: var(--sklearn-color-unfitted-level-3);\n",
       "  color: var(--sklearn-color-background);\n",
       "  text-decoration: none;\n",
       "}\n",
       "\n",
       "div.sk-estimator.fitted:hover .sk-estimator-doc-link.fitted:hover,\n",
       ".sk-estimator-doc-link.fitted:hover,\n",
       "div.sk-label-container:hover .sk-estimator-doc-link.fitted:hover,\n",
       ".sk-estimator-doc-link.fitted:hover {\n",
       "  /* fitted */\n",
       "  background-color: var(--sklearn-color-fitted-level-3);\n",
       "  color: var(--sklearn-color-background);\n",
       "  text-decoration: none;\n",
       "}\n",
       "\n",
       "/* Span, style for the box shown on hovering the info icon */\n",
       ".sk-estimator-doc-link span {\n",
       "  display: none;\n",
       "  z-index: 9999;\n",
       "  position: relative;\n",
       "  font-weight: normal;\n",
       "  right: .2ex;\n",
       "  padding: .5ex;\n",
       "  margin: .5ex;\n",
       "  width: min-content;\n",
       "  min-width: 20ex;\n",
       "  max-width: 50ex;\n",
       "  color: var(--sklearn-color-text);\n",
       "  box-shadow: 2pt 2pt 4pt #999;\n",
       "  /* unfitted */\n",
       "  background: var(--sklearn-color-unfitted-level-0);\n",
       "  border: .5pt solid var(--sklearn-color-unfitted-level-3);\n",
       "}\n",
       "\n",
       ".sk-estimator-doc-link.fitted span {\n",
       "  /* fitted */\n",
       "  background: var(--sklearn-color-fitted-level-0);\n",
       "  border: var(--sklearn-color-fitted-level-3);\n",
       "}\n",
       "\n",
       ".sk-estimator-doc-link:hover span {\n",
       "  display: block;\n",
       "}\n",
       "\n",
       "/* \"?\"-specific style due to the `<a>` HTML tag */\n",
       "\n",
       "#sk-container-id-16 a.estimator_doc_link {\n",
       "  float: right;\n",
       "  font-size: 1rem;\n",
       "  line-height: 1em;\n",
       "  font-family: monospace;\n",
       "  background-color: var(--sklearn-color-background);\n",
       "  border-radius: 1rem;\n",
       "  height: 1rem;\n",
       "  width: 1rem;\n",
       "  text-decoration: none;\n",
       "  /* unfitted */\n",
       "  color: var(--sklearn-color-unfitted-level-1);\n",
       "  border: var(--sklearn-color-unfitted-level-1) 1pt solid;\n",
       "}\n",
       "\n",
       "#sk-container-id-16 a.estimator_doc_link.fitted {\n",
       "  /* fitted */\n",
       "  border: var(--sklearn-color-fitted-level-1) 1pt solid;\n",
       "  color: var(--sklearn-color-fitted-level-1);\n",
       "}\n",
       "\n",
       "/* On hover */\n",
       "#sk-container-id-16 a.estimator_doc_link:hover {\n",
       "  /* unfitted */\n",
       "  background-color: var(--sklearn-color-unfitted-level-3);\n",
       "  color: var(--sklearn-color-background);\n",
       "  text-decoration: none;\n",
       "}\n",
       "\n",
       "#sk-container-id-16 a.estimator_doc_link.fitted:hover {\n",
       "  /* fitted */\n",
       "  background-color: var(--sklearn-color-fitted-level-3);\n",
       "}\n",
       "</style><div id=\"sk-container-id-16\" class=\"sk-top-container\"><div class=\"sk-text-repr-fallback\"><pre>RandomizedSearchCV(estimator=SGDRegressor(random_state=2), n_iter=100,\n",
       "                   param_distributions={&#x27;alpha&#x27;: array([1.00000000e-06, 1.14975700e-06, 1.32194115e-06, 1.51991108e-06,\n",
       "       1.74752840e-06, 2.00923300e-06, 2.31012970e-06, 2.65608778e-06,\n",
       "       3.05385551e-06, 3.51119173e-06, 4.03701726e-06, 4.64158883e-06,\n",
       "       5.33669923e-06, 6.13590727e-06, 7.05480231e-06, 8.11130831e-06,\n",
       "       9.326...\n",
       "       0.09326033, 0.1       , 0.10722672, 0.1149757 , 0.12328467,\n",
       "       0.13219411, 0.14174742, 0.15199111, 0.16297508, 0.17475284,\n",
       "       0.18738174, 0.2009233 , 0.21544347, 0.23101297, 0.24770764,\n",
       "       0.26560878, 0.28480359, 0.30538555, 0.32745492, 0.35111917,\n",
       "       0.37649358, 0.40370173, 0.43287613, 0.46415888, 0.49770236,\n",
       "       0.53366992, 0.57223677, 0.61359073, 0.65793322, 0.70548023,\n",
       "       0.75646333, 0.81113083, 0.869749  , 0.93260335, 1.        ])},\n",
       "                   random_state=35, verbose=1)</pre><b>In a Jupyter environment, please rerun this cell to show the HTML representation or trust the notebook. <br />On GitHub, the HTML representation is unable to render, please try loading this page with nbviewer.org.</b></div><div class=\"sk-container\" hidden><div class=\"sk-item sk-dashed-wrapped\"><div class=\"sk-label-container\"><div class=\"sk-label fitted sk-toggleable\"><input class=\"sk-toggleable__control sk-hidden--visually\" id=\"sk-estimator-id-22\" type=\"checkbox\" ><label for=\"sk-estimator-id-22\" class=\"sk-toggleable__label fitted sk-toggleable__label-arrow fitted\">&nbsp;&nbsp;RandomizedSearchCV<a class=\"sk-estimator-doc-link fitted\" rel=\"noreferrer\" target=\"_blank\" href=\"https://scikit-learn.org/1.5/modules/generated/sklearn.model_selection.RandomizedSearchCV.html\">?<span>Documentation for RandomizedSearchCV</span></a><span class=\"sk-estimator-doc-link fitted\">i<span>Fitted</span></span></label><div class=\"sk-toggleable__content fitted\"><pre>RandomizedSearchCV(estimator=SGDRegressor(random_state=2), n_iter=100,\n",
       "                   param_distributions={&#x27;alpha&#x27;: array([1.00000000e-06, 1.14975700e-06, 1.32194115e-06, 1.51991108e-06,\n",
       "       1.74752840e-06, 2.00923300e-06, 2.31012970e-06, 2.65608778e-06,\n",
       "       3.05385551e-06, 3.51119173e-06, 4.03701726e-06, 4.64158883e-06,\n",
       "       5.33669923e-06, 6.13590727e-06, 7.05480231e-06, 8.11130831e-06,\n",
       "       9.326...\n",
       "       0.09326033, 0.1       , 0.10722672, 0.1149757 , 0.12328467,\n",
       "       0.13219411, 0.14174742, 0.15199111, 0.16297508, 0.17475284,\n",
       "       0.18738174, 0.2009233 , 0.21544347, 0.23101297, 0.24770764,\n",
       "       0.26560878, 0.28480359, 0.30538555, 0.32745492, 0.35111917,\n",
       "       0.37649358, 0.40370173, 0.43287613, 0.46415888, 0.49770236,\n",
       "       0.53366992, 0.57223677, 0.61359073, 0.65793322, 0.70548023,\n",
       "       0.75646333, 0.81113083, 0.869749  , 0.93260335, 1.        ])},\n",
       "                   random_state=35, verbose=1)</pre></div> </div></div><div class=\"sk-parallel\"><div class=\"sk-parallel-item\"><div class=\"sk-item\"><div class=\"sk-label-container\"><div class=\"sk-label fitted sk-toggleable\"><input class=\"sk-toggleable__control sk-hidden--visually\" id=\"sk-estimator-id-23\" type=\"checkbox\" ><label for=\"sk-estimator-id-23\" class=\"sk-toggleable__label fitted sk-toggleable__label-arrow fitted\">best_estimator_: SGDRegressor</label><div class=\"sk-toggleable__content fitted\"><pre>SGDRegressor(alpha=1.873817422860383e-05, eta0=0.01519911082952934,\n",
       "             random_state=2)</pre></div> </div></div><div class=\"sk-serial\"><div class=\"sk-item\"><div class=\"sk-estimator fitted sk-toggleable\"><input class=\"sk-toggleable__control sk-hidden--visually\" id=\"sk-estimator-id-24\" type=\"checkbox\" ><label for=\"sk-estimator-id-24\" class=\"sk-toggleable__label fitted sk-toggleable__label-arrow fitted\">&nbsp;SGDRegressor<a class=\"sk-estimator-doc-link fitted\" rel=\"noreferrer\" target=\"_blank\" href=\"https://scikit-learn.org/1.5/modules/generated/sklearn.linear_model.SGDRegressor.html\">?<span>Documentation for SGDRegressor</span></a></label><div class=\"sk-toggleable__content fitted\"><pre>SGDRegressor(alpha=1.873817422860383e-05, eta0=0.01519911082952934,\n",
       "             random_state=2)</pre></div> </div></div></div></div></div></div></div></div></div>"
      ],
      "text/plain": [
       "RandomizedSearchCV(estimator=SGDRegressor(random_state=2), n_iter=100,\n",
       "                   param_distributions={'alpha': array([1.00000000e-06, 1.14975700e-06, 1.32194115e-06, 1.51991108e-06,\n",
       "       1.74752840e-06, 2.00923300e-06, 2.31012970e-06, 2.65608778e-06,\n",
       "       3.05385551e-06, 3.51119173e-06, 4.03701726e-06, 4.64158883e-06,\n",
       "       5.33669923e-06, 6.13590727e-06, 7.05480231e-06, 8.11130831e-06,\n",
       "       9.326...\n",
       "       0.09326033, 0.1       , 0.10722672, 0.1149757 , 0.12328467,\n",
       "       0.13219411, 0.14174742, 0.15199111, 0.16297508, 0.17475284,\n",
       "       0.18738174, 0.2009233 , 0.21544347, 0.23101297, 0.24770764,\n",
       "       0.26560878, 0.28480359, 0.30538555, 0.32745492, 0.35111917,\n",
       "       0.37649358, 0.40370173, 0.43287613, 0.46415888, 0.49770236,\n",
       "       0.53366992, 0.57223677, 0.61359073, 0.65793322, 0.70548023,\n",
       "       0.75646333, 0.81113083, 0.869749  , 0.93260335, 1.        ])},\n",
       "                   random_state=35, verbose=1)"
      ]
     },
     "execution_count": 342,
     "metadata": {},
     "output_type": "execute_result"
    }
   ],
   "source": [
    "lrs = np.logspace(-3, 0, 100)\n",
    "alphas = np.logspace(-6, 0, 100)\n",
    "\n",
    "param_distr = {'eta0': lrs, 'alpha': alphas}\n",
    "search = RandomizedSearchCV(model, param_distr, verbose=1, n_iter=100, random_state=35)\n",
    "\n",
    "search.fit(x_train_poly, y_train.ravel())"
   ]
  },
  {
   "cell_type": "code",
   "execution_count": 343,
   "id": "fa62b44d",
   "metadata": {},
   "outputs": [
    {
     "data": {
      "text/html": [
       "<style>#sk-container-id-17 {\n",
       "  /* Definition of color scheme common for light and dark mode */\n",
       "  --sklearn-color-text: black;\n",
       "  --sklearn-color-line: gray;\n",
       "  /* Definition of color scheme for unfitted estimators */\n",
       "  --sklearn-color-unfitted-level-0: #fff5e6;\n",
       "  --sklearn-color-unfitted-level-1: #f6e4d2;\n",
       "  --sklearn-color-unfitted-level-2: #ffe0b3;\n",
       "  --sklearn-color-unfitted-level-3: chocolate;\n",
       "  /* Definition of color scheme for fitted estimators */\n",
       "  --sklearn-color-fitted-level-0: #f0f8ff;\n",
       "  --sklearn-color-fitted-level-1: #d4ebff;\n",
       "  --sklearn-color-fitted-level-2: #b3dbfd;\n",
       "  --sklearn-color-fitted-level-3: cornflowerblue;\n",
       "\n",
       "  /* Specific color for light theme */\n",
       "  --sklearn-color-text-on-default-background: var(--sg-text-color, var(--theme-code-foreground, var(--jp-content-font-color1, black)));\n",
       "  --sklearn-color-background: var(--sg-background-color, var(--theme-background, var(--jp-layout-color0, white)));\n",
       "  --sklearn-color-border-box: var(--sg-text-color, var(--theme-code-foreground, var(--jp-content-font-color1, black)));\n",
       "  --sklearn-color-icon: #696969;\n",
       "\n",
       "  @media (prefers-color-scheme: dark) {\n",
       "    /* Redefinition of color scheme for dark theme */\n",
       "    --sklearn-color-text-on-default-background: var(--sg-text-color, var(--theme-code-foreground, var(--jp-content-font-color1, white)));\n",
       "    --sklearn-color-background: var(--sg-background-color, var(--theme-background, var(--jp-layout-color0, #111)));\n",
       "    --sklearn-color-border-box: var(--sg-text-color, var(--theme-code-foreground, var(--jp-content-font-color1, white)));\n",
       "    --sklearn-color-icon: #878787;\n",
       "  }\n",
       "}\n",
       "\n",
       "#sk-container-id-17 {\n",
       "  color: var(--sklearn-color-text);\n",
       "}\n",
       "\n",
       "#sk-container-id-17 pre {\n",
       "  padding: 0;\n",
       "}\n",
       "\n",
       "#sk-container-id-17 input.sk-hidden--visually {\n",
       "  border: 0;\n",
       "  clip: rect(1px 1px 1px 1px);\n",
       "  clip: rect(1px, 1px, 1px, 1px);\n",
       "  height: 1px;\n",
       "  margin: -1px;\n",
       "  overflow: hidden;\n",
       "  padding: 0;\n",
       "  position: absolute;\n",
       "  width: 1px;\n",
       "}\n",
       "\n",
       "#sk-container-id-17 div.sk-dashed-wrapped {\n",
       "  border: 1px dashed var(--sklearn-color-line);\n",
       "  margin: 0 0.4em 0.5em 0.4em;\n",
       "  box-sizing: border-box;\n",
       "  padding-bottom: 0.4em;\n",
       "  background-color: var(--sklearn-color-background);\n",
       "}\n",
       "\n",
       "#sk-container-id-17 div.sk-container {\n",
       "  /* jupyter's `normalize.less` sets `[hidden] { display: none; }`\n",
       "     but bootstrap.min.css set `[hidden] { display: none !important; }`\n",
       "     so we also need the `!important` here to be able to override the\n",
       "     default hidden behavior on the sphinx rendered scikit-learn.org.\n",
       "     See: https://github.com/scikit-learn/scikit-learn/issues/21755 */\n",
       "  display: inline-block !important;\n",
       "  position: relative;\n",
       "}\n",
       "\n",
       "#sk-container-id-17 div.sk-text-repr-fallback {\n",
       "  display: none;\n",
       "}\n",
       "\n",
       "div.sk-parallel-item,\n",
       "div.sk-serial,\n",
       "div.sk-item {\n",
       "  /* draw centered vertical line to link estimators */\n",
       "  background-image: linear-gradient(var(--sklearn-color-text-on-default-background), var(--sklearn-color-text-on-default-background));\n",
       "  background-size: 2px 100%;\n",
       "  background-repeat: no-repeat;\n",
       "  background-position: center center;\n",
       "}\n",
       "\n",
       "/* Parallel-specific style estimator block */\n",
       "\n",
       "#sk-container-id-17 div.sk-parallel-item::after {\n",
       "  content: \"\";\n",
       "  width: 100%;\n",
       "  border-bottom: 2px solid var(--sklearn-color-text-on-default-background);\n",
       "  flex-grow: 1;\n",
       "}\n",
       "\n",
       "#sk-container-id-17 div.sk-parallel {\n",
       "  display: flex;\n",
       "  align-items: stretch;\n",
       "  justify-content: center;\n",
       "  background-color: var(--sklearn-color-background);\n",
       "  position: relative;\n",
       "}\n",
       "\n",
       "#sk-container-id-17 div.sk-parallel-item {\n",
       "  display: flex;\n",
       "  flex-direction: column;\n",
       "}\n",
       "\n",
       "#sk-container-id-17 div.sk-parallel-item:first-child::after {\n",
       "  align-self: flex-end;\n",
       "  width: 50%;\n",
       "}\n",
       "\n",
       "#sk-container-id-17 div.sk-parallel-item:last-child::after {\n",
       "  align-self: flex-start;\n",
       "  width: 50%;\n",
       "}\n",
       "\n",
       "#sk-container-id-17 div.sk-parallel-item:only-child::after {\n",
       "  width: 0;\n",
       "}\n",
       "\n",
       "/* Serial-specific style estimator block */\n",
       "\n",
       "#sk-container-id-17 div.sk-serial {\n",
       "  display: flex;\n",
       "  flex-direction: column;\n",
       "  align-items: center;\n",
       "  background-color: var(--sklearn-color-background);\n",
       "  padding-right: 1em;\n",
       "  padding-left: 1em;\n",
       "}\n",
       "\n",
       "\n",
       "/* Toggleable style: style used for estimator/Pipeline/ColumnTransformer box that is\n",
       "clickable and can be expanded/collapsed.\n",
       "- Pipeline and ColumnTransformer use this feature and define the default style\n",
       "- Estimators will overwrite some part of the style using the `sk-estimator` class\n",
       "*/\n",
       "\n",
       "/* Pipeline and ColumnTransformer style (default) */\n",
       "\n",
       "#sk-container-id-17 div.sk-toggleable {\n",
       "  /* Default theme specific background. It is overwritten whether we have a\n",
       "  specific estimator or a Pipeline/ColumnTransformer */\n",
       "  background-color: var(--sklearn-color-background);\n",
       "}\n",
       "\n",
       "/* Toggleable label */\n",
       "#sk-container-id-17 label.sk-toggleable__label {\n",
       "  cursor: pointer;\n",
       "  display: block;\n",
       "  width: 100%;\n",
       "  margin-bottom: 0;\n",
       "  padding: 0.5em;\n",
       "  box-sizing: border-box;\n",
       "  text-align: center;\n",
       "}\n",
       "\n",
       "#sk-container-id-17 label.sk-toggleable__label-arrow:before {\n",
       "  /* Arrow on the left of the label */\n",
       "  content: \"▸\";\n",
       "  float: left;\n",
       "  margin-right: 0.25em;\n",
       "  color: var(--sklearn-color-icon);\n",
       "}\n",
       "\n",
       "#sk-container-id-17 label.sk-toggleable__label-arrow:hover:before {\n",
       "  color: var(--sklearn-color-text);\n",
       "}\n",
       "\n",
       "/* Toggleable content - dropdown */\n",
       "\n",
       "#sk-container-id-17 div.sk-toggleable__content {\n",
       "  max-height: 0;\n",
       "  max-width: 0;\n",
       "  overflow: hidden;\n",
       "  text-align: left;\n",
       "  /* unfitted */\n",
       "  background-color: var(--sklearn-color-unfitted-level-0);\n",
       "}\n",
       "\n",
       "#sk-container-id-17 div.sk-toggleable__content.fitted {\n",
       "  /* fitted */\n",
       "  background-color: var(--sklearn-color-fitted-level-0);\n",
       "}\n",
       "\n",
       "#sk-container-id-17 div.sk-toggleable__content pre {\n",
       "  margin: 0.2em;\n",
       "  border-radius: 0.25em;\n",
       "  color: var(--sklearn-color-text);\n",
       "  /* unfitted */\n",
       "  background-color: var(--sklearn-color-unfitted-level-0);\n",
       "}\n",
       "\n",
       "#sk-container-id-17 div.sk-toggleable__content.fitted pre {\n",
       "  /* unfitted */\n",
       "  background-color: var(--sklearn-color-fitted-level-0);\n",
       "}\n",
       "\n",
       "#sk-container-id-17 input.sk-toggleable__control:checked~div.sk-toggleable__content {\n",
       "  /* Expand drop-down */\n",
       "  max-height: 200px;\n",
       "  max-width: 100%;\n",
       "  overflow: auto;\n",
       "}\n",
       "\n",
       "#sk-container-id-17 input.sk-toggleable__control:checked~label.sk-toggleable__label-arrow:before {\n",
       "  content: \"▾\";\n",
       "}\n",
       "\n",
       "/* Pipeline/ColumnTransformer-specific style */\n",
       "\n",
       "#sk-container-id-17 div.sk-label input.sk-toggleable__control:checked~label.sk-toggleable__label {\n",
       "  color: var(--sklearn-color-text);\n",
       "  background-color: var(--sklearn-color-unfitted-level-2);\n",
       "}\n",
       "\n",
       "#sk-container-id-17 div.sk-label.fitted input.sk-toggleable__control:checked~label.sk-toggleable__label {\n",
       "  background-color: var(--sklearn-color-fitted-level-2);\n",
       "}\n",
       "\n",
       "/* Estimator-specific style */\n",
       "\n",
       "/* Colorize estimator box */\n",
       "#sk-container-id-17 div.sk-estimator input.sk-toggleable__control:checked~label.sk-toggleable__label {\n",
       "  /* unfitted */\n",
       "  background-color: var(--sklearn-color-unfitted-level-2);\n",
       "}\n",
       "\n",
       "#sk-container-id-17 div.sk-estimator.fitted input.sk-toggleable__control:checked~label.sk-toggleable__label {\n",
       "  /* fitted */\n",
       "  background-color: var(--sklearn-color-fitted-level-2);\n",
       "}\n",
       "\n",
       "#sk-container-id-17 div.sk-label label.sk-toggleable__label,\n",
       "#sk-container-id-17 div.sk-label label {\n",
       "  /* The background is the default theme color */\n",
       "  color: var(--sklearn-color-text-on-default-background);\n",
       "}\n",
       "\n",
       "/* On hover, darken the color of the background */\n",
       "#sk-container-id-17 div.sk-label:hover label.sk-toggleable__label {\n",
       "  color: var(--sklearn-color-text);\n",
       "  background-color: var(--sklearn-color-unfitted-level-2);\n",
       "}\n",
       "\n",
       "/* Label box, darken color on hover, fitted */\n",
       "#sk-container-id-17 div.sk-label.fitted:hover label.sk-toggleable__label.fitted {\n",
       "  color: var(--sklearn-color-text);\n",
       "  background-color: var(--sklearn-color-fitted-level-2);\n",
       "}\n",
       "\n",
       "/* Estimator label */\n",
       "\n",
       "#sk-container-id-17 div.sk-label label {\n",
       "  font-family: monospace;\n",
       "  font-weight: bold;\n",
       "  display: inline-block;\n",
       "  line-height: 1.2em;\n",
       "}\n",
       "\n",
       "#sk-container-id-17 div.sk-label-container {\n",
       "  text-align: center;\n",
       "}\n",
       "\n",
       "/* Estimator-specific */\n",
       "#sk-container-id-17 div.sk-estimator {\n",
       "  font-family: monospace;\n",
       "  border: 1px dotted var(--sklearn-color-border-box);\n",
       "  border-radius: 0.25em;\n",
       "  box-sizing: border-box;\n",
       "  margin-bottom: 0.5em;\n",
       "  /* unfitted */\n",
       "  background-color: var(--sklearn-color-unfitted-level-0);\n",
       "}\n",
       "\n",
       "#sk-container-id-17 div.sk-estimator.fitted {\n",
       "  /* fitted */\n",
       "  background-color: var(--sklearn-color-fitted-level-0);\n",
       "}\n",
       "\n",
       "/* on hover */\n",
       "#sk-container-id-17 div.sk-estimator:hover {\n",
       "  /* unfitted */\n",
       "  background-color: var(--sklearn-color-unfitted-level-2);\n",
       "}\n",
       "\n",
       "#sk-container-id-17 div.sk-estimator.fitted:hover {\n",
       "  /* fitted */\n",
       "  background-color: var(--sklearn-color-fitted-level-2);\n",
       "}\n",
       "\n",
       "/* Specification for estimator info (e.g. \"i\" and \"?\") */\n",
       "\n",
       "/* Common style for \"i\" and \"?\" */\n",
       "\n",
       ".sk-estimator-doc-link,\n",
       "a:link.sk-estimator-doc-link,\n",
       "a:visited.sk-estimator-doc-link {\n",
       "  float: right;\n",
       "  font-size: smaller;\n",
       "  line-height: 1em;\n",
       "  font-family: monospace;\n",
       "  background-color: var(--sklearn-color-background);\n",
       "  border-radius: 1em;\n",
       "  height: 1em;\n",
       "  width: 1em;\n",
       "  text-decoration: none !important;\n",
       "  margin-left: 1ex;\n",
       "  /* unfitted */\n",
       "  border: var(--sklearn-color-unfitted-level-1) 1pt solid;\n",
       "  color: var(--sklearn-color-unfitted-level-1);\n",
       "}\n",
       "\n",
       ".sk-estimator-doc-link.fitted,\n",
       "a:link.sk-estimator-doc-link.fitted,\n",
       "a:visited.sk-estimator-doc-link.fitted {\n",
       "  /* fitted */\n",
       "  border: var(--sklearn-color-fitted-level-1) 1pt solid;\n",
       "  color: var(--sklearn-color-fitted-level-1);\n",
       "}\n",
       "\n",
       "/* On hover */\n",
       "div.sk-estimator:hover .sk-estimator-doc-link:hover,\n",
       ".sk-estimator-doc-link:hover,\n",
       "div.sk-label-container:hover .sk-estimator-doc-link:hover,\n",
       ".sk-estimator-doc-link:hover {\n",
       "  /* unfitted */\n",
       "  background-color: var(--sklearn-color-unfitted-level-3);\n",
       "  color: var(--sklearn-color-background);\n",
       "  text-decoration: none;\n",
       "}\n",
       "\n",
       "div.sk-estimator.fitted:hover .sk-estimator-doc-link.fitted:hover,\n",
       ".sk-estimator-doc-link.fitted:hover,\n",
       "div.sk-label-container:hover .sk-estimator-doc-link.fitted:hover,\n",
       ".sk-estimator-doc-link.fitted:hover {\n",
       "  /* fitted */\n",
       "  background-color: var(--sklearn-color-fitted-level-3);\n",
       "  color: var(--sklearn-color-background);\n",
       "  text-decoration: none;\n",
       "}\n",
       "\n",
       "/* Span, style for the box shown on hovering the info icon */\n",
       ".sk-estimator-doc-link span {\n",
       "  display: none;\n",
       "  z-index: 9999;\n",
       "  position: relative;\n",
       "  font-weight: normal;\n",
       "  right: .2ex;\n",
       "  padding: .5ex;\n",
       "  margin: .5ex;\n",
       "  width: min-content;\n",
       "  min-width: 20ex;\n",
       "  max-width: 50ex;\n",
       "  color: var(--sklearn-color-text);\n",
       "  box-shadow: 2pt 2pt 4pt #999;\n",
       "  /* unfitted */\n",
       "  background: var(--sklearn-color-unfitted-level-0);\n",
       "  border: .5pt solid var(--sklearn-color-unfitted-level-3);\n",
       "}\n",
       "\n",
       ".sk-estimator-doc-link.fitted span {\n",
       "  /* fitted */\n",
       "  background: var(--sklearn-color-fitted-level-0);\n",
       "  border: var(--sklearn-color-fitted-level-3);\n",
       "}\n",
       "\n",
       ".sk-estimator-doc-link:hover span {\n",
       "  display: block;\n",
       "}\n",
       "\n",
       "/* \"?\"-specific style due to the `<a>` HTML tag */\n",
       "\n",
       "#sk-container-id-17 a.estimator_doc_link {\n",
       "  float: right;\n",
       "  font-size: 1rem;\n",
       "  line-height: 1em;\n",
       "  font-family: monospace;\n",
       "  background-color: var(--sklearn-color-background);\n",
       "  border-radius: 1rem;\n",
       "  height: 1rem;\n",
       "  width: 1rem;\n",
       "  text-decoration: none;\n",
       "  /* unfitted */\n",
       "  color: var(--sklearn-color-unfitted-level-1);\n",
       "  border: var(--sklearn-color-unfitted-level-1) 1pt solid;\n",
       "}\n",
       "\n",
       "#sk-container-id-17 a.estimator_doc_link.fitted {\n",
       "  /* fitted */\n",
       "  border: var(--sklearn-color-fitted-level-1) 1pt solid;\n",
       "  color: var(--sklearn-color-fitted-level-1);\n",
       "}\n",
       "\n",
       "/* On hover */\n",
       "#sk-container-id-17 a.estimator_doc_link:hover {\n",
       "  /* unfitted */\n",
       "  background-color: var(--sklearn-color-unfitted-level-3);\n",
       "  color: var(--sklearn-color-background);\n",
       "  text-decoration: none;\n",
       "}\n",
       "\n",
       "#sk-container-id-17 a.estimator_doc_link.fitted:hover {\n",
       "  /* fitted */\n",
       "  background-color: var(--sklearn-color-fitted-level-3);\n",
       "}\n",
       "</style><div id=\"sk-container-id-17\" class=\"sk-top-container\"><div class=\"sk-text-repr-fallback\"><pre>SGDRegressor(alpha=1.873817422860383e-05, eta0=0.01519911082952934,\n",
       "             random_state=2)</pre><b>In a Jupyter environment, please rerun this cell to show the HTML representation or trust the notebook. <br />On GitHub, the HTML representation is unable to render, please try loading this page with nbviewer.org.</b></div><div class=\"sk-container\" hidden><div class=\"sk-item\"><div class=\"sk-estimator fitted sk-toggleable\"><input class=\"sk-toggleable__control sk-hidden--visually\" id=\"sk-estimator-id-25\" type=\"checkbox\" checked><label for=\"sk-estimator-id-25\" class=\"sk-toggleable__label fitted sk-toggleable__label-arrow fitted\">&nbsp;&nbsp;SGDRegressor<a class=\"sk-estimator-doc-link fitted\" rel=\"noreferrer\" target=\"_blank\" href=\"https://scikit-learn.org/1.5/modules/generated/sklearn.linear_model.SGDRegressor.html\">?<span>Documentation for SGDRegressor</span></a><span class=\"sk-estimator-doc-link fitted\">i<span>Fitted</span></span></label><div class=\"sk-toggleable__content fitted\"><pre>SGDRegressor(alpha=1.873817422860383e-05, eta0=0.01519911082952934,\n",
       "             random_state=2)</pre></div> </div></div></div></div>"
      ],
      "text/plain": [
       "SGDRegressor(alpha=1.873817422860383e-05, eta0=0.01519911082952934,\n",
       "             random_state=2)"
      ]
     },
     "execution_count": 343,
     "metadata": {},
     "output_type": "execute_result"
    }
   ],
   "source": [
    "search.best_estimator_"
   ]
  },
  {
   "cell_type": "code",
   "execution_count": 344,
   "id": "11b1db5e",
   "metadata": {},
   "outputs": [
    {
     "data": {
      "text/plain": [
       "0.710035329849091"
      ]
     },
     "execution_count": 344,
     "metadata": {},
     "output_type": "execute_result"
    }
   ],
   "source": [
    "search.best_score_"
   ]
  },
  {
   "cell_type": "code",
   "execution_count": 345,
   "id": "425ea112",
   "metadata": {},
   "outputs": [
    {
     "data": {
      "text/plain": [
       "0.6998604359725551"
      ]
     },
     "execution_count": 345,
     "metadata": {},
     "output_type": "execute_result"
    }
   ],
   "source": [
    "search.best_estimator_.score(x_test_poly, y_test)"
   ]
  },
  {
   "cell_type": "markdown",
   "id": "70e0bb4f",
   "metadata": {
    "jp-MarkdownHeadingCollapsed": true,
    "tags": []
   },
   "source": [
    "### Proposed method!"
   ]
  },
  {
   "cell_type": "code",
   "execution_count": 346,
   "id": "6851c4ed",
   "metadata": {},
   "outputs": [],
   "source": [
    "polynomial = PolynomialFeatures(degree=3)\n",
    "\n",
    "x_train_poly = polynomial.fit_transform(x_train)\n",
    "x_test_poly = polynomial.fit_transform(x_test)"
   ]
  },
  {
   "cell_type": "code",
   "execution_count": 347,
   "id": "28f2c09a",
   "metadata": {},
   "outputs": [],
   "source": [
    "model = SGDRegressor(random_state=2)"
   ]
  },
  {
   "cell_type": "code",
   "execution_count": 348,
   "id": "8c38d8d3",
   "metadata": {
    "tags": []
   },
   "outputs": [
    {
     "name": "stdout",
     "output_type": "stream",
     "text": [
      "Fitting 5 folds for each of 500 candidates, totalling 2500 fits\n"
     ]
    },
    {
     "data": {
      "text/plain": [
       "0.710184039807275"
      ]
     },
     "execution_count": 348,
     "metadata": {},
     "output_type": "execute_result"
    }
   ],
   "source": [
    "lrs = np.logspace(-3, 0, 500)\n",
    "alphas = np.logspace(-6, 0, 500)\n",
    "\n",
    "param_distr = {'eta0': lrs, 'alpha': alphas}\n",
    "search = RandomizedSearchCV(model, param_distr, verbose=1, n_iter=500, random_state=35)\n",
    "\n",
    "search.fit(x_train_poly, y_train.ravel())\n",
    "search.best_score_"
   ]
  },
  {
   "cell_type": "code",
   "execution_count": 349,
   "id": "b691674a",
   "metadata": {},
   "outputs": [
    {
     "data": {
      "text/plain": [
       "(0.01407008085602685, 0.0011971713434189668)"
      ]
     },
     "execution_count": 349,
     "metadata": {},
     "output_type": "execute_result"
    }
   ],
   "source": [
    "lr, alpha = search.best_params_.values()\n",
    "lr, alpha"
   ]
  },
  {
   "cell_type": "code",
   "execution_count": 350,
   "id": "25980d19",
   "metadata": {},
   "outputs": [
    {
     "name": "stderr",
     "output_type": "stream",
     "text": [
      "e:\\ProgramData\\anaconda3\\Lib\\site-packages\\sklearn\\model_selection\\_validation.py:540: FitFailedWarning: \n",
      "5500 fits failed out of a total of 12500.\n",
      "The score on these train-test partitions for these parameters will be set to nan.\n",
      "If these failures are not expected, you can try to debug them by setting error_score='raise'.\n",
      "\n",
      "Below are more details about the failures:\n",
      "--------------------------------------------------------------------------------\n",
      "250 fits failed with the following error:\n",
      "Traceback (most recent call last):\n",
      "  File \"e:\\ProgramData\\anaconda3\\Lib\\site-packages\\sklearn\\model_selection\\_validation.py\", line 888, in _fit_and_score\n",
      "    estimator.fit(X_train, y_train, **fit_params)\n",
      "  File \"e:\\ProgramData\\anaconda3\\Lib\\site-packages\\sklearn\\base.py\", line 1466, in wrapper\n",
      "    estimator._validate_params()\n",
      "  File \"e:\\ProgramData\\anaconda3\\Lib\\site-packages\\sklearn\\base.py\", line 666, in _validate_params\n",
      "    validate_parameter_constraints(\n",
      "  File \"e:\\ProgramData\\anaconda3\\Lib\\site-packages\\sklearn\\utils\\_param_validation.py\", line 95, in validate_parameter_constraints\n",
      "    raise InvalidParameterError(\n",
      "sklearn.utils._param_validation.InvalidParameterError: The 'alpha' parameter of SGDRegressor must be a float in the range [0.0, inf). Got -0.008802828656581033 instead.\n",
      "\n",
      "--------------------------------------------------------------------------------\n",
      "250 fits failed with the following error:\n",
      "Traceback (most recent call last):\n",
      "  File \"e:\\ProgramData\\anaconda3\\Lib\\site-packages\\sklearn\\model_selection\\_validation.py\", line 888, in _fit_and_score\n",
      "    estimator.fit(X_train, y_train, **fit_params)\n",
      "  File \"e:\\ProgramData\\anaconda3\\Lib\\site-packages\\sklearn\\base.py\", line 1466, in wrapper\n",
      "    estimator._validate_params()\n",
      "  File \"e:\\ProgramData\\anaconda3\\Lib\\site-packages\\sklearn\\base.py\", line 666, in _validate_params\n",
      "    validate_parameter_constraints(\n",
      "  File \"e:\\ProgramData\\anaconda3\\Lib\\site-packages\\sklearn\\utils\\_param_validation.py\", line 95, in validate_parameter_constraints\n",
      "    raise InvalidParameterError(\n",
      "sklearn.utils._param_validation.InvalidParameterError: The 'alpha' parameter of SGDRegressor must be a float in the range [0.0, inf). Got -0.00839466539127491 instead.\n",
      "\n",
      "--------------------------------------------------------------------------------\n",
      "250 fits failed with the following error:\n",
      "Traceback (most recent call last):\n",
      "  File \"e:\\ProgramData\\anaconda3\\Lib\\site-packages\\sklearn\\model_selection\\_validation.py\", line 888, in _fit_and_score\n",
      "    estimator.fit(X_train, y_train, **fit_params)\n",
      "  File \"e:\\ProgramData\\anaconda3\\Lib\\site-packages\\sklearn\\base.py\", line 1466, in wrapper\n",
      "    estimator._validate_params()\n",
      "  File \"e:\\ProgramData\\anaconda3\\Lib\\site-packages\\sklearn\\base.py\", line 666, in _validate_params\n",
      "    validate_parameter_constraints(\n",
      "  File \"e:\\ProgramData\\anaconda3\\Lib\\site-packages\\sklearn\\utils\\_param_validation.py\", line 95, in validate_parameter_constraints\n",
      "    raise InvalidParameterError(\n",
      "sklearn.utils._param_validation.InvalidParameterError: The 'alpha' parameter of SGDRegressor must be a float in the range [0.0, inf). Got -0.007986502125968789 instead.\n",
      "\n",
      "--------------------------------------------------------------------------------\n",
      "250 fits failed with the following error:\n",
      "Traceback (most recent call last):\n",
      "  File \"e:\\ProgramData\\anaconda3\\Lib\\site-packages\\sklearn\\model_selection\\_validation.py\", line 888, in _fit_and_score\n",
      "    estimator.fit(X_train, y_train, **fit_params)\n",
      "  File \"e:\\ProgramData\\anaconda3\\Lib\\site-packages\\sklearn\\base.py\", line 1466, in wrapper\n",
      "    estimator._validate_params()\n",
      "  File \"e:\\ProgramData\\anaconda3\\Lib\\site-packages\\sklearn\\base.py\", line 666, in _validate_params\n",
      "    validate_parameter_constraints(\n",
      "  File \"e:\\ProgramData\\anaconda3\\Lib\\site-packages\\sklearn\\utils\\_param_validation.py\", line 95, in validate_parameter_constraints\n",
      "    raise InvalidParameterError(\n",
      "sklearn.utils._param_validation.InvalidParameterError: The 'alpha' parameter of SGDRegressor must be a float in the range [0.0, inf). Got -0.007578338860662666 instead.\n",
      "\n",
      "--------------------------------------------------------------------------------\n",
      "250 fits failed with the following error:\n",
      "Traceback (most recent call last):\n",
      "  File \"e:\\ProgramData\\anaconda3\\Lib\\site-packages\\sklearn\\model_selection\\_validation.py\", line 888, in _fit_and_score\n",
      "    estimator.fit(X_train, y_train, **fit_params)\n",
      "  File \"e:\\ProgramData\\anaconda3\\Lib\\site-packages\\sklearn\\base.py\", line 1466, in wrapper\n",
      "    estimator._validate_params()\n",
      "  File \"e:\\ProgramData\\anaconda3\\Lib\\site-packages\\sklearn\\base.py\", line 666, in _validate_params\n",
      "    validate_parameter_constraints(\n",
      "  File \"e:\\ProgramData\\anaconda3\\Lib\\site-packages\\sklearn\\utils\\_param_validation.py\", line 95, in validate_parameter_constraints\n",
      "    raise InvalidParameterError(\n",
      "sklearn.utils._param_validation.InvalidParameterError: The 'alpha' parameter of SGDRegressor must be a float in the range [0.0, inf). Got -0.007170175595356543 instead.\n",
      "\n",
      "--------------------------------------------------------------------------------\n",
      "250 fits failed with the following error:\n",
      "Traceback (most recent call last):\n",
      "  File \"e:\\ProgramData\\anaconda3\\Lib\\site-packages\\sklearn\\model_selection\\_validation.py\", line 888, in _fit_and_score\n",
      "    estimator.fit(X_train, y_train, **fit_params)\n",
      "  File \"e:\\ProgramData\\anaconda3\\Lib\\site-packages\\sklearn\\base.py\", line 1466, in wrapper\n",
      "    estimator._validate_params()\n",
      "  File \"e:\\ProgramData\\anaconda3\\Lib\\site-packages\\sklearn\\base.py\", line 666, in _validate_params\n",
      "    validate_parameter_constraints(\n",
      "  File \"e:\\ProgramData\\anaconda3\\Lib\\site-packages\\sklearn\\utils\\_param_validation.py\", line 95, in validate_parameter_constraints\n",
      "    raise InvalidParameterError(\n",
      "sklearn.utils._param_validation.InvalidParameterError: The 'alpha' parameter of SGDRegressor must be a float in the range [0.0, inf). Got -0.0067620123300504206 instead.\n",
      "\n",
      "--------------------------------------------------------------------------------\n",
      "250 fits failed with the following error:\n",
      "Traceback (most recent call last):\n",
      "  File \"e:\\ProgramData\\anaconda3\\Lib\\site-packages\\sklearn\\model_selection\\_validation.py\", line 888, in _fit_and_score\n",
      "    estimator.fit(X_train, y_train, **fit_params)\n",
      "  File \"e:\\ProgramData\\anaconda3\\Lib\\site-packages\\sklearn\\base.py\", line 1466, in wrapper\n",
      "    estimator._validate_params()\n",
      "  File \"e:\\ProgramData\\anaconda3\\Lib\\site-packages\\sklearn\\base.py\", line 666, in _validate_params\n",
      "    validate_parameter_constraints(\n",
      "  File \"e:\\ProgramData\\anaconda3\\Lib\\site-packages\\sklearn\\utils\\_param_validation.py\", line 95, in validate_parameter_constraints\n",
      "    raise InvalidParameterError(\n",
      "sklearn.utils._param_validation.InvalidParameterError: The 'alpha' parameter of SGDRegressor must be a float in the range [0.0, inf). Got -0.006353849064744298 instead.\n",
      "\n",
      "--------------------------------------------------------------------------------\n",
      "250 fits failed with the following error:\n",
      "Traceback (most recent call last):\n",
      "  File \"e:\\ProgramData\\anaconda3\\Lib\\site-packages\\sklearn\\model_selection\\_validation.py\", line 888, in _fit_and_score\n",
      "    estimator.fit(X_train, y_train, **fit_params)\n",
      "  File \"e:\\ProgramData\\anaconda3\\Lib\\site-packages\\sklearn\\base.py\", line 1466, in wrapper\n",
      "    estimator._validate_params()\n",
      "  File \"e:\\ProgramData\\anaconda3\\Lib\\site-packages\\sklearn\\base.py\", line 666, in _validate_params\n",
      "    validate_parameter_constraints(\n",
      "  File \"e:\\ProgramData\\anaconda3\\Lib\\site-packages\\sklearn\\utils\\_param_validation.py\", line 95, in validate_parameter_constraints\n",
      "    raise InvalidParameterError(\n",
      "sklearn.utils._param_validation.InvalidParameterError: The 'alpha' parameter of SGDRegressor must be a float in the range [0.0, inf). Got -0.005945685799438176 instead.\n",
      "\n",
      "--------------------------------------------------------------------------------\n",
      "250 fits failed with the following error:\n",
      "Traceback (most recent call last):\n",
      "  File \"e:\\ProgramData\\anaconda3\\Lib\\site-packages\\sklearn\\model_selection\\_validation.py\", line 888, in _fit_and_score\n",
      "    estimator.fit(X_train, y_train, **fit_params)\n",
      "  File \"e:\\ProgramData\\anaconda3\\Lib\\site-packages\\sklearn\\base.py\", line 1466, in wrapper\n",
      "    estimator._validate_params()\n",
      "  File \"e:\\ProgramData\\anaconda3\\Lib\\site-packages\\sklearn\\base.py\", line 666, in _validate_params\n",
      "    validate_parameter_constraints(\n",
      "  File \"e:\\ProgramData\\anaconda3\\Lib\\site-packages\\sklearn\\utils\\_param_validation.py\", line 95, in validate_parameter_constraints\n",
      "    raise InvalidParameterError(\n",
      "sklearn.utils._param_validation.InvalidParameterError: The 'alpha' parameter of SGDRegressor must be a float in the range [0.0, inf). Got -0.005537522534132053 instead.\n",
      "\n",
      "--------------------------------------------------------------------------------\n",
      "250 fits failed with the following error:\n",
      "Traceback (most recent call last):\n",
      "  File \"e:\\ProgramData\\anaconda3\\Lib\\site-packages\\sklearn\\model_selection\\_validation.py\", line 888, in _fit_and_score\n",
      "    estimator.fit(X_train, y_train, **fit_params)\n",
      "  File \"e:\\ProgramData\\anaconda3\\Lib\\site-packages\\sklearn\\base.py\", line 1466, in wrapper\n",
      "    estimator._validate_params()\n",
      "  File \"e:\\ProgramData\\anaconda3\\Lib\\site-packages\\sklearn\\base.py\", line 666, in _validate_params\n",
      "    validate_parameter_constraints(\n",
      "  File \"e:\\ProgramData\\anaconda3\\Lib\\site-packages\\sklearn\\utils\\_param_validation.py\", line 95, in validate_parameter_constraints\n",
      "    raise InvalidParameterError(\n",
      "sklearn.utils._param_validation.InvalidParameterError: The 'alpha' parameter of SGDRegressor must be a float in the range [0.0, inf). Got -0.00512935926882593 instead.\n",
      "\n",
      "--------------------------------------------------------------------------------\n",
      "250 fits failed with the following error:\n",
      "Traceback (most recent call last):\n",
      "  File \"e:\\ProgramData\\anaconda3\\Lib\\site-packages\\sklearn\\model_selection\\_validation.py\", line 888, in _fit_and_score\n",
      "    estimator.fit(X_train, y_train, **fit_params)\n",
      "  File \"e:\\ProgramData\\anaconda3\\Lib\\site-packages\\sklearn\\base.py\", line 1466, in wrapper\n",
      "    estimator._validate_params()\n",
      "  File \"e:\\ProgramData\\anaconda3\\Lib\\site-packages\\sklearn\\base.py\", line 666, in _validate_params\n",
      "    validate_parameter_constraints(\n",
      "  File \"e:\\ProgramData\\anaconda3\\Lib\\site-packages\\sklearn\\utils\\_param_validation.py\", line 95, in validate_parameter_constraints\n",
      "    raise InvalidParameterError(\n",
      "sklearn.utils._param_validation.InvalidParameterError: The 'alpha' parameter of SGDRegressor must be a float in the range [0.0, inf). Got -0.004721196003519808 instead.\n",
      "\n",
      "--------------------------------------------------------------------------------\n",
      "250 fits failed with the following error:\n",
      "Traceback (most recent call last):\n",
      "  File \"e:\\ProgramData\\anaconda3\\Lib\\site-packages\\sklearn\\model_selection\\_validation.py\", line 888, in _fit_and_score\n",
      "    estimator.fit(X_train, y_train, **fit_params)\n",
      "  File \"e:\\ProgramData\\anaconda3\\Lib\\site-packages\\sklearn\\base.py\", line 1466, in wrapper\n",
      "    estimator._validate_params()\n",
      "  File \"e:\\ProgramData\\anaconda3\\Lib\\site-packages\\sklearn\\base.py\", line 666, in _validate_params\n",
      "    validate_parameter_constraints(\n",
      "  File \"e:\\ProgramData\\anaconda3\\Lib\\site-packages\\sklearn\\utils\\_param_validation.py\", line 95, in validate_parameter_constraints\n",
      "    raise InvalidParameterError(\n",
      "sklearn.utils._param_validation.InvalidParameterError: The 'alpha' parameter of SGDRegressor must be a float in the range [0.0, inf). Got -0.004313032738213686 instead.\n",
      "\n",
      "--------------------------------------------------------------------------------\n",
      "250 fits failed with the following error:\n",
      "Traceback (most recent call last):\n",
      "  File \"e:\\ProgramData\\anaconda3\\Lib\\site-packages\\sklearn\\model_selection\\_validation.py\", line 888, in _fit_and_score\n",
      "    estimator.fit(X_train, y_train, **fit_params)\n",
      "  File \"e:\\ProgramData\\anaconda3\\Lib\\site-packages\\sklearn\\base.py\", line 1466, in wrapper\n",
      "    estimator._validate_params()\n",
      "  File \"e:\\ProgramData\\anaconda3\\Lib\\site-packages\\sklearn\\base.py\", line 666, in _validate_params\n",
      "    validate_parameter_constraints(\n",
      "  File \"e:\\ProgramData\\anaconda3\\Lib\\site-packages\\sklearn\\utils\\_param_validation.py\", line 95, in validate_parameter_constraints\n",
      "    raise InvalidParameterError(\n",
      "sklearn.utils._param_validation.InvalidParameterError: The 'alpha' parameter of SGDRegressor must be a float in the range [0.0, inf). Got -0.003904869472907564 instead.\n",
      "\n",
      "--------------------------------------------------------------------------------\n",
      "250 fits failed with the following error:\n",
      "Traceback (most recent call last):\n",
      "  File \"e:\\ProgramData\\anaconda3\\Lib\\site-packages\\sklearn\\model_selection\\_validation.py\", line 888, in _fit_and_score\n",
      "    estimator.fit(X_train, y_train, **fit_params)\n",
      "  File \"e:\\ProgramData\\anaconda3\\Lib\\site-packages\\sklearn\\base.py\", line 1466, in wrapper\n",
      "    estimator._validate_params()\n",
      "  File \"e:\\ProgramData\\anaconda3\\Lib\\site-packages\\sklearn\\base.py\", line 666, in _validate_params\n",
      "    validate_parameter_constraints(\n",
      "  File \"e:\\ProgramData\\anaconda3\\Lib\\site-packages\\sklearn\\utils\\_param_validation.py\", line 95, in validate_parameter_constraints\n",
      "    raise InvalidParameterError(\n",
      "sklearn.utils._param_validation.InvalidParameterError: The 'alpha' parameter of SGDRegressor must be a float in the range [0.0, inf). Got -0.003496706207601441 instead.\n",
      "\n",
      "--------------------------------------------------------------------------------\n",
      "250 fits failed with the following error:\n",
      "Traceback (most recent call last):\n",
      "  File \"e:\\ProgramData\\anaconda3\\Lib\\site-packages\\sklearn\\model_selection\\_validation.py\", line 888, in _fit_and_score\n",
      "    estimator.fit(X_train, y_train, **fit_params)\n",
      "  File \"e:\\ProgramData\\anaconda3\\Lib\\site-packages\\sklearn\\base.py\", line 1466, in wrapper\n",
      "    estimator._validate_params()\n",
      "  File \"e:\\ProgramData\\anaconda3\\Lib\\site-packages\\sklearn\\base.py\", line 666, in _validate_params\n",
      "    validate_parameter_constraints(\n",
      "  File \"e:\\ProgramData\\anaconda3\\Lib\\site-packages\\sklearn\\utils\\_param_validation.py\", line 95, in validate_parameter_constraints\n",
      "    raise InvalidParameterError(\n",
      "sklearn.utils._param_validation.InvalidParameterError: The 'alpha' parameter of SGDRegressor must be a float in the range [0.0, inf). Got -0.0030885429422953187 instead.\n",
      "\n",
      "--------------------------------------------------------------------------------\n",
      "250 fits failed with the following error:\n",
      "Traceback (most recent call last):\n",
      "  File \"e:\\ProgramData\\anaconda3\\Lib\\site-packages\\sklearn\\model_selection\\_validation.py\", line 888, in _fit_and_score\n",
      "    estimator.fit(X_train, y_train, **fit_params)\n",
      "  File \"e:\\ProgramData\\anaconda3\\Lib\\site-packages\\sklearn\\base.py\", line 1466, in wrapper\n",
      "    estimator._validate_params()\n",
      "  File \"e:\\ProgramData\\anaconda3\\Lib\\site-packages\\sklearn\\base.py\", line 666, in _validate_params\n",
      "    validate_parameter_constraints(\n",
      "  File \"e:\\ProgramData\\anaconda3\\Lib\\site-packages\\sklearn\\utils\\_param_validation.py\", line 95, in validate_parameter_constraints\n",
      "    raise InvalidParameterError(\n",
      "sklearn.utils._param_validation.InvalidParameterError: The 'alpha' parameter of SGDRegressor must be a float in the range [0.0, inf). Got -0.0026803796769891957 instead.\n",
      "\n",
      "--------------------------------------------------------------------------------\n",
      "250 fits failed with the following error:\n",
      "Traceback (most recent call last):\n",
      "  File \"e:\\ProgramData\\anaconda3\\Lib\\site-packages\\sklearn\\model_selection\\_validation.py\", line 888, in _fit_and_score\n",
      "    estimator.fit(X_train, y_train, **fit_params)\n",
      "  File \"e:\\ProgramData\\anaconda3\\Lib\\site-packages\\sklearn\\base.py\", line 1466, in wrapper\n",
      "    estimator._validate_params()\n",
      "  File \"e:\\ProgramData\\anaconda3\\Lib\\site-packages\\sklearn\\base.py\", line 666, in _validate_params\n",
      "    validate_parameter_constraints(\n",
      "  File \"e:\\ProgramData\\anaconda3\\Lib\\site-packages\\sklearn\\utils\\_param_validation.py\", line 95, in validate_parameter_constraints\n",
      "    raise InvalidParameterError(\n",
      "sklearn.utils._param_validation.InvalidParameterError: The 'alpha' parameter of SGDRegressor must be a float in the range [0.0, inf). Got -0.0022722164116830736 instead.\n",
      "\n",
      "--------------------------------------------------------------------------------\n",
      "250 fits failed with the following error:\n",
      "Traceback (most recent call last):\n",
      "  File \"e:\\ProgramData\\anaconda3\\Lib\\site-packages\\sklearn\\model_selection\\_validation.py\", line 888, in _fit_and_score\n",
      "    estimator.fit(X_train, y_train, **fit_params)\n",
      "  File \"e:\\ProgramData\\anaconda3\\Lib\\site-packages\\sklearn\\base.py\", line 1466, in wrapper\n",
      "    estimator._validate_params()\n",
      "  File \"e:\\ProgramData\\anaconda3\\Lib\\site-packages\\sklearn\\base.py\", line 666, in _validate_params\n",
      "    validate_parameter_constraints(\n",
      "  File \"e:\\ProgramData\\anaconda3\\Lib\\site-packages\\sklearn\\utils\\_param_validation.py\", line 95, in validate_parameter_constraints\n",
      "    raise InvalidParameterError(\n",
      "sklearn.utils._param_validation.InvalidParameterError: The 'alpha' parameter of SGDRegressor must be a float in the range [0.0, inf). Got -0.0018640531463769514 instead.\n",
      "\n",
      "--------------------------------------------------------------------------------\n",
      "250 fits failed with the following error:\n",
      "Traceback (most recent call last):\n",
      "  File \"e:\\ProgramData\\anaconda3\\Lib\\site-packages\\sklearn\\model_selection\\_validation.py\", line 888, in _fit_and_score\n",
      "    estimator.fit(X_train, y_train, **fit_params)\n",
      "  File \"e:\\ProgramData\\anaconda3\\Lib\\site-packages\\sklearn\\base.py\", line 1466, in wrapper\n",
      "    estimator._validate_params()\n",
      "  File \"e:\\ProgramData\\anaconda3\\Lib\\site-packages\\sklearn\\base.py\", line 666, in _validate_params\n",
      "    validate_parameter_constraints(\n",
      "  File \"e:\\ProgramData\\anaconda3\\Lib\\site-packages\\sklearn\\utils\\_param_validation.py\", line 95, in validate_parameter_constraints\n",
      "    raise InvalidParameterError(\n",
      "sklearn.utils._param_validation.InvalidParameterError: The 'alpha' parameter of SGDRegressor must be a float in the range [0.0, inf). Got -0.0014558898810708284 instead.\n",
      "\n",
      "--------------------------------------------------------------------------------\n",
      "250 fits failed with the following error:\n",
      "Traceback (most recent call last):\n",
      "  File \"e:\\ProgramData\\anaconda3\\Lib\\site-packages\\sklearn\\model_selection\\_validation.py\", line 888, in _fit_and_score\n",
      "    estimator.fit(X_train, y_train, **fit_params)\n",
      "  File \"e:\\ProgramData\\anaconda3\\Lib\\site-packages\\sklearn\\base.py\", line 1466, in wrapper\n",
      "    estimator._validate_params()\n",
      "  File \"e:\\ProgramData\\anaconda3\\Lib\\site-packages\\sklearn\\base.py\", line 666, in _validate_params\n",
      "    validate_parameter_constraints(\n",
      "  File \"e:\\ProgramData\\anaconda3\\Lib\\site-packages\\sklearn\\utils\\_param_validation.py\", line 95, in validate_parameter_constraints\n",
      "    raise InvalidParameterError(\n",
      "sklearn.utils._param_validation.InvalidParameterError: The 'alpha' parameter of SGDRegressor must be a float in the range [0.0, inf). Got -0.0010477266157647063 instead.\n",
      "\n",
      "--------------------------------------------------------------------------------\n",
      "250 fits failed with the following error:\n",
      "Traceback (most recent call last):\n",
      "  File \"e:\\ProgramData\\anaconda3\\Lib\\site-packages\\sklearn\\model_selection\\_validation.py\", line 888, in _fit_and_score\n",
      "    estimator.fit(X_train, y_train, **fit_params)\n",
      "  File \"e:\\ProgramData\\anaconda3\\Lib\\site-packages\\sklearn\\base.py\", line 1466, in wrapper\n",
      "    estimator._validate_params()\n",
      "  File \"e:\\ProgramData\\anaconda3\\Lib\\site-packages\\sklearn\\base.py\", line 666, in _validate_params\n",
      "    validate_parameter_constraints(\n",
      "  File \"e:\\ProgramData\\anaconda3\\Lib\\site-packages\\sklearn\\utils\\_param_validation.py\", line 95, in validate_parameter_constraints\n",
      "    raise InvalidParameterError(\n",
      "sklearn.utils._param_validation.InvalidParameterError: The 'alpha' parameter of SGDRegressor must be a float in the range [0.0, inf). Got -0.0006395633504585833 instead.\n",
      "\n",
      "--------------------------------------------------------------------------------\n",
      "250 fits failed with the following error:\n",
      "Traceback (most recent call last):\n",
      "  File \"e:\\ProgramData\\anaconda3\\Lib\\site-packages\\sklearn\\model_selection\\_validation.py\", line 888, in _fit_and_score\n",
      "    estimator.fit(X_train, y_train, **fit_params)\n",
      "  File \"e:\\ProgramData\\anaconda3\\Lib\\site-packages\\sklearn\\base.py\", line 1466, in wrapper\n",
      "    estimator._validate_params()\n",
      "  File \"e:\\ProgramData\\anaconda3\\Lib\\site-packages\\sklearn\\base.py\", line 666, in _validate_params\n",
      "    validate_parameter_constraints(\n",
      "  File \"e:\\ProgramData\\anaconda3\\Lib\\site-packages\\sklearn\\utils\\_param_validation.py\", line 95, in validate_parameter_constraints\n",
      "    raise InvalidParameterError(\n",
      "sklearn.utils._param_validation.InvalidParameterError: The 'alpha' parameter of SGDRegressor must be a float in the range [0.0, inf). Got -0.00023140008515246113 instead.\n",
      "\n",
      "  warnings.warn(some_fits_failed_message, FitFailedWarning)\n",
      "e:\\ProgramData\\anaconda3\\Lib\\site-packages\\sklearn\\model_selection\\_search.py:1102: UserWarning: One or more of the test scores are non-finite: [       nan        nan        nan ... 0.70851666 0.70846105 0.70840529]\n",
      "  warnings.warn(\n"
     ]
    },
    {
     "data": {
      "text/plain": [
       "(0.7101699886809693,\n",
       " {'alpha': 0.000176763180153661, 'eta0': 0.014478244121332973})"
      ]
     },
     "execution_count": 350,
     "metadata": {},
     "output_type": "execute_result"
    }
   ],
   "source": [
    "lrs = np.linspace(lr-0.01, lr+0.02, 50)\n",
    "alpha = np.linspace(alpha-0.01, alpha+0.01, 50)\n",
    "\n",
    "param_grid = {'eta0': lrs, 'alpha': alpha}\n",
    "search = GridSearchCV(model, param_grid)\n",
    "search.fit(x_train_poly, y_train.ravel())\n",
    "\n",
    "search.best_score_, search.best_params_"
   ]
  },
  {
   "cell_type": "markdown",
   "id": "2d9fdd91",
   "metadata": {
    "jp-MarkdownHeadingCollapsed": true,
    "tags": []
   },
   "source": [
    "## **🔸 Final**"
   ]
  },
  {
   "cell_type": "markdown",
   "id": "e2570ce8",
   "metadata": {},
   "source": [
    "<img src='imgs/final.png' width=800px />"
   ]
  },
  {
   "cell_type": "markdown",
   "id": "d9932e37",
   "metadata": {
    "jp-MarkdownHeadingCollapsed": true,
    "tags": []
   },
   "source": [
    "### Load Train/Test "
   ]
  },
  {
   "cell_type": "code",
   "execution_count": 351,
   "id": "954230f5",
   "metadata": {},
   "outputs": [
    {
     "data": {
      "text/plain": [
       "((1168, 1), (1168, 1), (292, 1), (292, 1))"
      ]
     },
     "execution_count": 351,
     "metadata": {},
     "output_type": "execute_result"
    }
   ],
   "source": [
    "df = pd.read_csv(csv_train_l_path)\n",
    "train_set = np.array(df)\n",
    "\n",
    "x_train = train_set[:, :-1]\n",
    "y_train = train_set[:, -1:]\n",
    "\n",
    "df = pd.read_csv(csv_test_l_path)\n",
    "test_set = np.array(df)\n",
    "\n",
    "x_test = test_set[:, :-1]\n",
    "y_test = test_set[:, -1:]\n",
    "\n",
    "x_train.shape, y_train.shape, x_test.shape, y_test.shape"
   ]
  },
  {
   "cell_type": "markdown",
   "id": "3cbb51f8",
   "metadata": {
    "jp-MarkdownHeadingCollapsed": true,
    "tags": []
   },
   "source": [
    "### Define Model"
   ]
  },
  {
   "cell_type": "code",
   "execution_count": 352,
   "id": "65cb6a7d",
   "metadata": {},
   "outputs": [],
   "source": [
    "degree = 4\n",
    "polynomial = PolynomialFeatures(degree=degree)\n",
    "model = SGDRegressor(random_state=31)"
   ]
  },
  {
   "cell_type": "code",
   "execution_count": 353,
   "id": "833b952a",
   "metadata": {},
   "outputs": [],
   "source": [
    "x_train_poly = polynomial.fit_transform(x_train)\n",
    "x_test_poly = polynomial.transform(x_test)"
   ]
  },
  {
   "cell_type": "markdown",
   "id": "7bb9fb8e",
   "metadata": {
    "tags": []
   },
   "source": [
    "### Hyper-parameter Tuning"
   ]
  },
  {
   "cell_type": "markdown",
   "id": "1e0c5db3",
   "metadata": {
    "tags": []
   },
   "source": [
    "#### Hyper-parameters"
   ]
  },
  {
   "cell_type": "code",
   "execution_count": 354,
   "id": "2a310d5f",
   "metadata": {
    "tags": []
   },
   "outputs": [],
   "source": [
    "lrs = np.logspace(-3, 0, 50)\n",
    "alphas = np.logspace(-6, 0, 50)\n",
    "param_distr = {'eta0': lrs, 'alpha': alphas}"
   ]
  },
  {
   "cell_type": "code",
   "execution_count": 355,
   "id": "9738a729",
   "metadata": {
    "collapsed": true,
    "jupyter": {
     "outputs_hidden": true
    },
    "tags": []
   },
   "outputs": [
    {
     "data": {
      "text/plain": [
       "(array([0.001     , 0.0011514 , 0.00132571, 0.00152642, 0.00175751,\n",
       "        0.00202359, 0.00232995, 0.0026827 , 0.00308884, 0.00355648,\n",
       "        0.00409492, 0.00471487, 0.00542868, 0.00625055, 0.00719686,\n",
       "        0.00828643, 0.00954095, 0.01098541, 0.01264855, 0.01456348,\n",
       "        0.01676833, 0.01930698, 0.02222996, 0.02559548, 0.02947052,\n",
       "        0.03393222, 0.0390694 , 0.04498433, 0.05179475, 0.05963623,\n",
       "        0.06866488, 0.07906043, 0.09102982, 0.10481131, 0.12067926,\n",
       "        0.13894955, 0.15998587, 0.184207  , 0.21209509, 0.24420531,\n",
       "        0.28117687, 0.32374575, 0.37275937, 0.42919343, 0.49417134,\n",
       "        0.5689866 , 0.65512856, 0.75431201, 0.86851137, 1.        ]),\n",
       " array([1.00000000e-06, 1.32571137e-06, 1.75751062e-06, 2.32995181e-06,\n",
       "        3.08884360e-06, 4.09491506e-06, 5.42867544e-06, 7.19685673e-06,\n",
       "        9.54095476e-06, 1.26485522e-05, 1.67683294e-05, 2.22299648e-05,\n",
       "        2.94705170e-05, 3.90693994e-05, 5.17947468e-05, 6.86648845e-05,\n",
       "        9.10298178e-05, 1.20679264e-04, 1.59985872e-04, 2.12095089e-04,\n",
       "        2.81176870e-04, 3.72759372e-04, 4.94171336e-04, 6.55128557e-04,\n",
       "        8.68511374e-04, 1.15139540e-03, 1.52641797e-03, 2.02358965e-03,\n",
       "        2.68269580e-03, 3.55648031e-03, 4.71486636e-03, 6.25055193e-03,\n",
       "        8.28642773e-03, 1.09854114e-02, 1.45634848e-02, 1.93069773e-02,\n",
       "        2.55954792e-02, 3.39322177e-02, 4.49843267e-02, 5.96362332e-02,\n",
       "        7.90604321e-02, 1.04811313e-01, 1.38949549e-01, 1.84206997e-01,\n",
       "        2.44205309e-01, 3.23745754e-01, 4.29193426e-01, 5.68986603e-01,\n",
       "        7.54312006e-01, 1.00000000e+00]))"
      ]
     },
     "execution_count": 355,
     "metadata": {},
     "output_type": "execute_result"
    }
   ],
   "source": [
    "lrs, alphas"
   ]
  },
  {
   "cell_type": "markdown",
   "id": "2d96b27b",
   "metadata": {
    "tags": []
   },
   "source": [
    "#### Coarse grid"
   ]
  },
  {
   "cell_type": "code",
   "execution_count": 356,
   "id": "b3d5ba35",
   "metadata": {},
   "outputs": [
    {
     "data": {
      "text/plain": [
       "({'eta0': 0.008286427728546842, 'alpha': 1.325711365590108e-06},\n",
       " 0.709712668413154)"
      ]
     },
     "execution_count": 356,
     "metadata": {},
     "output_type": "execute_result"
    }
   ],
   "source": [
    "random_search = RandomizedSearchCV(model, param_distr, n_iter=250, random_state=31)\n",
    "random_search.fit(x_train_poly, y_train.ravel())\n",
    "\n",
    "random_search.best_params_, random_search.best_score_"
   ]
  },
  {
   "cell_type": "markdown",
   "id": "ca650a4e",
   "metadata": {
    "tags": []
   },
   "source": [
    "#### Fine grid"
   ]
  },
  {
   "cell_type": "code",
   "execution_count": 357,
   "id": "5435518c",
   "metadata": {},
   "outputs": [],
   "source": [
    "lr, alpha = random_search.best_params_.values()\n",
    "\n",
    "d1, d2 = 0.1, 0.1\n",
    "lrs = np.r_[np.linspace((1-d1)*lr, (1+d1)*lr, 50), lr]\n",
    "alphas = np.r_[np.linspace((1+d2)*alpha, (1+d2)*alpha, 50), alpha]\n",
    "\n",
    "param_grid = {'eta0': lrs, 'alpha': alphas}"
   ]
  },
  {
   "cell_type": "code",
   "execution_count": 358,
   "id": "22ea3e3b",
   "metadata": {},
   "outputs": [
    {
     "data": {
      "text/plain": [
       "({'alpha': 1.325711365590108e-06, 'eta0': 0.009115070501401527},\n",
       " 0.7108457954153533)"
      ]
     },
     "execution_count": 358,
     "metadata": {},
     "output_type": "execute_result"
    }
   ],
   "source": [
    "grid_search = GridSearchCV(model, param_grid)\n",
    "grid_search.fit(x_train_poly, y_train.ravel())\n",
    "\n",
    "grid_search.best_params_, grid_search.best_score_"
   ]
  },
  {
   "cell_type": "markdown",
   "id": "5306e133",
   "metadata": {
    "tags": []
   },
   "source": [
    "### Retrain Model"
   ]
  },
  {
   "cell_type": "code",
   "execution_count": 359,
   "id": "0ff46942",
   "metadata": {},
   "outputs": [],
   "source": [
    "model = grid_search.best_estimator_"
   ]
  },
  {
   "cell_type": "markdown",
   "id": "c5e3120d",
   "metadata": {
    "jp-MarkdownHeadingCollapsed": true,
    "tags": []
   },
   "source": [
    "#### Visualize"
   ]
  },
  {
   "cell_type": "code",
   "execution_count": 360,
   "id": "7f03e91b",
   "metadata": {},
   "outputs": [
    {
     "data": {
      "text/plain": [
       "[<matplotlib.lines.Line2D at 0x2084ce83b00>]"
      ]
     },
     "execution_count": 360,
     "metadata": {},
     "output_type": "execute_result"
    },
    {
     "data": {
      "image/png": "[encoded data removed]",
      "text/plain": [
       "<Figure size 640x480 with 1 Axes>"
      ]
     },
     "metadata": {},
     "output_type": "display_data"
    }
   ],
   "source": [
    "x = np.linspace(x_train.min(), x_train.max(), 100)[:, None]\n",
    "xp = polynomial.transform(x)\n",
    "y_hat = model.predict(xp)\n",
    "\n",
    "plt.scatter(x_train, y_train)\n",
    "plt.plot(x, y_hat, 'r', linewidth=3)"
   ]
  },
  {
   "cell_type": "markdown",
   "id": "888aa57d",
   "metadata": {
    "jp-MarkdownHeadingCollapsed": true,
    "tags": []
   },
   "source": [
    "### Final Evaluation"
   ]
  },
  {
   "cell_type": "code",
   "execution_count": 361,
   "id": "a904a50a",
   "metadata": {},
   "outputs": [
    {
     "data": {
      "text/plain": [
       "0.6999975635651177"
      ]
     },
     "execution_count": 361,
     "metadata": {},
     "output_type": "execute_result"
    }
   ],
   "source": [
    "model.score(x_test_poly, y_test)"
   ]
  },
  {
   "cell_type": "markdown",
   "id": "5923158a",
   "metadata": {
    "jp-MarkdownHeadingCollapsed": true,
    "tags": []
   },
   "source": [
    "#### Visualize"
   ]
  },
  {
   "cell_type": "code",
   "execution_count": 362,
   "id": "cb0de3b7",
   "metadata": {},
   "outputs": [
    {
     "data": {
      "text/plain": [
       "<matplotlib.legend.Legend at 0x2084b810fb0>"
      ]
     },
     "execution_count": 362,
     "metadata": {},
     "output_type": "execute_result"
    },
    {
     "data": {
      "image/png": "[encoded data removed]",
      "text/plain": [
       "<Figure size 640x480 with 1 Axes>"
      ]
     },
     "metadata": {},
     "output_type": "display_data"
    }
   ],
   "source": [
    "x = np.linspace(x_train.min(), x_train.max(), 100)[:, None]\n",
    "xp = polynomial.transform(x)\n",
    "y_hat = model.predict(xp)\n",
    "\n",
    "plt.scatter(x_train, y_train, c='r')\n",
    "plt.scatter(x_test, y_test, c='b')\n",
    "plt.plot(x, y_hat, 'g', linewidth=3)\n",
    "\n",
    "plt.grid()\n",
    "plt.legend(['Train', 'Test', 'Model'])"
   ]
  },
  {
   "cell_type": "code",
   "execution_count": null,
   "id": "f1d8a789",
   "metadata": {},
   "outputs": [],
   "source": []
  }
 ],
 "metadata": {
  "kernelspec": {
   "display_name": "base",
   "language": "python",
   "name": "python3"
  },
  "language_info": {
   "codemirror_mode": {
    "name": "ipython",
    "version": 3
   },
   "file_extension": ".py",
   "mimetype": "text/x-python",
   "name": "python",
   "nbconvert_exporter": "python",
   "pygments_lexer": "ipython3",
   "version": "3.12.7"
  }
 },
 "nbformat": 4,
 "nbformat_minor": 5
}
