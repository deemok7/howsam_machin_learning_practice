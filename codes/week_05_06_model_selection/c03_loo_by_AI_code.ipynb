{
 "cells": [
  {
   "cell_type": "code",
   "execution_count": 7,
   "metadata": {},
   "outputs": [],
   "source": [
    "import numpy as np\n",
    "from sklearn.model_selection import LeaveOneOut\n",
    "from sklearn.preprocessing import PolynomialFeatures\n",
    "from sklearn.linear_model import Ridge\n",
    "from sklearn.metrics import mean_squared_error\n",
    "import warnings"
   ]
  },
  {
   "cell_type": "code",
   "execution_count": 8,
   "metadata": {},
   "outputs": [],
   "source": [
    "# Generate synthetic data with a cubic relationship (degree=3)\n",
    "np.random.seed(42)\n",
    "x = np.linspace(0, 10, 1000).reshape(-1, 1)  # 1000 samples, 1 feature (must be 2D!)\n",
    "noise = np.random.normal(0, 1, 1000)\n",
    "y = 2 * x**3 + 3 * x**2 + x + 1 + noise  # True model: y = 2x³ + 3x² + x + 1 + noise"
   ]
  },
  {
   "cell_type": "code",
   "execution_count": 9,
   "metadata": {},
   "outputs": [],
   "source": [
    "degree = 3  # Polynomial degree (must be ≤ features' capacity)\n",
    "alpha = 0.1  # Ridge regularization strength (non-zero to ensure invertibility)"
   ]
  },
  {
   "cell_type": "code",
   "execution_count": 10,
   "metadata": {},
   "outputs": [],
   "source": [
    "polynomial = PolynomialFeatures(degree=degree)\n",
    "loo = LeaveOneOut()\n",
    "scores = []"
   ]
  },
  {
   "cell_type": "code",
   "execution_count": 11,
   "metadata": {},
   "outputs": [],
   "source": [
    "# Suppress warnings (optional but recommended)\n",
    "warnings.filterwarnings(\"ignore\", category=RuntimeWarning)\n",
    "\n",
    "for train_idx, val_idx in loo.split(x):\n",
    "    # Split data\n",
    "    x_train, x_val = x[train_idx], x[val_idx]\n",
    "    y_train, y_val = y[train_idx], y[val_idx]\n",
    "    \n",
    "    # Transform features\n",
    "    x_train_poly = polynomial.fit_transform(x_train)\n",
    "    x_val_poly = polynomial.transform(x_val)\n",
    "    \n",
    "    # Train Ridge model\n",
    "    model = Ridge(alpha=alpha, fit_intercept=True)  # Always set fit_intercept=True\n",
    "    model.fit(x_train_poly, y_train)\n",
    "    \n",
    "    # Predict and compute MSE\n",
    "    y_pred = model.predict(x_val_poly)\n",
    "    mse = mean_squared_error(y_val, y_pred)\n",
    "    scores.append(mse)"
   ]
  },
  {
   "cell_type": "code",
   "execution_count": 12,
   "metadata": {},
   "outputs": [
    {
     "name": "stdout",
     "output_type": "stream",
     "text": [
      "Mean MSE: 0.0000\n",
      "Standard Deviation: 0.0000\n"
     ]
    }
   ],
   "source": [
    "mean_mse = np.mean(scores)\n",
    "std_mse = np.std(scores)\n",
    "\n",
    "print(f\"Mean MSE: {mean_mse:.4f}\")\n",
    "print(f\"Standard Deviation: {std_mse:.4f}\")"
   ]
  }
 ],
 "metadata": {
  "kernelspec": {
   "display_name": "base",
   "language": "python",
   "name": "python3"
  },
  "language_info": {
   "codemirror_mode": {
    "name": "ipython",
    "version": 3
   },
   "file_extension": ".py",
   "mimetype": "text/x-python",
   "name": "python",
   "nbconvert_exporter": "python",
   "pygments_lexer": "ipython3",
   "version": "3.12.3"
  }
 },
 "nbformat": 4,
 "nbformat_minor": 2
}
