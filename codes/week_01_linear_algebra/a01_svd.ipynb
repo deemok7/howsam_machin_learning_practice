{
 "cells": [
  {
   "cell_type": "code",
   "execution_count": 1,
   "metadata": {},
   "outputs": [],
   "source": [
    "import numpy as np\n",
    "from numpy import linalg as LA"
   ]
  },
  {
   "cell_type": "code",
   "execution_count": 2,
   "metadata": {},
   "outputs": [],
   "source": [
    "# def calc_eigen(T:np.array):\n",
    "def calc_eigen(T):\n",
    "    #It must be square\n",
    "    try:\n",
    "        eigenvalues, eigenvectors=LA.eig(T)\n",
    "        print(f\"eigenvalues:{eigenvalues}\")\n",
    "        print(f\"eigenvectors:{eigenvectors}\")    \n",
    "        return eigenvalues, eigenvectors\n",
    "    except:\n",
    "        return None,None"
   ]
  },
  {
   "cell_type": "code",
   "execution_count": 3,
   "metadata": {},
   "outputs": [],
   "source": [
    "def calc_sigma(eValU,eValV,M):\n",
    "    singular_values=np.sqrt(np.abs(eValV))# No matter if using eValU or eValV\n",
    "    singular_values=np.sort(singular_values)[::-1]\n",
    "    \n",
    "    m,n=M.shape\n",
    "    sigma=np.zeros((m,n))\n",
    "    \n",
    "    np.fill_diagonal(sigma,singular_values[:min(n,m)])\n",
    "    \n",
    "    return sigma\n",
    "     "
   ]
  },
  {
   "cell_type": "code",
   "execution_count": 4,
   "metadata": {},
   "outputs": [],
   "source": [
    "M=np.array([[1,0.5],[2,0.8]])\n",
    "M=np.array([[3,2,2],[2,3,-2]])"
   ]
  },
  {
   "cell_type": "code",
   "execution_count": 5,
   "metadata": {},
   "outputs": [],
   "source": [
    "eigenvalues, eigenvectors=calc_eigen(M)\n"
   ]
  },
  {
   "cell_type": "code",
   "execution_count": 6,
   "metadata": {},
   "outputs": [],
   "source": [
    "if eigenvalues is not None and eigenvectors is not None:    \n",
    "    print(\"Done\")"
   ]
  },
  {
   "cell_type": "code",
   "execution_count": 7,
   "metadata": {},
   "outputs": [
    {
     "name": "stdout",
     "output_type": "stream",
     "text": [
      "eigenvalues:[25.  9.]\n",
      "eigenvectors:[[ 0.70710678 -0.70710678]\n",
      " [ 0.70710678  0.70710678]]\n",
      "\n",
      "*** Ub ***\n",
      "[[ 0.70710678 -0.70710678]\n",
      " [ 0.70710678  0.70710678]]\n",
      "eigenvalues:[2.5000000e+01 5.0324328e-15 9.0000000e+00]\n",
      "eigenvectors:[[-7.07106781e-01 -6.66666667e-01  2.35702260e-01]\n",
      " [-7.07106781e-01  6.66666667e-01 -2.35702260e-01]\n",
      " [-4.55680392e-17  3.33333333e-01  9.42809042e-01]]\n",
      "\n",
      "*** Vb ***\n",
      "[[-7.07106781e-01 -6.66666667e-01  2.35702260e-01]\n",
      " [-7.07106781e-01  6.66666667e-01 -2.35702260e-01]\n",
      " [-4.55680392e-17  3.33333333e-01  9.42809042e-01]]\n",
      "\n",
      "*** Vb^T ***\n",
      "[[-7.07106781e-01 -7.07106781e-01 -4.55680392e-17]\n",
      " [-6.66666667e-01  6.66666667e-01  3.33333333e-01]\n",
      " [ 2.35702260e-01 -2.35702260e-01  9.42809042e-01]]\n",
      "\n",
      "*** Sigma ***\n",
      "[[5. 0. 0.]\n",
      " [0. 3. 0.]]\n",
      "\n",
      "*** Test ***\n",
      "org M:[[ 3  2  2]\n",
      " [ 2  3 -2]]\n",
      "new M:[[-1.08578644 -3.91421356 -0.70710678]\n",
      " [-3.91421356 -1.08578644  0.70710678]]\n"
     ]
    }
   ],
   "source": [
    "if not( eigenvalues is not None and eigenvectors is not None):\n",
    "    # use SVD \n",
    "    # M = Ub Sigma  (Vb transpose)\n",
    "    # U = M (M transpose)\n",
    "    # V = (M transpose) M\n",
    "    \n",
    "    Mt= M.transpose()\n",
    "    \n",
    "    U= np.matmul(M,Mt)\n",
    "    V=np.matmul(Mt,M)\n",
    "    \n",
    "    \n",
    "    # print(\"\\n*** U ***\")\n",
    "    # print(U)\n",
    "    eValU,eVecU=calc_eigen(U)\n",
    "    Ub=eVecU\n",
    "    \n",
    "    print(\"\\n*** Ub ***\")\n",
    "    print(Ub)\n",
    "    \n",
    "    # print(\"\\n*** V ***\")\n",
    "    # print(V)\n",
    "    eValV,eVecV=calc_eigen(V)\n",
    "    Vb=eVecV\n",
    "    \n",
    "    print(\"\\n*** Vb ***\")\n",
    "    print(Vb)\n",
    "    \n",
    "    # VbT=np.transpose(Vb)\n",
    "    VbT=Vb.transpose()\n",
    "    print(\"\\n*** Vb^T ***\")\n",
    "    print(VbT)\n",
    "    \n",
    "    sigma= calc_sigma(eValU,eValV,M)\n",
    "    print(\"\\n*** Sigma ***\")\n",
    "    print(f\"{sigma}\")   \n",
    "    \n",
    "    # Verify reconstruction of M\n",
    "    print(\"\\n*** Test ***\")\n",
    "    new_M=np.matmul(Ub,np.matmul(sigma,VbT))\n",
    "    print(f\"org M:{M}\")\n",
    "    print(f\"new M:{new_M}\")\n",
    "    \n",
    "\n",
    "    "
   ]
  },
  {
   "cell_type": "code",
   "execution_count": 8,
   "metadata": {},
   "outputs": [
    {
     "name": "stdout",
     "output_type": "stream",
     "text": [
      "eigenvalues:[25.  9.]\n",
      "eigenvectors:[[ 0.70710678 -0.70710678]\n",
      " [ 0.70710678  0.70710678]]\n",
      "eigenvalues:[2.5000000e+01 5.0324328e-15 9.0000000e+00]\n",
      "eigenvectors:[[-7.07106781e-01 -6.66666667e-01  2.35702260e-01]\n",
      " [-7.07106781e-01  6.66666667e-01 -2.35702260e-01]\n",
      " [-4.55680392e-17  3.33333333e-01  9.42809042e-01]]\n",
      "\n",
      "*** Ub ***\n",
      "[[ 0.70710678 -0.70710678]\n",
      " [ 0.70710678  0.70710678]]\n",
      "\n",
      "*** Sigma ***\n",
      "[[5. 0. 0.]\n",
      " [0. 3. 0.]]\n",
      "\n",
      "*** Vb^T ***\n",
      "[[-7.07106781e-01 -7.07106781e-01 -4.55680392e-17]\n",
      " [ 2.35702260e-01 -2.35702260e-01  9.42809042e-01]\n",
      " [-6.66666667e-01  6.66666667e-01  3.33333333e-01]]\n",
      "\n",
      "*** Original M ***\n",
      "[[ 3  2  2]\n",
      " [ 2  3 -2]]\n",
      "\n",
      "*** Reconstructed M ***\n",
      "[[-3. -2. -2.]\n",
      " [-2. -3.  2.]]\n"
     ]
    }
   ],
   "source": [
    "if not( eigenvalues is not None and eigenvectors is not None):\n",
    "    # Transpose of M\n",
    "    Mt = M.transpose()\n",
    "\n",
    "    # U = M * M^T\n",
    "    U = np.matmul(M, Mt)\n",
    "\n",
    "    # V = M^T * M\n",
    "    V = np.matmul(Mt, M)\n",
    "\n",
    "    # Calculate eigenvalues and eigenvectors\n",
    "    eValU, eVecU = calc_eigen(U)\n",
    "    eValV, eVecV = calc_eigen(V)\n",
    "\n",
    "    \n",
    "    # Sort eigenvectors of U and V according to eigenvalues\n",
    "    sorted_indices_U = np.argsort(-eValU)  # Descending order\n",
    "    sorted_indices_V = np.argsort(-eValV)  # Descending order\n",
    "\n",
    "    Ub = eVecU[:, sorted_indices_U]  # U eigenvectors\n",
    "    Vb = eVecV[:, sorted_indices_V]  # V eigenvectors\n",
    "    VbT = Vb.transpose()  # Transpose of V\n",
    "\n",
    "    # Calculate Sigma\n",
    "    sigma = calc_sigma(eValU, eValV, M)\n",
    "\n",
    "    # Verify reconstruction of M\n",
    "    reconstructed_M = np.matmul(Ub, np.matmul(sigma, VbT))\n",
    "\n",
    "    # Output results\n",
    "    print(\"\\n*** Ub ***\")\n",
    "    print(Ub)\n",
    "\n",
    "    print(\"\\n*** Sigma ***\")\n",
    "    print(sigma)\n",
    "\n",
    "    print(\"\\n*** Vb^T ***\")\n",
    "    print(VbT)\n",
    "\n",
    "    print(\"\\n*** Original M ***\")\n",
    "    print(M)\n",
    "\n",
    "    print(\"\\n*** Reconstructed M ***\")\n",
    "    print(reconstructed_M)    "
   ]
  }
 ],
 "metadata": {
  "kernelspec": {
   "display_name": "venv_general_312",
   "language": "python",
   "name": "python3"
  },
  "language_info": {
   "codemirror_mode": {
    "name": "ipython",
    "version": 3
   },
   "file_extension": ".py",
   "mimetype": "text/x-python",
   "name": "python",
   "nbconvert_exporter": "python",
   "pygments_lexer": "ipython3",
   "version": "3.12.6"
  }
 },
 "nbformat": 4,
 "nbformat_minor": 2
}
