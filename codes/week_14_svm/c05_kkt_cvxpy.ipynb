{
 "cells": [
  {
   "cell_type": "code",
   "execution_count": 17,
   "id": "4cf40da4",
   "metadata": {},
   "outputs": [],
   "source": [
    "import cvxpy as cp"
   ]
  },
  {
   "cell_type": "code",
   "execution_count": 18,
   "id": "08ec65f7",
   "metadata": {},
   "outputs": [],
   "source": [
    "x = cp.Variable()\n",
    "y = cp.Variable()"
   ]
  },
  {
   "cell_type": "code",
   "execution_count": 19,
   "id": "aa67ed14",
   "metadata": {},
   "outputs": [],
   "source": [
    "objective = cp.Minimize(x**2 + y**2)"
   ]
  },
  {
   "cell_type": "code",
   "execution_count": 20,
   "id": "fb95aa8c",
   "metadata": {},
   "outputs": [],
   "source": [
    "constrains = [x >= 0, x + y == 1]"
   ]
  },
  {
   "cell_type": "code",
   "execution_count": 21,
   "id": "88495db4",
   "metadata": {},
   "outputs": [],
   "source": [
    "problem = cp.Problem(objective, constrains)"
   ]
  },
  {
   "cell_type": "code",
   "execution_count": 22,
   "id": "d2614a1f",
   "metadata": {},
   "outputs": [
    {
     "data": {
      "text/plain": [
       "0.5000000000000002"
      ]
     },
     "execution_count": 22,
     "metadata": {},
     "output_type": "execute_result"
    }
   ],
   "source": [
    "problem.solve()"
   ]
  },
  {
   "cell_type": "code",
   "execution_count": 23,
   "id": "c7d0f0f8",
   "metadata": {},
   "outputs": [
    {
     "name": "stdout",
     "output_type": "stream",
     "text": [
      "x: 0.5000000000000001\n",
      "y: 0.5000000000000001\n",
      "Optimal value: 0.5000000000000002\n"
     ]
    }
   ],
   "source": [
    "print(f\"x: {x.value}\")\n",
    "print(f\"y: {y.value}\")\n",
    "print(f\"Optimal value: {problem.value}\")"
   ]
  }
 ],
 "metadata": {
  "kernelspec": {
   "display_name": "venv_general_312",
   "language": "python",
   "name": "python3"
  },
  "language_info": {
   "codemirror_mode": {
    "name": "ipython",
    "version": 3
   },
   "file_extension": ".py",
   "mimetype": "text/x-python",
   "name": "python",
   "nbconvert_exporter": "python",
   "pygments_lexer": "ipython3",
   "version": "3.12.6"
  }
 },
 "nbformat": 4,
 "nbformat_minor": 5
}
