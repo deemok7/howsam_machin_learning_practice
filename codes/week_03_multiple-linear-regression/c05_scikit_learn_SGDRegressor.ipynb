{
 "cells": [
  {
   "cell_type": "code",
   "execution_count": 62,
   "metadata": {},
   "outputs": [],
   "source": [
    "import numpy as np\n",
    "import pandas as pd\n",
    "import matplotlib.pyplot as plt\n",
    "import sklearn\n",
    "from sklearn.linear_model import SGDRegressor\n",
    "import os\n",
    "\n",
    "notebook_path = os.getcwd()"
   ]
  },
  {
   "cell_type": "code",
   "execution_count": 63,
   "metadata": {},
   "outputs": [],
   "source": [
    "# Datasets path\n",
    "# usa-housing_data\n",
    "csv_train_path = f\"{notebook_path}/usa-housing_data/usa-housing-train-preprocessed.csv\"\n",
    "csv_test_path = f\"{notebook_path}/usa-housing_data/usa-housing-test-preprocessed.csv\"\n",
    "\n",
    "# simple_one_feature\n",
    "# csv_train_path = (\n",
    "#     f\"{notebook_path}/test_data/simple_one_feature_housing-train-preprocessed.csv\"\n",
    "# )\n",
    "# csv_test_path = (\n",
    "#     f\"{notebook_path}/test_data/simple_one_feature_housing-test-preprocessed.csv\"\n",
    "# )"
   ]
  },
  {
   "cell_type": "code",
   "execution_count": 64,
   "metadata": {},
   "outputs": [],
   "source": [
    "def load_csv_as_augmented(csv_path):\n",
    "    assert os.path.exists(csv_path), \"File not exists, \" + csv_path\n",
    "    df = pd.read_csv(csv_path)\n",
    "    print(df.columns)\n",
    "    d = np.array(df)[:, 1:]\n",
    "    x = d[:, :-1]\n",
    "    x_aug = np.hstack((np.ones((x.shape[0], 1)), x))\n",
    "    y = d[:, -1]\n",
    "    print(f\"x_aug.shape: {x_aug.shape}, y.shape: {y.shape}\")\n",
    "    return x_aug, y"
   ]
  },
  {
   "cell_type": "code",
   "execution_count": 65,
   "metadata": {},
   "outputs": [],
   "source": [
    "def load_csv(csv_path):\n",
    "    assert os.path.exists(csv_path), \"File not exists, \" + csv_path\n",
    "    df = pd.read_csv(csv_path)\n",
    "    print(df.columns)\n",
    "    d = np.array(df)[:, 1:]\n",
    "    x = d[:, :-1]\n",
    "    y = d[:, -1]\n",
    "    print(f\"x.shape: {x.shape}, y.shape: {y.shape}\")\n",
    "    return x, y"
   ]
  },
  {
   "cell_type": "code",
   "execution_count": 66,
   "metadata": {},
   "outputs": [
    {
     "name": "stdout",
     "output_type": "stream",
     "text": [
      "Index(['Unnamed: 0', 'Avg. Area Income', 'Avg. Area House Age',\n",
      "       'Avg. Area Number of Rooms', 'Avg. Area Number of Bedrooms',\n",
      "       'Area Population', 'Price'],\n",
      "      dtype='object')\n",
      "x.shape: (3500, 5), y.shape: (3500,)\n",
      "Index(['Unnamed: 0', 'Avg. Area Income', 'Avg. Area House Age',\n",
      "       'Avg. Area Number of Rooms', 'Avg. Area Number of Bedrooms',\n",
      "       'Area Population', 'Price'],\n",
      "      dtype='object')\n",
      "x.shape: (1500, 5), y.shape: (1500,)\n"
     ]
    }
   ],
   "source": [
    "x_train, y_train = load_csv(csv_train_path)\n",
    "x_test, y_test = load_csv(csv_test_path)"
   ]
  },
  {
   "cell_type": "code",
   "execution_count": 67,
   "metadata": {},
   "outputs": [
    {
     "name": "stdout",
     "output_type": "stream",
     "text": [
      "SGDRegressor(eta0=0.001, tol=1e-07, verbose=1)\n"
     ]
    }
   ],
   "source": [
    "model=SGDRegressor(verbose=1,eta0=0.001,tol=1e-7)\n",
    "print(model)"
   ]
  },
  {
   "cell_type": "code",
   "execution_count": 68,
   "metadata": {},
   "outputs": [
    {
     "name": "stdout",
     "output_type": "stream",
     "text": [
      "-- Epoch 1\n",
      "Norm: 0.15, NNZs: 5, Bias: 0.558666, T: 3500, Avg. loss: 0.436201\n",
      "Total training time: 0.00 seconds.\n",
      "-- Epoch 2\n",
      "Norm: 0.21, NNZs: 5, Bias: 0.786039, T: 7000, Avg. loss: 0.169041\n",
      "Total training time: 0.00 seconds.\n",
      "-- Epoch 3\n",
      "Norm: 0.25, NNZs: 5, Bias: 0.921098, T: 10500, Avg. loss: 0.080950\n",
      "Total training time: 0.00 seconds.\n",
      "-- Epoch 4\n",
      "Norm: 0.27, NNZs: 5, Bias: 1.008788, T: 14000, Avg. loss: 0.043162\n",
      "Total training time: 0.00 seconds.\n",
      "-- Epoch 5\n",
      "Norm: 0.29, NNZs: 5, Bias: 1.068356, T: 17500, Avg. loss: 0.025212\n",
      "Total training time: 0.00 seconds.\n",
      "-- Epoch 6\n",
      "Norm: 0.30, NNZs: 5, Bias: 1.110184, T: 21000, Avg. loss: 0.016141\n",
      "Total training time: 0.00 seconds.\n",
      "-- Epoch 7\n",
      "Norm: 0.31, NNZs: 5, Bias: 1.140059, T: 24500, Avg. loss: 0.011354\n",
      "Total training time: 0.00 seconds.\n",
      "-- Epoch 8\n",
      "Norm: 0.32, NNZs: 5, Bias: 1.161891, T: 28000, Avg. loss: 0.008741\n",
      "Total training time: 0.00 seconds.\n",
      "-- Epoch 9\n",
      "Norm: 0.32, NNZs: 5, Bias: 1.178083, T: 31500, Avg. loss: 0.007270\n",
      "Total training time: 0.00 seconds.\n",
      "-- Epoch 10\n",
      "Norm: 0.33, NNZs: 5, Bias: 1.190172, T: 35000, Avg. loss: 0.006425\n",
      "Total training time: 0.00 seconds.\n",
      "-- Epoch 11\n",
      "Norm: 0.33, NNZs: 5, Bias: 1.199345, T: 38500, Avg. loss: 0.005929\n",
      "Total training time: 0.00 seconds.\n",
      "-- Epoch 12\n",
      "Norm: 0.33, NNZs: 5, Bias: 1.206311, T: 42000, Avg. loss: 0.005632\n",
      "Total training time: 0.00 seconds.\n",
      "-- Epoch 13\n",
      "Norm: 0.33, NNZs: 5, Bias: 1.211625, T: 45500, Avg. loss: 0.005454\n",
      "Total training time: 0.01 seconds.\n",
      "-- Epoch 14\n",
      "Norm: 0.34, NNZs: 5, Bias: 1.215763, T: 49000, Avg. loss: 0.005343\n",
      "Total training time: 0.01 seconds.\n",
      "-- Epoch 15\n",
      "Norm: 0.34, NNZs: 5, Bias: 1.218971, T: 52500, Avg. loss: 0.005274\n",
      "Total training time: 0.01 seconds.\n",
      "-- Epoch 16\n",
      "Norm: 0.34, NNZs: 5, Bias: 1.221497, T: 56000, Avg. loss: 0.005230\n",
      "Total training time: 0.01 seconds.\n",
      "-- Epoch 17\n",
      "Norm: 0.34, NNZs: 5, Bias: 1.223429, T: 59500, Avg. loss: 0.005202\n",
      "Total training time: 0.01 seconds.\n",
      "-- Epoch 18\n",
      "Norm: 0.34, NNZs: 5, Bias: 1.225002, T: 63000, Avg. loss: 0.005184\n",
      "Total training time: 0.01 seconds.\n",
      "-- Epoch 19\n",
      "Norm: 0.34, NNZs: 5, Bias: 1.226233, T: 66500, Avg. loss: 0.005172\n",
      "Total training time: 0.01 seconds.\n",
      "-- Epoch 20\n",
      "Norm: 0.34, NNZs: 5, Bias: 1.227199, T: 70000, Avg. loss: 0.005164\n",
      "Total training time: 0.01 seconds.\n",
      "-- Epoch 21\n",
      "Norm: 0.34, NNZs: 5, Bias: 1.227964, T: 73500, Avg. loss: 0.005159\n",
      "Total training time: 0.01 seconds.\n",
      "-- Epoch 22\n",
      "Norm: 0.34, NNZs: 5, Bias: 1.228571, T: 77000, Avg. loss: 0.005155\n",
      "Total training time: 0.01 seconds.\n",
      "-- Epoch 23\n",
      "Norm: 0.34, NNZs: 5, Bias: 1.229071, T: 80500, Avg. loss: 0.005152\n",
      "Total training time: 0.01 seconds.\n",
      "-- Epoch 24\n",
      "Norm: 0.34, NNZs: 5, Bias: 1.229473, T: 84000, Avg. loss: 0.005151\n",
      "Total training time: 0.01 seconds.\n",
      "-- Epoch 25\n",
      "Norm: 0.34, NNZs: 5, Bias: 1.229792, T: 87500, Avg. loss: 0.005149\n",
      "Total training time: 0.01 seconds.\n",
      "-- Epoch 26\n",
      "Norm: 0.34, NNZs: 5, Bias: 1.230047, T: 91000, Avg. loss: 0.005148\n",
      "Total training time: 0.01 seconds.\n",
      "-- Epoch 27\n",
      "Norm: 0.34, NNZs: 5, Bias: 1.230259, T: 94500, Avg. loss: 0.005148\n",
      "Total training time: 0.01 seconds.\n",
      "-- Epoch 28\n",
      "Norm: 0.34, NNZs: 5, Bias: 1.230473, T: 98000, Avg. loss: 0.005147\n",
      "Total training time: 0.01 seconds.\n",
      "-- Epoch 29\n",
      "Norm: 0.34, NNZs: 5, Bias: 1.230586, T: 101500, Avg. loss: 0.005147\n",
      "Total training time: 0.01 seconds.\n",
      "-- Epoch 30\n",
      "Norm: 0.34, NNZs: 5, Bias: 1.230702, T: 105000, Avg. loss: 0.005146\n",
      "Total training time: 0.01 seconds.\n",
      "-- Epoch 31\n",
      "Norm: 0.34, NNZs: 5, Bias: 1.230797, T: 108500, Avg. loss: 0.005146\n",
      "Total training time: 0.01 seconds.\n",
      "-- Epoch 32\n",
      "Norm: 0.34, NNZs: 5, Bias: 1.230893, T: 112000, Avg. loss: 0.005146\n",
      "Total training time: 0.01 seconds.\n",
      "-- Epoch 33\n",
      "Norm: 0.34, NNZs: 5, Bias: 1.230965, T: 115500, Avg. loss: 0.005146\n",
      "Total training time: 0.01 seconds.\n",
      "-- Epoch 34\n",
      "Norm: 0.34, NNZs: 5, Bias: 1.231007, T: 119000, Avg. loss: 0.005146\n",
      "Total training time: 0.01 seconds.\n",
      "-- Epoch 35\n",
      "Norm: 0.34, NNZs: 5, Bias: 1.231047, T: 122500, Avg. loss: 0.005146\n",
      "Total training time: 0.01 seconds.\n",
      "-- Epoch 36\n",
      "Norm: 0.34, NNZs: 5, Bias: 1.231085, T: 126000, Avg. loss: 0.005145\n",
      "Total training time: 0.01 seconds.\n",
      "-- Epoch 37\n",
      "Norm: 0.34, NNZs: 5, Bias: 1.231110, T: 129500, Avg. loss: 0.005145\n",
      "Total training time: 0.01 seconds.\n",
      "-- Epoch 38\n",
      "Norm: 0.34, NNZs: 5, Bias: 1.231140, T: 133000, Avg. loss: 0.005145\n",
      "Total training time: 0.01 seconds.\n",
      "-- Epoch 39\n",
      "Norm: 0.34, NNZs: 5, Bias: 1.231191, T: 136500, Avg. loss: 0.005145\n",
      "Total training time: 0.01 seconds.\n",
      "-- Epoch 40\n",
      "Norm: 0.34, NNZs: 5, Bias: 1.231207, T: 140000, Avg. loss: 0.005145\n",
      "Total training time: 0.01 seconds.\n",
      "-- Epoch 41\n",
      "Norm: 0.34, NNZs: 5, Bias: 1.231204, T: 143500, Avg. loss: 0.005145\n",
      "Total training time: 0.02 seconds.\n",
      "Convergence after 41 epochs took 0.02 seconds\n"
     ]
    },
    {
     "data": {
      "text/plain": [
       "(array([1.23120353]),\n",
       " array([0.23043155, 0.16412463, 0.12009492, 0.00334302, 0.1509729 ]))"
      ]
     },
     "execution_count": 68,
     "metadata": {},
     "output_type": "execute_result"
    }
   ],
   "source": [
    "model.fit(x_train,y_train)\n",
    "model.intercept_,model.coef_"
   ]
  },
  {
   "cell_type": "code",
   "execution_count": 69,
   "metadata": {},
   "outputs": [
    {
     "data": {
      "text/plain": [
       "0.9192970827540691"
      ]
     },
     "execution_count": 69,
     "metadata": {},
     "output_type": "execute_result"
    }
   ],
   "source": [
    "model.score(x_train,y_train)"
   ]
  },
  {
   "cell_type": "code",
   "execution_count": 70,
   "metadata": {},
   "outputs": [
    {
     "data": {
      "text/plain": [
       "0.9146556026299291"
      ]
     },
     "execution_count": 70,
     "metadata": {},
     "output_type": "execute_result"
    }
   ],
   "source": [
    "model.score(x_test,y_test)"
   ]
  },
  {
   "cell_type": "code",
   "execution_count": 71,
   "metadata": {},
   "outputs": [
    {
     "data": {
      "text/plain": [
       "array([1.30838357])"
      ]
     },
     "execution_count": 71,
     "metadata": {},
     "output_type": "execute_result"
    }
   ],
   "source": [
    "model.predict([x_test[0]])"
   ]
  }
 ],
 "metadata": {
  "kernelspec": {
   "display_name": "base",
   "language": "python",
   "name": "python3"
  },
  "language_info": {
   "codemirror_mode": {
    "name": "ipython",
    "version": 3
   },
   "file_extension": ".py",
   "mimetype": "text/x-python",
   "name": "python",
   "nbconvert_exporter": "python",
   "pygments_lexer": "ipython3",
   "version": "3.12.7"
  }
 },
 "nbformat": 4,
 "nbformat_minor": 2
}
