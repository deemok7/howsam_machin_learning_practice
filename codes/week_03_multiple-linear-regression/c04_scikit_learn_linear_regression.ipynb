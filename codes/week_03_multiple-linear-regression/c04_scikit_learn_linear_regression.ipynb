{
 "cells": [
  {
   "cell_type": "code",
   "execution_count": 1,
   "metadata": {},
   "outputs": [],
   "source": [
    "import numpy as np\n",
    "import pandas as pd\n",
    "import matplotlib.pyplot as plt\n",
    "import sklearn\n",
    "from sklearn.linear_model import LinearRegression\n",
    "import os\n",
    "\n",
    "notebook_path = os.getcwd()"
   ]
  },
  {
   "cell_type": "code",
   "execution_count": 2,
   "metadata": {},
   "outputs": [],
   "source": [
    "# Datasets path\n",
    "# usa-housing_data\n",
    "csv_train_path = f\"{notebook_path}/usa-housing_data/usa-housing-train-preprocessed.csv\"\n",
    "csv_test_path = f\"{notebook_path}/usa-housing_data/usa-housing-test-preprocessed.csv\"\n",
    "\n",
    "# simple_one_feature\n",
    "# csv_train_path = (\n",
    "#     f\"{notebook_path}/test_data/simple_one_feature_housing-train-preprocessed.csv\"\n",
    "# )\n",
    "# csv_test_path = (\n",
    "#     f\"{notebook_path}/test_data/simple_one_feature_housing-test-preprocessed.csv\"\n",
    "# )"
   ]
  },
  {
   "cell_type": "code",
   "execution_count": 3,
   "metadata": {},
   "outputs": [],
   "source": [
    "def load_csv_as_augmented(csv_path):\n",
    "    assert os.path.exists(csv_path), \"File not exists, \" + csv_path\n",
    "    df = pd.read_csv(csv_path)\n",
    "    print(df.columns)\n",
    "    d = np.array(df)[:, 1:]\n",
    "    x = d[:, :-1]\n",
    "    x_aug = np.hstack((np.ones((x.shape[0], 1)), x))\n",
    "    y = d[:, -1]\n",
    "    print(f\"x_aug.shape: {x_aug.shape}, y.shape: {y.shape}\")\n",
    "    return x_aug, y"
   ]
  },
  {
   "cell_type": "code",
   "execution_count": 4,
   "metadata": {},
   "outputs": [],
   "source": [
    "def load_csv(csv_path):\n",
    "    assert os.path.exists(csv_path), \"File not exists, \" + csv_path\n",
    "    df = pd.read_csv(csv_path)\n",
    "    print(df.columns)\n",
    "    d = np.array(df)[:, 1:]\n",
    "    x = d[:, :-1]\n",
    "    y = d[:, -1]\n",
    "    print(f\"x.shape: {x.shape}, y.shape: {y.shape}\")\n",
    "    return x, y"
   ]
  },
  {
   "cell_type": "code",
   "execution_count": 5,
   "metadata": {},
   "outputs": [
    {
     "name": "stdout",
     "output_type": "stream",
     "text": [
      "Index(['Unnamed: 0', 'Avg. Area Income', 'Avg. Area House Age',\n",
      "       'Avg. Area Number of Rooms', 'Avg. Area Number of Bedrooms',\n",
      "       'Area Population', 'Price'],\n",
      "      dtype='object')\n",
      "x.shape: (3500, 5), y.shape: (3500,)\n",
      "Index(['Unnamed: 0', 'Avg. Area Income', 'Avg. Area House Age',\n",
      "       'Avg. Area Number of Rooms', 'Avg. Area Number of Bedrooms',\n",
      "       'Area Population', 'Price'],\n",
      "      dtype='object')\n",
      "x.shape: (1500, 5), y.shape: (1500,)\n"
     ]
    }
   ],
   "source": [
    "x_train, y_train = load_csv(csv_train_path)\n",
    "x_test, y_test = load_csv(csv_test_path)"
   ]
  },
  {
   "cell_type": "code",
   "execution_count": 6,
   "metadata": {},
   "outputs": [
    {
     "data": {
      "text/plain": [
       "(1.23127863687691,\n",
       " array([0.23046453, 0.1641592 , 0.12051471, 0.00291362, 0.15101936]),\n",
       " 5)"
      ]
     },
     "execution_count": 6,
     "metadata": {},
     "output_type": "execute_result"
    }
   ],
   "source": [
    "model=LinearRegression()\n",
    "model.fit(x_train,y_train)\n",
    "model.intercept_,model.coef_,model.rank_"
   ]
  },
  {
   "cell_type": "code",
   "execution_count": 7,
   "metadata": {},
   "outputs": [
    {
     "data": {
      "text/plain": [
       "0.9192986579053273"
      ]
     },
     "execution_count": 7,
     "metadata": {},
     "output_type": "execute_result"
    }
   ],
   "source": [
    "model.score(x_train,y_train)"
   ]
  },
  {
   "cell_type": "code",
   "execution_count": 8,
   "metadata": {},
   "outputs": [
    {
     "data": {
      "text/plain": [
       "0.9146818498916267"
      ]
     },
     "execution_count": 8,
     "metadata": {},
     "output_type": "execute_result"
    }
   ],
   "source": [
    "model.score(x_test,y_test)"
   ]
  },
  {
   "cell_type": "code",
   "execution_count": 9,
   "metadata": {},
   "outputs": [
    {
     "data": {
      "text/plain": [
       "array([1.30853614])"
      ]
     },
     "execution_count": 9,
     "metadata": {},
     "output_type": "execute_result"
    }
   ],
   "source": [
    "model.predict([x_test[0]])"
   ]
  }
 ],
 "metadata": {
  "kernelspec": {
   "display_name": "base",
   "language": "python",
   "name": "python3"
  },
  "language_info": {
   "codemirror_mode": {
    "name": "ipython",
    "version": 3
   },
   "file_extension": ".py",
   "mimetype": "text/x-python",
   "name": "python",
   "nbconvert_exporter": "python",
   "pygments_lexer": "ipython3",
   "version": "3.12.7"
  }
 },
 "nbformat": 4,
 "nbformat_minor": 2
}
